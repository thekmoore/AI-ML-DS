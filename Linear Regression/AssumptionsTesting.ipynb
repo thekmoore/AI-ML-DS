{
 "cells":[
  {
   "cell_type":"markdown",
   "source":[
    "# Linear Regression Assumptions and Statistical Inference"
   ],
   "attachments":{},
   "metadata":{
    "datalore":{
     "node_id":"cyksg0zCBHfGNpVVPp9ljA",
     "type":"MD",
     "hide_input_from_viewers":false,
     "hide_output_from_viewers":false,
     "report_properties":{
      "rowId":"UNic9Fsj5O3OvMQSuxwcKh"
     }
    }
   }
  },
  {
   "cell_type":"markdown",
   "source":[
    "### Problem Statement\n",
    "\n",
    "The problem at hand is to predict the housing prices of a town or a suburb based on the features of the locality provided to us. In the process, we need to identify the most important features in the dataset. We need to employ techniques of data preprocessing and build a linear regression model that predicts the prices for us. \n",
    "\n",
    "### Data Information\n",
    "\n",
    "Each record in the database describes a Boston suburb or town. The data was drawn from the Boston Standard Metropolitan Statistical Area (SMSA) in 1970. Detailed attribute information can be found below-\n",
    "\n",
    "Attribute Information (in order):\n",
    "- CRIM: per capita crime rate by town\n",
    "- ZN: proportion of residential land zoned for lots over 25,000 sq. ft.\n",
    "- INDUS: proportion of non-retail business acres per town\n",
    "- CHAS: Charles River dummy variable (= 1 if tract bounds river; 0 otherwise)\n",
    "- NX: nitric oxides concentration (parts per 10 million)\n",
    "- RM: average number of rooms per dwelling\n",
    "- AGE: proportion of owner-occupied units built prior to 1940\n",
    "- DIS: weighted distances to five Boston employment centers\n",
    "- RAD: index of accessibility to radial highways\n",
    "- TAX: full-value property-tax rate per 10,000 dollars\n",
    "- PTRATIO: pupil-teacher ratio by town\n",
    "- LSTAT: %lower status of the population\n",
    "- MEDV: Median value of owner-occupied homes in 1000 dollars."
   ],
   "attachments":{},
   "metadata":{
    "datalore":{
     "node_id":"MAE9ryPey9TB1pf521YMUW",
     "type":"MD",
     "hide_input_from_viewers":false,
     "hide_output_from_viewers":false,
     "report_properties":{
      "rowId":"ScmJ0f3ts5ISUoVTGcuovF"
     }
    }
   }
  },
  {
   "cell_type":"markdown",
   "source":[
    "### Import Necessary Libraries"
   ],
   "attachments":{},
   "metadata":{
    "datalore":{
     "node_id":"neRmhw9eol2WH5B5JN0KYG",
     "type":"MD",
     "hide_input_from_viewers":false,
     "hide_output_from_viewers":false,
     "report_properties":{
      "rowId":"m5JgNR6RUWuzHwscFPml8D"
     }
    }
   }
  },
  {
   "cell_type":"code",
   "source":[
    "\n",
    "# Libraries to help with reading and manipulating data\n",
    "import numpy as np\n",
    "import pandas as pd\n",
    "\n",
    "# Libraries to help with data visualization\n",
    "import matplotlib.pyplot as plt\n",
    "import seaborn as sns\n",
    "\n",
    "sns.set()\n",
    "\n",
    "# split the data into train and test\n",
    "from sklearn.model_selection import train_test_split\n",
    "\n",
    "# to build linear regression_model using statsmodels\n",
    "import statsmodels.api as sm\n",
    "\n",
    "# to check model performance\n",
    "from sklearn.metrics import mean_absolute_error, mean_squared_error\n",
    "\n",
    "# to compute VIF\n",
    "from statsmodels.stats.outliers_influence import variance_inflation_factor"
   ],
   "execution_count":2,
   "outputs":[],
   "metadata":{
    "datalore":{
     "node_id":"PLq8QMeh8K5N78GlTpVKQ3",
     "type":"CODE",
     "hide_input_from_viewers":false,
     "hide_output_from_viewers":false,
     "report_properties":{
      "rowId":"vpAY5kn7xJsIS4sRClNNbK"
     }
    }
   }
  },
  {
   "cell_type":"markdown",
   "source":[
    "### Load the dataset"
   ],
   "attachments":{},
   "metadata":{
    "datalore":{
     "node_id":"WLEvog4bu4k0GesAwDT0km",
     "type":"MD",
     "hide_input_from_viewers":false,
     "hide_output_from_viewers":false,
     "report_properties":{
      "rowId":"fu5zaRfFGflGDhWivZFfJQ"
     }
    }
   }
  },
  {
   "cell_type":"code",
   "source":[
    "df = pd.read_csv(\"boston.csv\")\n",
    "df.head()"
   ],
   "execution_count":3,
   "outputs":[
    {
     "data":{
      "text\/html":[
       "<div>\n",
       "<style scoped>\n",
       "    .dataframe tbody tr th:only-of-type {\n",
       "        vertical-align: middle;\n",
       "    }\n",
       "\n",
       "    .dataframe tbody tr th {\n",
       "        vertical-align: top;\n",
       "    }\n",
       "\n",
       "    .dataframe thead th {\n",
       "        text-align: right;\n",
       "    }\n",
       "<\/style>\n",
       "<table border=\"1\" class=\"dataframe\">\n",
       "  <thead>\n",
       "    <tr style=\"text-align: right;\">\n",
       "      <th><\/th>\n",
       "      <th>CRIM<\/th>\n",
       "      <th>ZN<\/th>\n",
       "      <th>INDUS<\/th>\n",
       "      <th>CHAS<\/th>\n",
       "      <th>NX<\/th>\n",
       "      <th>RM<\/th>\n",
       "      <th>AGE<\/th>\n",
       "      <th>DIS<\/th>\n",
       "      <th>RAD<\/th>\n",
       "      <th>TAX<\/th>\n",
       "      <th>PTRATIO<\/th>\n",
       "      <th>LSTAT<\/th>\n",
       "      <th>MEDV<\/th>\n",
       "    <\/tr>\n",
       "  <\/thead>\n",
       "  <tbody>\n",
       "    <tr>\n",
       "      <th>0<\/th>\n",
       "      <td>0.00632<\/td>\n",
       "      <td>18.0<\/td>\n",
       "      <td>2.31<\/td>\n",
       "      <td>0<\/td>\n",
       "      <td>0.538<\/td>\n",
       "      <td>6.575<\/td>\n",
       "      <td>65.2<\/td>\n",
       "      <td>4.0900<\/td>\n",
       "      <td>1<\/td>\n",
       "      <td>296<\/td>\n",
       "      <td>15.3<\/td>\n",
       "      <td>4.98<\/td>\n",
       "      <td>24.0<\/td>\n",
       "    <\/tr>\n",
       "    <tr>\n",
       "      <th>1<\/th>\n",
       "      <td>0.02731<\/td>\n",
       "      <td>0.0<\/td>\n",
       "      <td>7.07<\/td>\n",
       "      <td>0<\/td>\n",
       "      <td>0.469<\/td>\n",
       "      <td>6.421<\/td>\n",
       "      <td>78.9<\/td>\n",
       "      <td>4.9671<\/td>\n",
       "      <td>2<\/td>\n",
       "      <td>242<\/td>\n",
       "      <td>17.8<\/td>\n",
       "      <td>9.14<\/td>\n",
       "      <td>21.6<\/td>\n",
       "    <\/tr>\n",
       "    <tr>\n",
       "      <th>2<\/th>\n",
       "      <td>0.02729<\/td>\n",
       "      <td>0.0<\/td>\n",
       "      <td>7.07<\/td>\n",
       "      <td>0<\/td>\n",
       "      <td>0.469<\/td>\n",
       "      <td>7.185<\/td>\n",
       "      <td>61.1<\/td>\n",
       "      <td>4.9671<\/td>\n",
       "      <td>2<\/td>\n",
       "      <td>242<\/td>\n",
       "      <td>17.8<\/td>\n",
       "      <td>4.03<\/td>\n",
       "      <td>34.7<\/td>\n",
       "    <\/tr>\n",
       "    <tr>\n",
       "      <th>3<\/th>\n",
       "      <td>0.03237<\/td>\n",
       "      <td>0.0<\/td>\n",
       "      <td>2.18<\/td>\n",
       "      <td>0<\/td>\n",
       "      <td>0.458<\/td>\n",
       "      <td>6.998<\/td>\n",
       "      <td>45.8<\/td>\n",
       "      <td>6.0622<\/td>\n",
       "      <td>3<\/td>\n",
       "      <td>222<\/td>\n",
       "      <td>18.7<\/td>\n",
       "      <td>2.94<\/td>\n",
       "      <td>33.4<\/td>\n",
       "    <\/tr>\n",
       "    <tr>\n",
       "      <th>4<\/th>\n",
       "      <td>0.06905<\/td>\n",
       "      <td>0.0<\/td>\n",
       "      <td>2.18<\/td>\n",
       "      <td>0<\/td>\n",
       "      <td>0.458<\/td>\n",
       "      <td>7.147<\/td>\n",
       "      <td>54.2<\/td>\n",
       "      <td>6.0622<\/td>\n",
       "      <td>3<\/td>\n",
       "      <td>222<\/td>\n",
       "      <td>18.7<\/td>\n",
       "      <td>5.33<\/td>\n",
       "      <td>36.2<\/td>\n",
       "    <\/tr>\n",
       "  <\/tbody>\n",
       "<\/table>\n",
       "<\/div>"
      ]
     },
     "metadata":{},
     "output_type":"display_data"
    }
   ],
   "metadata":{
    "datalore":{
     "node_id":"rweug68ZlzgBXcvj4BpjDT",
     "type":"CODE",
     "hide_input_from_viewers":false,
     "hide_output_from_viewers":false,
     "report_properties":{
      "rowId":"4PEeezhETL95XFzLSQZLwF"
     }
    }
   }
  },
  {
   "cell_type":"markdown",
   "source":[
    "**Check the shape of the dataset**"
   ],
   "attachments":{},
   "metadata":{
    "datalore":{
     "node_id":"VWHeWmcN5gfnHzF5kiPhWh",
     "type":"MD",
     "hide_input_from_viewers":false,
     "hide_output_from_viewers":false,
     "report_properties":{
      "rowId":"skoL8vYg2Lrj05ZNjegHID"
     }
    }
   }
  },
  {
   "cell_type":"code",
   "source":[
    "df.shape"
   ],
   "execution_count":4,
   "outputs":[
    {
     "data":{
      "text\/plain":[
       "(506, 13)"
      ]
     },
     "metadata":{},
     "output_type":"display_data"
    }
   ],
   "metadata":{
    "datalore":{
     "node_id":"4tRXk4HeUfwxBmDyvvjeVI",
     "type":"CODE",
     "hide_input_from_viewers":false,
     "hide_output_from_viewers":false,
     "report_properties":{
      "rowId":"2a30f0iTFXZgKO88J4orHo"
     }
    }
   }
  },
  {
   "cell_type":"markdown",
   "source":[
    "**Get the info regarding column datatypes**"
   ],
   "attachments":{},
   "metadata":{
    "datalore":{
     "node_id":"oVPRD8XLdTuRetmhnZ2nIj",
     "type":"MD",
     "hide_input_from_viewers":false,
     "hide_output_from_viewers":false,
     "report_properties":{
      "rowId":"af15rVbTp4F7hUw3jMpimW"
     }
    }
   }
  },
  {
   "cell_type":"code",
   "source":[
    "df.info()"
   ],
   "execution_count":5,
   "outputs":[
    {
     "name":"stdout",
     "text":[
      "<class 'pandas.core.frame.DataFrame'>\n",
      "RangeIndex: 506 entries, 0 to 505\n",
      "Data columns (total 13 columns):\n",
      " #   Column   Non-Null Count  Dtype  \n",
      "---  ------   --------------  -----  \n",
      " 0   CRIM     506 non-null    float64\n",
      " 1   ZN       506 non-null    float64\n",
      " 2   INDUS    506 non-null    float64\n",
      " 3   CHAS     506 non-null    int64  \n",
      " 4   NX       506 non-null    float64\n",
      " 5   RM       506 non-null    float64\n",
      " 6   AGE      506 non-null    float64\n",
      " 7   DIS      506 non-null    float64\n",
      " 8   RAD      506 non-null    int64  \n",
      " 9   TAX      506 non-null    int64  \n",
      " 10  PTRATIO  506 non-null    float64\n",
      " 11  LSTAT    506 non-null    float64\n",
      " 12  MEDV     506 non-null    float64\n",
      "dtypes: float64(10), int64(3)\n",
      "memory usage: 51.5 KB\n"
     ],
     "output_type":"stream"
    }
   ],
   "metadata":{
    "datalore":{
     "node_id":"Z7NmBrLHLRjh7oaYozDJDL",
     "type":"CODE",
     "hide_input_from_viewers":false,
     "hide_output_from_viewers":false,
     "report_properties":{
      "rowId":"154JxTv9id26Gyp86537x8"
     }
    }
   }
  },
  {
   "cell_type":"markdown",
   "source":[
    "**Get summary statistics for the numerical columns**"
   ],
   "attachments":{},
   "metadata":{
    "datalore":{
     "node_id":"p1lJqK6SSzbQZv8Af4je3F",
     "type":"MD",
     "hide_input_from_viewers":false,
     "hide_output_from_viewers":false,
     "report_properties":{
      "rowId":"5XdropsxcPsOiEHCq1nUZs"
     }
    }
   }
  },
  {
   "cell_type":"code",
   "source":[
    "df.describe()"
   ],
   "execution_count":6,
   "outputs":[
    {
     "data":{
      "text\/html":[
       "<div>\n",
       "<style scoped>\n",
       "    .dataframe tbody tr th:only-of-type {\n",
       "        vertical-align: middle;\n",
       "    }\n",
       "\n",
       "    .dataframe tbody tr th {\n",
       "        vertical-align: top;\n",
       "    }\n",
       "\n",
       "    .dataframe thead th {\n",
       "        text-align: right;\n",
       "    }\n",
       "<\/style>\n",
       "<table border=\"1\" class=\"dataframe\">\n",
       "  <thead>\n",
       "    <tr style=\"text-align: right;\">\n",
       "      <th><\/th>\n",
       "      <th>CRIM<\/th>\n",
       "      <th>ZN<\/th>\n",
       "      <th>INDUS<\/th>\n",
       "      <th>CHAS<\/th>\n",
       "      <th>NX<\/th>\n",
       "      <th>RM<\/th>\n",
       "      <th>AGE<\/th>\n",
       "      <th>DIS<\/th>\n",
       "      <th>RAD<\/th>\n",
       "      <th>TAX<\/th>\n",
       "      <th>PTRATIO<\/th>\n",
       "      <th>LSTAT<\/th>\n",
       "      <th>MEDV<\/th>\n",
       "    <\/tr>\n",
       "  <\/thead>\n",
       "  <tbody>\n",
       "    <tr>\n",
       "      <th>count<\/th>\n",
       "      <td>506.000000<\/td>\n",
       "      <td>506.000000<\/td>\n",
       "      <td>506.000000<\/td>\n",
       "      <td>506.000000<\/td>\n",
       "      <td>506.000000<\/td>\n",
       "      <td>506.000000<\/td>\n",
       "      <td>506.000000<\/td>\n",
       "      <td>506.000000<\/td>\n",
       "      <td>506.000000<\/td>\n",
       "      <td>506.000000<\/td>\n",
       "      <td>506.000000<\/td>\n",
       "      <td>506.000000<\/td>\n",
       "      <td>506.000000<\/td>\n",
       "    <\/tr>\n",
       "    <tr>\n",
       "      <th>mean<\/th>\n",
       "      <td>3.613524<\/td>\n",
       "      <td>11.363636<\/td>\n",
       "      <td>11.136779<\/td>\n",
       "      <td>0.069170<\/td>\n",
       "      <td>0.554695<\/td>\n",
       "      <td>6.284634<\/td>\n",
       "      <td>68.574901<\/td>\n",
       "      <td>3.795043<\/td>\n",
       "      <td>9.549407<\/td>\n",
       "      <td>408.237154<\/td>\n",
       "      <td>18.455534<\/td>\n",
       "      <td>12.653063<\/td>\n",
       "      <td>22.532806<\/td>\n",
       "    <\/tr>\n",
       "    <tr>\n",
       "      <th>std<\/th>\n",
       "      <td>8.601545<\/td>\n",
       "      <td>23.322453<\/td>\n",
       "      <td>6.860353<\/td>\n",
       "      <td>0.253994<\/td>\n",
       "      <td>0.115878<\/td>\n",
       "      <td>0.702617<\/td>\n",
       "      <td>28.148861<\/td>\n",
       "      <td>2.105710<\/td>\n",
       "      <td>8.707259<\/td>\n",
       "      <td>168.537116<\/td>\n",
       "      <td>2.164946<\/td>\n",
       "      <td>7.141062<\/td>\n",
       "      <td>9.197104<\/td>\n",
       "    <\/tr>\n",
       "    <tr>\n",
       "      <th>min<\/th>\n",
       "      <td>0.006320<\/td>\n",
       "      <td>0.000000<\/td>\n",
       "      <td>0.460000<\/td>\n",
       "      <td>0.000000<\/td>\n",
       "      <td>0.385000<\/td>\n",
       "      <td>3.561000<\/td>\n",
       "      <td>2.900000<\/td>\n",
       "      <td>1.129600<\/td>\n",
       "      <td>1.000000<\/td>\n",
       "      <td>187.000000<\/td>\n",
       "      <td>12.600000<\/td>\n",
       "      <td>1.730000<\/td>\n",
       "      <td>5.000000<\/td>\n",
       "    <\/tr>\n",
       "    <tr>\n",
       "      <th>25%<\/th>\n",
       "      <td>0.082045<\/td>\n",
       "      <td>0.000000<\/td>\n",
       "      <td>5.190000<\/td>\n",
       "      <td>0.000000<\/td>\n",
       "      <td>0.449000<\/td>\n",
       "      <td>5.885500<\/td>\n",
       "      <td>45.025000<\/td>\n",
       "      <td>2.100175<\/td>\n",
       "      <td>4.000000<\/td>\n",
       "      <td>279.000000<\/td>\n",
       "      <td>17.400000<\/td>\n",
       "      <td>6.950000<\/td>\n",
       "      <td>17.025000<\/td>\n",
       "    <\/tr>\n",
       "    <tr>\n",
       "      <th>50%<\/th>\n",
       "      <td>0.256510<\/td>\n",
       "      <td>0.000000<\/td>\n",
       "      <td>9.690000<\/td>\n",
       "      <td>0.000000<\/td>\n",
       "      <td>0.538000<\/td>\n",
       "      <td>6.208500<\/td>\n",
       "      <td>77.500000<\/td>\n",
       "      <td>3.207450<\/td>\n",
       "      <td>5.000000<\/td>\n",
       "      <td>330.000000<\/td>\n",
       "      <td>19.050000<\/td>\n",
       "      <td>11.360000<\/td>\n",
       "      <td>21.200000<\/td>\n",
       "    <\/tr>\n",
       "    <tr>\n",
       "      <th>75%<\/th>\n",
       "      <td>3.677083<\/td>\n",
       "      <td>12.500000<\/td>\n",
       "      <td>18.100000<\/td>\n",
       "      <td>0.000000<\/td>\n",
       "      <td>0.624000<\/td>\n",
       "      <td>6.623500<\/td>\n",
       "      <td>94.075000<\/td>\n",
       "      <td>5.188425<\/td>\n",
       "      <td>24.000000<\/td>\n",
       "      <td>666.000000<\/td>\n",
       "      <td>20.200000<\/td>\n",
       "      <td>16.955000<\/td>\n",
       "      <td>25.000000<\/td>\n",
       "    <\/tr>\n",
       "    <tr>\n",
       "      <th>max<\/th>\n",
       "      <td>88.976200<\/td>\n",
       "      <td>100.000000<\/td>\n",
       "      <td>27.740000<\/td>\n",
       "      <td>1.000000<\/td>\n",
       "      <td>0.871000<\/td>\n",
       "      <td>8.780000<\/td>\n",
       "      <td>100.000000<\/td>\n",
       "      <td>12.126500<\/td>\n",
       "      <td>24.000000<\/td>\n",
       "      <td>711.000000<\/td>\n",
       "      <td>22.000000<\/td>\n",
       "      <td>37.970000<\/td>\n",
       "      <td>50.000000<\/td>\n",
       "    <\/tr>\n",
       "  <\/tbody>\n",
       "<\/table>\n",
       "<\/div>"
      ]
     },
     "metadata":{},
     "output_type":"display_data"
    }
   ],
   "metadata":{
    "datalore":{
     "node_id":"BS35UPJ8Vszgt1RTDne6L4",
     "type":"CODE",
     "hide_input_from_viewers":false,
     "hide_output_from_viewers":false,
     "report_properties":{
      "rowId":"i3shCXLK2KwmmkYrxpHBQ7"
     }
    }
   }
  },
  {
   "cell_type":"markdown",
   "source":[
    "**For the column `CHAS`, replace the 1 values with '*yes*' and 0 values with '*no*'.**"
   ],
   "attachments":{},
   "metadata":{
    "datalore":{
     "node_id":"8bVgFiyAVZJg0lxP1Nf7a1",
     "type":"MD",
     "hide_input_from_viewers":false,
     "hide_output_from_viewers":false,
     "report_properties":{
      "rowId":"fZGEKatBvzyztHZvNjpTAG"
     }
    }
   }
  },
  {
   "cell_type":"code",
   "source":[
    "df[\"CHAS\"] = df[\"CHAS\"].replace({1: \"yes\", 0: \"no\"})\n",
    "df.head()"
   ],
   "execution_count":7,
   "outputs":[
    {
     "data":{
      "text\/html":[
       "<div>\n",
       "<style scoped>\n",
       "    .dataframe tbody tr th:only-of-type {\n",
       "        vertical-align: middle;\n",
       "    }\n",
       "\n",
       "    .dataframe tbody tr th {\n",
       "        vertical-align: top;\n",
       "    }\n",
       "\n",
       "    .dataframe thead th {\n",
       "        text-align: right;\n",
       "    }\n",
       "<\/style>\n",
       "<table border=\"1\" class=\"dataframe\">\n",
       "  <thead>\n",
       "    <tr style=\"text-align: right;\">\n",
       "      <th><\/th>\n",
       "      <th>CRIM<\/th>\n",
       "      <th>ZN<\/th>\n",
       "      <th>INDUS<\/th>\n",
       "      <th>CHAS<\/th>\n",
       "      <th>NX<\/th>\n",
       "      <th>RM<\/th>\n",
       "      <th>AGE<\/th>\n",
       "      <th>DIS<\/th>\n",
       "      <th>RAD<\/th>\n",
       "      <th>TAX<\/th>\n",
       "      <th>PTRATIO<\/th>\n",
       "      <th>LSTAT<\/th>\n",
       "      <th>MEDV<\/th>\n",
       "    <\/tr>\n",
       "  <\/thead>\n",
       "  <tbody>\n",
       "    <tr>\n",
       "      <th>0<\/th>\n",
       "      <td>0.00632<\/td>\n",
       "      <td>18.0<\/td>\n",
       "      <td>2.31<\/td>\n",
       "      <td>no<\/td>\n",
       "      <td>0.538<\/td>\n",
       "      <td>6.575<\/td>\n",
       "      <td>65.2<\/td>\n",
       "      <td>4.0900<\/td>\n",
       "      <td>1<\/td>\n",
       "      <td>296<\/td>\n",
       "      <td>15.3<\/td>\n",
       "      <td>4.98<\/td>\n",
       "      <td>24.0<\/td>\n",
       "    <\/tr>\n",
       "    <tr>\n",
       "      <th>1<\/th>\n",
       "      <td>0.02731<\/td>\n",
       "      <td>0.0<\/td>\n",
       "      <td>7.07<\/td>\n",
       "      <td>no<\/td>\n",
       "      <td>0.469<\/td>\n",
       "      <td>6.421<\/td>\n",
       "      <td>78.9<\/td>\n",
       "      <td>4.9671<\/td>\n",
       "      <td>2<\/td>\n",
       "      <td>242<\/td>\n",
       "      <td>17.8<\/td>\n",
       "      <td>9.14<\/td>\n",
       "      <td>21.6<\/td>\n",
       "    <\/tr>\n",
       "    <tr>\n",
       "      <th>2<\/th>\n",
       "      <td>0.02729<\/td>\n",
       "      <td>0.0<\/td>\n",
       "      <td>7.07<\/td>\n",
       "      <td>no<\/td>\n",
       "      <td>0.469<\/td>\n",
       "      <td>7.185<\/td>\n",
       "      <td>61.1<\/td>\n",
       "      <td>4.9671<\/td>\n",
       "      <td>2<\/td>\n",
       "      <td>242<\/td>\n",
       "      <td>17.8<\/td>\n",
       "      <td>4.03<\/td>\n",
       "      <td>34.7<\/td>\n",
       "    <\/tr>\n",
       "    <tr>\n",
       "      <th>3<\/th>\n",
       "      <td>0.03237<\/td>\n",
       "      <td>0.0<\/td>\n",
       "      <td>2.18<\/td>\n",
       "      <td>no<\/td>\n",
       "      <td>0.458<\/td>\n",
       "      <td>6.998<\/td>\n",
       "      <td>45.8<\/td>\n",
       "      <td>6.0622<\/td>\n",
       "      <td>3<\/td>\n",
       "      <td>222<\/td>\n",
       "      <td>18.7<\/td>\n",
       "      <td>2.94<\/td>\n",
       "      <td>33.4<\/td>\n",
       "    <\/tr>\n",
       "    <tr>\n",
       "      <th>4<\/th>\n",
       "      <td>0.06905<\/td>\n",
       "      <td>0.0<\/td>\n",
       "      <td>2.18<\/td>\n",
       "      <td>no<\/td>\n",
       "      <td>0.458<\/td>\n",
       "      <td>7.147<\/td>\n",
       "      <td>54.2<\/td>\n",
       "      <td>6.0622<\/td>\n",
       "      <td>3<\/td>\n",
       "      <td>222<\/td>\n",
       "      <td>18.7<\/td>\n",
       "      <td>5.33<\/td>\n",
       "      <td>36.2<\/td>\n",
       "    <\/tr>\n",
       "  <\/tbody>\n",
       "<\/table>\n",
       "<\/div>"
      ]
     },
     "metadata":{},
     "output_type":"display_data"
    }
   ],
   "metadata":{
    "datalore":{
     "node_id":"ZwLM2CSl3UKtYRJx84Im9r",
     "type":"CODE",
     "hide_input_from_viewers":false,
     "hide_output_from_viewers":false,
     "report_properties":{
      "rowId":"At9AV03wmEyGt1aHIS9osX"
     }
    }
   }
  },
  {
   "cell_type":"markdown",
   "source":[
    "### Split the dataset\n",
    "\n",
    "Split the data into the dependent and independent variables, create dummy variables for the categorical variables, add a constant to the independent variables, and further split it in a ratio of 70:30 for train and test sets."
   ],
   "attachments":{},
   "metadata":{
    "datalore":{
     "node_id":"OkgktP3P4myDyDPSHbhChO",
     "type":"MD",
     "hide_input_from_viewers":false,
     "hide_output_from_viewers":false,
     "report_properties":{
      "rowId":"pbCu26jg2UKk61Uxg3hsMR"
     }
    }
   }
  },
  {
   "cell_type":"code",
   "source":[
    "# splitting the data into the dependent and independent variables\n",
    "X = df.drop(\"MEDV\", axis=1)\n",
    "y = df[\"MEDV\"]"
   ],
   "execution_count":8,
   "outputs":[],
   "metadata":{
    "datalore":{
     "node_id":"m9fSqFdPJgl7LelaXNZvR4",
     "type":"CODE",
     "hide_input_from_viewers":false,
     "hide_output_from_viewers":false,
     "report_properties":{
      "rowId":"JjHPnl19Udq7jApfCjeXjC"
     }
    }
   }
  },
  {
   "cell_type":"code",
   "source":[
    "# creating dummy variables\n",
    "X = pd.get_dummies(\n",
    "    X,\n",
    "    columns=X.select_dtypes(include=[\"object\", \"category\"]).columns.tolist(),\n",
    "    drop_first=True,\n",
    ")\n",
    "\n",
    "X.head()"
   ],
   "execution_count":9,
   "outputs":[
    {
     "data":{
      "text\/html":[
       "<div>\n",
       "<style scoped>\n",
       "    .dataframe tbody tr th:only-of-type {\n",
       "        vertical-align: middle;\n",
       "    }\n",
       "\n",
       "    .dataframe tbody tr th {\n",
       "        vertical-align: top;\n",
       "    }\n",
       "\n",
       "    .dataframe thead th {\n",
       "        text-align: right;\n",
       "    }\n",
       "<\/style>\n",
       "<table border=\"1\" class=\"dataframe\">\n",
       "  <thead>\n",
       "    <tr style=\"text-align: right;\">\n",
       "      <th><\/th>\n",
       "      <th>CRIM<\/th>\n",
       "      <th>ZN<\/th>\n",
       "      <th>INDUS<\/th>\n",
       "      <th>NX<\/th>\n",
       "      <th>RM<\/th>\n",
       "      <th>AGE<\/th>\n",
       "      <th>DIS<\/th>\n",
       "      <th>RAD<\/th>\n",
       "      <th>TAX<\/th>\n",
       "      <th>PTRATIO<\/th>\n",
       "      <th>LSTAT<\/th>\n",
       "      <th>CHAS_yes<\/th>\n",
       "    <\/tr>\n",
       "  <\/thead>\n",
       "  <tbody>\n",
       "    <tr>\n",
       "      <th>0<\/th>\n",
       "      <td>0.00632<\/td>\n",
       "      <td>18.0<\/td>\n",
       "      <td>2.31<\/td>\n",
       "      <td>0.538<\/td>\n",
       "      <td>6.575<\/td>\n",
       "      <td>65.2<\/td>\n",
       "      <td>4.0900<\/td>\n",
       "      <td>1<\/td>\n",
       "      <td>296<\/td>\n",
       "      <td>15.3<\/td>\n",
       "      <td>4.98<\/td>\n",
       "      <td>0<\/td>\n",
       "    <\/tr>\n",
       "    <tr>\n",
       "      <th>1<\/th>\n",
       "      <td>0.02731<\/td>\n",
       "      <td>0.0<\/td>\n",
       "      <td>7.07<\/td>\n",
       "      <td>0.469<\/td>\n",
       "      <td>6.421<\/td>\n",
       "      <td>78.9<\/td>\n",
       "      <td>4.9671<\/td>\n",
       "      <td>2<\/td>\n",
       "      <td>242<\/td>\n",
       "      <td>17.8<\/td>\n",
       "      <td>9.14<\/td>\n",
       "      <td>0<\/td>\n",
       "    <\/tr>\n",
       "    <tr>\n",
       "      <th>2<\/th>\n",
       "      <td>0.02729<\/td>\n",
       "      <td>0.0<\/td>\n",
       "      <td>7.07<\/td>\n",
       "      <td>0.469<\/td>\n",
       "      <td>7.185<\/td>\n",
       "      <td>61.1<\/td>\n",
       "      <td>4.9671<\/td>\n",
       "      <td>2<\/td>\n",
       "      <td>242<\/td>\n",
       "      <td>17.8<\/td>\n",
       "      <td>4.03<\/td>\n",
       "      <td>0<\/td>\n",
       "    <\/tr>\n",
       "    <tr>\n",
       "      <th>3<\/th>\n",
       "      <td>0.03237<\/td>\n",
       "      <td>0.0<\/td>\n",
       "      <td>2.18<\/td>\n",
       "      <td>0.458<\/td>\n",
       "      <td>6.998<\/td>\n",
       "      <td>45.8<\/td>\n",
       "      <td>6.0622<\/td>\n",
       "      <td>3<\/td>\n",
       "      <td>222<\/td>\n",
       "      <td>18.7<\/td>\n",
       "      <td>2.94<\/td>\n",
       "      <td>0<\/td>\n",
       "    <\/tr>\n",
       "    <tr>\n",
       "      <th>4<\/th>\n",
       "      <td>0.06905<\/td>\n",
       "      <td>0.0<\/td>\n",
       "      <td>2.18<\/td>\n",
       "      <td>0.458<\/td>\n",
       "      <td>7.147<\/td>\n",
       "      <td>54.2<\/td>\n",
       "      <td>6.0622<\/td>\n",
       "      <td>3<\/td>\n",
       "      <td>222<\/td>\n",
       "      <td>18.7<\/td>\n",
       "      <td>5.33<\/td>\n",
       "      <td>0<\/td>\n",
       "    <\/tr>\n",
       "  <\/tbody>\n",
       "<\/table>\n",
       "<\/div>"
      ]
     },
     "metadata":{},
     "output_type":"display_data"
    }
   ],
   "metadata":{
    "datalore":{
     "node_id":"1WQ43ZN05pN40izCMDrOdP",
     "type":"CODE",
     "hide_input_from_viewers":false,
     "hide_output_from_viewers":false,
     "report_properties":{
      "rowId":"qD3mZdffvIrjMlwBX4ucEN"
     }
    }
   }
  },
  {
   "cell_type":"code",
   "source":[
    "# this adds the constant term to the dataset\n",
    "X = sm.add_constant(X)"
   ],
   "execution_count":10,
   "outputs":[],
   "metadata":{
    "datalore":{
     "node_id":"4O44xSnGRUvuiQScn6In6U",
     "type":"CODE",
     "hide_input_from_viewers":false,
     "hide_output_from_viewers":false,
     "report_properties":{
      "rowId":"lvy1n5ES95N2XggZmzBEBI"
     }
    }
   }
  },
  {
   "cell_type":"code",
   "source":[
    "# splitting the data in 70:30 ratio for train to test data\n",
    "X_train, X_test, y_train, y_test = train_test_split(\n",
    "    X, y, test_size=0.30, random_state=1\n",
    ")"
   ],
   "execution_count":11,
   "outputs":[],
   "metadata":{
    "datalore":{
     "node_id":"8CJrzAfrNZg757bNc2ySFc",
     "type":"CODE",
     "hide_input_from_viewers":false,
     "hide_output_from_viewers":false,
     "report_properties":{
      "rowId":"tUy800hZjIhfqHYoNtE08Y"
     }
    }
   }
  },
  {
   "cell_type":"markdown",
   "source":[
    "### Model Building"
   ],
   "attachments":{},
   "metadata":{
    "datalore":{
     "node_id":"2Q5OGXgUURBvQbPOn1Ylj3",
     "type":"MD",
     "hide_input_from_viewers":false,
     "hide_output_from_viewers":false,
     "report_properties":{
      "rowId":"iyBAHpb7tlDc7aVABjq4NV"
     }
    }
   }
  },
  {
   "cell_type":"markdown",
   "source":[
    "**Make the linear model using statsmodels OLS and print the model summary.**"
   ],
   "attachments":{},
   "metadata":{
    "datalore":{
     "node_id":"bhw1aXxox2qU4wub0BXaHb",
     "type":"MD",
     "hide_input_from_viewers":false,
     "hide_output_from_viewers":false,
     "report_properties":{
      "rowId":"qxyqgy1qrIqHYodsvDPWfa"
     }
    }
   }
  },
  {
   "cell_type":"code",
   "source":[
    "model = sm.OLS(y_train, X_train).fit()\n",
    "print(model.summary())"
   ],
   "execution_count":12,
   "outputs":[
    {
     "name":"stdout",
     "text":[
      "                            OLS Regression Results                            \n",
      "==============================================================================\n",
      "Dep. Variable:                   MEDV   R-squared:                       0.707\n",
      "Model:                            OLS   Adj. R-squared:                  0.697\n",
      "Method:                 Least Squares   F-statistic:                     68.69\n",
      "Date:                Wed, 06 Nov 2024   Prob (F-statistic):           2.38e-83\n",
      "Time:                        23:42:22   Log-Likelihood:                -1063.0\n",
      "No. Observations:                 354   AIC:                             2152.\n",
      "Df Residuals:                     341   BIC:                             2202.\n",
      "Df Model:                          12                                         \n",
      "Covariance Type:            nonrobust                                         \n",
      "==============================================================================\n",
      "                 coef    std err          t      P>|t|      [0.025      0.975]\n",
      "------------------------------------------------------------------------------\n",
      "const         49.8852      6.107      8.168      0.000      37.872      61.898\n",
      "CRIM          -0.1138      0.043     -2.647      0.009      -0.198      -0.029\n",
      "ZN             0.0612      0.019      3.288      0.001       0.025       0.098\n",
      "INDUS          0.0541      0.077      0.702      0.483      -0.097       0.206\n",
      "NX           -22.2485      4.696     -4.738      0.000     -31.485     -13.012\n",
      "RM             2.6984      0.521      5.183      0.000       1.674       3.722\n",
      "AGE            0.0048      0.017      0.291      0.771      -0.028       0.037\n",
      "DIS           -1.5343      0.258     -5.944      0.000      -2.042      -1.027\n",
      "RAD            0.2988      0.087      3.445      0.001       0.128       0.469\n",
      "TAX           -0.0114      0.005     -2.302      0.022      -0.021      -0.002\n",
      "PTRATIO       -0.9889      0.172     -5.762      0.000      -1.326      -0.651\n",
      "LSTAT         -0.5861      0.061     -9.540      0.000      -0.707      -0.465\n",
      "CHAS_yes       2.5175      0.983      2.560      0.011       0.583       4.452\n",
      "==============================================================================\n",
      "Omnibus:                      134.560   Durbin-Watson:                   1.847\n",
      "Prob(Omnibus):                  0.000   Jarque-Bera (JB):              545.280\n",
      "Skew:                           1.626   Prob(JB):                    3.93e-119\n",
      "Kurtosis:                       8.137   Cond. No.                     1.17e+04\n",
      "==============================================================================\n",
      "\n",
      "Notes:\n",
      "[1] Standard Errors assume that the covariance matrix of the errors is correctly specified.\n",
      "[2] The condition number is large, 1.17e+04. This might indicate that there are\n",
      "strong multicollinearity or other numerical problems.\n"
     ],
     "output_type":"stream"
    }
   ],
   "metadata":{
    "datalore":{
     "node_id":"yJqPpTVnEVmUtyCIjOltik",
     "type":"CODE",
     "hide_input_from_viewers":false,
     "hide_output_from_viewers":false,
     "report_properties":{
      "rowId":"m8eMlW03YK3dDaxfc2VbWA"
     }
    }
   }
  },
  {
   "cell_type":"markdown",
   "source":[
    "## Checking Linear Regression Assumptions"
   ],
   "attachments":{},
   "metadata":{
    "datalore":{
     "node_id":"39fQ9cS4M6gLa7NbJfZzsi",
     "type":"MD",
     "hide_input_from_viewers":false,
     "hide_output_from_viewers":false,
     "report_properties":{
      "rowId":"k11n2hHHc0ydQAgWRlrjWR"
     }
    }
   }
  },
  {
   "cell_type":"markdown",
   "source":[
    "We will be checking the following Linear Regression assumptions:\n",
    "\n",
    "1. **No Multicollinearity**\n",
    "\n",
    "2. **Linearity of variables**\n",
    "\n",
    "3. **Independence of error terms**\n",
    "\n",
    "4. **Normality of error terms**\n",
    "\n",
    "5. **No Heteroscedasticity**"
   ],
   "attachments":{},
   "metadata":{
    "datalore":{
     "node_id":"4eEWs9dboK7C73IBdaPFm5",
     "type":"MD",
     "hide_input_from_viewers":false,
     "hide_output_from_viewers":false,
     "report_properties":{
      "rowId":"dN8FU7fOXP9FQ6f914SGMi"
     }
    }
   }
  },
  {
   "cell_type":"markdown",
   "source":[
    "### TEST FOR MULTICOLLINEARITY\n",
    "\n",
    "- We will test for multicollinearity using VIF.\n",
    "\n",
    "- **General Rule of thumb**:\n",
    "    - If VIF is 1 then there is no correlation between the $k$th predictor and the remaining predictor variables.\n",
    "    - If VIF exceeds 5 or is close to exceeding 5, we say there is moderate multicollinearity.\n",
    "    - If VIF is 10 or exceeding 10, it shows signs of high multicollinearity."
   ],
   "attachments":{},
   "metadata":{
    "datalore":{
     "node_id":"Nw2hhPA6Dt9Omyzi7TC7QY",
     "type":"MD",
     "hide_input_from_viewers":false,
     "hide_output_from_viewers":false,
     "report_properties":{
      "rowId":"mAGxtylFDfFJztQrQG2Lnf"
     }
    }
   }
  },
  {
   "cell_type":"code",
   "source":[
    "# we will define a function to check VIF\n",
    "def checking_vif(predictors):\n",
    "    vif = pd.DataFrame()\n",
    "    vif[\"feature\"] = predictors.columns\n",
    "\n",
    "    # calculating VIF for each feature\n",
    "    vif[\"VIF\"] = [\n",
    "        variance_inflation_factor(predictors.values, i)\n",
    "        for i in range(len(predictors.columns))\n",
    "    ]\n",
    "    return vif"
   ],
   "execution_count":13,
   "outputs":[],
   "metadata":{
    "datalore":{
     "node_id":"JUkVu28KflvUyERQh9s8uZ",
     "type":"CODE",
     "hide_input_from_viewers":false,
     "hide_output_from_viewers":false,
     "report_properties":{
      "rowId":"Naxuv8BNEqqtnf3dbReYjH"
     }
    }
   }
  },
  {
   "cell_type":"code",
   "source":[
    "checking_vif(X_train)"
   ],
   "execution_count":14,
   "outputs":[
    {
     "data":{
      "text\/html":[
       "<div>\n",
       "<style scoped>\n",
       "    .dataframe tbody tr th:only-of-type {\n",
       "        vertical-align: middle;\n",
       "    }\n",
       "\n",
       "    .dataframe tbody tr th {\n",
       "        vertical-align: top;\n",
       "    }\n",
       "\n",
       "    .dataframe thead th {\n",
       "        text-align: right;\n",
       "    }\n",
       "<\/style>\n",
       "<table border=\"1\" class=\"dataframe\">\n",
       "  <thead>\n",
       "    <tr style=\"text-align: right;\">\n",
       "      <th><\/th>\n",
       "      <th>feature<\/th>\n",
       "      <th>VIF<\/th>\n",
       "    <\/tr>\n",
       "  <\/thead>\n",
       "  <tbody>\n",
       "    <tr>\n",
       "      <th>0<\/th>\n",
       "      <td>const<\/td>\n",
       "      <td>535.372593<\/td>\n",
       "    <\/tr>\n",
       "    <tr>\n",
       "      <th>1<\/th>\n",
       "      <td>CRIM<\/td>\n",
       "      <td>1.924114<\/td>\n",
       "    <\/tr>\n",
       "    <tr>\n",
       "      <th>2<\/th>\n",
       "      <td>ZN<\/td>\n",
       "      <td>2.743574<\/td>\n",
       "    <\/tr>\n",
       "    <tr>\n",
       "      <th>3<\/th>\n",
       "      <td>INDUS<\/td>\n",
       "      <td>3.999538<\/td>\n",
       "    <\/tr>\n",
       "    <tr>\n",
       "      <th>4<\/th>\n",
       "      <td>NX<\/td>\n",
       "      <td>4.396157<\/td>\n",
       "    <\/tr>\n",
       "    <tr>\n",
       "      <th>5<\/th>\n",
       "      <td>RM<\/td>\n",
       "      <td>1.860950<\/td>\n",
       "    <\/tr>\n",
       "    <tr>\n",
       "      <th>6<\/th>\n",
       "      <td>AGE<\/td>\n",
       "      <td>3.150170<\/td>\n",
       "    <\/tr>\n",
       "    <tr>\n",
       "      <th>7<\/th>\n",
       "      <td>DIS<\/td>\n",
       "      <td>4.355469<\/td>\n",
       "    <\/tr>\n",
       "    <tr>\n",
       "      <th>8<\/th>\n",
       "      <td>RAD<\/td>\n",
       "      <td>8.345247<\/td>\n",
       "    <\/tr>\n",
       "    <tr>\n",
       "      <th>9<\/th>\n",
       "      <td>TAX<\/td>\n",
       "      <td>10.191941<\/td>\n",
       "    <\/tr>\n",
       "    <tr>\n",
       "      <th>10<\/th>\n",
       "      <td>PTRATIO<\/td>\n",
       "      <td>1.943409<\/td>\n",
       "    <\/tr>\n",
       "    <tr>\n",
       "      <th>11<\/th>\n",
       "      <td>LSTAT<\/td>\n",
       "      <td>2.861881<\/td>\n",
       "    <\/tr>\n",
       "    <tr>\n",
       "      <th>12<\/th>\n",
       "      <td>CHAS_yes<\/td>\n",
       "      <td>1.076564<\/td>\n",
       "    <\/tr>\n",
       "  <\/tbody>\n",
       "<\/table>\n",
       "<\/div>"
      ]
     },
     "metadata":{},
     "output_type":"display_data"
    }
   ],
   "metadata":{
    "datalore":{
     "node_id":"Z00mc0Ix8DxLgtS0WMiy42",
     "type":"CODE",
     "hide_input_from_viewers":false,
     "hide_output_from_viewers":false,
     "report_properties":{
      "rowId":"4xW4BsLSYOfWKagYoqaOtg"
     }
    }
   }
  },
  {
   "cell_type":"markdown",
   "source":[
    "### Removing Multicollinearity\n",
    "\n",
    "To remove multicollinearity\n",
    "\n",
    "1. Drop every column one by one that has a VIF score greater than 5.\n",
    "2. Look at the adjusted R-squared and RMSE of all these models.\n",
    "3. Drop the variable that makes the least change in adjusted R-squared.\n",
    "4. Check the VIF scores again.\n",
    "5. Continue till you get all VIF scores under 5.\n",
    "\n",
    "Let's define a function that will help us do this."
   ],
   "attachments":{},
   "metadata":{
    "datalore":{
     "node_id":"Gj369WG5kkYKTgYplwXcDJ",
     "type":"MD",
     "hide_input_from_viewers":false,
     "hide_output_from_viewers":false,
     "report_properties":{
      "rowId":"RhpqKk112ym91TfnFTUqln"
     }
    }
   }
  },
  {
   "cell_type":"code",
   "source":[
    "def treating_multicollinearity(predictors, target, high_vif_columns):\n",
    "    \"\"\"\n",
    "    Checking the effect of dropping the columns showing high multicollinearity\n",
    "    on model performance (adj. R-squared and RMSE)\n",
    "\n",
    "    predictors: independent variables\n",
    "    target: dependent variable\n",
    "    high_vif_columns: columns having high VIF\n",
    "    \"\"\"\n",
    "    # empty lists to store adj. R-squared and RMSE values\n",
    "    adj_r2 = []\n",
    "    rmse = []\n",
    "\n",
    "    # build ols models by dropping one of the high VIF columns at a time\n",
    "    # store the adjusted R-squared and RMSE in the lists defined previously\n",
    "    for cols in high_vif_columns:\n",
    "        # defining the new train set\n",
    "        train = predictors.loc[:, ~predictors.columns.str.startswith(cols)]\n",
    "\n",
    "        # create the model\n",
    "        olsmodel = sm.OLS(target, train).fit()\n",
    "\n",
    "        # adding adj. R-squared and RMSE to the lists\n",
    "        adj_r2.append(olsmodel.rsquared_adj)\n",
    "        rmse.append(np.sqrt(olsmodel.mse_resid))\n",
    "\n",
    "    # creating a dataframe for the results\n",
    "    temp = pd.DataFrame(\n",
    "        {\n",
    "            \"col\": high_vif_columns,\n",
    "            \"Adj. R-squared after_dropping col\": adj_r2,\n",
    "            \"RMSE after dropping col\": rmse,\n",
    "        }\n",
    "    ).sort_values(by=\"Adj. R-squared after_dropping col\", ascending=False)\n",
    "    temp.reset_index(drop=True, inplace=True)\n",
    "\n",
    "    return temp"
   ],
   "execution_count":15,
   "outputs":[],
   "metadata":{
    "datalore":{
     "node_id":"OZstQCPXq0fi1gxqYHRFk9",
     "type":"CODE",
     "hide_input_from_viewers":false,
     "hide_output_from_viewers":false,
     "report_properties":{
      "rowId":"mKf0hbdpJihWTsTd4DZM9u"
     }
    }
   }
  },
  {
   "cell_type":"code",
   "source":[
    "col_list = [\"RAD\", \"TAX\"]\n",
    "\n",
    "res = treating_multicollinearity(X_train, y_train, col_list)\n",
    "res"
   ],
   "execution_count":16,
   "outputs":[
    {
     "data":{
      "text\/html":[
       "<div>\n",
       "<style scoped>\n",
       "    .dataframe tbody tr th:only-of-type {\n",
       "        vertical-align: middle;\n",
       "    }\n",
       "\n",
       "    .dataframe tbody tr th {\n",
       "        vertical-align: top;\n",
       "    }\n",
       "\n",
       "    .dataframe thead th {\n",
       "        text-align: right;\n",
       "    }\n",
       "<\/style>\n",
       "<table border=\"1\" class=\"dataframe\">\n",
       "  <thead>\n",
       "    <tr style=\"text-align: right;\">\n",
       "      <th><\/th>\n",
       "      <th>col<\/th>\n",
       "      <th>Adj. R-squared after_dropping col<\/th>\n",
       "      <th>RMSE after dropping col<\/th>\n",
       "    <\/tr>\n",
       "  <\/thead>\n",
       "  <tbody>\n",
       "    <tr>\n",
       "      <th>0<\/th>\n",
       "      <td>TAX<\/td>\n",
       "      <td>0.693267<\/td>\n",
       "      <td>4.997394<\/td>\n",
       "    <\/tr>\n",
       "    <tr>\n",
       "      <th>1<\/th>\n",
       "      <td>RAD<\/td>\n",
       "      <td>0.687451<\/td>\n",
       "      <td>5.044546<\/td>\n",
       "    <\/tr>\n",
       "  <\/tbody>\n",
       "<\/table>\n",
       "<\/div>"
      ]
     },
     "metadata":{},
     "output_type":"display_data"
    }
   ],
   "metadata":{
    "datalore":{
     "node_id":"GwYlmVPPrQMXmah7OWXkFH",
     "type":"CODE",
     "hide_input_from_viewers":false,
     "hide_output_from_viewers":false,
     "report_properties":{
      "rowId":"KNzznUY9Fpj7yS6COidbXW"
     }
    }
   }
  },
  {
   "cell_type":"code",
   "source":[
    "col_to_drop = \"TAX\"\n",
    "X_train2 = X_train.loc[:, ~X_train.columns.str.startswith(col_to_drop)]\n",
    "X_test2 = X_test.loc[:, ~X_test.columns.str.startswith(col_to_drop)]\n",
    "\n",
    "# Check VIF now\n",
    "vif = checking_vif(X_train2)\n",
    "print(\"VIF after dropping \", col_to_drop)\n",
    "vif"
   ],
   "execution_count":17,
   "outputs":[
    {
     "name":"stdout",
     "text":[
      "VIF after dropping  TAX\n"
     ],
     "output_type":"stream"
    },
    {
     "data":{
      "text\/html":[
       "<div>\n",
       "<style scoped>\n",
       "    .dataframe tbody tr th:only-of-type {\n",
       "        vertical-align: middle;\n",
       "    }\n",
       "\n",
       "    .dataframe tbody tr th {\n",
       "        vertical-align: top;\n",
       "    }\n",
       "\n",
       "    .dataframe thead th {\n",
       "        text-align: right;\n",
       "    }\n",
       "<\/style>\n",
       "<table border=\"1\" class=\"dataframe\">\n",
       "  <thead>\n",
       "    <tr style=\"text-align: right;\">\n",
       "      <th><\/th>\n",
       "      <th>feature<\/th>\n",
       "      <th>VIF<\/th>\n",
       "    <\/tr>\n",
       "  <\/thead>\n",
       "  <tbody>\n",
       "    <tr>\n",
       "      <th>0<\/th>\n",
       "      <td>const<\/td>\n",
       "      <td>532.025529<\/td>\n",
       "    <\/tr>\n",
       "    <tr>\n",
       "      <th>1<\/th>\n",
       "      <td>CRIM<\/td>\n",
       "      <td>1.923159<\/td>\n",
       "    <\/tr>\n",
       "    <tr>\n",
       "      <th>2<\/th>\n",
       "      <td>ZN<\/td>\n",
       "      <td>2.483399<\/td>\n",
       "    <\/tr>\n",
       "    <tr>\n",
       "      <th>3<\/th>\n",
       "      <td>INDUS<\/td>\n",
       "      <td>3.270983<\/td>\n",
       "    <\/tr>\n",
       "    <tr>\n",
       "      <th>4<\/th>\n",
       "      <td>NX<\/td>\n",
       "      <td>4.361847<\/td>\n",
       "    <\/tr>\n",
       "    <tr>\n",
       "      <th>5<\/th>\n",
       "      <td>RM<\/td>\n",
       "      <td>1.857918<\/td>\n",
       "    <\/tr>\n",
       "    <tr>\n",
       "      <th>6<\/th>\n",
       "      <td>AGE<\/td>\n",
       "      <td>3.149005<\/td>\n",
       "    <\/tr>\n",
       "    <tr>\n",
       "      <th>7<\/th>\n",
       "      <td>DIS<\/td>\n",
       "      <td>4.333734<\/td>\n",
       "    <\/tr>\n",
       "    <tr>\n",
       "      <th>8<\/th>\n",
       "      <td>RAD<\/td>\n",
       "      <td>2.942862<\/td>\n",
       "    <\/tr>\n",
       "    <tr>\n",
       "      <th>9<\/th>\n",
       "      <td>PTRATIO<\/td>\n",
       "      <td>1.909750<\/td>\n",
       "    <\/tr>\n",
       "    <tr>\n",
       "      <th>10<\/th>\n",
       "      <td>LSTAT<\/td>\n",
       "      <td>2.860251<\/td>\n",
       "    <\/tr>\n",
       "    <tr>\n",
       "      <th>11<\/th>\n",
       "      <td>CHAS_yes<\/td>\n",
       "      <td>1.050708<\/td>\n",
       "    <\/tr>\n",
       "  <\/tbody>\n",
       "<\/table>\n",
       "<\/div>"
      ]
     },
     "metadata":{},
     "output_type":"display_data"
    }
   ],
   "metadata":{
    "datalore":{
     "node_id":"o7lrmwycuT1ee4q2pjnaAJ",
     "type":"CODE",
     "hide_input_from_viewers":false,
     "hide_output_from_viewers":false,
     "report_properties":{
      "rowId":"Yj9TNyVhaRS0FMedNH8qmI"
     }
    }
   }
  },
  {
   "cell_type":"markdown",
   "source":[
    "- None of the variables show moderate or high multicollinearity."
   ],
   "attachments":{},
   "metadata":{
    "datalore":{
     "node_id":"TC3pFXS4eJTPwjixGOnyXB",
     "type":"MD",
     "hide_input_from_viewers":false,
     "hide_output_from_viewers":false,
     "report_properties":{
      "rowId":"ppf5x2irT2MF22ID1rbbCJ"
     }
    }
   }
  },
  {
   "cell_type":"markdown",
   "source":[
    "### Dropping high p-value variables\n",
    "\n",
    "- We will drop the predictor variables having a p-value greater than 0.05 as they do not significantly impact the target variable.\n",
    "- But sometimes p-values change after dropping a variable. So, we'll not drop all variables at once.\n",
    "- Instead, we will do the following:\n",
    "    - Build a model, check the p-values of the variables, and drop the column with the highest p-value.\n",
    "    - Create a new model without the dropped feature, check the p-values of the variables, and drop the column with the highest p-value.\n",
    "    - Repeat the above two steps till there are no columns with p-value > 0.05.\n",
    "\n",
    "The above process can also be done manually by picking one variable at a time that has a high p-value, dropping it, and building a model again. But that might be a little tedious and using a loop will be more efficient."
   ],
   "attachments":{},
   "metadata":{
    "datalore":{
     "node_id":"V2zaWh64WufBZszvWUpZ9b",
     "type":"MD",
     "hide_input_from_viewers":false,
     "hide_output_from_viewers":false,
     "report_properties":{
      "rowId":"0aiyjyVana8aUdSbWUM9Ns"
     }
    }
   }
  },
  {
   "cell_type":"code",
   "source":[
    "# initial list of columns\n",
    "cols = X_train2.columns.tolist()\n",
    "\n",
    "# setting an initial max p-value\n",
    "max_p_value = 1\n",
    "\n",
    "while len(cols) > 0:\n",
    "    # defining the train set\n",
    "    x_train_aux = X_train2[cols]\n",
    "\n",
    "    # fitting the model\n",
    "    model = sm.OLS(y_train, x_train_aux).fit()\n",
    "\n",
    "    # getting the p-values and the maximum p-value\n",
    "    p_values = model.pvalues\n",
    "    max_p_value = max(p_values)\n",
    "\n",
    "    # name of the variable with maximum p-value\n",
    "    feature_with_p_max = p_values.idxmax()\n",
    "\n",
    "    if max_p_value > 0.05:\n",
    "        cols.remove(feature_with_p_max)\n",
    "    else:\n",
    "        break\n",
    "\n",
    "selected_features = cols\n",
    "print(selected_features)"
   ],
   "execution_count":18,
   "outputs":[
    {
     "name":"stdout",
     "text":[
      "['const', 'CRIM', 'ZN', 'NX', 'RM', 'DIS', 'RAD', 'PTRATIO', 'LSTAT', 'CHAS_yes']\n"
     ],
     "output_type":"stream"
    }
   ],
   "metadata":{
    "datalore":{
     "node_id":"Lb9EfiLsNvTItBUoSPDFFq",
     "type":"CODE",
     "hide_input_from_viewers":false,
     "hide_output_from_viewers":false,
     "report_properties":{
      "rowId":"r7zULb3ZAaqermdCreNwbG"
     }
    }
   }
  },
  {
   "cell_type":"code",
   "source":[
    "X_train3 = X_train2[selected_features]\n",
    "X_test3 = X_test2[selected_features]"
   ],
   "execution_count":19,
   "outputs":[],
   "metadata":{
    "datalore":{
     "node_id":"krQxyHHZLesKw1L3xtpQvi",
     "type":"CODE",
     "hide_input_from_viewers":false,
     "hide_output_from_viewers":false,
     "report_properties":{
      "rowId":"l1368Ety20zoBugdx1XTeA"
     }
    }
   }
  },
  {
   "cell_type":"code",
   "source":[
    "olsmodel2 = sm.OLS(y_train, X_train3).fit()\n",
    "print(olsmodel2.summary())"
   ],
   "execution_count":20,
   "outputs":[
    {
     "name":"stdout",
     "text":[
      "                            OLS Regression Results                            \n",
      "==============================================================================\n",
      "Dep. Variable:                   MEDV   R-squared:                       0.703\n",
      "Model:                            OLS   Adj. R-squared:                  0.695\n",
      "Method:                 Least Squares   F-statistic:                     90.34\n",
      "Date:                Wed, 06 Nov 2024   Prob (F-statistic):           4.34e-85\n",
      "Time:                        23:43:16   Log-Likelihood:                -1065.8\n",
      "No. Observations:                 354   AIC:                             2152.\n",
      "Df Residuals:                     344   BIC:                             2190.\n",
      "Df Model:                           9                                         \n",
      "Covariance Type:            nonrobust                                         \n",
      "==============================================================================\n",
      "                 coef    std err          t      P>|t|      [0.025      0.975]\n",
      "------------------------------------------------------------------------------\n",
      "const         48.8196      6.092      8.014      0.000      36.838      60.801\n",
      "CRIM          -0.1110      0.043     -2.575      0.010      -0.196      -0.026\n",
      "ZN             0.0475      0.018      2.691      0.007       0.013       0.082\n",
      "NX           -23.4485      4.224     -5.551      0.000     -31.756     -15.141\n",
      "RM             2.7844      0.511      5.451      0.000       1.780       3.789\n",
      "DIS           -1.4930      0.239     -6.235      0.000      -1.964      -1.022\n",
      "RAD            0.1353      0.051      2.643      0.009       0.035       0.236\n",
      "PTRATIO       -1.0477      0.167     -6.268      0.000      -1.376      -0.719\n",
      "LSTAT         -0.5789      0.057    -10.170      0.000      -0.691      -0.467\n",
      "CHAS_yes       2.8779      0.974      2.953      0.003       0.961       4.795\n",
      "==============================================================================\n",
      "Omnibus:                      130.760   Durbin-Watson:                   1.801\n",
      "Prob(Omnibus):                  0.000   Jarque-Bera (JB):              513.168\n",
      "Skew:                           1.587   Prob(JB):                    3.69e-112\n",
      "Kurtosis:                       7.971   Cond. No.                         776.\n",
      "==============================================================================\n",
      "\n",
      "Notes:\n",
      "[1] Standard Errors assume that the covariance matrix of the errors is correctly specified.\n"
     ],
     "output_type":"stream"
    }
   ],
   "metadata":{
    "datalore":{
     "node_id":"JRuLcPzz8NgAcWkW5s7jhC",
     "type":"CODE",
     "hide_input_from_viewers":false,
     "hide_output_from_viewers":false,
     "report_properties":{
      "rowId":"SCTgSeP4gP7bETHxdhdY84"
     }
    }
   }
  },
  {
   "cell_type":"markdown",
   "source":[
    "**Observations**\n",
    "\n",
    "- Dropping the high p-value predictor variables has not adversely affected the model performance.\n",
    "- This shows that these variables do not significantly impact the target variable."
   ],
   "attachments":{},
   "metadata":{
    "datalore":{
     "node_id":"eyj7pk9dSoipLL4pDT8fiC",
     "type":"MD",
     "hide_input_from_viewers":false,
     "hide_output_from_viewers":false,
     "report_properties":{
      "rowId":"0Ohh3lv4omTCc7wlBj0xJ6"
     }
    }
   }
  },
  {
   "cell_type":"markdown",
   "source":[
    "### TEST FOR LINEARITY AND INDEPENDENCE\n",
    "\n",
    "- We will test for linearity and independence by making a plot of fitted values vs residuals and checking for patterns.\n",
    "- If there is no pattern, then we say the model is linear and residuals are independent.\n",
    "- Otherwise, the model is showing signs of non-linearity and residuals are not independent."
   ],
   "attachments":{},
   "metadata":{
    "datalore":{
     "node_id":"8Umt9OLK52YeZZKQzlXpHr",
     "type":"MD",
     "hide_input_from_viewers":false,
     "hide_output_from_viewers":false,
     "report_properties":{
      "rowId":"22MgUBOsZrS67b03nPR9Cr"
     }
    }
   }
  },
  {
   "cell_type":"code",
   "source":[
    "# let us create a dataframe with actual, fitted and residual values\n",
    "df_pred = pd.DataFrame()\n",
    "\n",
    "df_pred[\"Actual Values\"] = y_train  # actual values\n",
    "df_pred[\"Fitted Values\"] = olsmodel2.fittedvalues  # predicted values\n",
    "df_pred[\"Residuals\"] = olsmodel2.resid  # residuals\n",
    "\n",
    "df_pred.head()"
   ],
   "execution_count":21,
   "outputs":[
    {
     "data":{
      "text\/html":[
       "<div>\n",
       "<style scoped>\n",
       "    .dataframe tbody tr th:only-of-type {\n",
       "        vertical-align: middle;\n",
       "    }\n",
       "\n",
       "    .dataframe tbody tr th {\n",
       "        vertical-align: top;\n",
       "    }\n",
       "\n",
       "    .dataframe thead th {\n",
       "        text-align: right;\n",
       "    }\n",
       "<\/style>\n",
       "<table border=\"1\" class=\"dataframe\">\n",
       "  <thead>\n",
       "    <tr style=\"text-align: right;\">\n",
       "      <th><\/th>\n",
       "      <th>Actual Values<\/th>\n",
       "      <th>Fitted Values<\/th>\n",
       "      <th>Residuals<\/th>\n",
       "    <\/tr>\n",
       "  <\/thead>\n",
       "  <tbody>\n",
       "    <tr>\n",
       "      <th>13<\/th>\n",
       "      <td>20.4<\/td>\n",
       "      <td>19.428323<\/td>\n",
       "      <td>0.971677<\/td>\n",
       "    <\/tr>\n",
       "    <tr>\n",
       "      <th>61<\/th>\n",
       "      <td>16.0<\/td>\n",
       "      <td>17.881985<\/td>\n",
       "      <td>-1.881985<\/td>\n",
       "    <\/tr>\n",
       "    <tr>\n",
       "      <th>377<\/th>\n",
       "      <td>13.3<\/td>\n",
       "      <td>18.672515<\/td>\n",
       "      <td>-5.372515<\/td>\n",
       "    <\/tr>\n",
       "    <tr>\n",
       "      <th>39<\/th>\n",
       "      <td>30.8<\/td>\n",
       "      <td>31.377965<\/td>\n",
       "      <td>-0.577965<\/td>\n",
       "    <\/tr>\n",
       "    <tr>\n",
       "      <th>365<\/th>\n",
       "      <td>27.5<\/td>\n",
       "      <td>16.946181<\/td>\n",
       "      <td>10.553819<\/td>\n",
       "    <\/tr>\n",
       "  <\/tbody>\n",
       "<\/table>\n",
       "<\/div>"
      ]
     },
     "metadata":{},
     "output_type":"display_data"
    }
   ],
   "metadata":{
    "datalore":{
     "node_id":"vFx0nN7z3ijGaydBlOuN76",
     "type":"CODE",
     "hide_input_from_viewers":false,
     "hide_output_from_viewers":false,
     "report_properties":{
      "rowId":"TqM8PKl6FwTvq9ZFxXZkm7"
     }
    }
   }
  },
  {
   "cell_type":"code",
   "source":[
    "# let's plot the fitted values vs residuals\n",
    "\n",
    "sns.residplot(\n",
    "    data=df_pred, x=\"Fitted Values\", y=\"Residuals\", color=\"purple\", lowess=True\n",
    ")\n",
    "plt.xlabel(\"Fitted Values\")\n",
    "plt.ylabel(\"Residuals\")\n",
    "plt.title(\"Fitted vs Residual plot\")\n",
    "plt.show()"
   ],
   "execution_count":22,
   "outputs":[
    {
     "data":{
      "image\/png":"[encoded data removed]"
     },
     "metadata":{
      "image\/png":{}
     },
     "output_type":"display_data"
    }
   ],
   "metadata":{
    "datalore":{
     "node_id":"bl6DbUlrEfUsdWOsYJGsaP",
     "type":"CODE",
     "hide_input_from_viewers":false,
     "hide_output_from_viewers":false,
     "report_properties":{
      "rowId":"I9W7XvQRqbOWOCbchxTj9R"
     }
    }
   }
  },
  {
   "cell_type":"markdown",
   "source":[
    "**Observations**\n",
    "\n",
    "- We see no pattern in the plot above.\n",
    "- Hence, the assumptions of linearity and independence are satisfied."
   ],
   "attachments":{},
   "metadata":{
    "datalore":{
     "node_id":"coIJ6iwfv7MiBz3gpg3XqQ",
     "type":"MD",
     "hide_input_from_viewers":false,
     "hide_output_from_viewers":false,
     "report_properties":{
      "rowId":"Ha9m5rqH8K0FHVrldf4Jqb"
     }
    }
   }
  },
  {
   "cell_type":"markdown",
   "source":[
    "### TEST FOR NORMALITY\n",
    "\n",
    "- We will test for normality by checking the distribution of residuals, by checking the Q-Q plot of residuals, and by using the Shapiro-Wilk test.\n",
    "- If the residuals follow a normal distribution, they will make a straight line plot, otherwise not.\n",
    "- If the p-value of the Shapiro-Wilk test is greater than 0.05, we can say the residuals are normally distributed."
   ],
   "attachments":{},
   "metadata":{
    "datalore":{
     "node_id":"onJIeYaV9yH275GJLAvcq4",
     "type":"MD",
     "hide_input_from_viewers":false,
     "hide_output_from_viewers":false,
     "report_properties":{
      "rowId":"5rgQXMzWvdlHSlahBCnKft"
     }
    }
   }
  },
  {
   "cell_type":"code",
   "source":[
    "sns.histplot(data=df_pred, x=\"Residuals\", kde=True)\n",
    "plt.title(\"Normality of residuals\")\n",
    "plt.show()"
   ],
   "execution_count":23,
   "outputs":[
    {
     "data":{
      "image\/png":"[encoded data removed]"
     },
     "metadata":{
      "image\/png":{}
     },
     "output_type":"display_data"
    }
   ],
   "metadata":{
    "datalore":{
     "node_id":"JtPpnhaRnTDJ0IyJzB68Hb",
     "type":"CODE",
     "hide_input_from_viewers":false,
     "hide_output_from_viewers":false,
     "report_properties":{
      "rowId":"t0cPDdV1E1dTP3GvEcaj7C"
     }
    }
   }
  },
  {
   "cell_type":"markdown",
   "source":[
    "**Observations**\n",
    "\n",
    "- The histogram of residuals almost has a bell shape structure.\n",
    "- Let's check the Q-Q plot."
   ],
   "attachments":{},
   "metadata":{
    "datalore":{
     "node_id":"jx8Yq14CMyBtazvFL7maMr",
     "type":"MD",
     "hide_input_from_viewers":false,
     "hide_output_from_viewers":false,
     "report_properties":{
      "rowId":"NpzvcqRGhv0Gltaq0nw4k2"
     }
    }
   }
  },
  {
   "cell_type":"code",
   "source":[
    "import pylab\n",
    "import scipy.stats as stats\n",
    "\n",
    "stats.probplot(df_pred[\"Residuals\"], dist=\"norm\", plot=pylab)\n",
    "plt.show()"
   ],
   "execution_count":24,
   "outputs":[
    {
     "data":{
      "image\/png":"[encoded data removed]"
     },
     "metadata":{
      "image\/png":{}
     },
     "output_type":"display_data"
    }
   ],
   "metadata":{
    "datalore":{
     "node_id":"kfmEoq5eR7P1IKFRTlKJ9u",
     "type":"CODE",
     "hide_input_from_viewers":false,
     "hide_output_from_viewers":false,
     "report_properties":{
      "rowId":"BDUgfBsyAnDKLuAb92mTgY"
     }
    }
   }
  },
  {
   "cell_type":"markdown",
   "source":[
    "**Observations**\n",
    "\n",
    "- The residuals almost follow a straight line.\n",
    "- Let's check the results of the Shapiro-Wilk test."
   ],
   "attachments":{},
   "metadata":{
    "datalore":{
     "node_id":"2nhknFXBwmERbhUYpQ72Zb",
     "type":"MD",
     "hide_input_from_viewers":false,
     "hide_output_from_viewers":false,
     "report_properties":{
      "rowId":"Jx9JQnflMGfdBvz51DLvEr"
     }
    }
   }
  },
  {
   "cell_type":"code",
   "source":[
    "stats.shapiro(df_pred[\"Residuals\"])"
   ],
   "execution_count":25,
   "outputs":[
    {
     "data":{
      "text\/plain":[
       "ShapiroResult(statistic=0.8942403793334961, pvalue=5.9160474099890364e-15)"
      ]
     },
     "metadata":{},
     "output_type":"display_data"
    }
   ],
   "metadata":{
    "datalore":{
     "node_id":"aJos1WhBBvadTSu6u0Sicq",
     "type":"CODE",
     "hide_input_from_viewers":false,
     "hide_output_from_viewers":false,
     "report_properties":{
      "rowId":"rVKXfD6xNNdgWyUposyFEN"
     }
    }
   }
  },
  {
   "cell_type":"markdown",
   "source":[
    "**Observations**\n",
    "\n",
    "- Since p-value < 0.05, the residuals are not normal as per the Shapiro-Wilk test.\n",
    "- However, based on the distribution plot and Q-Q plot, we can consider the distribution to be a good approximation of the normal distribution.\n",
    "- So, the assumption is satisfied."
   ],
   "attachments":{},
   "metadata":{
    "datalore":{
     "node_id":"gOX3mt2jla8xZ8JYT5Tvw2",
     "type":"MD",
     "hide_input_from_viewers":false,
     "hide_output_from_viewers":false,
     "report_properties":{
      "rowId":"6gmMpy2ZfwZt3IPyJGXFNV"
     }
    }
   }
  },
  {
   "cell_type":"markdown",
   "source":[
    "### TEST FOR HOMOSCEDASTICITY\n",
    "\n",
    "- We will test for homoscedasticity by using the goldfeldquandt test.\n",
    "- If we get a p-value greater than 0.05, we can say that the residuals are homoscedastic. Otherwise, they are heteroscedastic."
   ],
   "attachments":{},
   "metadata":{
    "datalore":{
     "node_id":"259Pq5mQj1smONrmQXjRpQ",
     "type":"MD",
     "hide_input_from_viewers":false,
     "hide_output_from_viewers":false,
     "report_properties":{
      "rowId":"2TlCQcDwDjnP4L1AQhmY5m"
     }
    }
   }
  },
  {
   "cell_type":"code",
   "source":[
    "import statsmodels.stats.api as sms\n",
    "from statsmodels.compat import lzip\n",
    "\n",
    "name = [\"F statistic\", \"p-value\"]\n",
    "test = sms.het_goldfeldquandt(df_pred[\"Residuals\"], X_train3)\n",
    "lzip(name, test)"
   ],
   "execution_count":26,
   "outputs":[
    {
     "data":{
      "text\/plain":[
       "[('F statistic', 1.2224599068220496), ('p-value', 0.0976863004418288)]"
      ]
     },
     "metadata":{},
     "output_type":"display_data"
    }
   ],
   "metadata":{
    "datalore":{
     "node_id":"9CHqxqwrhvRN1LxmpSkKqq",
     "type":"CODE",
     "hide_input_from_viewers":false,
     "hide_output_from_viewers":false,
     "report_properties":{
      "rowId":"xkPKKCYaUSCyv3OUXRghHS"
     }
    }
   }
  },
  {
   "cell_type":"markdown",
   "source":[
    "**Observations**\n",
    "\n",
    "- Since p-value > 0.05, the residuals are homoscedastic.\n",
    "- So, the assumption is satisfied."
   ],
   "attachments":{},
   "metadata":{
    "datalore":{
     "node_id":"KFoVO6bu9OSjLKMm7OUkrS",
     "type":"MD",
     "hide_input_from_viewers":false,
     "hide_output_from_viewers":false,
     "report_properties":{
      "rowId":"via5eXVwidoM0B7uvLC8L5"
     }
    }
   }
  },
  {
   "cell_type":"markdown",
   "source":[
    "**All the assumptions of linear regression are satisfied. Let's rebuild our final model, check its performance, and draw inferences from it.**"
   ],
   "attachments":{},
   "metadata":{
    "datalore":{
     "node_id":"lS009A47N5h6yDm0A9Ervg",
     "type":"MD",
     "hide_input_from_viewers":false,
     "hide_output_from_viewers":false,
     "report_properties":{
      "rowId":"FM5MQsXreQSccOENGaZmqs"
     }
    }
   }
  },
  {
   "cell_type":"markdown",
   "source":[
    "## Final Model Summary"
   ],
   "attachments":{},
   "metadata":{
    "datalore":{
     "node_id":"ueS6xsLDHzlazi9tTIdoni",
     "type":"MD",
     "hide_input_from_viewers":false,
     "hide_output_from_viewers":false,
     "report_properties":{
      "rowId":"GTpHWWOQX6zrHR9vqHZJQZ"
     }
    }
   }
  },
  {
   "cell_type":"code",
   "source":[
    "olsmodel_final = sm.OLS(y_train, X_train3).fit()\n",
    "print(olsmodel_final.summary())"
   ],
   "execution_count":27,
   "outputs":[
    {
     "name":"stdout",
     "text":[
      "                            OLS Regression Results                            \n",
      "==============================================================================\n",
      "Dep. Variable:                   MEDV   R-squared:                       0.703\n",
      "Model:                            OLS   Adj. R-squared:                  0.695\n",
      "Method:                 Least Squares   F-statistic:                     90.34\n",
      "Date:                Wed, 06 Nov 2024   Prob (F-statistic):           4.34e-85\n",
      "Time:                        23:43:43   Log-Likelihood:                -1065.8\n",
      "No. Observations:                 354   AIC:                             2152.\n",
      "Df Residuals:                     344   BIC:                             2190.\n",
      "Df Model:                           9                                         \n",
      "Covariance Type:            nonrobust                                         \n",
      "==============================================================================\n",
      "                 coef    std err          t      P>|t|      [0.025      0.975]\n",
      "------------------------------------------------------------------------------\n",
      "const         48.8196      6.092      8.014      0.000      36.838      60.801\n",
      "CRIM          -0.1110      0.043     -2.575      0.010      -0.196      -0.026\n",
      "ZN             0.0475      0.018      2.691      0.007       0.013       0.082\n",
      "NX           -23.4485      4.224     -5.551      0.000     -31.756     -15.141\n",
      "RM             2.7844      0.511      5.451      0.000       1.780       3.789\n",
      "DIS           -1.4930      0.239     -6.235      0.000      -1.964      -1.022\n",
      "RAD            0.1353      0.051      2.643      0.009       0.035       0.236\n",
      "PTRATIO       -1.0477      0.167     -6.268      0.000      -1.376      -0.719\n",
      "LSTAT         -0.5789      0.057    -10.170      0.000      -0.691      -0.467\n",
      "CHAS_yes       2.8779      0.974      2.953      0.003       0.961       4.795\n",
      "==============================================================================\n",
      "Omnibus:                      130.760   Durbin-Watson:                   1.801\n",
      "Prob(Omnibus):                  0.000   Jarque-Bera (JB):              513.168\n",
      "Skew:                           1.587   Prob(JB):                    3.69e-112\n",
      "Kurtosis:                       7.971   Cond. No.                         776.\n",
      "==============================================================================\n",
      "\n",
      "Notes:\n",
      "[1] Standard Errors assume that the covariance matrix of the errors is correctly specified.\n"
     ],
     "output_type":"stream"
    }
   ],
   "metadata":{
    "datalore":{
     "node_id":"R7CXJI2H5qjPUAgwiM12IN",
     "type":"CODE",
     "hide_input_from_viewers":false,
     "hide_output_from_viewers":false,
     "report_properties":{
      "rowId":"dBClRRlpDn4sEpvz94FbYs"
     }
    }
   }
  },
  {
   "cell_type":"markdown",
   "source":[
    "### Inferences from the model"
   ],
   "attachments":{},
   "metadata":{
    "datalore":{
     "node_id":"hKZXydDwNH2ooMVzXRu5er",
     "type":"MD",
     "hide_input_from_viewers":false,
     "hide_output_from_viewers":false,
     "report_properties":{
      "rowId":"SMb1ja93OF45ZMG6sxEheL"
     }
    }
   }
  },
  {
   "cell_type":"markdown",
   "source":[
    "- A unit increase in per capita crime rate (`CRIM`) decreases the median house price by 0.1110 units, all other variables held constant.\n",
    "- A unit increase in nitric oxides concentration (`NX`) decreases the median house price by 23.4485 units, all other variables held constant.\n",
    "- A unit increase in average number of rooms (`RM`) increases the median house price by 2.7844 units, all other variables held constant.\n",
    "- A unit increase in index of accessibility to radial highways (`RAD`) increases the median house price by 0.1353 units, all other variables held constant.\n",
    "- Houses where tract bounds river (`CHAS_yes`) will have a 2.8779 units higher median price that the ones where tract does not bound river (`CHAS_no`)."
   ],
   "attachments":{},
   "metadata":{
    "datalore":{
     "node_id":"91vOiJCQ17gePw3JdjPZhh",
     "type":"MD",
     "hide_input_from_viewers":false,
     "hide_output_from_viewers":false,
     "report_properties":{
      "rowId":"alTSXhSn5RCDepxiEXqzav"
     }
    }
   }
  }
 ],
 "metadata":{
  "kernelspec":{
   "display_name":"Python",
   "language":"python",
   "name":"python"
  },
  "datalore":{
   "computation_mode":"JUPYTER",
   "package_manager":"pip",
   "base_environment":"default",
   "packages":[],
   "report_row_ids":[
    "UNic9Fsj5O3OvMQSuxwcKh",
    "ScmJ0f3ts5ISUoVTGcuovF",
    "m5JgNR6RUWuzHwscFPml8D",
    "vpAY5kn7xJsIS4sRClNNbK",
    "fu5zaRfFGflGDhWivZFfJQ",
    "4PEeezhETL95XFzLSQZLwF",
    "skoL8vYg2Lrj05ZNjegHID",
    "2a30f0iTFXZgKO88J4orHo",
    "af15rVbTp4F7hUw3jMpimW",
    "154JxTv9id26Gyp86537x8",
    "5XdropsxcPsOiEHCq1nUZs",
    "i3shCXLK2KwmmkYrxpHBQ7",
    "fZGEKatBvzyztHZvNjpTAG",
    "At9AV03wmEyGt1aHIS9osX",
    "pbCu26jg2UKk61Uxg3hsMR",
    "JjHPnl19Udq7jApfCjeXjC",
    "qD3mZdffvIrjMlwBX4ucEN",
    "lvy1n5ES95N2XggZmzBEBI",
    "tUy800hZjIhfqHYoNtE08Y",
    "iyBAHpb7tlDc7aVABjq4NV",
    "qxyqgy1qrIqHYodsvDPWfa",
    "m8eMlW03YK3dDaxfc2VbWA",
    "k11n2hHHc0ydQAgWRlrjWR",
    "dN8FU7fOXP9FQ6f914SGMi",
    "mAGxtylFDfFJztQrQG2Lnf",
    "Naxuv8BNEqqtnf3dbReYjH",
    "4xW4BsLSYOfWKagYoqaOtg",
    "RhpqKk112ym91TfnFTUqln",
    "mKf0hbdpJihWTsTd4DZM9u",
    "KNzznUY9Fpj7yS6COidbXW",
    "Yj9TNyVhaRS0FMedNH8qmI",
    "ppf5x2irT2MF22ID1rbbCJ",
    "0aiyjyVana8aUdSbWUM9Ns",
    "r7zULb3ZAaqermdCreNwbG",
    "l1368Ety20zoBugdx1XTeA",
    "SCTgSeP4gP7bETHxdhdY84",
    "0Ohh3lv4omTCc7wlBj0xJ6",
    "22MgUBOsZrS67b03nPR9Cr",
    "TqM8PKl6FwTvq9ZFxXZkm7",
    "I9W7XvQRqbOWOCbchxTj9R",
    "Ha9m5rqH8K0FHVrldf4Jqb",
    "5rgQXMzWvdlHSlahBCnKft",
    "t0cPDdV1E1dTP3GvEcaj7C",
    "NpzvcqRGhv0Gltaq0nw4k2",
    "BDUgfBsyAnDKLuAb92mTgY",
    "Jx9JQnflMGfdBvz51DLvEr",
    "rVKXfD6xNNdgWyUposyFEN",
    "6gmMpy2ZfwZt3IPyJGXFNV",
    "2TlCQcDwDjnP4L1AQhmY5m",
    "xkPKKCYaUSCyv3OUXRghHS",
    "via5eXVwidoM0B7uvLC8L5",
    "FM5MQsXreQSccOENGaZmqs",
    "GTpHWWOQX6zrHR9vqHZJQZ",
    "dBClRRlpDn4sEpvz94FbYs",
    "SMb1ja93OF45ZMG6sxEheL",
    "alTSXhSn5RCDepxiEXqzav"
   ],
   "version":3
  }
 },
 "nbformat":4,
 "nbformat_minor":4
}