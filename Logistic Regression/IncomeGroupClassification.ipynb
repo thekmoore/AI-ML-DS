{
 "cells":[
  {
   "cell_type":"markdown",
   "source":[
    "# Income Group Classification\n",
    "\n",
    "## Problem Statement"
   ],
   "attachments":{},
   "metadata":{
    "datalore":{
     "node_id":"OcH9Vrw7uL2Ldn7qOKLBBP",
     "type":"MD",
     "hide_input_from_viewers":false,
     "hide_output_from_viewers":false,
     "report_properties":{
      "rowId":"HzJQlcziScNcszemG0BXoT"
     }
    }
   }
  },
  {
   "cell_type":"markdown",
   "source":[
    "### Context \n",
    "\n",
    "DeltaSquare is an NGO that works with the government on matters of social policy to bring about a change in the lives of underprivileged sections of society. They are given a task of coming up with a policy framework using a dataset that the government received from WHO.\n",
    "\n",
    "### Objective\n",
    "\n",
    "You, as a Data Scientist at DeltaSquare, are tasked with analyzing the data provided to identify the different factors that influence the income of an individual, build a prediction model that can help the government formulate policies for the right pockets of the society, and share a proposal for the government.\n",
    "\n",
    "### Dataset\n",
    "\n",
    "The data contains characteristics of the people\n",
    "\n",
    "* age: continuous - age of a Person \n",
    "* workclass: Where does a person works - categorical - (Private, Self-emp-not-inc, Self-emp-inc, Federal-gov, Local-gov, State-gov, Without-pay, Never-worked, Unknown)\n",
    "* fnlwgt: continuous - Weight assigned by Current Population Survey (CPS) - People with similar demographic characteristics should have similar weights since it is a feature aimed to allocate similar weights to people with similar demographic characteristics.\n",
    "* education: Degree the person has - categorical - (Bachelors, Some-college, 11th, HS-grad, Prof-school, Assoc-acdm, Assoc-voc, 9th, 7th-8th, 12th, Masters, 1st-4th, 10th, Doctorate, 5th-6th, Preschool)\n",
    "* education-num: no. of years a person studied - continuous.\n",
    "* marital-status: categorical - (Married, Never-married, Not-married)\n",
    "* occupation: categorical - (Tech-support, Craft-repair, Other-service, Sales, Exec-managerial, Prof-specialty, Handlers-cleaners, Machine-op-inspct, Adm-clerical, Farming-fishing, Transport-moving, Priv-house-serv, Protective-serv, Armed-Forces, Unknown)\n",
    "* race: categorical - (White, Asian-Pac-Islander, Amer-Indian-Eskimo, Other, Black)\n",
    "* sex: categorical - (Female, Male)\n",
    "* capital-gain: Investment gain of the person other than salary - continuous\n",
    "* capital-loss: Loss from investments - continuous\n",
    "* hours-per-week: No. of hours a person works - continuous.\n",
    "* native-contienent: categorical - (North America, Asia, Other, Europe, South America)\n",
    "* salary: >50K, <=50K (dependent variable, the salary is in Dollars per year) "
   ],
   "attachments":{},
   "metadata":{
    "datalore":{
     "node_id":"vrKHkSMJmAVlLYHs9kCU95",
     "type":"MD",
     "hide_input_from_viewers":false,
     "hide_output_from_viewers":false,
     "report_properties":{
      "rowId":"gL0bKVBfR245ru1KYUDTEq"
     }
    }
   }
  },
  {
   "cell_type":"markdown",
   "source":[
    "## Loading Libraries"
   ],
   "attachments":{},
   "metadata":{
    "datalore":{
     "node_id":"doiWegFIHNsk7R0MoS75Ya",
     "type":"MD",
     "hide_input_from_viewers":false,
     "hide_output_from_viewers":false,
     "report_properties":{
      "rowId":"8BnE0kJFrYHSz7XV0HMEpr"
     }
    }
   }
  },
  {
   "cell_type":"code",
   "source":[
    "# this will help in making the Python code more structured automatically (good coding practice)\n",
    "\n",
    "import warnings\n",
    "warnings.filterwarnings(\"ignore\")\n",
    "from statsmodels.tools.sm_exceptions import ConvergenceWarning\n",
    "warnings.simplefilter(\"ignore\", ConvergenceWarning)\n",
    "\n",
    "# Libraries to help with reading and manipulating data\n",
    "import pandas as pd\n",
    "import numpy as np\n",
    "\n",
    "# Library to split data\n",
    "from sklearn.model_selection import train_test_split\n",
    "\n",
    "# libaries to help with data visualization\n",
    "import matplotlib.pyplot as plt\n",
    "import seaborn as sns\n",
    "\n",
    "# Removes the limit for the number of displayed columns\n",
    "pd.set_option(\"display.max_columns\", None)\n",
    "# Sets the limit for the number of displayed rows\n",
    "pd.set_option(\"display.max_rows\", 200)\n",
    "\n",
    "# To build model for prediction\n",
    "import statsmodels.stats.api as sms\n",
    "from statsmodels.stats.outliers_influence import variance_inflation_factor\n",
    "import statsmodels.api as sm\n",
    "from statsmodels.tools.tools import add_constant\n",
    "from sklearn.linear_model import LogisticRegression\n",
    "\n",
    "# To get diferent metric scores\n",
    "from sklearn.metrics import (\n",
    "    f1_score,\n",
    "    accuracy_score,\n",
    "    recall_score,\n",
    "    precision_score,\n",
    "    confusion_matrix,\n",
    "    roc_auc_score,\n",
    "    precision_recall_curve,\n",
    "    roc_curve,\n",
    ")"
   ],
   "execution_count":5,
   "outputs":[],
   "metadata":{
    "datalore":{
     "node_id":"qja5y2XnmIY1NvMtIsyilE",
     "type":"CODE",
     "hide_input_from_viewers":true,
     "hide_output_from_viewers":true
    }
   }
  },
  {
   "cell_type":"markdown",
   "source":[
    "## Loading data"
   ],
   "attachments":{},
   "metadata":{
    "datalore":{
     "node_id":"Ub6DfhG0ZXjvdYzB6dzwyc",
     "type":"MD",
     "hide_input_from_viewers":false,
     "hide_output_from_viewers":false,
     "report_properties":{
      "rowId":"PBtxHWILyJlf3qLflhDVU2"
     }
    }
   }
  },
  {
   "cell_type":"code",
   "source":[
    "who = pd.read_csv(\"who_data.csv\")"
   ],
   "execution_count":6,
   "outputs":[],
   "metadata":{
    "datalore":{
     "node_id":"Df3bPVJp2m2OzcMCcXBL57",
     "type":"CODE",
     "hide_input_from_viewers":false,
     "hide_output_from_viewers":false,
     "report_properties":{
      "rowId":"bacZCiHQNrjw9Pk3jM1qrH"
     }
    }
   }
  },
  {
   "cell_type":"code",
   "source":[
    "# copying data to another variable to avoid any changes to original data\n",
    "data = who.copy()"
   ],
   "execution_count":7,
   "outputs":[],
   "metadata":{
    "datalore":{
     "node_id":"g9ECOuQ60wzeDv7Now0PXb",
     "type":"CODE",
     "hide_input_from_viewers":false,
     "hide_output_from_viewers":false,
     "report_properties":{
      "rowId":"xqxRUHAfKI7DPyW1XhIIhF"
     }
    }
   }
  },
  {
   "cell_type":"markdown",
   "source":[
    "## Overview of the data"
   ],
   "attachments":{},
   "metadata":{
    "datalore":{
     "node_id":"3wLuL8WdFIH9dAmfg3GhTo",
     "type":"MD",
     "hide_input_from_viewers":false,
     "hide_output_from_viewers":false,
     "report_properties":{
      "rowId":"vxA81AkpbQ8EKNk8GvHfTc"
     }
    }
   }
  },
  {
   "cell_type":"markdown",
   "source":[
    "### View the first and last 5 rows of the dataset."
   ],
   "attachments":{},
   "metadata":{
    "datalore":{
     "node_id":"YP8NB5vWAAfZEIYF8FLcOZ",
     "type":"MD",
     "hide_input_from_viewers":false,
     "hide_output_from_viewers":false,
     "report_properties":{
      "rowId":"g2zg0mXSgWunnwS0zh5ujO"
     }
    }
   }
  },
  {
   "cell_type":"code",
   "source":[
    "data.head()"
   ],
   "execution_count":8,
   "outputs":[
    {
     "data":{
      "text\/html":[
       "<div>\n",
       "<style scoped>\n",
       "    .dataframe tbody tr th:only-of-type {\n",
       "        vertical-align: middle;\n",
       "    }\n",
       "\n",
       "    .dataframe tbody tr th {\n",
       "        vertical-align: top;\n",
       "    }\n",
       "\n",
       "    .dataframe thead th {\n",
       "        text-align: right;\n",
       "    }\n",
       "<\/style>\n",
       "<table border=\"1\" class=\"dataframe\">\n",
       "  <thead>\n",
       "    <tr style=\"text-align: right;\">\n",
       "      <th><\/th>\n",
       "      <th>age<\/th>\n",
       "      <th>workclass<\/th>\n",
       "      <th>fnlwgt<\/th>\n",
       "      <th>education<\/th>\n",
       "      <th>education_no_of_years<\/th>\n",
       "      <th>marital_status<\/th>\n",
       "      <th>occupation<\/th>\n",
       "      <th>race<\/th>\n",
       "      <th>sex<\/th>\n",
       "      <th>capital_gain<\/th>\n",
       "      <th>capital_loss<\/th>\n",
       "      <th>working_hours_per_week<\/th>\n",
       "      <th>native_contienent<\/th>\n",
       "      <th>salary<\/th>\n",
       "    <\/tr>\n",
       "  <\/thead>\n",
       "  <tbody>\n",
       "    <tr>\n",
       "      <th>0<\/th>\n",
       "      <td>39<\/td>\n",
       "      <td>State-gov<\/td>\n",
       "      <td>77516<\/td>\n",
       "      <td>Bachelors<\/td>\n",
       "      <td>13<\/td>\n",
       "      <td>Never-married<\/td>\n",
       "      <td>Adm-clerical<\/td>\n",
       "      <td>White<\/td>\n",
       "      <td>Male<\/td>\n",
       "      <td>2174<\/td>\n",
       "      <td>0<\/td>\n",
       "      <td>40<\/td>\n",
       "      <td>north_america<\/td>\n",
       "      <td>&lt;=50K<\/td>\n",
       "    <\/tr>\n",
       "    <tr>\n",
       "      <th>1<\/th>\n",
       "      <td>50<\/td>\n",
       "      <td>Self-emp-not-inc<\/td>\n",
       "      <td>83311<\/td>\n",
       "      <td>Bachelors<\/td>\n",
       "      <td>13<\/td>\n",
       "      <td>married<\/td>\n",
       "      <td>Exec-managerial<\/td>\n",
       "      <td>White<\/td>\n",
       "      <td>Male<\/td>\n",
       "      <td>0<\/td>\n",
       "      <td>0<\/td>\n",
       "      <td>13<\/td>\n",
       "      <td>north_america<\/td>\n",
       "      <td>&lt;=50K<\/td>\n",
       "    <\/tr>\n",
       "    <tr>\n",
       "      <th>2<\/th>\n",
       "      <td>38<\/td>\n",
       "      <td>Private<\/td>\n",
       "      <td>215646<\/td>\n",
       "      <td>HS-grad<\/td>\n",
       "      <td>9<\/td>\n",
       "      <td>not_married<\/td>\n",
       "      <td>Handlers-cleaners<\/td>\n",
       "      <td>White<\/td>\n",
       "      <td>Male<\/td>\n",
       "      <td>0<\/td>\n",
       "      <td>0<\/td>\n",
       "      <td>40<\/td>\n",
       "      <td>north_america<\/td>\n",
       "      <td>&lt;=50K<\/td>\n",
       "    <\/tr>\n",
       "    <tr>\n",
       "      <th>3<\/th>\n",
       "      <td>53<\/td>\n",
       "      <td>Private<\/td>\n",
       "      <td>234721<\/td>\n",
       "      <td>11th<\/td>\n",
       "      <td>7<\/td>\n",
       "      <td>married<\/td>\n",
       "      <td>Handlers-cleaners<\/td>\n",
       "      <td>Black<\/td>\n",
       "      <td>Male<\/td>\n",
       "      <td>0<\/td>\n",
       "      <td>0<\/td>\n",
       "      <td>40<\/td>\n",
       "      <td>north_america<\/td>\n",
       "      <td>&lt;=50K<\/td>\n",
       "    <\/tr>\n",
       "    <tr>\n",
       "      <th>4<\/th>\n",
       "      <td>28<\/td>\n",
       "      <td>Private<\/td>\n",
       "      <td>338409<\/td>\n",
       "      <td>Bachelors<\/td>\n",
       "      <td>13<\/td>\n",
       "      <td>married<\/td>\n",
       "      <td>Prof-specialty<\/td>\n",
       "      <td>Black<\/td>\n",
       "      <td>Female<\/td>\n",
       "      <td>0<\/td>\n",
       "      <td>0<\/td>\n",
       "      <td>40<\/td>\n",
       "      <td>north_america<\/td>\n",
       "      <td>&lt;=50K<\/td>\n",
       "    <\/tr>\n",
       "  <\/tbody>\n",
       "<\/table>\n",
       "<\/div>"
      ]
     },
     "metadata":{},
     "output_type":"display_data"
    }
   ],
   "metadata":{
    "datalore":{
     "node_id":"8Pi60akcpBnVJs2PkvzheM",
     "type":"CODE",
     "hide_input_from_viewers":false,
     "hide_output_from_viewers":false,
     "report_properties":{
      "rowId":"gAoRMEVwgbgm7EBUo6ojZf"
     }
    }
   }
  },
  {
   "cell_type":"code",
   "source":[
    "data.tail()"
   ],
   "execution_count":9,
   "outputs":[
    {
     "data":{
      "text\/html":[
       "<div>\n",
       "<style scoped>\n",
       "    .dataframe tbody tr th:only-of-type {\n",
       "        vertical-align: middle;\n",
       "    }\n",
       "\n",
       "    .dataframe tbody tr th {\n",
       "        vertical-align: top;\n",
       "    }\n",
       "\n",
       "    .dataframe thead th {\n",
       "        text-align: right;\n",
       "    }\n",
       "<\/style>\n",
       "<table border=\"1\" class=\"dataframe\">\n",
       "  <thead>\n",
       "    <tr style=\"text-align: right;\">\n",
       "      <th><\/th>\n",
       "      <th>age<\/th>\n",
       "      <th>workclass<\/th>\n",
       "      <th>fnlwgt<\/th>\n",
       "      <th>education<\/th>\n",
       "      <th>education_no_of_years<\/th>\n",
       "      <th>marital_status<\/th>\n",
       "      <th>occupation<\/th>\n",
       "      <th>race<\/th>\n",
       "      <th>sex<\/th>\n",
       "      <th>capital_gain<\/th>\n",
       "      <th>capital_loss<\/th>\n",
       "      <th>working_hours_per_week<\/th>\n",
       "      <th>native_contienent<\/th>\n",
       "      <th>salary<\/th>\n",
       "    <\/tr>\n",
       "  <\/thead>\n",
       "  <tbody>\n",
       "    <tr>\n",
       "      <th>32526<\/th>\n",
       "      <td>27<\/td>\n",
       "      <td>Private<\/td>\n",
       "      <td>257302<\/td>\n",
       "      <td>Assoc-acdm<\/td>\n",
       "      <td>12<\/td>\n",
       "      <td>married<\/td>\n",
       "      <td>Tech-support<\/td>\n",
       "      <td>White<\/td>\n",
       "      <td>Female<\/td>\n",
       "      <td>0<\/td>\n",
       "      <td>0<\/td>\n",
       "      <td>38<\/td>\n",
       "      <td>north_america<\/td>\n",
       "      <td>&lt;=50K<\/td>\n",
       "    <\/tr>\n",
       "    <tr>\n",
       "      <th>32527<\/th>\n",
       "      <td>40<\/td>\n",
       "      <td>Private<\/td>\n",
       "      <td>154374<\/td>\n",
       "      <td>HS-grad<\/td>\n",
       "      <td>9<\/td>\n",
       "      <td>married<\/td>\n",
       "      <td>Machine-op-inspct<\/td>\n",
       "      <td>White<\/td>\n",
       "      <td>Male<\/td>\n",
       "      <td>0<\/td>\n",
       "      <td>0<\/td>\n",
       "      <td>40<\/td>\n",
       "      <td>north_america<\/td>\n",
       "      <td>&gt;50K<\/td>\n",
       "    <\/tr>\n",
       "    <tr>\n",
       "      <th>32528<\/th>\n",
       "      <td>58<\/td>\n",
       "      <td>Private<\/td>\n",
       "      <td>151910<\/td>\n",
       "      <td>HS-grad<\/td>\n",
       "      <td>9<\/td>\n",
       "      <td>not_married<\/td>\n",
       "      <td>Adm-clerical<\/td>\n",
       "      <td>White<\/td>\n",
       "      <td>Female<\/td>\n",
       "      <td>0<\/td>\n",
       "      <td>0<\/td>\n",
       "      <td>40<\/td>\n",
       "      <td>north_america<\/td>\n",
       "      <td>&lt;=50K<\/td>\n",
       "    <\/tr>\n",
       "    <tr>\n",
       "      <th>32529<\/th>\n",
       "      <td>22<\/td>\n",
       "      <td>Private<\/td>\n",
       "      <td>201490<\/td>\n",
       "      <td>HS-grad<\/td>\n",
       "      <td>9<\/td>\n",
       "      <td>Never-married<\/td>\n",
       "      <td>Adm-clerical<\/td>\n",
       "      <td>White<\/td>\n",
       "      <td>Male<\/td>\n",
       "      <td>0<\/td>\n",
       "      <td>0<\/td>\n",
       "      <td>20<\/td>\n",
       "      <td>north_america<\/td>\n",
       "      <td>&lt;=50K<\/td>\n",
       "    <\/tr>\n",
       "    <tr>\n",
       "      <th>32530<\/th>\n",
       "      <td>52<\/td>\n",
       "      <td>Self-emp-inc<\/td>\n",
       "      <td>287927<\/td>\n",
       "      <td>HS-grad<\/td>\n",
       "      <td>9<\/td>\n",
       "      <td>married<\/td>\n",
       "      <td>Exec-managerial<\/td>\n",
       "      <td>White<\/td>\n",
       "      <td>Female<\/td>\n",
       "      <td>15024<\/td>\n",
       "      <td>0<\/td>\n",
       "      <td>40<\/td>\n",
       "      <td>north_america<\/td>\n",
       "      <td>&gt;50K<\/td>\n",
       "    <\/tr>\n",
       "  <\/tbody>\n",
       "<\/table>\n",
       "<\/div>"
      ]
     },
     "metadata":{},
     "output_type":"display_data"
    }
   ],
   "metadata":{
    "datalore":{
     "node_id":"7XW2MDQ90YCCyEc1v2dntw",
     "type":"CODE",
     "hide_input_from_viewers":false,
     "hide_output_from_viewers":false,
     "report_properties":{
      "rowId":"hyH6n6Mgss1g3QzFockjNc"
     }
    }
   }
  },
  {
   "cell_type":"markdown",
   "source":[
    "-  The dataset contains information about different types of people."
   ],
   "attachments":{},
   "metadata":{
    "datalore":{
     "node_id":"T7elFh7BgATuHdTx7F9gOZ",
     "type":"MD",
     "hide_input_from_viewers":false,
     "hide_output_from_viewers":false,
     "report_properties":{
      "rowId":"mPiFarUARbuhrYnPCBY4fc"
     }
    }
   }
  },
  {
   "cell_type":"markdown",
   "source":[
    "### Understand the shape of the dataset."
   ],
   "attachments":{},
   "metadata":{
    "datalore":{
     "node_id":"vUvBm1Q9Gz7eEClBsr7Azh",
     "type":"MD",
     "hide_input_from_viewers":false,
     "hide_output_from_viewers":false,
     "report_properties":{
      "rowId":"inU0LFnaUlFFBC4LOEn261"
     }
    }
   }
  },
  {
   "cell_type":"code",
   "source":[
    "data.shape"
   ],
   "execution_count":10,
   "outputs":[
    {
     "data":{
      "text\/plain":[
       "(32531, 14)"
      ]
     },
     "metadata":{},
     "output_type":"display_data"
    }
   ],
   "metadata":{
    "datalore":{
     "node_id":"fwsq1Xy31hVVf6sohJcFcv",
     "type":"CODE",
     "hide_input_from_viewers":false,
     "hide_output_from_viewers":false,
     "report_properties":{
      "rowId":"XJG6pLbKVgjhEhvxCeGeLd"
     }
    }
   }
  },
  {
   "cell_type":"markdown",
   "source":[
    "* The dataset has 32531 rows and 14 columns "
   ],
   "attachments":{},
   "metadata":{
    "datalore":{
     "node_id":"IBn0E2MbJ0Wr23sy2OzWI6",
     "type":"MD",
     "hide_input_from_viewers":false,
     "hide_output_from_viewers":false,
     "report_properties":{
      "rowId":"HiidI3N07JZL6r0HHfFTIt"
     }
    }
   }
  },
  {
   "cell_type":"markdown",
   "source":[
    "### Check the data types of the columns for the dataset."
   ],
   "attachments":{},
   "metadata":{
    "datalore":{
     "node_id":"whIIFxuHXJdxkvfl1E54l1",
     "type":"MD",
     "hide_input_from_viewers":false,
     "hide_output_from_viewers":false,
     "report_properties":{
      "rowId":"7LGAhQxPg4UaAtz0Fa1b3Y"
     }
    }
   }
  },
  {
   "cell_type":"code",
   "source":[
    "data.info()"
   ],
   "execution_count":11,
   "outputs":[
    {
     "name":"stdout",
     "text":[
      "<class 'pandas.core.frame.DataFrame'>\n",
      "RangeIndex: 32531 entries, 0 to 32530\n",
      "Data columns (total 14 columns):\n",
      " #   Column                  Non-Null Count  Dtype \n",
      "---  ------                  --------------  ----- \n",
      " 0   age                     32531 non-null  int64 \n",
      " 1   workclass               32531 non-null  object\n",
      " 2   fnlwgt                  32531 non-null  int64 \n",
      " 3   education               32531 non-null  object\n",
      " 4   education_no_of_years   32531 non-null  int64 \n",
      " 5   marital_status          32531 non-null  object\n",
      " 6   occupation              32531 non-null  object\n",
      " 7   race                    32531 non-null  object\n",
      " 8   sex                     32531 non-null  object\n",
      " 9   capital_gain            32531 non-null  int64 \n",
      " 10  capital_loss            32531 non-null  int64 \n",
      " 11  working_hours_per_week  32531 non-null  int64 \n",
      " 12  native_contienent       32531 non-null  object\n",
      " 13  salary                  32531 non-null  object\n",
      "dtypes: int64(6), object(8)\n",
      "memory usage: 3.5+ MB\n"
     ],
     "output_type":"stream"
    }
   ],
   "metadata":{
    "datalore":{
     "node_id":"Iyac2MwKJbcSnJgewxjxPD",
     "type":"CODE",
     "hide_input_from_viewers":false,
     "hide_output_from_viewers":false,
     "report_properties":{
      "rowId":"TEMjltGjmRSCSYC66YWoif"
     }
    }
   }
  },
  {
   "cell_type":"markdown",
   "source":[
    "* Dependent variable is the salary which is of categorical type.\n",
    "* age, fnlwgt, education_no_of_years, capital gain, capital loss and working_hours_per_week are of integer type while other variables are of categorical type.\n",
    "* There are no missing values in the dataset."
   ],
   "attachments":{},
   "metadata":{
    "datalore":{
     "node_id":"TNmToJKSGJROSBHhEpZHaW",
     "type":"MD",
     "hide_input_from_viewers":false,
     "hide_output_from_viewers":false,
     "report_properties":{
      "rowId":"GlK7vksKfIpfhCQt0J3rTB"
     }
    }
   }
  },
  {
   "cell_type":"markdown",
   "source":[
    "### Checking for duplicate values"
   ],
   "attachments":{},
   "metadata":{
    "datalore":{
     "node_id":"LNxu9v8jjiwEWnazMW0w6h",
     "type":"MD",
     "hide_input_from_viewers":false,
     "hide_output_from_viewers":false,
     "report_properties":{
      "rowId":"8aqHSOZWyKeJcYcsFoziVF"
     }
    }
   }
  },
  {
   "cell_type":"code",
   "source":[
    "data.duplicated().sum()"
   ],
   "execution_count":12,
   "outputs":[
    {
     "data":{
      "text\/plain":[
       "0"
      ]
     },
     "metadata":{},
     "output_type":"display_data"
    }
   ],
   "metadata":{
    "datalore":{
     "node_id":"OfX6DXVeWei3T804MRGgCV",
     "type":"CODE",
     "hide_input_from_viewers":false,
     "hide_output_from_viewers":false,
     "report_properties":{
      "rowId":"1NZiKf60da34LbjPFQpNkX"
     }
    }
   }
  },
  {
   "cell_type":"markdown",
   "source":[
    "- There are no duplicate values in the dataset."
   ],
   "attachments":{},
   "metadata":{
    "datalore":{
     "node_id":"RZbh1HSMYj31SGISWHJ3d9",
     "type":"MD",
     "hide_input_from_viewers":false,
     "hide_output_from_viewers":false,
     "report_properties":{
      "rowId":"MseQWHKxc8fpJKNUmJ2ueY"
     }
    }
   }
  },
  {
   "cell_type":"markdown",
   "source":[
    "### Checking for missing values"
   ],
   "attachments":{},
   "metadata":{
    "datalore":{
     "node_id":"T4RHUJ8HxzrYn4g50eOeTQ",
     "type":"MD",
     "hide_input_from_viewers":false,
     "hide_output_from_viewers":false,
     "report_properties":{
      "rowId":"MntZyq1RqgLGLo0RTj53U2"
     }
    }
   }
  },
  {
   "cell_type":"code",
   "source":[
    "data.isnull().sum()"
   ],
   "execution_count":13,
   "outputs":[
    {
     "data":{
      "text\/html":[
       "<pre>age                       0\n",
       "workclass                 0\n",
       "fnlwgt                    0\n",
       "education                 0\n",
       "education_no_of_years     0\n",
       "marital_status            0\n",
       "occupation                0\n",
       "race                      0\n",
       "sex                       0\n",
       "capital_gain              0\n",
       "capital_loss              0\n",
       "working_hours_per_week    0\n",
       "native_contienent         0\n",
       "salary                    0\n",
       "dtype: int64<\/pre>"
      ]
     },
     "metadata":{},
     "output_type":"display_data"
    }
   ],
   "metadata":{
    "datalore":{
     "node_id":"HVOSjHqPt3Hf6dNmHLjnl1",
     "type":"CODE",
     "hide_input_from_viewers":false,
     "hide_output_from_viewers":false,
     "report_properties":{
      "rowId":"QPVJgCTwMSjYUvdfyncR1k"
     }
    }
   }
  },
  {
   "cell_type":"markdown",
   "source":[
    "- There are no missing values in the dataset"
   ],
   "attachments":{},
   "metadata":{
    "datalore":{
     "node_id":"PCeYgFknisshby4dA3gW6D",
     "type":"MD",
     "hide_input_from_viewers":false,
     "hide_output_from_viewers":false,
     "report_properties":{
      "rowId":"rsCnJeaxr5mkNhCl6xGyUx"
     }
    }
   }
  },
  {
   "cell_type":"markdown",
   "source":[
    "### Statistical summary"
   ],
   "attachments":{},
   "metadata":{
    "datalore":{
     "node_id":"FChW8HbeL6BkZYQ3sMRoXs",
     "type":"MD",
     "hide_input_from_viewers":false,
     "hide_output_from_viewers":false,
     "report_properties":{
      "rowId":"Db7YJmluf4exAhtDgXHWjJ"
     }
    }
   }
  },
  {
   "cell_type":"code",
   "source":[
    "data.describe().T"
   ],
   "execution_count":14,
   "outputs":[
    {
     "data":{
      "text\/html":[
       "<div>\n",
       "<style scoped>\n",
       "    .dataframe tbody tr th:only-of-type {\n",
       "        vertical-align: middle;\n",
       "    }\n",
       "\n",
       "    .dataframe tbody tr th {\n",
       "        vertical-align: top;\n",
       "    }\n",
       "\n",
       "    .dataframe thead th {\n",
       "        text-align: right;\n",
       "    }\n",
       "<\/style>\n",
       "<table border=\"1\" class=\"dataframe\">\n",
       "  <thead>\n",
       "    <tr style=\"text-align: right;\">\n",
       "      <th><\/th>\n",
       "      <th>count<\/th>\n",
       "      <th>mean<\/th>\n",
       "      <th>std<\/th>\n",
       "      <th>min<\/th>\n",
       "      <th>25%<\/th>\n",
       "      <th>50%<\/th>\n",
       "      <th>75%<\/th>\n",
       "      <th>max<\/th>\n",
       "    <\/tr>\n",
       "  <\/thead>\n",
       "  <tbody>\n",
       "    <tr>\n",
       "      <th>age<\/th>\n",
       "      <td>32531.0<\/td>\n",
       "      <td>38.588362<\/td>\n",
       "      <td>13.637644<\/td>\n",
       "      <td>17.0<\/td>\n",
       "      <td>28.0<\/td>\n",
       "      <td>37.0<\/td>\n",
       "      <td>48.0<\/td>\n",
       "      <td>90.0<\/td>\n",
       "    <\/tr>\n",
       "    <tr>\n",
       "      <th>fnlwgt<\/th>\n",
       "      <td>32531.0<\/td>\n",
       "      <td>189788.230826<\/td>\n",
       "      <td>105564.168325<\/td>\n",
       "      <td>12285.0<\/td>\n",
       "      <td>117815.0<\/td>\n",
       "      <td>178370.0<\/td>\n",
       "      <td>237019.0<\/td>\n",
       "      <td>1484705.0<\/td>\n",
       "    <\/tr>\n",
       "    <tr>\n",
       "      <th>education_no_of_years<\/th>\n",
       "      <td>32531.0<\/td>\n",
       "      <td>10.081953<\/td>\n",
       "      <td>2.571842<\/td>\n",
       "      <td>1.0<\/td>\n",
       "      <td>9.0<\/td>\n",
       "      <td>10.0<\/td>\n",
       "      <td>12.0<\/td>\n",
       "      <td>16.0<\/td>\n",
       "    <\/tr>\n",
       "    <tr>\n",
       "      <th>capital_gain<\/th>\n",
       "      <td>32531.0<\/td>\n",
       "      <td>1078.642649<\/td>\n",
       "      <td>7388.624210<\/td>\n",
       "      <td>0.0<\/td>\n",
       "      <td>0.0<\/td>\n",
       "      <td>0.0<\/td>\n",
       "      <td>0.0<\/td>\n",
       "      <td>99999.0<\/td>\n",
       "    <\/tr>\n",
       "    <tr>\n",
       "      <th>capital_loss<\/th>\n",
       "      <td>32531.0<\/td>\n",
       "      <td>87.384341<\/td>\n",
       "      <td>403.137260<\/td>\n",
       "      <td>0.0<\/td>\n",
       "      <td>0.0<\/td>\n",
       "      <td>0.0<\/td>\n",
       "      <td>0.0<\/td>\n",
       "      <td>4356.0<\/td>\n",
       "    <\/tr>\n",
       "    <tr>\n",
       "      <th>working_hours_per_week<\/th>\n",
       "      <td>32531.0<\/td>\n",
       "      <td>40.441025<\/td>\n",
       "      <td>12.347506<\/td>\n",
       "      <td>1.0<\/td>\n",
       "      <td>40.0<\/td>\n",
       "      <td>40.0<\/td>\n",
       "      <td>45.0<\/td>\n",
       "      <td>99.0<\/td>\n",
       "    <\/tr>\n",
       "  <\/tbody>\n",
       "<\/table>\n",
       "<\/div>"
      ]
     },
     "metadata":{},
     "output_type":"display_data"
    }
   ],
   "metadata":{
    "datalore":{
     "node_id":"tQzfmgE1cIe0lka17drhGp",
     "type":"CODE",
     "hide_input_from_viewers":false,
     "hide_output_from_viewers":false,
     "report_properties":{
      "rowId":"cfT4y5R9OJGOuEb9r2GBxl"
     }
    }
   }
  },
  {
   "cell_type":"markdown",
   "source":[
    "* `age`: Average age of people in the dataset is around 38 years, age has a wide range from 17 to 90 years.\n",
    "* `education_no_of_years`: The average number of years spent in education is ~10 years. There's a large difference between the minimum value and 25th percentile which indicates that there might be outliers present in this variable.\n",
    "* `capital_gain`: There's a huge difference in the 75th percentile and maximum value of capital_gain indicating the presence of outliers. Also, 75% of the observations are 0.\n",
    "* `capital_loss`: Same as capital gain there's a huge difference in the 75th percentile and maximum value indicating the presence of outliers. Also, 75% of the observations are 0.\n",
    "* `working_hours_per_week`: On average people work for 40 hours a week. A vast difference in minimum value and 25th percentile, as well as 75th percentile and the maximum value, indicates that there might be outliers present in the variable."
   ],
   "attachments":{},
   "metadata":{
    "datalore":{
     "node_id":"pracmRPu8kpTJ4ttX4GOcb",
     "type":"MD",
     "hide_input_from_viewers":false,
     "hide_output_from_viewers":false,
     "report_properties":{
      "rowId":"69RQNbbrIw0ljXCDwIYY9v"
     }
    }
   }
  },
  {
   "cell_type":"markdown",
   "source":[
    "## <a name='link2'>Exploratory Data Analysis (EDA) Summary<\/a>"
   ],
   "attachments":{},
   "metadata":{
    "datalore":{
     "node_id":"uQtcwuGnlcI6wZepDFbP3H",
     "type":"MD",
     "hide_input_from_viewers":false,
     "hide_output_from_viewers":false,
     "report_properties":{
      "rowId":"7XECUrSuU2IX7sxhsC5C2C"
     }
    }
   }
  },
  {
   "cell_type":"markdown",
   "source":[
    "**The below functions need to be defined to carry out the EDA.**"
   ],
   "attachments":{},
   "metadata":{
    "datalore":{
     "node_id":"Y4xIvLwHhjZRGVf2oVuoYs",
     "type":"MD",
     "hide_input_from_viewers":false,
     "hide_output_from_viewers":false,
     "report_properties":{
      "rowId":"qntASqiHCbwmJHtT5DH3sb"
     }
    }
   }
  },
  {
   "cell_type":"code",
   "source":[
    "def histogram_boxplot(data, feature, figsize=(15, 10), kde=False, bins=None):\n",
    "    \"\"\"\n",
    "    Boxplot and histogram combined\n",
    "\n",
    "    data: dataframe\n",
    "    feature: dataframe column\n",
    "    figsize: size of figure (default (15,10))\n",
    "    kde: whether to show the density curve (default False)\n",
    "    bins: number of bins for histogram (default None)\n",
    "    \"\"\"\n",
    "    f2, (ax_box2, ax_hist2) = plt.subplots(\n",
    "        nrows=2,  # Number of rows of the subplot grid= 2\n",
    "        sharex=True,  # x-axis will be shared among all subplots\n",
    "        gridspec_kw={\"height_ratios\": (0.25, 0.75)},\n",
    "        figsize=figsize,\n",
    "    )  # creating the 2 subplots\n",
    "    sns.boxplot(\n",
    "        data=data, x=feature, ax=ax_box2, showmeans=True, color=\"violet\"\n",
    "    )  # boxplot will be created and a triangle will indicate the mean value of the column\n",
    "    sns.histplot(\n",
    "        data=data, x=feature, kde=kde, ax=ax_hist2, bins=bins\n",
    "    ) if bins else sns.histplot(\n",
    "        data=data, x=feature, kde=kde, ax=ax_hist2\n",
    "    )  # For histogram\n",
    "    ax_hist2.axvline(\n",
    "        data[feature].mean(), color=\"green\", linestyle=\"--\"\n",
    "    )  # Add mean to the histogram\n",
    "    ax_hist2.axvline(\n",
    "        data[feature].median(), color=\"black\", linestyle=\"-\"\n",
    "    )  # Add median to the histogram"
   ],
   "execution_count":15,
   "outputs":[],
   "metadata":{
    "datalore":{
     "node_id":"2H8OMikaUbz9QD7vGFJwas",
     "type":"CODE",
     "hide_input_from_viewers":false,
     "hide_output_from_viewers":false,
     "report_properties":{
      "rowId":"gwpCCUdOJxq73ZNMZ05gW0"
     }
    }
   }
  },
  {
   "cell_type":"code",
   "source":[
    "# function to create labeled barplots\n",
    "\n",
    "\n",
    "def labeled_barplot(data, feature, perc=False, n=None):\n",
    "    \"\"\"\n",
    "    Barplot with percentage at the top\n",
    "\n",
    "    data: dataframe\n",
    "    feature: dataframe column\n",
    "    perc: whether to display percentages instead of count (default is False)\n",
    "    n: displays the top n category levels (default is None, i.e., display all levels)\n",
    "    \"\"\"\n",
    "\n",
    "    total = len(data[feature])  # length of the column\n",
    "    count = data[feature].nunique()\n",
    "    if n is None:\n",
    "        plt.figure(figsize=(count + 2, 6))\n",
    "    else:\n",
    "        plt.figure(figsize=(n + 2, 6))\n",
    "\n",
    "    plt.xticks(rotation=90, fontsize=15)\n",
    "    ax = sns.countplot(\n",
    "        data=data,\n",
    "        x=feature,\n",
    "        palette=\"Paired\",\n",
    "        order=data[feature].value_counts().index[:n],\n",
    "    )\n",
    "\n",
    "    for p in ax.patches:\n",
    "        if perc == True:\n",
    "            label = \"{:.1f}%\".format(\n",
    "                100 * p.get_height() \/ total\n",
    "            )  # percentage of each class of the category\n",
    "        else:\n",
    "            label = p.get_height()  # count of each level of the category\n",
    "\n",
    "        x = p.get_x() + p.get_width() \/ 2  # width of the plot\n",
    "        y = p.get_height()  # height of the plot\n",
    "\n",
    "        ax.annotate(\n",
    "            label,\n",
    "            (x, y),\n",
    "            ha=\"center\",\n",
    "            va=\"center\",\n",
    "            size=12,\n",
    "            xytext=(0, 5),\n",
    "            textcoords=\"offset points\",\n",
    "        )  # annotate the percentage\n",
    "\n",
    "    plt.show()  # show the plot"
   ],
   "execution_count":16,
   "outputs":[],
   "metadata":{
    "datalore":{
     "node_id":"82CCLUnPSWKEfqp6jXfNbK",
     "type":"CODE",
     "hide_input_from_viewers":false,
     "hide_output_from_viewers":false,
     "report_properties":{
      "rowId":"FRYTLIhyhLmFotEoqpTOqY"
     }
    }
   }
  },
  {
   "cell_type":"code",
   "source":[
    "def stacked_barplot(data, predictor, target):\n",
    "    \"\"\"\n",
    "    Print the category counts and plot a stacked bar chart\n",
    "\n",
    "    data: dataframe\n",
    "    predictor: independent variable\n",
    "    target: target variable\n",
    "    \"\"\"\n",
    "    count = data[predictor].nunique()\n",
    "    sorter = data[target].value_counts().index[-1]\n",
    "    tab1 = pd.crosstab(data[predictor], data[target], margins=True).sort_values(\n",
    "        by=sorter, ascending=False\n",
    "    )\n",
    "    print(tab1)\n",
    "    print(\"-\" * 120)\n",
    "    tab = pd.crosstab(data[predictor], data[target], normalize=\"index\").sort_values(\n",
    "        by=sorter, ascending=False\n",
    "    )\n",
    "    tab.plot(kind=\"bar\", stacked=True, figsize=(count + 5, 5))\n",
    "    plt.legend(\n",
    "        loc=\"lower left\", frameon=False,\n",
    "    )\n",
    "    plt.legend(loc=\"upper left\", bbox_to_anchor=(1, 1))\n",
    "    plt.show()"
   ],
   "execution_count":17,
   "outputs":[],
   "metadata":{
    "datalore":{
     "node_id":"m6NarqAo7yXsPcYq0H0kiy",
     "type":"CODE",
     "hide_input_from_viewers":false,
     "hide_output_from_viewers":false,
     "report_properties":{
      "rowId":"tQcIXsaCxxfk88AHd6WUEC"
     }
    }
   }
  },
  {
   "cell_type":"code",
   "source":[
    "### function to plot distributions wrt target\n",
    "\n",
    "\n",
    "def distribution_plot_wrt_target(data, predictor, target):\n",
    "\n",
    "    fig, axs = plt.subplots(2, 2, figsize=(12, 10))\n",
    "\n",
    "    target_uniq = data[target].unique()\n",
    "\n",
    "    axs[0, 0].set_title(\"Distribution of target for target=\" + str(target_uniq[0]))\n",
    "    sns.histplot(\n",
    "        data=data[data[target] == target_uniq[0]],\n",
    "        x=predictor,\n",
    "        kde=True,\n",
    "        ax=axs[0, 0],\n",
    "        color=\"teal\",\n",
    "        stat=\"density\",\n",
    "    )\n",
    "\n",
    "    axs[0, 1].set_title(\"Distribution of target for target=\" + str(target_uniq[1]))\n",
    "    sns.histplot(\n",
    "        data=data[data[target] == target_uniq[1]],\n",
    "        x=predictor,\n",
    "        kde=True,\n",
    "        ax=axs[0, 1],\n",
    "        color=\"orange\",\n",
    "        stat=\"density\",\n",
    "    )\n",
    "\n",
    "    axs[1, 0].set_title(\"Boxplot w.r.t target\")\n",
    "    sns.boxplot(data=data, x=target, y=predictor, ax=axs[1, 0], palette=\"gist_rainbow\")\n",
    "\n",
    "    axs[1, 1].set_title(\"Boxplot (without outliers) w.r.t target\")\n",
    "    sns.boxplot(\n",
    "        data=data,\n",
    "        x=target,\n",
    "        y=predictor,\n",
    "        ax=axs[1, 1],\n",
    "        showfliers=False,\n",
    "        palette=\"gist_rainbow\",\n",
    "    )\n",
    "\n",
    "    plt.tight_layout()\n",
    "    plt.show()"
   ],
   "execution_count":18,
   "outputs":[],
   "metadata":{
    "datalore":{
     "node_id":"zAWJnwLby90uPjv9g5EU2Z",
     "type":"CODE",
     "hide_input_from_viewers":false,
     "hide_output_from_viewers":false,
     "report_properties":{
      "rowId":"afeNbmihBevYIEsgJsDzVU"
     }
    }
   }
  },
  {
   "cell_type":"code",
   "source":[
    "df = data.copy()"
   ],
   "execution_count":19,
   "outputs":[],
   "metadata":{
    "datalore":{
     "node_id":"VmhIeo1XhqYVnp7VWcvQUx",
     "type":"CODE",
     "hide_input_from_viewers":false,
     "hide_output_from_viewers":false,
     "report_properties":{
      "rowId":"UnxO6B3qXN0G1yLY21RZfp"
     }
    }
   }
  },
  {
   "cell_type":"markdown",
   "source":[
    "### Univariate Analysis"
   ],
   "attachments":{},
   "metadata":{
    "datalore":{
     "node_id":"3ybBwZeg0VfBFFtMA7TnHF",
     "type":"MD",
     "hide_input_from_viewers":false,
     "hide_output_from_viewers":false,
     "report_properties":{
      "rowId":"FQzHy5M3NQ7WQxKxRleKve"
     }
    }
   }
  },
  {
   "cell_type":"markdown",
   "source":[
    "#### Observations on hours_per_week"
   ],
   "attachments":{},
   "metadata":{
    "datalore":{
     "node_id":"JlkGTj1orfnZ9831WdLR6E",
     "type":"MD",
     "hide_input_from_viewers":false,
     "hide_output_from_viewers":false,
     "report_properties":{
      "rowId":"Ctlj9IVeSiUP8pYzD57PZp"
     }
    }
   }
  },
  {
   "cell_type":"code",
   "source":[
    "histogram_boxplot(df, \"working_hours_per_week\", bins=50)"
   ],
   "execution_count":20,
   "outputs":[
    {
     "data":{
      "image\/png":"[encoded data removed]"
     },
     "metadata":{
      "image\/png":{}
     },
     "output_type":"display_data"
    }
   ],
   "metadata":{
    "datalore":{
     "node_id":"KhOyD4up7lk2gpvpSCVB0m",
     "type":"CODE",
     "hide_input_from_viewers":false,
     "hide_output_from_viewers":false,
     "report_properties":{
      "rowId":"gcszMSCLwX2LTopv2T0Z0F"
     }
    }
   }
  },
  {
   "cell_type":"markdown",
   "source":[
    "* Most of the data is concentrated around 40 working hours this gives a sense that most of the observations in data might be salaried employees working 8hrs 5 days a week.\n",
    "* Some of the observations are clear outliers which needs to be treated."
   ],
   "attachments":{},
   "metadata":{
    "datalore":{
     "node_id":"8cnlx7mhqniSpi3ukYr8TA",
     "type":"MD",
     "hide_input_from_viewers":false,
     "hide_output_from_viewers":false,
     "report_properties":{
      "rowId":"BL9Xqys7AOPmxGPYq0HKTN"
     }
    }
   }
  },
  {
   "cell_type":"markdown",
   "source":[
    "#### Observations on workclass"
   ],
   "attachments":{},
   "metadata":{
    "datalore":{
     "node_id":"2Afs5DHdsnZsDawnOYyoT3",
     "type":"MD",
     "hide_input_from_viewers":false,
     "hide_output_from_viewers":false,
     "report_properties":{
      "rowId":"5XPXZ698TrkBo5l8Ilafsv"
     }
    }
   }
  },
  {
   "cell_type":"code",
   "source":[
    "labeled_barplot(df, \"workclass\", perc=True)"
   ],
   "execution_count":21,
   "outputs":[
    {
     "data":{
      "image\/png":"[encoded data removed]"
     },
     "metadata":{
      "image\/png":{}
     },
     "output_type":"display_data"
    }
   ],
   "metadata":{
    "datalore":{
     "node_id":"l1yZhlr0tDkr98pUFNKi8B",
     "type":"CODE",
     "hide_input_from_viewers":false,
     "hide_output_from_viewers":false,
     "report_properties":{
      "rowId":"9lFCvHHAtTJueu5C4SuebN"
     }
    }
   }
  },
  {
   "cell_type":"markdown",
   "source":[
    "* ~70% of the observations are from the Private sector working class.\n",
    "* As expected from the number of hours per week."
   ],
   "attachments":{},
   "metadata":{
    "datalore":{
     "node_id":"xbL1lbPcdQ5bYtzBmJ7DfI",
     "type":"MD",
     "hide_input_from_viewers":false,
     "hide_output_from_viewers":false,
     "report_properties":{
      "rowId":"rgxB1SHp52nHOqvHpOOCta"
     }
    }
   }
  },
  {
   "cell_type":"markdown",
   "source":[
    "#### Observations on native_country"
   ],
   "attachments":{},
   "metadata":{
    "datalore":{
     "node_id":"FIRfvD49QRa4rJBRTC5hBF",
     "type":"MD",
     "hide_input_from_viewers":false,
     "hide_output_from_viewers":false,
     "report_properties":{
      "rowId":"vtLvGwQ7Y3jjQ1A7hEGC9o"
     }
    }
   }
  },
  {
   "cell_type":"code",
   "source":[
    "labeled_barplot(df, \"native_contienent\", perc=True)"
   ],
   "execution_count":22,
   "outputs":[
    {
     "data":{
      "image\/png":"[encoded data removed]"
     },
     "metadata":{
      "image\/png":{}
     },
     "output_type":"display_data"
    }
   ],
   "metadata":{
    "datalore":{
     "node_id":"YDGYqqFuhO1QLOQ3qVWPjY",
     "type":"CODE",
     "hide_input_from_viewers":false,
     "hide_output_from_viewers":false,
     "report_properties":{
      "rowId":"H91Yb4mi7Wb3wqE8mqGVdZ"
     }
    }
   }
  },
  {
   "cell_type":"markdown",
   "source":[
    "* ~94% of the people are native to north_america followed by 2.1% Asians."
   ],
   "attachments":{},
   "metadata":{
    "datalore":{
     "node_id":"UZaQQlYf0WkFMqV4EdHh5W",
     "type":"MD",
     "hide_input_from_viewers":false,
     "hide_output_from_viewers":false,
     "report_properties":{
      "rowId":"MxEQ5c0IAl8O0XgVOPmZDn"
     }
    }
   }
  },
  {
   "cell_type":"markdown",
   "source":[
    "#### Observations on salary"
   ],
   "attachments":{},
   "metadata":{
    "datalore":{
     "node_id":"hCNkzlPjjsKF5wgNnOhHq4",
     "type":"MD",
     "hide_input_from_viewers":false,
     "hide_output_from_viewers":false,
     "report_properties":{
      "rowId":"bflxNBmaQHTejxHWJGhZyq"
     }
    }
   }
  },
  {
   "cell_type":"code",
   "source":[
    "labeled_barplot(df, \"salary\", perc=True)"
   ],
   "execution_count":23,
   "outputs":[
    {
     "data":{
      "image\/png":"[encoded data removed]"
     },
     "metadata":{
      "image\/png":{}
     },
     "output_type":"display_data"
    }
   ],
   "metadata":{
    "datalore":{
     "node_id":"UByUBKQshKJo1JpK8tP8bl",
     "type":"CODE",
     "hide_input_from_viewers":false,
     "hide_output_from_viewers":false,
     "report_properties":{
      "rowId":"MMK0ygV7so9dUpmB72TDox"
     }
    }
   }
  },
  {
   "cell_type":"markdown",
   "source":[
    "* ~24% of the observations have a salary above 50K and while ~76% have a salary below 50K"
   ],
   "attachments":{},
   "metadata":{
    "datalore":{
     "node_id":"kdZzUml5guKH6RAR1xUxIx",
     "type":"MD",
     "hide_input_from_viewers":false,
     "hide_output_from_viewers":false,
     "report_properties":{
      "rowId":"6rlFgzR6hxer3fKIQQXYoC"
     }
    }
   }
  },
  {
   "cell_type":"markdown",
   "source":[
    "### Bivariate analysis"
   ],
   "attachments":{},
   "metadata":{
    "datalore":{
     "node_id":"hGe5VEuTaiqd11slLw3MiQ",
     "type":"MD",
     "hide_input_from_viewers":false,
     "hide_output_from_viewers":false,
     "report_properties":{
      "rowId":"fpnPCBobu0mMxhWkLrI7a5"
     }
    }
   }
  },
  {
   "cell_type":"markdown",
   "source":[
    "#### Correlation check"
   ],
   "attachments":{},
   "metadata":{
    "datalore":{
     "node_id":"Bz7OTXY714GZfjFD4uSr00",
     "type":"MD",
     "hide_input_from_viewers":false,
     "hide_output_from_viewers":false,
     "report_properties":{
      "rowId":"tkfEHEARhcoPGQZjD72Tze"
     }
    }
   }
  },
  {
   "cell_type":"code",
   "source":[
    "plt.figure(figsize=(15, 7))\n",
    "sns.heatmap(df.corr(), annot=True, vmin=-1, vmax=1, fmt=\".2f\", cmap=\"Spectral\")\n",
    "plt.show()"
   ],
   "execution_count":24,
   "outputs":[
    {
     "data":{
      "image\/png":"[encoded data removed]"
     },
     "metadata":{
      "image\/png":{}
     },
     "output_type":"display_data"
    }
   ],
   "metadata":{
    "datalore":{
     "node_id":"DUztSFPiKHbeyYl3xjgMsO",
     "type":"CODE",
     "hide_input_from_viewers":false,
     "hide_output_from_viewers":false,
     "report_properties":{
      "rowId":"fhvOmlPq8yOTKSk7mv3rbS"
     }
    }
   }
  },
  {
   "cell_type":"markdown",
   "source":[
    "* There is no significant correlation between the columns."
   ],
   "attachments":{},
   "metadata":{
    "datalore":{
     "node_id":"UfCgdsKwyepeViAros0QUS",
     "type":"MD",
     "hide_input_from_viewers":false,
     "hide_output_from_viewers":false,
     "report_properties":{
      "rowId":"m9GL74pVdaeVF41PcEp0cR"
     }
    }
   }
  },
  {
   "cell_type":"markdown",
   "source":[
    "#### salary vs sex"
   ],
   "attachments":{},
   "metadata":{
    "datalore":{
     "node_id":"5u7bO8C2ozbI8bmdry79xp",
     "type":"MD",
     "hide_input_from_viewers":false,
     "hide_output_from_viewers":false,
     "report_properties":{
      "rowId":"mIa9HErAiebhVgrdQVl6h2"
     }
    }
   }
  },
  {
   "cell_type":"code",
   "source":[
    "stacked_barplot(df, \"sex\", \"salary\")"
   ],
   "execution_count":25,
   "outputs":[
    {
     "name":"stdout",
     "text":[
      "salary   <=50K   >50K    All\n",
      "sex                         \n",
      "All      24692   7839  32531\n",
      "Male     15113   6660  21773\n",
      "Female    9579   1179  10758\n",
      "------------------------------------------------------------------------------------------------------------------------\n"
     ],
     "output_type":"stream"
    },
    {
     "data":{
      "image\/png":"[encoded data removed]"
     },
     "metadata":{
      "image\/png":{}
     },
     "output_type":"display_data"
    }
   ],
   "metadata":{
    "datalore":{
     "node_id":"t5Uewu327bZqqvd1Ya5REK",
     "type":"CODE",
     "hide_input_from_viewers":false,
     "hide_output_from_viewers":false,
     "report_properties":{
      "rowId":"EswmQvvmTcgJJaCxPZrI1K"
     }
    }
   }
  },
  {
   "cell_type":"markdown",
   "source":[
    "* ~30% of the males have salary >50K whereas only ~10% of the females have salary >50K.\n",
    "* This shows the pay gap that exists in society and the government should investigate further on it to formulate policy to ensure equal pay."
   ],
   "attachments":{},
   "metadata":{
    "datalore":{
     "node_id":"O1ssyxMbBIXla9GXoWVqAT",
     "type":"MD",
     "hide_input_from_viewers":false,
     "hide_output_from_viewers":false,
     "report_properties":{
      "rowId":"HGfbQ0JqboXk1OD4Z11NrI"
     }
    }
   }
  },
  {
   "cell_type":"markdown",
   "source":[
    "#### salary vs education"
   ],
   "attachments":{},
   "metadata":{
    "datalore":{
     "node_id":"9xaHCmUV4dK0zBrKzUcQGe",
     "type":"MD",
     "hide_input_from_viewers":false,
     "hide_output_from_viewers":false,
     "report_properties":{
      "rowId":"5IqZRQndhxR5aTA0b3fOXe"
     }
    }
   }
  },
  {
   "cell_type":"code",
   "source":[
    "stacked_barplot(df, \"education\", \"salary\")"
   ],
   "execution_count":26,
   "outputs":[
    {
     "name":"stdout",
     "text":[
      "salary         <=50K   >50K    All\n",
      "education                         \n",
      "All            24692   7839  32531\n",
      "Bachelors       3132   2221   5353\n",
      "HS-grad         8816   1674  10490\n",
      "Some-college    5894   1386   7280\n",
      "Masters          763    959   1722\n",
      "Prof-school      153    423    576\n",
      "Assoc-voc       1021    361   1382\n",
      "Doctorate        107    306    413\n",
      "Assoc-acdm       802    265   1067\n",
      "10th             871     62    933\n",
      "11th            1115     60   1175\n",
      "7th-8th          605     40    645\n",
      "12th             400     33    433\n",
      "9th              487     27    514\n",
      "5th-6th          316     16    332\n",
      "1st-4th          160      6    166\n",
      "Preschool         50      0     50\n",
      "------------------------------------------------------------------------------------------------------------------------\n"
     ],
     "output_type":"stream"
    },
    {
     "data":{
      "image\/png":"[encoded data removed]"
     },
     "metadata":{
      "image\/png":{}
     },
     "output_type":"display_data"
    }
   ],
   "metadata":{
    "datalore":{
     "node_id":"R0TCGjIuCRqcejo3Kr7wzp",
     "type":"CODE",
     "hide_input_from_viewers":false,
     "hide_output_from_viewers":false,
     "report_properties":{
      "rowId":"7UqTGhocUIi2r2cwgWT3z1"
     }
    }
   }
  },
  {
   "cell_type":"markdown",
   "source":[
    "* ~70% of the people of are Doctorate, graduate from Professional school program (Prof-school) have a salary above $50K.\n",
    "* This clearly shows a positive relationship between education and salary, the higher the education higher is the salary."
   ],
   "attachments":{},
   "metadata":{
    "datalore":{
     "node_id":"iWkmhTObejJW5ymVYczwv1",
     "type":"MD",
     "hide_input_from_viewers":false,
     "hide_output_from_viewers":false,
     "report_properties":{
      "rowId":"dJnkT4dVCbHG4FJgiFCVgj"
     }
    }
   }
  },
  {
   "cell_type":"markdown",
   "source":[
    "#### salary vs occupation"
   ],
   "attachments":{},
   "metadata":{
    "datalore":{
     "node_id":"kkxhmmhRNPuN59B9QcZnqT",
     "type":"MD",
     "hide_input_from_viewers":false,
     "hide_output_from_viewers":false,
     "report_properties":{
      "rowId":"Ps89PGD7QjUwn2WRxwPwoD"
     }
    }
   }
  },
  {
   "cell_type":"code",
   "source":[
    "stacked_barplot(df, \"occupation\", \"salary\")"
   ],
   "execution_count":27,
   "outputs":[
    {
     "name":"stdout",
     "text":[
      "salary              <=50K   >50K    All\n",
      "occupation                             \n",
      "All                 24692   7839  32531\n",
      "Exec-managerial      2097   1968   4065\n",
      "Prof-specialty       2278   1858   4136\n",
      "Sales                2666    983   3649\n",
      "Craft-repair         3164    929   4093\n",
      "Adm-clerical         3259    507   3766\n",
      "Transport-moving     1277    320   1597\n",
      "Tech-support          644    283    927\n",
      "Machine-op-inspct    1750    249   1999\n",
      "Protective-serv       438    211    649\n",
      "Unknown              1652    191   1843\n",
      "Other-service        3153    137   3290\n",
      "Farming-fishing       877    115    992\n",
      "Handlers-cleaners    1283     86   1369\n",
      "Armed-Forces            8      1      9\n",
      "Priv-house-serv       146      1    147\n",
      "------------------------------------------------------------------------------------------------------------------------\n"
     ],
     "output_type":"stream"
    },
    {
     "data":{
      "image\/png":"[encoded data removed]"
     },
     "metadata":{
      "image\/png":{}
     },
     "output_type":"display_data"
    }
   ],
   "metadata":{
    "datalore":{
     "node_id":"XeouqXtqmf9uUbvsHdYq4K",
     "type":"CODE",
     "hide_input_from_viewers":false,
     "hide_output_from_viewers":false,
     "report_properties":{
      "rowId":"TanNC9jBSOdxeYnS1gJlN9"
     }
    }
   }
  },
  {
   "cell_type":"markdown",
   "source":[
    "- ~50% of the people whose occupation is of Executive Manager, Professor-speciality have a salary above $50,000\n",
    "- People with occupations like Private house service,handlers-cleaners, farming-fishing have a higher likelihood of having below 50K salary."
   ],
   "attachments":{},
   "metadata":{
    "datalore":{
     "node_id":"iWhwmTOt3MYJl8f4n3zutC",
     "type":"MD",
     "hide_input_from_viewers":false,
     "hide_output_from_viewers":false,
     "report_properties":{
      "rowId":"LnFPyYSA1boRd1XPB34PLs"
     }
    }
   }
  },
  {
   "cell_type":"markdown",
   "source":[
    "#### salary vs workclass"
   ],
   "attachments":{},
   "metadata":{
    "datalore":{
     "node_id":"DLR8dJmbIvdyeQQ1oAjJIj",
     "type":"MD",
     "hide_input_from_viewers":false,
     "hide_output_from_viewers":false,
     "report_properties":{
      "rowId":"GBBultI8AVDgmJUzcyJoTc"
     }
    }
   }
  },
  {
   "cell_type":"code",
   "source":[
    "stacked_barplot(df, \"workclass\", \"salary\")"
   ],
   "execution_count":28,
   "outputs":[
    {
     "name":"stdout",
     "text":[
      "salary             <=50K   >50K    All\n",
      "workclass                             \n",
      "All                24692   7839  32531\n",
      "Private            17706   4961  22667\n",
      "Self-emp-not-inc    1816    724   2540\n",
      "Self-emp-inc         494    622   1116\n",
      "Local-gov           1476    617   2093\n",
      "Federal-gov          589    371    960\n",
      "State-gov            945    353   1298\n",
      "Unknown             1645    191   1836\n",
      "Never-worked           7      0      7\n",
      "Without-pay           14      0     14\n",
      "------------------------------------------------------------------------------------------------------------------------\n"
     ],
     "output_type":"stream"
    },
    {
     "data":{
      "image\/png":"[encoded data removed]"
     },
     "metadata":{
      "image\/png":{}
     },
     "output_type":"display_data"
    }
   ],
   "metadata":{
    "datalore":{
     "node_id":"VPVJu0LUnkcRV5MyhhdrBh",
     "type":"CODE",
     "hide_input_from_viewers":false,
     "hide_output_from_viewers":false,
     "report_properties":{
      "rowId":"RAI5Q1NoIq8jio9dZsrEqJ"
     }
    }
   }
  },
  {
   "cell_type":"markdown",
   "source":[
    "* ~50% of the self-employed people have a salary above 50K followed by ~40% of the federal govt employee who has salary more than 50K.\n",
    "* ~20% of the people working in the private sector earn more than 50K."
   ],
   "attachments":{},
   "metadata":{
    "datalore":{
     "node_id":"Z6fjCqc5aA60miQoqpoGbd",
     "type":"MD",
     "hide_input_from_viewers":false,
     "hide_output_from_viewers":false,
     "report_properties":{
      "rowId":"xC1n6V8CCjw7KaaSBale6i"
     }
    }
   }
  },
  {
   "cell_type":"markdown",
   "source":[
    "#### salary vs age"
   ],
   "attachments":{},
   "metadata":{
    "datalore":{
     "node_id":"Obe1xbAXq06TQbJnpj2NPT",
     "type":"MD",
     "hide_input_from_viewers":false,
     "hide_output_from_viewers":false,
     "report_properties":{
      "rowId":"Z6Ynfn3cKAV4IXYCY2q9We"
     }
    }
   }
  },
  {
   "cell_type":"code",
   "source":[
    "distribution_plot_wrt_target(df, \"age\", \"salary\")"
   ],
   "execution_count":29,
   "outputs":[
    {
     "data":{
      "image\/png":"[encoded data removed]"
     },
     "metadata":{
      "image\/png":{}
     },
     "output_type":"display_data"
    }
   ],
   "metadata":{
    "datalore":{
     "node_id":"b6FEH9bPuwTcGB1IdTA4aw",
     "type":"CODE",
     "hide_input_from_viewers":false,
     "hide_output_from_viewers":false,
     "report_properties":{
      "rowId":"g7WzpRAr4YH7X97hLV3KAL"
     }
    }
   }
  },
  {
   "cell_type":"markdown",
   "source":[
    "* People who more than 50K salary are generally older having an average age of around 48 years.\n",
    "* People who have less than 50K salary have an average age of around 36."
   ],
   "attachments":{},
   "metadata":{
    "datalore":{
     "node_id":"S0VHkb2Foh1SUu2T6Anbwn",
     "type":"MD",
     "hide_input_from_viewers":false,
     "hide_output_from_viewers":false,
     "report_properties":{
      "rowId":"8JlKAtg7S4kZu8QRkbu4qQ"
     }
    }
   }
  },
  {
   "cell_type":"markdown",
   "source":[
    "#### salary vs working_hours_per_week"
   ],
   "attachments":{},
   "metadata":{
    "datalore":{
     "node_id":"r7KfgfQ3q4coVxvI9TVB0M",
     "type":"MD",
     "hide_input_from_viewers":false,
     "hide_output_from_viewers":false,
     "report_properties":{
      "rowId":"tgUjKYFWEMT6FtoI2YTWLt"
     }
    }
   }
  },
  {
   "cell_type":"code",
   "source":[
    "distribution_plot_wrt_target(df, \"working_hours_per_week\", \"salary\")"
   ],
   "execution_count":30,
   "outputs":[
    {
     "data":{
      "image\/png":"[encoded data removed]"
     },
     "metadata":{
      "image\/png":{}
     },
     "output_type":"display_data"
    }
   ],
   "metadata":{
    "datalore":{
     "node_id":"yyXGPw3RvunBxbUp1gVQ8v",
     "type":"CODE",
     "hide_input_from_viewers":false,
     "hide_output_from_viewers":false,
     "report_properties":{
      "rowId":"0WAqPdbq5YPnhOdetMj2E5"
     }
    }
   }
  },
  {
   "cell_type":"markdown",
   "source":[
    "* Majority of people having above 50K salary work around 40 hours per week.\n",
    "* Those having >50K salary have a higher range of working hours as compared to the ones with <=50K, but there are outliers present."
   ],
   "attachments":{},
   "metadata":{
    "datalore":{
     "node_id":"loYHZfkMPQcCrMBNhXg9jN",
     "type":"MD",
     "hide_input_from_viewers":false,
     "hide_output_from_viewers":false,
     "report_properties":{
      "rowId":"SSipidQAxjw6Pnbsodvr7H"
     }
    }
   }
  },
  {
   "cell_type":"code",
   "source":[
    "# lets see how working hours per week vary across different occupation\n",
    "plt.figure(figsize=(15, 12))\n",
    "sns.boxplot(\n",
    "    y=\"workclass\", x=\"working_hours_per_week\", data=df, hue=\"salary\", showfliers=False\n",
    ")\n",
    "plt.show()"
   ],
   "execution_count":31,
   "outputs":[
    {
     "data":{
      "image\/png":"[encoded data removed]"
     },
     "metadata":{
      "image\/png":{}
     },
     "output_type":"display_data"
    }
   ],
   "metadata":{
    "datalore":{
     "node_id":"SAwMme0ohe6Ayo5jEUVMNT",
     "type":"CODE",
     "hide_input_from_viewers":false,
     "hide_output_from_viewers":false,
     "report_properties":{
      "rowId":"asYopN2BdiQbsttHn7lQXm"
     }
    }
   }
  },
  {
   "cell_type":"markdown",
   "source":[
    "* Private sector employees work for more hours to get a salary above 50K.\n",
    "* There's large variability in the working hours of self-employed people which makes sense as they might be working at their ease.\n",
    "* Without pay and never worked will have no income or less than 50K income.\n",
    "* The number of working hours for many government employees is concentrated at 40 hrs a week, which makes sense as government employees generally have fixed working hours."
   ],
   "attachments":{},
   "metadata":{
    "datalore":{
     "node_id":"ycoJncKlrcdQWgG6RBRRBc",
     "type":"MD",
     "hide_input_from_viewers":false,
     "hide_output_from_viewers":false,
     "report_properties":{
      "rowId":"ZuGJqNSt5G1SCV2dPpaf1I"
     }
    }
   }
  },
  {
   "cell_type":"markdown",
   "source":[
    "**Actions for data pre-processing**:\n",
    "\n",
    "* Many variables have outliers that need to be treated.\n",
    "* We can drop capital_gain and capital_loss as most of the observations are 0 in these variables, and if the government already knows a person's capital gain or loss it will be easier for them to classify a person into a salary group."
   ],
   "attachments":{},
   "metadata":{
    "datalore":{
     "node_id":"ZOMmKUpiwsPrHPui1C5U7i",
     "type":"MD",
     "hide_input_from_viewers":false,
     "hide_output_from_viewers":false,
     "report_properties":{
      "rowId":"NaEgp5Kdz2oEAVNZtDpzuJ"
     }
    }
   }
  },
  {
   "cell_type":"markdown",
   "source":[
    "## Data Preprocessing"
   ],
   "attachments":{},
   "metadata":{
    "datalore":{
     "node_id":"ORuVtCew9qItR3DNNdMYgf",
     "type":"MD",
     "hide_input_from_viewers":false,
     "hide_output_from_viewers":false,
     "report_properties":{
      "rowId":"JPD43VskD6XbVsqDvvoElJ"
     }
    }
   }
  },
  {
   "cell_type":"markdown",
   "source":[
    "* We can drop capital_gain and capital_loss as most of the observations are 0 in these variables, and if the government already knows a person's capital gain or loss it will be easier for them to classify a person into a salary group\n",
    "* There are many outliers in the data which we will treat (perform capping of outliers)\n",
    "  * All the values smaller than the lower whisker will be assigned the value of the lower whisker, and all the values above the upper whisker will be assigned the value of the upper whisker."
   ],
   "attachments":{},
   "metadata":{
    "datalore":{
     "node_id":"Sg93esFtZdUA9GrrjeN4iP",
     "type":"MD",
     "hide_input_from_viewers":false,
     "hide_output_from_viewers":false,
     "report_properties":{
      "rowId":"tFioKfxmMqP0TnctPyy2wN"
     }
    }
   }
  },
  {
   "cell_type":"markdown",
   "source":[
    "**Dropping capital_gain and capital_loss**"
   ],
   "attachments":{},
   "metadata":{
    "datalore":{
     "node_id":"4btOjRODDkjVoFxMQwYjrQ",
     "type":"MD",
     "hide_input_from_viewers":false,
     "hide_output_from_viewers":false,
     "report_properties":{
      "rowId":"vfJBvh0OJPiViz7m8JxeBh"
     }
    }
   }
  },
  {
   "cell_type":"code",
   "source":[
    "data.drop([\"capital_gain\", \"capital_loss\"], axis=1, inplace=True)"
   ],
   "execution_count":32,
   "outputs":[],
   "metadata":{
    "datalore":{
     "node_id":"YItTSl4D0QH2hxqet9kDus",
     "type":"CODE",
     "hide_input_from_viewers":false,
     "hide_output_from_viewers":false,
     "report_properties":{
      "rowId":"PahhMbKnhDrQBePffrhs5f"
     }
    }
   }
  },
  {
   "cell_type":"markdown",
   "source":[
    "### Outlier Detection"
   ],
   "attachments":{},
   "metadata":{
    "datalore":{
     "node_id":"RWhbFT1t93vUnNdNxTRYv3",
     "type":"MD",
     "hide_input_from_viewers":false,
     "hide_output_from_viewers":false,
     "report_properties":{
      "rowId":"lEKR7wO0cpTQHQPoB0r9iE"
     }
    }
   }
  },
  {
   "cell_type":"code",
   "source":[
    "numerical_col = data.select_dtypes(include=np.number).columns.tolist()\n",
    "plt.figure(figsize=(20, 30))\n",
    "\n",
    "for i, variable in enumerate(numerical_col):\n",
    "    plt.subplot(5, 4, i + 1)\n",
    "    plt.boxplot(data[variable], whis=1.5)\n",
    "    plt.tight_layout()\n",
    "    plt.title(variable)\n",
    "\n",
    "plt.show()"
   ],
   "execution_count":33,
   "outputs":[
    {
     "data":{
      "image\/png":"[encoded data removed]"
     },
     "metadata":{
      "image\/png":{}
     },
     "output_type":"display_data"
    }
   ],
   "metadata":{
    "datalore":{
     "node_id":"QrZLONl3sGSNQXqbK5QIsQ",
     "type":"CODE",
     "hide_input_from_viewers":false,
     "hide_output_from_viewers":false,
     "report_properties":{
      "rowId":"8iAhD04cGrJQjAAt5bp9Om"
     }
    }
   }
  },
  {
   "cell_type":"markdown",
   "source":[
    "* Age and fnlwgt have upper outliers. \n",
    "* education_no_years has lower outliers. \n",
    "* working_hours_per_week has both upper and lower outliers."
   ],
   "attachments":{},
   "metadata":{
    "datalore":{
     "node_id":"Y7eyFWZhnQLVNT1mk6uoVy",
     "type":"MD",
     "hide_input_from_viewers":false,
     "hide_output_from_viewers":false,
     "report_properties":{
      "rowId":"00v9dfkBVOjjtPhiHEfjP4"
     }
    }
   }
  },
  {
   "cell_type":"markdown",
   "source":[
    "### Outlier Treatment"
   ],
   "attachments":{},
   "metadata":{
    "datalore":{
     "node_id":"epk47RC5E5ryrH7VfXp7gQ",
     "type":"MD",
     "hide_input_from_viewers":false,
     "hide_output_from_viewers":false,
     "report_properties":{
      "rowId":"oamSDditSIhAokEzFlUK2b"
     }
    }
   }
  },
  {
   "cell_type":"code",
   "source":[
    "# functions to treat outliers by flooring and capping\n",
    "\n",
    "\n",
    "def treat_outliers(df, col):\n",
    "    \"\"\"\n",
    "    Treats outliers in a variable\n",
    "\n",
    "    df: dataframe\n",
    "    col: dataframe column\n",
    "    \"\"\"\n",
    "    Q1 = df[col].quantile(0.25)  # 25th quantile\n",
    "    Q3 = df[col].quantile(0.75)  # 75th quantile\n",
    "    IQR = Q3 - Q1\n",
    "    Lower_Whisker = Q1 - 1.5 * IQR\n",
    "    Upper_Whisker = Q3 + 1.5 * IQR\n",
    "\n",
    "    # all the values smaller than Lower_Whisker will be assigned the value of Lower_Whisker\n",
    "    # all the values greater than Upper_Whisker will be assigned the value of Upper_Whisker\n",
    "    df[col] = np.clip(df[col], Lower_Whisker, Upper_Whisker)\n",
    "\n",
    "    return df\n",
    "\n",
    "\n",
    "def treat_outliers_all(df, col_list):\n",
    "    \"\"\"\n",
    "    Treat outliers in a list of variables\n",
    "\n",
    "    df: dataframe\n",
    "    col_list: list of dataframe columns\n",
    "    \"\"\"\n",
    "    for c in col_list:\n",
    "        df = treat_outliers(df, c)\n",
    "\n",
    "    return df"
   ],
   "execution_count":34,
   "outputs":[],
   "metadata":{
    "datalore":{
     "node_id":"KD2eYsN0nvaOxZOnWYED5Z",
     "type":"CODE",
     "hide_input_from_viewers":false,
     "hide_output_from_viewers":false,
     "report_properties":{
      "rowId":"gOBJDApnQhZCTIF3JSkF8Q"
     }
    }
   }
  },
  {
   "cell_type":"code",
   "source":[
    "numerical_col = data.select_dtypes(include=np.number).columns.tolist()\n",
    "data = treat_outliers_all(data, numerical_col)"
   ],
   "execution_count":35,
   "outputs":[],
   "metadata":{
    "datalore":{
     "node_id":"ziimgWLHKhGhg0FTfmQqUr",
     "type":"CODE",
     "hide_input_from_viewers":false,
     "hide_output_from_viewers":false,
     "report_properties":{
      "rowId":"qHsoUUUG6Day2kPSzWMRvh"
     }
    }
   }
  },
  {
   "cell_type":"code",
   "source":[
    "# let's look at box plot to see if outliers have been treated or not\n",
    "plt.figure(figsize=(20, 30))\n",
    "\n",
    "for i, variable in enumerate(numerical_col):\n",
    "    plt.subplot(5, 4, i + 1)\n",
    "    plt.boxplot(data[variable], whis=1.5)\n",
    "    plt.tight_layout()\n",
    "    plt.title(variable)\n",
    "\n",
    "plt.show()"
   ],
   "execution_count":36,
   "outputs":[
    {
     "data":{
      "image\/png":"[encoded data removed]"
     },
     "metadata":{
      "image\/png":{}
     },
     "output_type":"display_data"
    }
   ],
   "metadata":{
    "datalore":{
     "node_id":"Qswg5eWZDD2o6X85W5FBTW",
     "type":"CODE",
     "hide_input_from_viewers":false,
     "hide_output_from_viewers":false,
     "report_properties":{
      "rowId":"ks3q2vElwIttW8YFhKGNt5"
     }
    }
   }
  },
  {
   "cell_type":"markdown",
   "source":[
    "### Data Preparation for Modeling"
   ],
   "attachments":{},
   "metadata":{
    "datalore":{
     "node_id":"GLxwrsw2UJYL4a0IGoEYPT",
     "type":"MD",
     "hide_input_from_viewers":false,
     "hide_output_from_viewers":false,
     "report_properties":{
      "rowId":"CAyeg9EDWafhpXTMSjkbIl"
     }
    }
   }
  },
  {
   "cell_type":"markdown",
   "source":[
    "**Encoding >50K as 0 and <=50K as 1 as government wants to find underprivileged section of society.**"
   ],
   "attachments":{},
   "metadata":{
    "datalore":{
     "node_id":"CTzcdUA7mXgQBCQBK8hxtP",
     "type":"MD",
     "hide_input_from_viewers":false,
     "hide_output_from_viewers":false,
     "report_properties":{
      "rowId":"S1OrtXOrnRYbK3NblcBw2T"
     }
    }
   }
  },
  {
   "cell_type":"code",
   "source":[
    "data[\"salary\"] = data[\"salary\"].apply(lambda x: 1 if x == \" <=50K\" else 0)"
   ],
   "execution_count":37,
   "outputs":[],
   "metadata":{
    "datalore":{
     "node_id":"y8N3Qp00ErdfwVwb35mVw9",
     "type":"CODE",
     "hide_input_from_viewers":false,
     "hide_output_from_viewers":false,
     "report_properties":{
      "rowId":"f8mehKN9ST6VEhCB7PgL15"
     }
    }
   }
  },
  {
   "cell_type":"markdown",
   "source":[
    "**Creating training and test sets.**"
   ],
   "attachments":{},
   "metadata":{
    "datalore":{
     "node_id":"BVizzZb83DaDfh5cuY7QeC",
     "type":"MD",
     "hide_input_from_viewers":false,
     "hide_output_from_viewers":false,
     "report_properties":{
      "rowId":"k4yjqUa7X4JpgvtD7tmKNi"
     }
    }
   }
  },
  {
   "cell_type":"code",
   "source":[
    "# specifying the independent  and dependent variables\n",
    "X = data.drop([\"salary\"], axis=1)\n",
    "Y = data[\"salary\"]\n",
    "\n",
    "# adding a constant to the independent variables\n",
    "X = sm.add_constant(X)\n",
    "\n",
    "# creating dummy variables\n",
    "X = pd.get_dummies(X, drop_first=True)\n",
    "\n",
    "# splitting data in train and test sets\n",
    "X_train, X_test, y_train, y_test = train_test_split(\n",
    "    X, Y, test_size=0.30, random_state=1\n",
    ")"
   ],
   "execution_count":38,
   "outputs":[],
   "metadata":{
    "datalore":{
     "node_id":"zSfvTjYpDksSAnIGZVBd1F",
     "type":"CODE",
     "hide_input_from_viewers":false,
     "hide_output_from_viewers":false,
     "report_properties":{
      "rowId":"qwhKG4VvOG3LtQHxZyOwio"
     }
    }
   }
  },
  {
   "cell_type":"code",
   "source":[
    "print(\"Shape of Training set : \", X_train.shape)\n",
    "print(\"Shape of test set : \", X_test.shape)\n",
    "print(\"Percentage of classes in training set:\")\n",
    "print(y_train.value_counts(normalize=True))\n",
    "print(\"Percentage of classes in test set:\")\n",
    "print(y_test.value_counts(normalize=True))"
   ],
   "execution_count":39,
   "outputs":[
    {
     "name":"stdout",
     "text":[
      "Shape of Training set :  (22771, 53)\n",
      "Shape of test set :  (9760, 53)\n",
      "Percentage of classes in training set:\n",
      "1    0.758026\n",
      "0    0.241974\n",
      "Name: salary, dtype: float64\n",
      "Percentage of classes in test set:\n",
      "1    0.761373\n",
      "0    0.238627\n",
      "Name: salary, dtype: float64\n"
     ],
     "output_type":"stream"
    }
   ],
   "metadata":{
    "datalore":{
     "node_id":"ymSGKBe3IHbdi2N3qimlT5",
     "type":"CODE",
     "hide_input_from_viewers":false,
     "hide_output_from_viewers":false,
     "report_properties":{
      "rowId":"8XXftQbjZsrQ58zVbh5aLZ"
     }
    }
   }
  },
  {
   "cell_type":"markdown",
   "source":[
    "## Model Building - Logistic Regression"
   ],
   "attachments":{},
   "metadata":{
    "datalore":{
     "node_id":"KVBXsh1blh05LVuI1aUgDP",
     "type":"MD",
     "hide_input_from_viewers":false,
     "hide_output_from_viewers":false,
     "report_properties":{
      "rowId":"Sa6qtPuEp42zCxKfubs9go"
     }
    }
   }
  },
  {
   "cell_type":"markdown",
   "source":[
    "- We will now perform logistic regression using statsmodels, a Python module that provides functions for the estimation of many statistical models, as well as for conducting statistical tests, and statistical data exploration.\n",
    "\n",
    "- Using statsmodels, we will be able to check the statistical validity of our model - identify the significant predictors from p-values that we get for each predictor variable."
   ],
   "attachments":{},
   "metadata":{
    "datalore":{
     "node_id":"Oj3zsssNSF8OgHIaRtTaXX",
     "type":"MD",
     "hide_input_from_viewers":false,
     "hide_output_from_viewers":false,
     "report_properties":{
      "rowId":"pX2mFnC8oFlwqPtSwzmAtf"
     }
    }
   }
  },
  {
   "cell_type":"code",
   "source":[
    "# fitting logistic regression model\n",
    "logit = sm.Logit(y_train, X_train.astype(float))\n",
    "lg = logit.fit(disp=False)\n",
    "\n",
    "print(lg.summary())"
   ],
   "execution_count":40,
   "outputs":[
    {
     "name":"stdout",
     "text":[
      "                           Logit Regression Results                           \n",
      "==============================================================================\n",
      "Dep. Variable:                 salary   No. Observations:                22771\n",
      "Model:                          Logit   Df Residuals:                    22720\n",
      "Method:                           MLE   Df Model:                           50\n",
      "Date:                Tue, 26 Nov 2024   Pseudo R-squ.:                  0.3678\n",
      "Time:                        17:20:18   Log-Likelihood:                -7965.8\n",
      "converged:                      False   LL-Null:                       -12600.\n",
      "Covariance Type:            nonrobust   LLR p-value:                     0.000\n",
      "===================================================================================================\n",
      "                                      coef    std err          z      P>|z|      [0.025      0.975]\n",
      "---------------------------------------------------------------------------------------------------\n",
      "const                               9.5200   8.16e+05   1.17e-05      1.000    -1.6e+06     1.6e+06\n",
      "age                                -0.0314      0.002    -17.126      0.000      -0.035      -0.028\n",
      "fnlwgt                          -6.146e-07   2.13e-07     -2.881      0.004   -1.03e-06   -1.96e-07\n",
      "education_no_of_years              -0.1961   1.36e+05  -1.44e-06      1.000   -2.67e+05    2.67e+05\n",
      "working_hours_per_week             -0.0655      0.004    -18.686      0.000      -0.072      -0.059\n",
      "workclass_Local-gov                 0.7669      0.127      6.061      0.000       0.519       1.015\n",
      "workclass_Never-worked             15.2787        nan        nan        nan         nan         nan\n",
      "workclass_Private                   0.5196      0.105      4.972      0.000       0.315       0.724\n",
      "workclass_Self-emp-inc              0.2891      0.137      2.105      0.035       0.020       0.558\n",
      "workclass_Self-emp-not-inc          0.9751      0.123      7.899      0.000       0.733       1.217\n",
      "workclass_State-gov                 0.9400      0.141      6.667      0.000       0.664       1.216\n",
      "workclass_Unknown                  -7.0067        nan        nan        nan         nan         nan\n",
      "workclass_Without-pay              16.5939   1638.453      0.010      0.992   -3194.714    3227.902\n",
      "education_11th                      0.1667   1.36e+05   1.23e-06      1.000   -2.67e+05    2.67e+05\n",
      "education_12th                     -0.0044   2.72e+05  -1.61e-08      1.000   -5.33e+05    5.33e+05\n",
      "education_1st-4th                   1.3124   2.04e+05   6.43e-06      1.000      -4e+05       4e+05\n",
      "education_5th-6th                   0.2102   2.04e+05   1.03e-06      1.000      -4e+05       4e+05\n",
      "education_7th-8th                   0.3224   2.04e+05   1.58e-06      1.000      -4e+05       4e+05\n",
      "education_9th                       0.4116   1.36e+05   3.02e-06      1.000   -2.67e+05    2.67e+05\n",
      "education_Assoc-acdm               -0.0897   8.16e+05   -1.1e-07      1.000    -1.6e+06     1.6e+06\n",
      "education_Assoc-voc                -0.3665    6.8e+05  -5.39e-07      1.000   -1.33e+06    1.33e+06\n",
      "education_Bachelors                -0.5915   9.52e+05  -6.21e-07      1.000   -1.87e+06    1.87e+06\n",
      "education_Doctorate                -0.9450   1.36e+06  -6.95e-07      1.000   -2.67e+06    2.67e+06\n",
      "education_HS-grad                  -0.1775   4.08e+05  -4.35e-07      1.000      -8e+05       8e+05\n",
      "education_Masters                  -0.7981   1.09e+06  -7.33e-07      1.000   -2.13e+06    2.13e+06\n",
      "education_Preschool                12.0908   2.04e+05   5.92e-05      1.000      -4e+05       4e+05\n",
      "education_Prof-school              -1.3568   1.22e+06  -1.11e-06      1.000    -2.4e+06     2.4e+06\n",
      "education_Some-college             -0.2672   5.44e+05  -4.91e-07      1.000   -1.07e+06    1.07e+06\n",
      "marital_status_married             -2.5742      0.069    -37.060      0.000      -2.710      -2.438\n",
      "marital_status_not_married         -0.4045      0.084     -4.806      0.000      -0.569      -0.240\n",
      "occupation_Armed-Forces             0.5322      1.529      0.348      0.728      -2.465       3.530\n",
      "occupation_Craft-repair             0.0011      0.088      0.013      0.990      -0.172       0.175\n",
      "occupation_Exec-managerial         -0.6952      0.085     -8.199      0.000      -0.861      -0.529\n",
      "occupation_Farming-fishing          1.0593      0.157      6.763      0.000       0.752       1.366\n",
      "occupation_Handlers-cleaners        0.8354      0.162      5.169      0.000       0.519       1.152\n",
      "occupation_Machine-op-inspct        0.4118      0.115      3.573      0.000       0.186       0.638\n",
      "occupation_Other-service            0.9811      0.135      7.294      0.000       0.718       1.245\n",
      "occupation_Priv-house-serv          2.3843      1.091      2.185      0.029       0.245       4.524\n",
      "occupation_Prof-specialty          -0.4583      0.089     -5.143      0.000      -0.633      -0.284\n",
      "occupation_Protective-serv         -0.4979      0.143     -3.475      0.001      -0.779      -0.217\n",
      "occupation_Sales                   -0.1410      0.091     -1.555      0.120      -0.319       0.037\n",
      "occupation_Tech-support            -0.5943      0.123     -4.815      0.000      -0.836      -0.352\n",
      "occupation_Transport-moving         0.1759      0.112      1.572      0.116      -0.043       0.395\n",
      "occupation_Unknown                  8.2720        nan        nan        nan         nan         nan\n",
      "race_Asian-Pac-Islander            -0.2499      0.287     -0.871      0.384      -0.812       0.312\n",
      "race_Black                         -0.2403      0.251     -0.958      0.338      -0.732       0.251\n",
      "race_Other                          0.4680      0.401      1.167      0.243      -0.318       1.254\n",
      "race_White                         -0.3346      0.238     -1.403      0.161      -0.802       0.133\n",
      "sex_Male                           -0.0661      0.059     -1.129      0.259      -0.181       0.049\n",
      "native_contienent_europe           -0.2102      0.241     -0.871      0.384      -0.683       0.263\n",
      "native_contienent_north_america    -0.2393      0.191     -1.251      0.211      -0.614       0.136\n",
      "native_contienent_other             0.2389      0.218      1.097      0.272      -0.188       0.666\n",
      "native_contienent_south_america     1.0479      0.526      1.992      0.046       0.017       2.079\n",
      "===================================================================================================\n"
     ],
     "output_type":"stream"
    }
   ],
   "metadata":{
    "datalore":{
     "node_id":"MbuUzjguzM6OGIgG3FK7Cc",
     "type":"CODE",
     "hide_input_from_viewers":false,
     "hide_output_from_viewers":false,
     "report_properties":{
      "rowId":"HSmSzZneFqORHwl27R1H1e"
     }
    }
   }
  },
  {
   "cell_type":"markdown",
   "source":[
    "**Observations**\n",
    "\n",
    "- Negative values of the coefficient show that the probability of a person having a salary less than 50K decreases with the increase of the corresponding attribute value.\n",
    " \n",
    "- Positive values of the coefficient show that the probability of a person having a salary less than 50K increases with the increase of the corresponding attribute value.\n",
    "\n",
    "- p-value of a variable indicates if the variable is significant or not. If we consider the significance level to be 0.05 (5%), then any variable with a p-value less than 0.05 would be considered significant."
   ],
   "attachments":{},
   "metadata":{
    "datalore":{
     "node_id":"KZPLB7YJVeXaSo2TrNqNkd",
     "type":"MD",
     "hide_input_from_viewers":false,
     "hide_output_from_viewers":false,
     "report_properties":{
      "rowId":"FDchv1pSl03GPrHy7OZbuH"
     }
    }
   }
  },
  {
   "cell_type":"markdown",
   "source":[
    "### Model Performance Evaluation"
   ],
   "attachments":{},
   "metadata":{
    "datalore":{
     "node_id":"GMyWSveW01Bvw4WlEaRgaK",
     "type":"MD",
     "hide_input_from_viewers":false,
     "hide_output_from_viewers":false,
     "report_properties":{
      "rowId":"i3L8J1imU1aTUNHKNQATQ0"
     }
    }
   }
  },
  {
   "cell_type":"markdown",
   "source":[
    "**Model can make wrong predictions as**:\n",
    "\n",
    "1. Predicting a person has a salary <=50K but in reality the salary of the person is >50K.\n",
    "\n",
    "2. Predicting a person doesn't have a salary <=50K but in reality the salary of the person is <=50k.\n",
    "\n",
    "**Which case is more important?** \n",
    "\n",
    "* Both the cases are important as:\n",
    "\n",
    "  * If we predict a person has a salary <=50K but actually the salary is >50K then a wrong person will be getting the benefits of the scheme and government might lose resources.\n",
    "\n",
    "  * If we predict a person doesn't have a salary <=50K but actually the salary is <=50K that person will not be able to avail the benefits of the scheme constituting to opportunity loss.\n",
    "\n",
    "\n",
    "**How to reduce this loss?**\n",
    "\n",
    "* We need to reduce both False Negatives and False Positives\n",
    "\n",
    "* `f1_score` should be maximized as the greater the f1_score, the higher the chances of reducing both False Negatives and False Positives and identifying both the classes correctly\n",
    "  * fi_score is computed as\n",
    "  $$f1\\_score = \\frac{2 * Precision * Recall}{Precision + Recall}$$"
   ],
   "attachments":{},
   "metadata":{
    "datalore":{
     "node_id":"bIY4mG1imY8wwy734fLXNs",
     "type":"MD",
     "hide_input_from_viewers":false,
     "hide_output_from_viewers":false,
     "report_properties":{
      "rowId":"EME4B6JiDQi1woH5Rk8Ujg"
     }
    }
   }
  },
  {
   "cell_type":"markdown",
   "source":[
    "**First, let's create functions to calculate different metrics and confusion matrix so that we don't have to use the same code repeatedly for each model.**\n",
    "\n",
    "* The model_performance_classification_statsmodels function will be used to check the model performance of models. \n",
    "* The confusion_matrix_statsmodels function will be used to plot confusion matrix."
   ],
   "attachments":{},
   "metadata":{
    "datalore":{
     "node_id":"mRSDTM0HBl9VAfVuKntSJR",
     "type":"MD",
     "hide_input_from_viewers":false,
     "hide_output_from_viewers":false,
     "report_properties":{
      "rowId":"id9OaAB560SaEml5deermv"
     }
    }
   }
  },
  {
   "cell_type":"code",
   "source":[
    "# defining a function to compute different metrics to check performance of a classification model built using statsmodels\n",
    "def model_performance_classification_statsmodels(\n",
    "    model, predictors, target, threshold=0.5\n",
    "):\n",
    "    \"\"\"\n",
    "    Function to compute different metrics to check classification model performance\n",
    "\n",
    "    model: classifier\n",
    "    predictors: independent variables\n",
    "    target: dependent variable\n",
    "    threshold: threshold for classifying the observation as class 1\n",
    "    \"\"\"\n",
    "\n",
    "    # checking which probabilities are greater than threshold\n",
    "    pred_temp = model.predict(predictors) > threshold\n",
    "    # rounding off the above values to get classes\n",
    "    pred = np.round(pred_temp)\n",
    "\n",
    "    acc = accuracy_score(target, pred)  # to compute Accuracy\n",
    "    recall = recall_score(target, pred)  # to compute Recall\n",
    "    precision = precision_score(target, pred)  # to compute Precision\n",
    "    f1 = f1_score(target, pred)  # to compute F1-score\n",
    "\n",
    "    # creating a dataframe of metrics\n",
    "    df_perf = pd.DataFrame(\n",
    "        {\"Accuracy\": acc, \"Recall\": recall, \"Precision\": precision, \"F1\": f1,},\n",
    "        index=[0],\n",
    "    )\n",
    "\n",
    "    return df_perf"
   ],
   "execution_count":41,
   "outputs":[],
   "metadata":{
    "datalore":{
     "node_id":"ZUk4ChCVBmuBXtPkY7kI9o",
     "type":"CODE",
     "hide_input_from_viewers":false,
     "hide_output_from_viewers":false,
     "report_properties":{
      "rowId":"a9JJFuxdr3phN0mLItq5GU"
     }
    }
   }
  },
  {
   "cell_type":"code",
   "source":[
    "# defining a function to plot the confusion_matrix of a classification model\n",
    "\n",
    "\n",
    "def confusion_matrix_statsmodels(model, predictors, target, threshold=0.5):\n",
    "    \"\"\"\n",
    "    To plot the confusion_matrix with percentages\n",
    "\n",
    "    model: classifier\n",
    "    predictors: independent variables\n",
    "    target: dependent variable\n",
    "    threshold: threshold for classifying the observation as class 1\n",
    "    \"\"\"\n",
    "    y_pred = model.predict(predictors) > threshold\n",
    "    cm = confusion_matrix(target, y_pred)\n",
    "    labels = np.asarray(\n",
    "        [\n",
    "            [\"{0:0.0f}\".format(item) + \"\\n{0:.2%}\".format(item \/ cm.flatten().sum())]\n",
    "            for item in cm.flatten()\n",
    "        ]\n",
    "    ).reshape(2, 2)\n",
    "\n",
    "    plt.figure(figsize=(6, 4))\n",
    "    sns.heatmap(cm, annot=labels, fmt=\"\")\n",
    "    plt.ylabel(\"True label\")\n",
    "    plt.xlabel(\"Predicted label\")"
   ],
   "execution_count":42,
   "outputs":[],
   "metadata":{
    "datalore":{
     "node_id":"l0YdfpAj13jjfNcYjycVb7",
     "type":"CODE",
     "hide_input_from_viewers":false,
     "hide_output_from_viewers":false,
     "report_properties":{
      "rowId":"GWFymXS7iC7FxplkxkLrkQ"
     }
    }
   }
  },
  {
   "cell_type":"code",
   "source":[
    "confusion_matrix_statsmodels(lg, X_train, y_train)"
   ],
   "execution_count":43,
   "outputs":[
    {
     "data":{
      "image\/png":"[encoded data removed]"
     },
     "metadata":{
      "image\/png":{}
     },
     "output_type":"display_data"
    }
   ],
   "metadata":{
    "datalore":{
     "node_id":"KsAXiIlfIHD9i08Z2dz2jP",
     "type":"CODE",
     "hide_input_from_viewers":false,
     "hide_output_from_viewers":false,
     "report_properties":{
      "rowId":"eMH67tTBBPtEo9j8TqaWHl"
     }
    }
   }
  },
  {
   "cell_type":"code",
   "source":[
    "print(\"Training performance:\")\n",
    "model_performance_classification_statsmodels(lg, X_train, y_train)"
   ],
   "execution_count":44,
   "outputs":[
    {
     "name":"stdout",
     "text":[
      "Training performance:\n"
     ],
     "output_type":"stream"
    },
    {
     "data":{
      "text\/html":[
       "<div>\n",
       "<style scoped>\n",
       "    .dataframe tbody tr th:only-of-type {\n",
       "        vertical-align: middle;\n",
       "    }\n",
       "\n",
       "    .dataframe tbody tr th {\n",
       "        vertical-align: top;\n",
       "    }\n",
       "\n",
       "    .dataframe thead th {\n",
       "        text-align: right;\n",
       "    }\n",
       "<\/style>\n",
       "<table border=\"1\" class=\"dataframe\">\n",
       "  <thead>\n",
       "    <tr style=\"text-align: right;\">\n",
       "      <th><\/th>\n",
       "      <th>Accuracy<\/th>\n",
       "      <th>Recall<\/th>\n",
       "      <th>Precision<\/th>\n",
       "      <th>F1<\/th>\n",
       "    <\/tr>\n",
       "  <\/thead>\n",
       "  <tbody>\n",
       "    <tr>\n",
       "      <th>0<\/th>\n",
       "      <td>0.835624<\/td>\n",
       "      <td>0.923759<\/td>\n",
       "      <td>0.867897<\/td>\n",
       "      <td>0.894957<\/td>\n",
       "    <\/tr>\n",
       "  <\/tbody>\n",
       "<\/table>\n",
       "<\/div>"
      ]
     },
     "metadata":{},
     "output_type":"display_data"
    }
   ],
   "metadata":{
    "datalore":{
     "node_id":"8CndifZ1iiTgg1lVt2szvs",
     "type":"CODE",
     "hide_input_from_viewers":false,
     "hide_output_from_viewers":false,
     "report_properties":{
      "rowId":"8TOGU7XUhWcAWB9TPkzKxU"
     }
    }
   }
  },
  {
   "cell_type":"markdown",
   "source":[
    "**Observations**\n",
    "\n",
    "- The f1_score of the model is ~0.89 and we will try to maximize it further\n",
    "\n",
    "- The variables used to build the model might contain multicollinearity, which will affect the p-values\n",
    "\n",
    "* We will have to remove multicollinearity from the data to get reliable coefficients and p-values"
   ],
   "attachments":{},
   "metadata":{
    "datalore":{
     "node_id":"l44532XCjIeAgiCPLFBI29",
     "type":"MD",
     "hide_input_from_viewers":false,
     "hide_output_from_viewers":false,
     "report_properties":{
      "rowId":"BtnK5xKnkmlPHXc1Rnbpov"
     }
    }
   }
  },
  {
   "cell_type":"markdown",
   "source":[
    "### Detecting and Dealing with Multicollinearity"
   ],
   "attachments":{},
   "metadata":{
    "datalore":{
     "node_id":"hOMU1YJk6JU7tHv4LoIwnG",
     "type":"MD",
     "hide_input_from_viewers":false,
     "hide_output_from_viewers":false,
     "report_properties":{
      "rowId":"ndTs51epRBi80qhRoVSCBL"
     }
    }
   }
  },
  {
   "cell_type":"markdown",
   "source":[
    "There are different ways of detecting (or testing for) multicollinearity. One such way is using the Variation Inflation Factor (VIF).\n",
    "\n",
    "* **Variance  Inflation  factor**:  Variance  inflation  factors  measure  the  inflation  in  the variances of the regression coefficients estimates due to collinearities that exist among the  predictors.  It  is  a  measure  of  how  much  the  variance  of  the  estimated  regression coefficient $\\beta_k$ is \"inflated\" by  the  existence  of  correlation  among  the  predictor variables in the model. \n",
    "\n",
    "* **General Rule of thumb**:\n",
    "  - If VIF is 1 then there is no correlation among the $k$th predictor and the remaining predictor variables, and  hence  the variance of $\\beta_k$ is not inflated at all\n",
    "  - If VIF exceeds 5, we say there is moderate multicollinearity\n",
    "  - If VIF is equal or exceeding 10, it shows signs of high multi-collinearity\n",
    "\n",
    "* The purpose of the analysis should dictate which threshold to use"
   ],
   "attachments":{},
   "metadata":{
    "datalore":{
     "node_id":"ua35yAXJqC5yaJiacwawrX",
     "type":"MD",
     "hide_input_from_viewers":false,
     "hide_output_from_viewers":false,
     "report_properties":{
      "rowId":"Lds558ErZXBe11kTrUYMSC"
     }
    }
   }
  },
  {
   "cell_type":"code",
   "source":[
    "vif_series = pd.Series(\n",
    "    [variance_inflation_factor(X_train.values, i) for i in range(X_train.shape[1])],\n",
    "    index=X_train.columns,\n",
    "    dtype=float,\n",
    ")\n",
    "print(\"Series before feature selection: \\n\\n{}\\n\".format(vif_series))"
   ],
   "execution_count":45,
   "outputs":[
    {
     "name":"stdout",
     "text":[
      "Series before feature selection: \n",
      "\n",
      "const                               0.000000\n",
      "age                                 1.531401\n",
      "fnlwgt                              1.037491\n",
      "education_no_of_years                    inf\n",
      "working_hours_per_week              1.237162\n",
      "workclass_Local-gov                 3.041470\n",
      "workclass_Never-worked                   inf\n",
      "workclass_Private                   7.717533\n",
      "workclass_Self-emp-inc              2.217152\n",
      "workclass_Self-emp-not-inc          3.487046\n",
      "workclass_State-gov                 2.317984\n",
      "workclass_Unknown                        inf\n",
      "workclass_Without-pay               1.015562\n",
      "education_11th                           inf\n",
      "education_12th                           inf\n",
      "education_1st-4th                        inf\n",
      "education_5th-6th                        inf\n",
      "education_7th-8th                        inf\n",
      "education_9th                            inf\n",
      "education_Assoc-acdm                     inf\n",
      "education_Assoc-voc                      inf\n",
      "education_Bachelors                      inf\n",
      "education_Doctorate                      inf\n",
      "education_HS-grad                        inf\n",
      "education_Masters                        inf\n",
      "education_Preschool                      inf\n",
      "education_Prof-school                    inf\n",
      "education_Some-college                   inf\n",
      "marital_status_married              1.971883\n",
      "marital_status_not_married          1.714786\n",
      "occupation_Armed-Forces             1.010066\n",
      "occupation_Craft-repair             2.133802\n",
      "occupation_Exec-managerial          2.046469\n",
      "occupation_Farming-fishing          1.401571\n",
      "occupation_Handlers-cleaners        1.440475\n",
      "occupation_Machine-op-inspct        1.577192\n",
      "occupation_Other-service            1.750404\n",
      "occupation_Priv-house-serv          1.054692\n",
      "occupation_Prof-specialty           2.317960\n",
      "occupation_Protective-serv          1.253107\n",
      "occupation_Sales                    1.891884\n",
      "occupation_Tech-support             1.239360\n",
      "occupation_Transport-moving         1.509398\n",
      "occupation_Unknown                       inf\n",
      "race_Asian-Pac-Islander             5.305020\n",
      "race_Black                         10.196674\n",
      "race_Other                          1.878501\n",
      "race_White                         13.494644\n",
      "sex_Male                            1.520198\n",
      "native_contienent_europe            2.424319\n",
      "native_contienent_north_america     5.250971\n",
      "native_contienent_other             2.331141\n",
      "native_contienent_south_america     1.328881\n",
      "dtype: float64\n",
      "\n"
     ],
     "output_type":"stream"
    }
   ],
   "metadata":{
    "datalore":{
     "node_id":"SE1i5j2DKD0qbslk1JU742",
     "type":"CODE",
     "hide_input_from_viewers":false,
     "hide_output_from_viewers":false,
     "report_properties":{
      "rowId":"h94awcX4EaGw8nhrRBa12T"
     }
    }
   }
  },
  {
   "cell_type":"markdown",
   "source":[
    "* `education_no_of_years`, `education`, and some categorical levels of `workclass`, `native_country`, and `race` exhibit high multicollinearity\n",
    "\n",
    "* We see that some variables have *inf* values for VIF\n",
    "  * The *inf* values for VIF indicate perfect correlation between variables\n",
    "\n",
    "* As we saw in our earlier analysis that wherever workclass has unknown values occupation is also unknown.\n",
    "  * The high correlation between these variables has been highlighted in the VIF values as well\n",
    "\n",
    "* We will drop `occupation_Unknown` as we get the same information from `workclass_Unknown`"
   ],
   "attachments":{},
   "metadata":{
    "datalore":{
     "node_id":"341NzjNKiTycDCtKjAEngK",
     "type":"MD",
     "hide_input_from_viewers":false,
     "hide_output_from_viewers":false,
     "report_properties":{
      "rowId":"Iz4wQV1Bn4zmTU1RQYb1b8"
     }
    }
   }
  },
  {
   "cell_type":"markdown",
   "source":[
    "**Removing `occupation_Unknown`**"
   ],
   "attachments":{},
   "metadata":{
    "datalore":{
     "node_id":"fOlrPoVobhYgVj67Y1e1mi",
     "type":"MD",
     "hide_input_from_viewers":false,
     "hide_output_from_viewers":false,
     "report_properties":{
      "rowId":"mJ1KUXumEEFAQYdkFoKGZh"
     }
    }
   }
  },
  {
   "cell_type":"code",
   "source":[
    "X_train1 = X_train.drop(\"occupation_Unknown\", axis=1)\n",
    "\n",
    "vif_series2 = pd.Series(\n",
    "    [variance_inflation_factor(X_train1.values, i) for i in range(X_train1.shape[1])],\n",
    "    index=X_train1.columns,\n",
    ")\n",
    "print(\"Series before feature selection: \\n\\n{}\\n\".format(vif_series2))"
   ],
   "execution_count":46,
   "outputs":[
    {
     "name":"stdout",
     "text":[
      "Series before feature selection: \n",
      "\n",
      "const                               0.000000\n",
      "age                                 1.531401\n",
      "fnlwgt                              1.037491\n",
      "education_no_of_years                    inf\n",
      "working_hours_per_week              1.237162\n",
      "workclass_Local-gov                 3.041470\n",
      "workclass_Never-worked              1.012785\n",
      "workclass_Private                   7.717533\n",
      "workclass_Self-emp-inc              2.217152\n",
      "workclass_Self-emp-not-inc          3.487046\n",
      "workclass_State-gov                 2.317984\n",
      "workclass_Unknown                   3.039325\n",
      "workclass_Without-pay               1.015562\n",
      "education_11th                           inf\n",
      "education_12th                           inf\n",
      "education_1st-4th                        inf\n",
      "education_5th-6th                        inf\n",
      "education_7th-8th                        inf\n",
      "education_9th                            inf\n",
      "education_Assoc-acdm                     inf\n",
      "education_Assoc-voc                      inf\n",
      "education_Bachelors                      inf\n",
      "education_Doctorate                      inf\n",
      "education_HS-grad                        inf\n",
      "education_Masters                        inf\n",
      "education_Preschool                      inf\n",
      "education_Prof-school                    inf\n",
      "education_Some-college                   inf\n",
      "marital_status_married              1.971883\n",
      "marital_status_not_married          1.714786\n",
      "occupation_Armed-Forces             1.010066\n",
      "occupation_Craft-repair             2.133802\n",
      "occupation_Exec-managerial          2.046469\n",
      "occupation_Farming-fishing          1.401571\n",
      "occupation_Handlers-cleaners        1.440475\n",
      "occupation_Machine-op-inspct        1.577192\n",
      "occupation_Other-service            1.750404\n",
      "occupation_Priv-house-serv          1.054692\n",
      "occupation_Prof-specialty           2.317960\n",
      "occupation_Protective-serv          1.253107\n",
      "occupation_Sales                    1.891884\n",
      "occupation_Tech-support             1.239360\n",
      "occupation_Transport-moving         1.509398\n",
      "race_Asian-Pac-Islander             5.305020\n",
      "race_Black                         10.196674\n",
      "race_Other                          1.878501\n",
      "race_White                         13.494644\n",
      "sex_Male                            1.520198\n",
      "native_contienent_europe            2.424319\n",
      "native_contienent_north_america     5.250971\n",
      "native_contienent_other             2.331141\n",
      "native_contienent_south_america     1.328881\n",
      "dtype: float64\n",
      "\n"
     ],
     "output_type":"stream"
    }
   ],
   "metadata":{
    "datalore":{
     "node_id":"b4XlQ4TpLBSjrDXJ0wLkGE",
     "type":"CODE",
     "hide_input_from_viewers":false,
     "hide_output_from_viewers":false,
     "report_properties":{
      "rowId":"pnohY9BmynW9NZ7CtvCNST"
     }
    }
   }
  },
  {
   "cell_type":"markdown",
   "source":[
    "* `education_no_of_years` and `education` also capture similar information and hence, it is understandable that they have high VIF values\n",
    "\n",
    "* We will be dropping `education_no_of_years` and `education` one at a time, building separate models, and checking their performances to see which variable has a significant impact on the model's performance"
   ],
   "attachments":{},
   "metadata":{
    "datalore":{
     "node_id":"FnTxl2tANBgus9Hk67pH2g",
     "type":"MD",
     "hide_input_from_viewers":false,
     "hide_output_from_viewers":false,
     "report_properties":{
      "rowId":"UkRQLzXHvTXUSURKTjgvcv"
     }
    }
   }
  },
  {
   "cell_type":"markdown",
   "source":[
    "**Dropping `education_no_of_years`**"
   ],
   "attachments":{},
   "metadata":{
    "datalore":{
     "node_id":"gmFlvZAceZUA4Zyshq1M8x",
     "type":"MD",
     "hide_input_from_viewers":false,
     "hide_output_from_viewers":false,
     "report_properties":{
      "rowId":"3NWUgGeuUSVly0T1sbr6GB"
     }
    }
   }
  },
  {
   "cell_type":"code",
   "source":[
    "X_train2 = X_train1.drop(\"education_no_of_years\", axis=1)\n",
    "vif_series3 = pd.Series(\n",
    "    [variance_inflation_factor(X_train2.values, i) for i in range(X_train2.shape[1])],\n",
    "    index=X_train2.columns,\n",
    ")\n",
    "print(\"Series before feature selection: \\n\\n{}\\n\".format(vif_series3))"
   ],
   "execution_count":47,
   "outputs":[
    {
     "name":"stdout",
     "text":[
      "Series before feature selection: \n",
      "\n",
      "const                              326.271888\n",
      "age                                  1.531401\n",
      "fnlwgt                               1.037491\n",
      "working_hours_per_week               1.237162\n",
      "workclass_Local-gov                  3.041470\n",
      "workclass_Never-worked               1.012785\n",
      "workclass_Private                    7.717533\n",
      "workclass_Self-emp-inc               2.217152\n",
      "workclass_Self-emp-not-inc           3.487046\n",
      "workclass_State-gov                  2.317984\n",
      "workclass_Unknown                    3.039325\n",
      "workclass_Without-pay                1.015562\n",
      "education_11th                       2.147415\n",
      "education_12th                       1.422410\n",
      "education_1st-4th                    1.188352\n",
      "education_5th-6th                    1.338683\n",
      "education_7th-8th                    1.655272\n",
      "education_9th                        1.524978\n",
      "education_Assoc-acdm                 2.105382\n",
      "education_Assoc-voc                  2.374490\n",
      "education_Bachelors                  5.939193\n",
      "education_Doctorate                  1.564790\n",
      "education_HS-grad                    8.112679\n",
      "education_Masters                    2.978449\n",
      "education_Preschool                  1.064098\n",
      "education_Prof-school                1.811978\n",
      "education_Some-college               6.857574\n",
      "marital_status_married               1.971883\n",
      "marital_status_not_married           1.714786\n",
      "occupation_Armed-Forces              1.010066\n",
      "occupation_Craft-repair              2.133802\n",
      "occupation_Exec-managerial           2.046469\n",
      "occupation_Farming-fishing           1.401571\n",
      "occupation_Handlers-cleaners         1.440475\n",
      "occupation_Machine-op-inspct         1.577192\n",
      "occupation_Other-service             1.750404\n",
      "occupation_Priv-house-serv           1.054692\n",
      "occupation_Prof-specialty            2.317960\n",
      "occupation_Protective-serv           1.253107\n",
      "occupation_Sales                     1.891884\n",
      "occupation_Tech-support              1.239360\n",
      "occupation_Transport-moving          1.509398\n",
      "race_Asian-Pac-Islander              5.305020\n",
      "race_Black                          10.196674\n",
      "race_Other                           1.878501\n",
      "race_White                          13.494644\n",
      "sex_Male                             1.520198\n",
      "native_contienent_europe             2.424319\n",
      "native_contienent_north_america      5.250971\n",
      "native_contienent_other              2.331141\n",
      "native_contienent_south_america      1.328881\n",
      "dtype: float64\n",
      "\n"
     ],
     "output_type":"stream"
    }
   ],
   "metadata":{
    "datalore":{
     "node_id":"jYePsZQ9at1Jd7sdtExzws",
     "type":"CODE",
     "hide_input_from_viewers":false,
     "hide_output_from_viewers":false,
     "report_properties":{
      "rowId":"XTFnWbSLcLsQElO7MPVAtr"
     }
    }
   }
  },
  {
   "cell_type":"markdown",
   "source":[
    "* Dropping education_no_of_years fixes the multicollinearity in education column."
   ],
   "attachments":{},
   "metadata":{
    "datalore":{
     "node_id":"SAHtHpLIorhcpAl46U5rdC",
     "type":"MD",
     "hide_input_from_viewers":false,
     "hide_output_from_viewers":false,
     "report_properties":{
      "rowId":"uy4ykRKgFcqpl7suAHBrwp"
     }
    }
   }
  },
  {
   "cell_type":"code",
   "source":[
    "logit2 = sm.Logit(y_train, X_train2.astype(float))\n",
    "lg2 = logit2.fit(disp=False)\n",
    "\n",
    "print(\"Training performance:\")\n",
    "model_performance_classification_statsmodels(lg2, X_train2, y_train)"
   ],
   "execution_count":48,
   "outputs":[
    {
     "name":"stdout",
     "text":[
      "Training performance:\n"
     ],
     "output_type":"stream"
    },
    {
     "data":{
      "text\/html":[
       "<div>\n",
       "<style scoped>\n",
       "    .dataframe tbody tr th:only-of-type {\n",
       "        vertical-align: middle;\n",
       "    }\n",
       "\n",
       "    .dataframe tbody tr th {\n",
       "        vertical-align: top;\n",
       "    }\n",
       "\n",
       "    .dataframe thead th {\n",
       "        text-align: right;\n",
       "    }\n",
       "<\/style>\n",
       "<table border=\"1\" class=\"dataframe\">\n",
       "  <thead>\n",
       "    <tr style=\"text-align: right;\">\n",
       "      <th><\/th>\n",
       "      <th>Accuracy<\/th>\n",
       "      <th>Recall<\/th>\n",
       "      <th>Precision<\/th>\n",
       "      <th>F1<\/th>\n",
       "    <\/tr>\n",
       "  <\/thead>\n",
       "  <tbody>\n",
       "    <tr>\n",
       "      <th>0<\/th>\n",
       "      <td>0.835624<\/td>\n",
       "      <td>0.923759<\/td>\n",
       "      <td>0.867897<\/td>\n",
       "      <td>0.894957<\/td>\n",
       "    <\/tr>\n",
       "  <\/tbody>\n",
       "<\/table>\n",
       "<\/div>"
      ]
     },
     "metadata":{},
     "output_type":"display_data"
    }
   ],
   "metadata":{
    "datalore":{
     "node_id":"wXSbdTsjQC4xnLs7z4e4p2",
     "type":"CODE",
     "hide_input_from_viewers":false,
     "hide_output_from_viewers":false,
     "report_properties":{
      "rowId":"rmqQVXS1pJaRzIMHMp0AWz"
     }
    }
   }
  },
  {
   "cell_type":"markdown",
   "source":[
    "* No significant change in the model performance."
   ],
   "attachments":{},
   "metadata":{
    "datalore":{
     "node_id":"WdFyZt1KMbQ19Z1Esm3cXu",
     "type":"MD",
     "hide_input_from_viewers":false,
     "hide_output_from_viewers":false,
     "report_properties":{
      "rowId":"HEz9Oe4GRQNHF4bFd0p1Q7"
     }
    }
   }
  },
  {
   "cell_type":"markdown",
   "source":[
    "**Observations:**\n",
    "1. Dropping education_no_of_years, race_ White doesn't have a significant impact on the model performance.\n",
    "2. We can choose any model to proceed to the next steps.\n",
    "3. Some of the categorical levels of a variable have VIF>5 which can simply be ignored."
   ],
   "attachments":{},
   "metadata":{
    "datalore":{
     "node_id":"swDnCADgzs8BGR2zIpiIqQ",
     "type":"MD",
     "hide_input_from_viewers":false,
     "hide_output_from_viewers":false,
     "report_properties":{
      "rowId":"MjmTW2Yk0ik7wZoWbfz5o3"
     }
    }
   }
  },
  {
   "cell_type":"code",
   "source":[
    "print(lg2.summary())"
   ],
   "execution_count":49,
   "outputs":[
    {
     "name":"stdout",
     "text":[
      "                           Logit Regression Results                           \n",
      "==============================================================================\n",
      "Dep. Variable:                 salary   No. Observations:                22771\n",
      "Model:                          Logit   Df Residuals:                    22720\n",
      "Method:                           MLE   Df Model:                           50\n",
      "Date:                Tue, 26 Nov 2024   Pseudo R-squ.:                  0.3678\n",
      "Time:                        17:20:37   Log-Likelihood:                -7965.8\n",
      "converged:                      False   LL-Null:                       -12600.\n",
      "Covariance Type:            nonrobust   LLR p-value:                     0.000\n",
      "===================================================================================================\n",
      "                                      coef    std err          z      P>|z|      [0.025      0.975]\n",
      "---------------------------------------------------------------------------------------------------\n",
      "const                               8.3433      0.405     20.584      0.000       7.549       9.138\n",
      "age                                -0.0314      0.002    -17.126      0.000      -0.035      -0.028\n",
      "fnlwgt                          -6.146e-07   2.13e-07     -2.881      0.004   -1.03e-06   -1.96e-07\n",
      "working_hours_per_week             -0.0655      0.004    -18.686      0.000      -0.072      -0.059\n",
      "workclass_Local-gov                 0.7669      0.127      6.061      0.000       0.519       1.015\n",
      "workclass_Never-worked             16.5407   5517.857      0.003      0.998   -1.08e+04    1.08e+04\n",
      "workclass_Private                   0.5196      0.105      4.972      0.000       0.315       0.724\n",
      "workclass_Self-emp-inc              0.2891      0.137      2.105      0.035       0.020       0.558\n",
      "workclass_Self-emp-not-inc          0.9751      0.123      7.899      0.000       0.733       1.217\n",
      "workclass_State-gov                 0.9400      0.141      6.667      0.000       0.664       1.216\n",
      "workclass_Unknown                   1.2653      0.156      8.118      0.000       0.960       1.571\n",
      "workclass_Without-pay              16.5958   1640.005      0.010      0.992   -3197.754    3230.946\n",
      "education_11th                     -0.0294      0.239     -0.123      0.902      -0.497       0.438\n",
      "education_12th                     -0.3966      0.293     -1.352      0.176      -0.972       0.178\n",
      "education_1st-4th                   1.6066      0.742      2.166      0.030       0.153       3.060\n",
      "education_5th-6th                   0.5044      0.364      1.385      0.166      -0.209       1.218\n",
      "education_7th-8th                   0.6165      0.265      2.325      0.020       0.097       1.136\n",
      "education_9th                       0.6077      0.310      1.963      0.050       0.001       1.214\n",
      "education_Assoc-acdm               -1.2664      0.199     -6.376      0.000      -1.656      -0.877\n",
      "education_Assoc-voc                -1.3471      0.190     -7.088      0.000      -1.720      -0.975\n",
      "education_Bachelors                -1.9643      0.176    -11.133      0.000      -2.310      -1.619\n",
      "education_Doctorate                -2.9061      0.238    -12.200      0.000      -3.373      -2.439\n",
      "education_HS-grad                  -0.7659      0.172     -4.463      0.000      -1.102      -0.430\n",
      "education_Masters                  -2.3671      0.188    -12.583      0.000      -2.736      -1.998\n",
      "education_Preschool                16.5732   2562.495      0.006      0.995   -5005.825    5038.971\n",
      "education_Prof-school              -3.1219      0.224    -13.961      0.000      -3.560      -2.684\n",
      "education_Some-college             -1.0517      0.174     -6.035      0.000      -1.393      -0.710\n",
      "marital_status_married             -2.5742      0.069    -37.060      0.000      -2.710      -2.438\n",
      "marital_status_not_married         -0.4045      0.084     -4.806      0.000      -0.569      -0.240\n",
      "occupation_Armed-Forces             0.5322      1.529      0.348      0.728      -2.465       3.530\n",
      "occupation_Craft-repair             0.0011      0.088      0.013      0.990      -0.172       0.175\n",
      "occupation_Exec-managerial         -0.6952      0.085     -8.199      0.000      -0.861      -0.529\n",
      "occupation_Farming-fishing          1.0593      0.157      6.763      0.000       0.752       1.366\n",
      "occupation_Handlers-cleaners        0.8354      0.162      5.169      0.000       0.519       1.152\n",
      "occupation_Machine-op-inspct        0.4118      0.115      3.573      0.000       0.186       0.638\n",
      "occupation_Other-service            0.9811      0.135      7.294      0.000       0.718       1.245\n",
      "occupation_Priv-house-serv          2.3843      1.091      2.185      0.029       0.245       4.524\n",
      "occupation_Prof-specialty          -0.4583      0.089     -5.143      0.000      -0.633      -0.284\n",
      "occupation_Protective-serv         -0.4979      0.143     -3.475      0.001      -0.779      -0.217\n",
      "occupation_Sales                   -0.1410      0.091     -1.555      0.120      -0.319       0.037\n",
      "occupation_Tech-support            -0.5943      0.123     -4.815      0.000      -0.836      -0.352\n",
      "occupation_Transport-moving         0.1759      0.112      1.572      0.116      -0.043       0.395\n",
      "race_Asian-Pac-Islander            -0.2499      0.287     -0.871      0.384      -0.812       0.312\n",
      "race_Black                         -0.2403      0.251     -0.958      0.338      -0.732       0.251\n",
      "race_Other                          0.4680      0.401      1.167      0.243      -0.318       1.254\n",
      "race_White                         -0.3346      0.238     -1.403      0.161      -0.802       0.133\n",
      "sex_Male                           -0.0661      0.059     -1.129      0.259      -0.181       0.049\n",
      "native_contienent_europe           -0.2102      0.241     -0.871      0.384      -0.683       0.263\n",
      "native_contienent_north_america    -0.2393      0.191     -1.251      0.211      -0.614       0.136\n",
      "native_contienent_other             0.2389      0.218      1.097      0.272      -0.188       0.666\n",
      "native_contienent_south_america     1.0479      0.526      1.992      0.046       0.017       2.079\n",
      "===================================================================================================\n"
     ],
     "output_type":"stream"
    }
   ],
   "metadata":{
    "datalore":{
     "node_id":"5FVhAYRGU3KQhbwM3Ysydr",
     "type":"CODE",
     "hide_input_from_viewers":false,
     "hide_output_from_viewers":false,
     "report_properties":{
      "rowId":"y0pLVDmJstmC5djJdE19HG"
     }
    }
   }
  },
  {
   "cell_type":"markdown",
   "source":[
    "### Removing high p-value variables"
   ],
   "attachments":{},
   "metadata":{
    "datalore":{
     "node_id":"7C1G5dUbVYjuuMOcNBWpr9",
     "type":"MD",
     "hide_input_from_viewers":false,
     "hide_output_from_viewers":false,
     "report_properties":{
      "rowId":"EFuBZRRzUcjOpxlnBUGqyC"
     }
    }
   }
  },
  {
   "cell_type":"markdown",
   "source":[
    "* For other attributes present in the data, the p-values are high only for few dummy variables and since only one (or some) of the categorical levels have a high p-value we will drop them iteratively as sometimes p-values change after dropping a variable. So, we'll not drop all variables at once.\n",
    "\n",
    "* Instead, we will do the following repeatedly using a loop:\n",
    "  - Build a model, check the p-values of the variables, and drop the column with the highest p-value.\n",
    "  - Create a new model without the dropped feature, check the p-values of the variables, and drop the column with the highest p-value.\n",
    "  - Repeat the above two steps till there are no columns with p-value > 0.05.\n",
    "\n",
    "\n",
    "Note: The above process can also be done manually by picking one variable at a time that has a high p-value, dropping it, and building a model again. But that might be a little tedious and using a loop will be more efficient."
   ],
   "attachments":{},
   "metadata":{
    "datalore":{
     "node_id":"zuuCGs9Hok6quLPHNTdrAb",
     "type":"MD",
     "hide_input_from_viewers":false,
     "hide_output_from_viewers":false,
     "report_properties":{
      "rowId":"0zYlkT8KI6K2OuJ8QI8ZRZ"
     }
    }
   }
  },
  {
   "cell_type":"code",
   "source":[
    "# initial list of columns\n",
    "cols = X_train2.columns.tolist()\n",
    "\n",
    "# setting an initial max p-value\n",
    "max_p_value = 1\n",
    "\n",
    "while len(cols) > 0:\n",
    "    # defining the train set\n",
    "    X_train_aux = X_train2[cols]\n",
    "\n",
    "    # fitting the model\n",
    "    model = sm.Logit(y_train, X_train_aux).fit(disp=False)\n",
    "\n",
    "    # getting the p-values and the maximum p-value\n",
    "    p_values = model.pvalues\n",
    "    max_p_value = max(p_values)\n",
    "\n",
    "    # name of the variable with maximum p-value\n",
    "    feature_with_p_max = p_values.idxmax()\n",
    "\n",
    "    if max_p_value > 0.05:\n",
    "        cols.remove(feature_with_p_max)\n",
    "    else:\n",
    "        break\n",
    "\n",
    "selected_features = cols\n",
    "print(selected_features)"
   ],
   "execution_count":50,
   "outputs":[
    {
     "name":"stdout",
     "text":[
      "['const', 'age', 'fnlwgt', 'working_hours_per_week', 'workclass_Local-gov', 'workclass_Private', 'workclass_Self-emp-not-inc', 'workclass_State-gov', 'workclass_Unknown', 'education_1st-4th', 'education_7th-8th', 'education_9th', 'education_Assoc-acdm', 'education_Assoc-voc', 'education_Bachelors', 'education_Doctorate', 'education_HS-grad', 'education_Masters', 'education_Prof-school', 'education_Some-college', 'marital_status_married', 'marital_status_not_married', 'occupation_Exec-managerial', 'occupation_Farming-fishing', 'occupation_Handlers-cleaners', 'occupation_Machine-op-inspct', 'occupation_Other-service', 'occupation_Priv-house-serv', 'occupation_Prof-specialty', 'occupation_Protective-serv', 'occupation_Sales', 'occupation_Tech-support', 'race_Other', 'race_White', 'native_contienent_other', 'native_contienent_south_america']\n"
     ],
     "output_type":"stream"
    }
   ],
   "metadata":{
    "datalore":{
     "node_id":"6P59wScUNAsNgFamEkL7fv",
     "type":"CODE",
     "hide_input_from_viewers":false,
     "hide_output_from_viewers":false,
     "report_properties":{
      "rowId":"ItULZZ8idIS8NPhQQgaCTU"
     }
    }
   }
  },
  {
   "cell_type":"code",
   "source":[
    "X_train3 = X_train2[selected_features]"
   ],
   "execution_count":51,
   "outputs":[],
   "metadata":{
    "datalore":{
     "node_id":"l5UJ9YXSdPPe0SLgkSrer2",
     "type":"CODE",
     "hide_input_from_viewers":false,
     "hide_output_from_viewers":false,
     "report_properties":{
      "rowId":"NJY3CyfsLlreF2C2q56MFl"
     }
    }
   }
  },
  {
   "cell_type":"code",
   "source":[
    "logit3 = sm.Logit(y_train, X_train3.astype(float))\n",
    "lg3 = logit3.fit(disp=False)\n",
    "\n",
    "print(lg3.summary())"
   ],
   "execution_count":52,
   "outputs":[
    {
     "name":"stdout",
     "text":[
      "                           Logit Regression Results                           \n",
      "==============================================================================\n",
      "Dep. Variable:                 salary   No. Observations:                22771\n",
      "Model:                          Logit   Df Residuals:                    22735\n",
      "Method:                           MLE   Df Model:                           35\n",
      "Date:                Tue, 26 Nov 2024   Pseudo R-squ.:                  0.3666\n",
      "Time:                        17:20:41   Log-Likelihood:                -7980.7\n",
      "converged:                       True   LL-Null:                       -12600.\n",
      "Covariance Type:            nonrobust   LLR p-value:                     0.000\n",
      "===================================================================================================\n",
      "                                      coef    std err          z      P>|z|      [0.025      0.975]\n",
      "---------------------------------------------------------------------------------------------------\n",
      "const                               8.0557      0.233     34.544      0.000       7.599       8.513\n",
      "age                                -0.0314      0.002    -17.178      0.000      -0.035      -0.028\n",
      "fnlwgt                          -6.273e-07   2.12e-07     -2.964      0.003   -1.04e-06   -2.12e-07\n",
      "working_hours_per_week             -0.0650      0.003    -19.014      0.000      -0.072      -0.058\n",
      "workclass_Local-gov                 0.6101      0.103      5.930      0.000       0.408       0.812\n",
      "workclass_Private                   0.3585      0.072      4.976      0.000       0.217       0.500\n",
      "workclass_Self-emp-not-inc          0.8012      0.094      8.485      0.000       0.616       0.986\n",
      "workclass_State-gov                 0.7793      0.121      6.466      0.000       0.543       1.016\n",
      "workclass_Unknown                   1.0881      0.132      8.229      0.000       0.829       1.347\n",
      "education_1st-4th                   1.5989      0.729      2.192      0.028       0.169       3.029\n",
      "education_7th-8th                   0.6164      0.229      2.687      0.007       0.167       1.066\n",
      "education_9th                       0.5931      0.279      2.123      0.034       0.046       1.141\n",
      "education_Assoc-acdm               -1.2818      0.146     -8.791      0.000      -1.568      -0.996\n",
      "education_Assoc-voc                -1.3671      0.134    -10.168      0.000      -1.631      -1.104\n",
      "education_Bachelors                -1.9848      0.114    -17.449      0.000      -2.208      -1.762\n",
      "education_Doctorate                -2.9087      0.196    -14.845      0.000      -3.293      -2.525\n",
      "education_HS-grad                  -0.7808      0.108     -7.260      0.000      -0.992      -0.570\n",
      "education_Masters                  -2.3806      0.131    -18.149      0.000      -2.638      -2.124\n",
      "education_Prof-school              -3.1388      0.178    -17.616      0.000      -3.488      -2.790\n",
      "education_Some-college             -1.0739      0.111     -9.666      0.000      -1.292      -0.856\n",
      "marital_status_married             -2.5792      0.067    -38.449      0.000      -2.711      -2.448\n",
      "marital_status_not_married         -0.3935      0.084     -4.711      0.000      -0.557      -0.230\n",
      "occupation_Exec-managerial         -0.7135      0.063    -11.324      0.000      -0.837      -0.590\n",
      "occupation_Farming-fishing          1.0603      0.142      7.450      0.000       0.781       1.339\n",
      "occupation_Handlers-cleaners        0.7954      0.149      5.340      0.000       0.503       1.087\n",
      "occupation_Machine-op-inspct        0.3845      0.097      3.967      0.000       0.195       0.575\n",
      "occupation_Other-service            0.9771      0.122      8.026      0.000       0.738       1.216\n",
      "occupation_Priv-house-serv          2.4240      1.082      2.240      0.025       0.303       4.545\n",
      "occupation_Prof-specialty          -0.4775      0.072     -6.675      0.000      -0.618      -0.337\n",
      "occupation_Protective-serv         -0.5487      0.130     -4.205      0.000      -0.804      -0.293\n",
      "occupation_Sales                   -0.1563      0.068     -2.299      0.021      -0.290      -0.023\n",
      "occupation_Tech-support            -0.6295      0.110     -5.700      0.000      -0.846      -0.413\n",
      "race_Other                          0.6816      0.329      2.069      0.039       0.036       1.327\n",
      "race_White                         -0.1545      0.067     -2.301      0.021      -0.286      -0.023\n",
      "native_contienent_other             0.4532      0.149      3.041      0.002       0.161       0.745\n",
      "native_contienent_south_america     1.2598      0.489      2.576      0.010       0.301       2.218\n",
      "===================================================================================================\n"
     ],
     "output_type":"stream"
    }
   ],
   "metadata":{
    "datalore":{
     "node_id":"ONsBojucQYdYtMg6l04hTG",
     "type":"CODE",
     "hide_input_from_viewers":false,
     "hide_output_from_viewers":false,
     "report_properties":{
      "rowId":"Eij4LoXXczCOwdAikDN9Zm"
     }
    }
   }
  },
  {
   "cell_type":"markdown",
   "source":[
    "**Now no categorical feature has p-value greater than 0.05, so we'll consider the features in *X_train3* as the final ones and *lg3* as final model.**"
   ],
   "attachments":{},
   "metadata":{
    "datalore":{
     "node_id":"a9eVdebLTpg7tC4dXzlfHG",
     "type":"MD",
     "hide_input_from_viewers":false,
     "hide_output_from_viewers":false,
     "report_properties":{
      "rowId":"CmBQYm8Y3UBHYEgd3NnWT0"
     }
    }
   }
  },
  {
   "cell_type":"markdown",
   "source":[
    "### Coefficient Interpretations"
   ],
   "attachments":{},
   "metadata":{
    "datalore":{
     "node_id":"KWCBiDGMpNd0GzBtVVQUOF",
     "type":"MD",
     "hide_input_from_viewers":false,
     "hide_output_from_viewers":false,
     "report_properties":{
      "rowId":"nybwsdxbgODfzyWXrzI9BW"
     }
    }
   }
  },
  {
   "cell_type":"markdown",
   "source":[
    "* Coefficient of some levels of education, workclass, and native country are positive an increase in these will lead to increase in chances of a person having <=50K salary. \n",
    "\n",
    "* Coefficient of age, fnlwgt, marital_status, working_hours_per_week, some levels of education, workclass, and native country are negative increase in these will lead to decrease in chances of a person having <=50K salary."
   ],
   "attachments":{},
   "metadata":{
    "datalore":{
     "node_id":"hvwcLJeUiJtqtSsOESicyd",
     "type":"MD",
     "hide_input_from_viewers":false,
     "hide_output_from_viewers":false,
     "report_properties":{
      "rowId":"l8EKhUyC6TXaioHnYdUfXk"
     }
    }
   }
  },
  {
   "cell_type":"markdown",
   "source":[
    "**Converting coefficients to odds**\n",
    "\n",
    "* The coefficients ($\\beta$s) of the logistic regression model are in terms of $log(odds)$ and to find the odds, we have to take the exponential of the coefficients\n",
    "* Therefore, **$odds =  exp(\\beta)$**\n",
    "* The percentage change in odds is given as $(exp(\\beta) - 1) * 100$"
   ],
   "attachments":{},
   "metadata":{
    "datalore":{
     "node_id":"y3uWt4U3ZF14fdjDPhHpWk",
     "type":"MD",
     "hide_input_from_viewers":false,
     "hide_output_from_viewers":false,
     "report_properties":{
      "rowId":"XHJv65SKyi3MtMjrhhsM8t"
     }
    }
   }
  },
  {
   "cell_type":"code",
   "source":[
    "# converting coefficients to odds\n",
    "odds = np.exp(lg3.params)\n",
    "\n",
    "# finding the percentage change\n",
    "perc_change_odds = (np.exp(lg3.params) - 1) * 100\n",
    "\n",
    "# removing limit from number of columns to display\n",
    "pd.set_option(\"display.max_columns\", None)\n",
    "\n",
    "# adding the odds to a dataframe\n",
    "pd.DataFrame({\"Odds\": odds, \"Change_odd%\": perc_change_odds}, index=X_train3.columns).T"
   ],
   "execution_count":53,
   "outputs":[
    {
     "data":{
      "text\/html":[
       "<div>\n",
       "<style scoped>\n",
       "    .dataframe tbody tr th:only-of-type {\n",
       "        vertical-align: middle;\n",
       "    }\n",
       "\n",
       "    .dataframe tbody tr th {\n",
       "        vertical-align: top;\n",
       "    }\n",
       "\n",
       "    .dataframe thead th {\n",
       "        text-align: right;\n",
       "    }\n",
       "<\/style>\n",
       "<table border=\"1\" class=\"dataframe\">\n",
       "  <thead>\n",
       "    <tr style=\"text-align: right;\">\n",
       "      <th><\/th>\n",
       "      <th>const<\/th>\n",
       "      <th>age<\/th>\n",
       "      <th>fnlwgt<\/th>\n",
       "      <th>working_hours_per_week<\/th>\n",
       "      <th>workclass_Local-gov<\/th>\n",
       "      <th>workclass_Private<\/th>\n",
       "      <th>workclass_Self-emp-not-inc<\/th>\n",
       "      <th>workclass_State-gov<\/th>\n",
       "      <th>workclass_Unknown<\/th>\n",
       "      <th>education_1st-4th<\/th>\n",
       "      <th>education_7th-8th<\/th>\n",
       "      <th>education_9th<\/th>\n",
       "      <th>education_Assoc-acdm<\/th>\n",
       "      <th>education_Assoc-voc<\/th>\n",
       "      <th>education_Bachelors<\/th>\n",
       "      <th>education_Doctorate<\/th>\n",
       "      <th>education_HS-grad<\/th>\n",
       "      <th>education_Masters<\/th>\n",
       "      <th>education_Prof-school<\/th>\n",
       "      <th>education_Some-college<\/th>\n",
       "      <th>marital_status_married<\/th>\n",
       "      <th>marital_status_not_married<\/th>\n",
       "      <th>occupation_Exec-managerial<\/th>\n",
       "      <th>occupation_Farming-fishing<\/th>\n",
       "      <th>occupation_Handlers-cleaners<\/th>\n",
       "      <th>occupation_Machine-op-inspct<\/th>\n",
       "      <th>occupation_Other-service<\/th>\n",
       "      <th>occupation_Priv-house-serv<\/th>\n",
       "      <th>occupation_Prof-specialty<\/th>\n",
       "      <th>occupation_Protective-serv<\/th>\n",
       "      <th>occupation_Sales<\/th>\n",
       "      <th>occupation_Tech-support<\/th>\n",
       "      <th>race_Other<\/th>\n",
       "      <th>race_White<\/th>\n",
       "      <th>native_contienent_other<\/th>\n",
       "      <th>native_contienent_south_america<\/th>\n",
       "    <\/tr>\n",
       "  <\/thead>\n",
       "  <tbody>\n",
       "    <tr>\n",
       "      <th>Odds<\/th>\n",
       "      <td>3151.769230<\/td>\n",
       "      <td>0.969130<\/td>\n",
       "      <td>0.999999<\/td>\n",
       "      <td>0.937106<\/td>\n",
       "      <td>1.840620<\/td>\n",
       "      <td>1.431156<\/td>\n",
       "      <td>2.228214<\/td>\n",
       "      <td>2.180033<\/td>\n",
       "      <td>2.968489<\/td>\n",
       "      <td>4.947805<\/td>\n",
       "      <td>1.852163<\/td>\n",
       "      <td>1.809587<\/td>\n",
       "      <td>0.277548<\/td>\n",
       "      <td>0.254854<\/td>\n",
       "      <td>0.137414<\/td>\n",
       "      <td>0.054548<\/td>\n",
       "      <td>0.458036<\/td>\n",
       "      <td>0.092492<\/td>\n",
       "      <td>0.043336<\/td>\n",
       "      <td>0.341689<\/td>\n",
       "      <td>0.075834<\/td>\n",
       "      <td>0.674683<\/td>\n",
       "      <td>0.489944<\/td>\n",
       "      <td>2.887110<\/td>\n",
       "      <td>2.215304<\/td>\n",
       "      <td>1.468939<\/td>\n",
       "      <td>2.656708<\/td>\n",
       "      <td>11.291126<\/td>\n",
       "      <td>0.620316<\/td>\n",
       "      <td>0.577698<\/td>\n",
       "      <td>0.855304<\/td>\n",
       "      <td>0.532832<\/td>\n",
       "      <td>1.976960<\/td>\n",
       "      <td>0.856834<\/td>\n",
       "      <td>1.573320<\/td>\n",
       "      <td>3.524735<\/td>\n",
       "    <\/tr>\n",
       "    <tr>\n",
       "      <th>Change_odd%<\/th>\n",
       "      <td>315076.922967<\/td>\n",
       "      <td>-3.086978<\/td>\n",
       "      <td>-0.000063<\/td>\n",
       "      <td>-6.289395<\/td>\n",
       "      <td>84.062005<\/td>\n",
       "      <td>43.115618<\/td>\n",
       "      <td>122.821364<\/td>\n",
       "      <td>118.003275<\/td>\n",
       "      <td>196.848948<\/td>\n",
       "      <td>394.780514<\/td>\n",
       "      <td>85.216306<\/td>\n",
       "      <td>80.958691<\/td>\n",
       "      <td>-72.245187<\/td>\n",
       "      <td>-74.514571<\/td>\n",
       "      <td>-86.258563<\/td>\n",
       "      <td>-94.545220<\/td>\n",
       "      <td>-54.196379<\/td>\n",
       "      <td>-90.750752<\/td>\n",
       "      <td>-95.666411<\/td>\n",
       "      <td>-65.831123<\/td>\n",
       "      <td>-92.416624<\/td>\n",
       "      <td>-32.531684<\/td>\n",
       "      <td>-51.005637<\/td>\n",
       "      <td>188.710981<\/td>\n",
       "      <td>121.530367<\/td>\n",
       "      <td>46.893899<\/td>\n",
       "      <td>165.670835<\/td>\n",
       "      <td>1029.112563<\/td>\n",
       "      <td>-37.968373<\/td>\n",
       "      <td>-42.230185<\/td>\n",
       "      <td>-14.469579<\/td>\n",
       "      <td>-46.716755<\/td>\n",
       "      <td>97.696049<\/td>\n",
       "      <td>-14.316591<\/td>\n",
       "      <td>57.332018<\/td>\n",
       "      <td>252.473541<\/td>\n",
       "    <\/tr>\n",
       "  <\/tbody>\n",
       "<\/table>\n",
       "<\/div>"
      ]
     },
     "metadata":{},
     "output_type":"display_data"
    }
   ],
   "metadata":{
    "datalore":{
     "node_id":"WpOJkpieaHcBV4CeIlqIYo",
     "type":"CODE",
     "hide_input_from_viewers":false,
     "hide_output_from_viewers":false,
     "report_properties":{
      "rowId":"h2S9qlU3Y72NvdbaUF2qPX"
     }
    }
   }
  },
  {
   "cell_type":"markdown",
   "source":[
    "**Coefficient interpretations**\n",
    "\n",
    "* `age`: Holding all other features constant a 1 unit change in Age will decrease the odds of a person having salary <=50k by ~0.97 times or a ~3% decrease in odds of having salary <=50K.\n",
    "* `working_hours_per_week`: Holding all other features constant a 1 unit change in the working_hours_per_week will decrease the odds of a person having salary <=50k by ~0.94 times or a decrease of ~6.3% decrease in odds of having salary <=50K.\n",
    "* `marital_status`: The odds of a person whose marital status is married having a salary <=50K is ~0.076 less than the person who was never married or ~92.4% fewer odds of having salary <=50K than the person who was never married. Similarly, the odds of a person whose marital status is not_married having a salary <=50K is ~0.67 times less than the person who was never married or ~32.5% less odds of having a salary <=50K than the person who was never married. [the dropped category Never_married is taken as a reference level]\n",
    "* `education`: The odds of a person who is HS-grad having salary <=50K is ~0.45 times less than the person who has done education 1st-9th, 11th or Preschool or ~54.1% fewer odds of having salary <=50K. Similarly, The odds of a person who has a Doctorate having a salary <=50K is 0.05 times less than the person who has done education 1st-9th or Preschool or ~95.00% less odds of having a salary <=50K. [the dropped categories education_ 1st-4th,education_ 5th-6th, education_ 7th-8th, education_ 9th, education_ 11th, education_ Preschool are taken as a reference level]\n",
    "\n",
    "**Interpretation for other attributes can be done similarly.**"
   ],
   "attachments":{},
   "metadata":{
    "datalore":{
     "node_id":"mGyZ5wLsLLqa32YBhoTWXb",
     "type":"MD",
     "hide_input_from_viewers":false,
     "hide_output_from_viewers":false,
     "report_properties":{
      "rowId":"JALtivPNTfLAFfwNo88vNH"
     }
    }
   }
  },
  {
   "cell_type":"markdown",
   "source":[
    "### Checking performance of the new model"
   ],
   "attachments":{},
   "metadata":{
    "datalore":{
     "node_id":"2YXNivbmdfzdFuUtzIYloT",
     "type":"MD",
     "hide_input_from_viewers":false,
     "hide_output_from_viewers":false,
     "report_properties":{
      "rowId":"DwfQDruRfgKNNI1tP7zW0c"
     }
    }
   }
  },
  {
   "cell_type":"markdown",
   "source":[
    "**Training set performance**"
   ],
   "attachments":{},
   "metadata":{
    "datalore":{
     "node_id":"32PWEUVayYunboCdwL9QlS",
     "type":"MD",
     "hide_input_from_viewers":false,
     "hide_output_from_viewers":false,
     "report_properties":{
      "rowId":"A99fKJoG3eiQDSDuz56As2"
     }
    }
   }
  },
  {
   "cell_type":"code",
   "source":[
    "# creating confusion matrix\n",
    "confusion_matrix_statsmodels(lg3, X_train3, y_train)"
   ],
   "execution_count":54,
   "outputs":[
    {
     "data":{
      "image\/png":"[encoded data removed]"
     },
     "metadata":{
      "image\/png":{}
     },
     "output_type":"display_data"
    }
   ],
   "metadata":{
    "datalore":{
     "node_id":"07ahvoCooniIrZvtAq33RH",
     "type":"CODE",
     "hide_input_from_viewers":false,
     "hide_output_from_viewers":false,
     "report_properties":{
      "rowId":"wmai0rgBQcZZtgkOS3n9Pe"
     }
    }
   }
  },
  {
   "cell_type":"code",
   "source":[
    "log_reg_model_train_perf = model_performance_classification_statsmodels(\n",
    "    lg3, X_train3, y_train\n",
    ")\n",
    "\n",
    "print(\"Training performance:\")\n",
    "log_reg_model_train_perf"
   ],
   "execution_count":55,
   "outputs":[
    {
     "name":"stdout",
     "text":[
      "Training performance:\n"
     ],
     "output_type":"stream"
    },
    {
     "data":{
      "text\/html":[
       "<div>\n",
       "<style scoped>\n",
       "    .dataframe tbody tr th:only-of-type {\n",
       "        vertical-align: middle;\n",
       "    }\n",
       "\n",
       "    .dataframe tbody tr th {\n",
       "        vertical-align: top;\n",
       "    }\n",
       "\n",
       "    .dataframe thead th {\n",
       "        text-align: right;\n",
       "    }\n",
       "<\/style>\n",
       "<table border=\"1\" class=\"dataframe\">\n",
       "  <thead>\n",
       "    <tr style=\"text-align: right;\">\n",
       "      <th><\/th>\n",
       "      <th>Accuracy<\/th>\n",
       "      <th>Recall<\/th>\n",
       "      <th>Precision<\/th>\n",
       "      <th>F1<\/th>\n",
       "    <\/tr>\n",
       "  <\/thead>\n",
       "  <tbody>\n",
       "    <tr>\n",
       "      <th>0<\/th>\n",
       "      <td>0.835536<\/td>\n",
       "      <td>0.924048<\/td>\n",
       "      <td>0.867602<\/td>\n",
       "      <td>0.894936<\/td>\n",
       "    <\/tr>\n",
       "  <\/tbody>\n",
       "<\/table>\n",
       "<\/div>"
      ]
     },
     "metadata":{},
     "output_type":"display_data"
    }
   ],
   "metadata":{
    "datalore":{
     "node_id":"9VbsLgeBojBLBlrVnuvpuk",
     "type":"CODE",
     "hide_input_from_viewers":false,
     "hide_output_from_viewers":false,
     "report_properties":{
      "rowId":"C1ukw3P5qijyK6MMBcZpRy"
     }
    }
   }
  },
  {
   "cell_type":"markdown",
   "source":[
    "**Test set performance**\n",
    "\n",
    "- We have to first drop the columns from the test set that were dropped from the training set."
   ],
   "attachments":{},
   "metadata":{
    "datalore":{
     "node_id":"Dt9uAyWLasHV4GY9MDosOn",
     "type":"MD",
     "hide_input_from_viewers":false,
     "hide_output_from_viewers":false,
     "report_properties":{
      "rowId":"AOny1LyJwOzKS90e8R8Ulo"
     }
    }
   }
  },
  {
   "cell_type":"code",
   "source":[
    "X_test3 = X_test[list(X_train3.columns)]"
   ],
   "execution_count":56,
   "outputs":[],
   "metadata":{
    "datalore":{
     "node_id":"ThX83qm9n5nPixHgkebPwH",
     "type":"CODE",
     "hide_input_from_viewers":false,
     "hide_output_from_viewers":false,
     "report_properties":{
      "rowId":"7xNbe1PsywciYP6lPZTC4M"
     }
    }
   }
  },
  {
   "cell_type":"code",
   "source":[
    "# creating confusion matrix\n",
    "confusion_matrix_statsmodels(lg3, X_test3, y_test)"
   ],
   "execution_count":57,
   "outputs":[
    {
     "data":{
      "image\/png":"[encoded data removed]"
     },
     "metadata":{
      "image\/png":{}
     },
     "output_type":"display_data"
    }
   ],
   "metadata":{
    "datalore":{
     "node_id":"w0Trt1Ce5dwRPY4EV2Qdl3",
     "type":"CODE",
     "hide_input_from_viewers":false,
     "hide_output_from_viewers":false,
     "report_properties":{
      "rowId":"5A00U0ZjQbiak1m8K0Kr3e"
     }
    }
   }
  },
  {
   "cell_type":"code",
   "source":[
    "log_reg_model_test_perf = model_performance_classification_statsmodels(\n",
    "    lg3, X_test3, y_test\n",
    ")\n",
    "\n",
    "print(\"Test performance:\")\n",
    "log_reg_model_test_perf"
   ],
   "execution_count":58,
   "outputs":[
    {
     "name":"stdout",
     "text":[
      "Test performance:\n"
     ],
     "output_type":"stream"
    },
    {
     "data":{
      "text\/html":[
       "<div>\n",
       "<style scoped>\n",
       "    .dataframe tbody tr th:only-of-type {\n",
       "        vertical-align: middle;\n",
       "    }\n",
       "\n",
       "    .dataframe tbody tr th {\n",
       "        vertical-align: top;\n",
       "    }\n",
       "\n",
       "    .dataframe thead th {\n",
       "        text-align: right;\n",
       "    }\n",
       "<\/style>\n",
       "<table border=\"1\" class=\"dataframe\">\n",
       "  <thead>\n",
       "    <tr style=\"text-align: right;\">\n",
       "      <th><\/th>\n",
       "      <th>Accuracy<\/th>\n",
       "      <th>Recall<\/th>\n",
       "      <th>Precision<\/th>\n",
       "      <th>F1<\/th>\n",
       "    <\/tr>\n",
       "  <\/thead>\n",
       "  <tbody>\n",
       "    <tr>\n",
       "      <th>0<\/th>\n",
       "      <td>0.830635<\/td>\n",
       "      <td>0.917239<\/td>\n",
       "      <td>0.867838<\/td>\n",
       "      <td>0.891855<\/td>\n",
       "    <\/tr>\n",
       "  <\/tbody>\n",
       "<\/table>\n",
       "<\/div>"
      ]
     },
     "metadata":{},
     "output_type":"display_data"
    }
   ],
   "metadata":{
    "datalore":{
     "node_id":"1DlABbFHTpuhWJAPMj2dET",
     "type":"CODE",
     "hide_input_from_viewers":false,
     "hide_output_from_viewers":false,
     "report_properties":{
      "rowId":"m0ZmVV4hDblugHM2mvFWZO"
     }
    }
   }
  },
  {
   "cell_type":"markdown",
   "source":[
    "- The model is giving a good f1_score of ~0.895 and ~0.892 on the train and test sets respectively\n",
    "- As the train and test performances are comparable, the model is not overfitting\n",
    "- Moving forward we will try to improve the performance of the model"
   ],
   "attachments":{},
   "metadata":{
    "datalore":{
     "node_id":"6p3kM9LiVsZixRpKHGBsot",
     "type":"MD",
     "hide_input_from_viewers":false,
     "hide_output_from_viewers":false,
     "report_properties":{
      "rowId":"2otVY8Lxz7ILsYs35MYl7h"
     }
    }
   }
  },
  {
   "cell_type":"markdown",
   "source":[
    "## Model Performance Improvement"
   ],
   "attachments":{},
   "metadata":{
    "datalore":{
     "node_id":"oCgyryyqiafUyuqxWctgYN",
     "type":"MD",
     "hide_input_from_viewers":false,
     "hide_output_from_viewers":false,
     "report_properties":{
      "rowId":"M6NhEDvOtiCboiEecdkrwW"
     }
    }
   }
  },
  {
   "cell_type":"markdown",
   "source":[
    "* Let's see if the f1_score can be improved further by changing the model threshold\n",
    "* First, we will check the ROC curve, compute the area under the ROC curve (ROC-AUC), and then use it to find the optimal threshold\n",
    "* Next, we will check the Precision-Recall curve to find the right balance between precision and recall as our metric of choice is f1_score"
   ],
   "attachments":{},
   "metadata":{
    "datalore":{
     "node_id":"91sjD4gLclZt5fY6JSROvO",
     "type":"MD",
     "hide_input_from_viewers":false,
     "hide_output_from_viewers":false,
     "report_properties":{
      "rowId":"26OarZvQEiUVlotsPMt3FW"
     }
    }
   }
  },
  {
   "cell_type":"markdown",
   "source":[
    "### ROC Curve and ROC-AUC"
   ],
   "attachments":{},
   "metadata":{
    "datalore":{
     "node_id":"7UU3h2kIUvXDFZo1d8WXKD",
     "type":"MD",
     "hide_input_from_viewers":false,
     "hide_output_from_viewers":false,
     "report_properties":{
      "rowId":"hwiMNdCNkmZq1CqiIgewG2"
     }
    }
   }
  },
  {
   "cell_type":"markdown",
   "source":[
    "* ROC-AUC on training set"
   ],
   "attachments":{},
   "metadata":{
    "datalore":{
     "node_id":"4SuF3IY9Z3SDJIWjnU0EGA",
     "type":"MD",
     "hide_input_from_viewers":false,
     "hide_output_from_viewers":false,
     "report_properties":{
      "rowId":"24oumQ27GksNsDDz3OQ64G"
     }
    }
   }
  },
  {
   "cell_type":"code",
   "source":[
    "logit_roc_auc_train = roc_auc_score(y_train, lg3.predict(X_train3))\n",
    "fpr, tpr, thresholds = roc_curve(y_train, lg3.predict(X_train3))\n",
    "plt.figure(figsize=(7, 5))\n",
    "plt.plot(fpr, tpr, label=\"Logistic Regression (area = %0.2f)\" % logit_roc_auc_train)\n",
    "plt.plot([0, 1], [0, 1], \"r--\")\n",
    "plt.xlim([0.0, 1.0])\n",
    "plt.ylim([0.0, 1.05])\n",
    "plt.xlabel(\"False Positive Rate\")\n",
    "plt.ylabel(\"True Positive Rate\")\n",
    "plt.title(\"Receiver operating characteristic\")\n",
    "plt.legend(loc=\"lower right\")\n",
    "plt.show()"
   ],
   "execution_count":59,
   "outputs":[
    {
     "data":{
      "image\/png":"[encoded data removed]"
     },
     "metadata":{
      "image\/png":{}
     },
     "output_type":"display_data"
    }
   ],
   "metadata":{
    "datalore":{
     "node_id":"WTZsDVGbszFYiOU0nRw08A",
     "type":"CODE",
     "hide_input_from_viewers":false,
     "hide_output_from_viewers":false,
     "report_properties":{
      "rowId":"lfg4jR1ak8EWtKXp9HUy86"
     }
    }
   }
  },
  {
   "cell_type":"markdown",
   "source":[
    "* Logistic Regression model is giving a good performance on training set."
   ],
   "attachments":{},
   "metadata":{
    "datalore":{
     "node_id":"8Mg0HQ8ImYs2FPtfxXJBsv",
     "type":"MD",
     "hide_input_from_viewers":false,
     "hide_output_from_viewers":false,
     "report_properties":{
      "rowId":"XMjd9GERRAiuSZXRRVPC1t"
     }
    }
   }
  },
  {
   "cell_type":"markdown",
   "source":[
    "### Optimal threshold using AUC-ROC curve"
   ],
   "attachments":{},
   "metadata":{
    "datalore":{
     "node_id":"rxIpZIr00w2GtxeMCceE7S",
     "type":"MD",
     "hide_input_from_viewers":false,
     "hide_output_from_viewers":false,
     "report_properties":{
      "rowId":"hPn2lDrjmCpbAXpAyAcMnT"
     }
    }
   }
  },
  {
   "cell_type":"code",
   "source":[
    "# Optimal threshold as per AUC-ROC curve\n",
    "# The optimal cut off would be where tpr is high and fpr is low\n",
    "fpr, tpr, thresholds = roc_curve(y_train, lg3.predict(X_train3))\n",
    "\n",
    "optimal_idx = np.argmax(tpr - fpr)\n",
    "optimal_threshold_auc_roc = thresholds[optimal_idx]\n",
    "print(optimal_threshold_auc_roc)"
   ],
   "execution_count":60,
   "outputs":[
    {
     "name":"stdout",
     "text":[
      "0.757939940733009\n"
     ],
     "output_type":"stream"
    }
   ],
   "metadata":{
    "datalore":{
     "node_id":"OCATYPgmgrpoLXrOiudPnc",
     "type":"CODE",
     "hide_input_from_viewers":false,
     "hide_output_from_viewers":false,
     "report_properties":{
      "rowId":"8nHO2YyC1W5AtwzjKJFunI"
     }
    }
   }
  },
  {
   "cell_type":"markdown",
   "source":[
    "**Checking model performance on training set**"
   ],
   "attachments":{},
   "metadata":{
    "datalore":{
     "node_id":"MKgtAnQbkIYhRuvMpKNHK7",
     "type":"MD",
     "hide_input_from_viewers":false,
     "hide_output_from_viewers":false,
     "report_properties":{
      "rowId":"vDE5YpSndcPpgdTf0gq1ne"
     }
    }
   }
  },
  {
   "cell_type":"code",
   "source":[
    "# creating confusion matrix\n",
    "confusion_matrix_statsmodels(\n",
    "    lg3, X_train3, y_train, threshold=optimal_threshold_auc_roc\n",
    ")"
   ],
   "execution_count":61,
   "outputs":[
    {
     "data":{
      "image\/png":"[encoded data removed]"
     },
     "metadata":{
      "image\/png":{}
     },
     "output_type":"display_data"
    }
   ],
   "metadata":{
    "datalore":{
     "node_id":"XzzvGHIzoIFIYslZSN4qbV",
     "type":"CODE",
     "hide_input_from_viewers":false,
     "hide_output_from_viewers":false,
     "report_properties":{
      "rowId":"m154rLZwp3rxUM30y5vAd5"
     }
    }
   }
  },
  {
   "cell_type":"code",
   "source":[
    "# checking model performance for this model\n",
    "log_reg_model_train_perf_threshold_auc_roc = model_performance_classification_statsmodels(\n",
    "    lg3, X_train3, y_train, threshold=optimal_threshold_auc_roc\n",
    ")\n",
    "print(\"Training performance:\")\n",
    "log_reg_model_train_perf_threshold_auc_roc"
   ],
   "execution_count":62,
   "outputs":[
    {
     "name":"stdout",
     "text":[
      "Training performance:\n"
     ],
     "output_type":"stream"
    },
    {
     "data":{
      "text\/html":[
       "<div>\n",
       "<style scoped>\n",
       "    .dataframe tbody tr th:only-of-type {\n",
       "        vertical-align: middle;\n",
       "    }\n",
       "\n",
       "    .dataframe tbody tr th {\n",
       "        vertical-align: top;\n",
       "    }\n",
       "\n",
       "    .dataframe thead th {\n",
       "        text-align: right;\n",
       "    }\n",
       "<\/style>\n",
       "<table border=\"1\" class=\"dataframe\">\n",
       "  <thead>\n",
       "    <tr style=\"text-align: right;\">\n",
       "      <th><\/th>\n",
       "      <th>Accuracy<\/th>\n",
       "      <th>Recall<\/th>\n",
       "      <th>Precision<\/th>\n",
       "      <th>F1<\/th>\n",
       "    <\/tr>\n",
       "  <\/thead>\n",
       "  <tbody>\n",
       "    <tr>\n",
       "      <th>0<\/th>\n",
       "      <td>0.792499<\/td>\n",
       "      <td>0.777301<\/td>\n",
       "      <td>0.938383<\/td>\n",
       "      <td>0.85028<\/td>\n",
       "    <\/tr>\n",
       "  <\/tbody>\n",
       "<\/table>\n",
       "<\/div>"
      ]
     },
     "metadata":{},
     "output_type":"display_data"
    }
   ],
   "metadata":{
    "datalore":{
     "node_id":"lUgSBykTDuZoXGayJg8EFe",
     "type":"CODE",
     "hide_input_from_viewers":false,
     "hide_output_from_viewers":false,
     "report_properties":{
      "rowId":"ql1NsVTc92QmL3PbRnXZBt"
     }
    }
   }
  },
  {
   "cell_type":"markdown",
   "source":[
    "* Precision of model has increased but the other metrics have reduced.\n",
    "* The model is still giving a good performance."
   ],
   "attachments":{},
   "metadata":{
    "datalore":{
     "node_id":"EF6bdg2faDnxwH8TVrmphn",
     "type":"MD",
     "hide_input_from_viewers":false,
     "hide_output_from_viewers":false,
     "report_properties":{
      "rowId":"FsSCgBl0JqyNCEKsJejxnz"
     }
    }
   }
  },
  {
   "cell_type":"markdown",
   "source":[
    "**Checking model performance on test set**"
   ],
   "attachments":{},
   "metadata":{
    "datalore":{
     "node_id":"gjSFOCugL8IJ9kE6V73Vbo",
     "type":"MD",
     "hide_input_from_viewers":false,
     "hide_output_from_viewers":false,
     "report_properties":{
      "rowId":"BLyt1mSHC7xfEBOV1vFTnd"
     }
    }
   }
  },
  {
   "cell_type":"code",
   "source":[
    "logit_roc_auc_train = roc_auc_score(y_test, lg3.predict(X_test3))\n",
    "fpr, tpr, thresholds = roc_curve(y_test, lg3.predict(X_test3))\n",
    "plt.figure(figsize=(7, 5))\n",
    "plt.plot(fpr, tpr, label=\"Logistic Regression (area = %0.2f)\" % logit_roc_auc_train)\n",
    "plt.plot([0, 1], [0, 1], \"r--\")\n",
    "plt.xlim([0.0, 1.0])\n",
    "plt.ylim([0.0, 1.05])\n",
    "plt.xlabel(\"False Positive Rate\")\n",
    "plt.ylabel(\"True Positive Rate\")\n",
    "plt.title(\"Receiver operating characteristic\")\n",
    "plt.legend(loc=\"lower right\")\n",
    "plt.show()"
   ],
   "execution_count":63,
   "outputs":[
    {
     "data":{
      "image\/png":"[encoded data removed]"
     },
     "metadata":{
      "image\/png":{}
     },
     "output_type":"display_data"
    }
   ],
   "metadata":{
    "datalore":{
     "node_id":"8m7GgFlekw5oUBdHfOAxoB",
     "type":"CODE",
     "hide_input_from_viewers":false,
     "hide_output_from_viewers":false,
     "report_properties":{
      "rowId":"MHEtErmbmwGBicnt2U2v0e"
     }
    }
   }
  },
  {
   "cell_type":"code",
   "source":[
    "# creating confusion matrix\n",
    "confusion_matrix_statsmodels(lg3, X_test3, y_test, threshold=optimal_threshold_auc_roc)"
   ],
   "execution_count":64,
   "outputs":[
    {
     "data":{
      "image\/png":"[encoded data removed]"
     },
     "metadata":{
      "image\/png":{}
     },
     "output_type":"display_data"
    }
   ],
   "metadata":{
    "datalore":{
     "node_id":"b7baUgAWsBSWyxLPSfhZ16",
     "type":"CODE",
     "hide_input_from_viewers":false,
     "hide_output_from_viewers":false,
     "report_properties":{
      "rowId":"uhz8v9lJIuvXNnWNUDsgoo"
     }
    }
   }
  },
  {
   "cell_type":"code",
   "source":[
    "# checking model performance for this model\n",
    "log_reg_model_test_perf_threshold_auc_roc = model_performance_classification_statsmodels(\n",
    "    lg3, X_test3, y_test, threshold=optimal_threshold_auc_roc\n",
    ")\n",
    "print(\"Test performance:\")\n",
    "log_reg_model_test_perf_threshold_auc_roc"
   ],
   "execution_count":65,
   "outputs":[
    {
     "name":"stdout",
     "text":[
      "Test performance:\n"
     ],
     "output_type":"stream"
    },
    {
     "data":{
      "text\/html":[
       "<div>\n",
       "<style scoped>\n",
       "    .dataframe tbody tr th:only-of-type {\n",
       "        vertical-align: middle;\n",
       "    }\n",
       "\n",
       "    .dataframe tbody tr th {\n",
       "        vertical-align: top;\n",
       "    }\n",
       "\n",
       "    .dataframe thead th {\n",
       "        text-align: right;\n",
       "    }\n",
       "<\/style>\n",
       "<table border=\"1\" class=\"dataframe\">\n",
       "  <thead>\n",
       "    <tr style=\"text-align: right;\">\n",
       "      <th><\/th>\n",
       "      <th>Accuracy<\/th>\n",
       "      <th>Recall<\/th>\n",
       "      <th>Precision<\/th>\n",
       "      <th>F1<\/th>\n",
       "    <\/tr>\n",
       "  <\/thead>\n",
       "  <tbody>\n",
       "    <tr>\n",
       "      <th>0<\/th>\n",
       "      <td>0.783299<\/td>\n",
       "      <td>0.771901<\/td>\n",
       "      <td>0.931774<\/td>\n",
       "      <td>0.844336<\/td>\n",
       "    <\/tr>\n",
       "  <\/tbody>\n",
       "<\/table>\n",
       "<\/div>"
      ]
     },
     "metadata":{},
     "output_type":"display_data"
    }
   ],
   "metadata":{
    "datalore":{
     "node_id":"nzph7bBzHteohJCecagC7L",
     "type":"CODE",
     "hide_input_from_viewers":false,
     "hide_output_from_viewers":false,
     "report_properties":{
      "rowId":"41XycXx5EjlAlPV4rMQGpm"
     }
    }
   }
  },
  {
   "cell_type":"markdown",
   "source":[
    "### Precision-Recall Curve"
   ],
   "attachments":{},
   "metadata":{
    "datalore":{
     "node_id":"ViPJWEvKmAM258amYwIboC",
     "type":"MD",
     "hide_input_from_viewers":false,
     "hide_output_from_viewers":false,
     "report_properties":{
      "rowId":"VIDKjSOhmQ6EF1vqxhkQ3L"
     }
    }
   }
  },
  {
   "cell_type":"code",
   "source":[
    "y_scores = lg3.predict(X_train3)\n",
    "prec, rec, tre = precision_recall_curve(y_train, y_scores,)\n",
    "\n",
    "\n",
    "def plot_prec_recall_vs_tresh(precisions, recalls, thresholds):\n",
    "    plt.plot(thresholds, precisions[:-1], \"b--\", label=\"precision\")\n",
    "    plt.plot(thresholds, recalls[:-1], \"g--\", label=\"recall\")\n",
    "    plt.xlabel(\"Threshold\")\n",
    "    plt.legend(loc=\"upper left\")\n",
    "    plt.ylim([0, 1])\n",
    "\n",
    "\n",
    "plt.figure(figsize=(10, 7))\n",
    "plot_prec_recall_vs_tresh(prec, rec, tre)\n",
    "plt.show()"
   ],
   "execution_count":66,
   "outputs":[
    {
     "data":{
      "image\/png":"[encoded data removed]"
     },
     "metadata":{
      "image\/png":{}
     },
     "output_type":"display_data"
    }
   ],
   "metadata":{
    "datalore":{
     "node_id":"doKR99soSAud4hRI434voE",
     "type":"CODE",
     "hide_input_from_viewers":false,
     "hide_output_from_viewers":false,
     "report_properties":{
      "rowId":"dJLxsURFjRMh8z7jNCcALh"
     }
    }
   }
  },
  {
   "cell_type":"markdown",
   "source":[
    "* At the threshold of 0.58, we get balanced recall and precision."
   ],
   "attachments":{},
   "metadata":{
    "datalore":{
     "node_id":"Q4pOnYG1CWQrB5Yzimz2rc",
     "type":"MD",
     "hide_input_from_viewers":false,
     "hide_output_from_viewers":false,
     "report_properties":{
      "rowId":"t2L5ZxLu7hKGrnv58Ep6Qn"
     }
    }
   }
  },
  {
   "cell_type":"code",
   "source":[
    "# setting the threshold\n",
    "optimal_threshold_curve = 0.58"
   ],
   "execution_count":67,
   "outputs":[],
   "metadata":{
    "datalore":{
     "node_id":"p2t0j4QCcOHkyMnnd96cII",
     "type":"CODE",
     "hide_input_from_viewers":false,
     "hide_output_from_viewers":false,
     "report_properties":{
      "rowId":"lhSfegB3h3j087853e6lzZ"
     }
    }
   }
  },
  {
   "cell_type":"markdown",
   "source":[
    "**Checking model performance on training set**"
   ],
   "attachments":{},
   "metadata":{
    "datalore":{
     "node_id":"jGbIST2HJuZFJY6skSop4P",
     "type":"MD",
     "hide_input_from_viewers":false,
     "hide_output_from_viewers":false,
     "report_properties":{
      "rowId":"Ev5ULYx1Q16tOSKmfVO86Y"
     }
    }
   }
  },
  {
   "cell_type":"code",
   "source":[
    "# creating confusion matrix\n",
    "confusion_matrix_statsmodels(lg3, X_train3, y_train, threshold=optimal_threshold_curve)"
   ],
   "execution_count":68,
   "outputs":[
    {
     "data":{
      "image\/png":"[encoded data removed]"
     },
     "metadata":{
      "image\/png":{}
     },
     "output_type":"display_data"
    }
   ],
   "metadata":{
    "datalore":{
     "node_id":"ppTN8ENrreQghbvivsn8VA",
     "type":"CODE",
     "hide_input_from_viewers":false,
     "hide_output_from_viewers":false,
     "report_properties":{
      "rowId":"kdOO6f9B5SledKic8qCmnI"
     }
    }
   }
  },
  {
   "cell_type":"code",
   "source":[
    "log_reg_model_train_perf_threshold_curve = model_performance_classification_statsmodels(\n",
    "    lg3, X_train3, y_train, threshold=optimal_threshold_curve\n",
    ")\n",
    "print(\"Training performance:\")\n",
    "log_reg_model_train_perf_threshold_curve"
   ],
   "execution_count":69,
   "outputs":[
    {
     "name":"stdout",
     "text":[
      "Training performance:\n"
     ],
     "output_type":"stream"
    },
    {
     "data":{
      "text\/html":[
       "<div>\n",
       "<style scoped>\n",
       "    .dataframe tbody tr th:only-of-type {\n",
       "        vertical-align: middle;\n",
       "    }\n",
       "\n",
       "    .dataframe tbody tr th {\n",
       "        vertical-align: top;\n",
       "    }\n",
       "\n",
       "    .dataframe thead th {\n",
       "        text-align: right;\n",
       "    }\n",
       "<\/style>\n",
       "<table border=\"1\" class=\"dataframe\">\n",
       "  <thead>\n",
       "    <tr style=\"text-align: right;\">\n",
       "      <th><\/th>\n",
       "      <th>Accuracy<\/th>\n",
       "      <th>Recall<\/th>\n",
       "      <th>Precision<\/th>\n",
       "      <th>F1<\/th>\n",
       "    <\/tr>\n",
       "  <\/thead>\n",
       "  <tbody>\n",
       "    <tr>\n",
       "      <th>0<\/th>\n",
       "      <td>0.833999<\/td>\n",
       "      <td>0.892301<\/td>\n",
       "      <td>0.889107<\/td>\n",
       "      <td>0.890701<\/td>\n",
       "    <\/tr>\n",
       "  <\/tbody>\n",
       "<\/table>\n",
       "<\/div>"
      ]
     },
     "metadata":{},
     "output_type":"display_data"
    }
   ],
   "metadata":{
    "datalore":{
     "node_id":"cZu5C4oEH9phxCkUvqKb0T",
     "type":"CODE",
     "hide_input_from_viewers":false,
     "hide_output_from_viewers":false,
     "report_properties":{
      "rowId":"f2qR64ECWy0ai538vrxreZ"
     }
    }
   }
  },
  {
   "cell_type":"markdown",
   "source":[
    "* Model is performing well on training set.\n",
    "* There's not much improvement in the model performance as the default threshold is 0.50 and here we get 0.58 as the optimal threshold."
   ],
   "attachments":{},
   "metadata":{
    "datalore":{
     "node_id":"cX2MCQt3tBN7zZS7vDtCOG",
     "type":"MD",
     "hide_input_from_viewers":false,
     "hide_output_from_viewers":false,
     "report_properties":{
      "rowId":"6jbLp1dfBWtmERz6uThZRb"
     }
    }
   }
  },
  {
   "cell_type":"markdown",
   "source":[
    "**Checking model performance on test set**"
   ],
   "attachments":{},
   "metadata":{
    "datalore":{
     "node_id":"o4qI4Mhd3lUqyuKmkPHvzx",
     "type":"MD",
     "hide_input_from_viewers":false,
     "hide_output_from_viewers":false,
     "report_properties":{
      "rowId":"YdUV8pk80MQT7xcItnIZ53"
     }
    }
   }
  },
  {
   "cell_type":"code",
   "source":[
    "# creating confusion matrix\n",
    "confusion_matrix_statsmodels(lg3, X_test3, y_test, threshold=optimal_threshold_curve)"
   ],
   "execution_count":70,
   "outputs":[
    {
     "data":{
      "image\/png":"[encoded data removed]"
     },
     "metadata":{
      "image\/png":{}
     },
     "output_type":"display_data"
    }
   ],
   "metadata":{
    "datalore":{
     "node_id":"qdSnawrHM4VfVZJbbhzmVt",
     "type":"CODE",
     "hide_input_from_viewers":false,
     "hide_output_from_viewers":false,
     "report_properties":{
      "rowId":"X0fomPrjty1N3lbJXb7mF4"
     }
    }
   }
  },
  {
   "cell_type":"code",
   "source":[
    "log_reg_model_test_perf_threshold_curve = model_performance_classification_statsmodels(\n",
    "    lg3, X_test3, y_test, threshold=optimal_threshold_curve\n",
    ")\n",
    "print(\"Test performance:\")\n",
    "log_reg_model_test_perf_threshold_curve"
   ],
   "execution_count":71,
   "outputs":[
    {
     "name":"stdout",
     "text":[
      "Test performance:\n"
     ],
     "output_type":"stream"
    },
    {
     "data":{
      "text\/html":[
       "<div>\n",
       "<style scoped>\n",
       "    .dataframe tbody tr th:only-of-type {\n",
       "        vertical-align: middle;\n",
       "    }\n",
       "\n",
       "    .dataframe tbody tr th {\n",
       "        vertical-align: top;\n",
       "    }\n",
       "\n",
       "    .dataframe thead th {\n",
       "        text-align: right;\n",
       "    }\n",
       "<\/style>\n",
       "<table border=\"1\" class=\"dataframe\">\n",
       "  <thead>\n",
       "    <tr style=\"text-align: right;\">\n",
       "      <th><\/th>\n",
       "      <th>Accuracy<\/th>\n",
       "      <th>Recall<\/th>\n",
       "      <th>Precision<\/th>\n",
       "      <th>F1<\/th>\n",
       "    <\/tr>\n",
       "  <\/thead>\n",
       "  <tbody>\n",
       "    <tr>\n",
       "      <th>0<\/th>\n",
       "      <td>0.825512<\/td>\n",
       "      <td>0.884807<\/td>\n",
       "      <td>0.88588<\/td>\n",
       "      <td>0.885343<\/td>\n",
       "    <\/tr>\n",
       "  <\/tbody>\n",
       "<\/table>\n",
       "<\/div>"
      ]
     },
     "metadata":{},
     "output_type":"display_data"
    }
   ],
   "metadata":{
    "datalore":{
     "node_id":"Vg9ybuZGHELEkUubL7joo6",
     "type":"CODE",
     "hide_input_from_viewers":false,
     "hide_output_from_viewers":false,
     "report_properties":{
      "rowId":"5Rhrrj9k8C3dmwn0eDNXQQ"
     }
    }
   }
  },
  {
   "cell_type":"markdown",
   "source":[
    "## Model Performance Comparison and Final Model Selection"
   ],
   "attachments":{},
   "metadata":{
    "datalore":{
     "node_id":"vJDliR8Hnx6aOyEMUkD9tN",
     "type":"MD",
     "hide_input_from_viewers":false,
     "hide_output_from_viewers":false,
     "report_properties":{
      "rowId":"66ymrW5NHIMUwNTpGO6bHX"
     }
    }
   }
  },
  {
   "cell_type":"code",
   "source":[
    "# training performance comparison\n",
    "\n",
    "models_train_comp_df = pd.concat(\n",
    "    [\n",
    "        log_reg_model_train_perf.T,\n",
    "        log_reg_model_train_perf_threshold_auc_roc.T,\n",
    "        log_reg_model_train_perf_threshold_curve.T,\n",
    "    ],\n",
    "    axis=1,\n",
    ")\n",
    "models_train_comp_df.columns = [\n",
    "    \"Logistic Regression-default Threshold (0.5)\",\n",
    "    \"Logistic Regression-0.76 Threshold\",\n",
    "    \"Logistic Regression-0.58 Threshold\",\n",
    "]\n",
    "\n",
    "print(\"Training performance comparison:\")\n",
    "models_train_comp_df"
   ],
   "execution_count":72,
   "outputs":[
    {
     "name":"stdout",
     "text":[
      "Training performance comparison:\n"
     ],
     "output_type":"stream"
    },
    {
     "data":{
      "text\/html":[
       "<div>\n",
       "<style scoped>\n",
       "    .dataframe tbody tr th:only-of-type {\n",
       "        vertical-align: middle;\n",
       "    }\n",
       "\n",
       "    .dataframe tbody tr th {\n",
       "        vertical-align: top;\n",
       "    }\n",
       "\n",
       "    .dataframe thead th {\n",
       "        text-align: right;\n",
       "    }\n",
       "<\/style>\n",
       "<table border=\"1\" class=\"dataframe\">\n",
       "  <thead>\n",
       "    <tr style=\"text-align: right;\">\n",
       "      <th><\/th>\n",
       "      <th>Logistic Regression-default Threshold (0.5)<\/th>\n",
       "      <th>Logistic Regression-0.76 Threshold<\/th>\n",
       "      <th>Logistic Regression-0.58 Threshold<\/th>\n",
       "    <\/tr>\n",
       "  <\/thead>\n",
       "  <tbody>\n",
       "    <tr>\n",
       "      <th>Accuracy<\/th>\n",
       "      <td>0.835536<\/td>\n",
       "      <td>0.792499<\/td>\n",
       "      <td>0.833999<\/td>\n",
       "    <\/tr>\n",
       "    <tr>\n",
       "      <th>Recall<\/th>\n",
       "      <td>0.924048<\/td>\n",
       "      <td>0.777301<\/td>\n",
       "      <td>0.892301<\/td>\n",
       "    <\/tr>\n",
       "    <tr>\n",
       "      <th>Precision<\/th>\n",
       "      <td>0.867602<\/td>\n",
       "      <td>0.938383<\/td>\n",
       "      <td>0.889107<\/td>\n",
       "    <\/tr>\n",
       "    <tr>\n",
       "      <th>F1<\/th>\n",
       "      <td>0.894936<\/td>\n",
       "      <td>0.850280<\/td>\n",
       "      <td>0.890701<\/td>\n",
       "    <\/tr>\n",
       "  <\/tbody>\n",
       "<\/table>\n",
       "<\/div>"
      ]
     },
     "metadata":{},
     "output_type":"display_data"
    }
   ],
   "metadata":{
    "datalore":{
     "node_id":"iuXHHuKXdYeGjxe4S7elyi",
     "type":"CODE",
     "hide_input_from_viewers":false,
     "hide_output_from_viewers":false,
     "report_properties":{
      "rowId":"4ktRyIxJBXGnx0BziCZDe0"
     }
    }
   }
  },
  {
   "cell_type":"code",
   "source":[
    "# testing performance comparison\n",
    "\n",
    "models_test_comp_df = pd.concat(\n",
    "    [\n",
    "        log_reg_model_test_perf.T,\n",
    "        log_reg_model_test_perf_threshold_auc_roc.T,\n",
    "        log_reg_model_test_perf_threshold_curve.T,\n",
    "    ],\n",
    "    axis=1,\n",
    ")\n",
    "models_test_comp_df.columns = [\n",
    "    \"Logistic Regression-default Threshold (0.5)\",\n",
    "    \"Logistic Regression-0.76 Threshold\",\n",
    "    \"Logistic Regression-0.58 Threshold\",\n",
    "]\n",
    "\n",
    "print(\"Test set performance comparison:\")\n",
    "models_test_comp_df"
   ],
   "execution_count":73,
   "outputs":[
    {
     "name":"stdout",
     "text":[
      "Test set performance comparison:\n"
     ],
     "output_type":"stream"
    },
    {
     "data":{
      "text\/html":[
       "<div>\n",
       "<style scoped>\n",
       "    .dataframe tbody tr th:only-of-type {\n",
       "        vertical-align: middle;\n",
       "    }\n",
       "\n",
       "    .dataframe tbody tr th {\n",
       "        vertical-align: top;\n",
       "    }\n",
       "\n",
       "    .dataframe thead th {\n",
       "        text-align: right;\n",
       "    }\n",
       "<\/style>\n",
       "<table border=\"1\" class=\"dataframe\">\n",
       "  <thead>\n",
       "    <tr style=\"text-align: right;\">\n",
       "      <th><\/th>\n",
       "      <th>Logistic Regression-default Threshold (0.5)<\/th>\n",
       "      <th>Logistic Regression-0.76 Threshold<\/th>\n",
       "      <th>Logistic Regression-0.58 Threshold<\/th>\n",
       "    <\/tr>\n",
       "  <\/thead>\n",
       "  <tbody>\n",
       "    <tr>\n",
       "      <th>Accuracy<\/th>\n",
       "      <td>0.830635<\/td>\n",
       "      <td>0.783299<\/td>\n",
       "      <td>0.825512<\/td>\n",
       "    <\/tr>\n",
       "    <tr>\n",
       "      <th>Recall<\/th>\n",
       "      <td>0.917239<\/td>\n",
       "      <td>0.771901<\/td>\n",
       "      <td>0.884807<\/td>\n",
       "    <\/tr>\n",
       "    <tr>\n",
       "      <th>Precision<\/th>\n",
       "      <td>0.867838<\/td>\n",
       "      <td>0.931774<\/td>\n",
       "      <td>0.885880<\/td>\n",
       "    <\/tr>\n",
       "    <tr>\n",
       "      <th>F1<\/th>\n",
       "      <td>0.891855<\/td>\n",
       "      <td>0.844336<\/td>\n",
       "      <td>0.885343<\/td>\n",
       "    <\/tr>\n",
       "  <\/tbody>\n",
       "<\/table>\n",
       "<\/div>"
      ]
     },
     "metadata":{},
     "output_type":"display_data"
    }
   ],
   "metadata":{
    "datalore":{
     "node_id":"o45HEfaueKcWaiFVSaW2lq",
     "type":"CODE",
     "hide_input_from_viewers":false,
     "hide_output_from_viewers":false,
     "report_properties":{
      "rowId":"ZKg5rCqmxDffbNAiXrYUAu"
     }
    }
   }
  },
  {
   "cell_type":"markdown",
   "source":[
    "- Almost all the three models are performing well on both training and test data without the problem of overfitting\n",
    "- The model with a default threshold (0.5) is giving the best F1 score. Therefore it can be selected as the final model"
   ],
   "attachments":{},
   "metadata":{
    "datalore":{
     "node_id":"KxmPvsFZ2fxlf47XPW8MtU",
     "type":"MD",
     "hide_input_from_viewers":false,
     "hide_output_from_viewers":false,
     "report_properties":{
      "rowId":"d2S1Q2lKR6MnBdVmoR0a85"
     }
    }
   }
  },
  {
   "cell_type":"markdown",
   "source":[
    "## Conclusions and Recommendations"
   ],
   "attachments":{},
   "metadata":{
    "datalore":{
     "node_id":"I2QB4r6MFkNG5ApAZH8sH3",
     "type":"MD",
     "hide_input_from_viewers":false,
     "hide_output_from_viewers":false,
     "report_properties":{
      "rowId":"uuyxPXLa9yWrBK4X9LD7oW"
     }
    }
   }
  },
  {
   "cell_type":"markdown",
   "source":[
    "* We have been able to build a predictive model that can be used by the government to find the citizens having less than 50K salary with an f1_score of 0.89 on the training set and formulate policies accordingly.\n",
    "\n",
    "* All the logistic regression models have given a generalized performance on the training and test set.\n",
    "\n",
    "* Coefficient of some levels of education, workclass, and native country are positive an increase in these will lead to increase in chances of a person having <=50K salary. \n",
    "\n",
    "* Coefficient of age, fnlwgt, marital_status, working_hours_per_week,some levels of education, workclass, and native country are negative increase in these will lead to decrease in chances of a person having <=50K salary."
   ],
   "attachments":{},
   "metadata":{
    "datalore":{
     "node_id":"B0V3LRvOdfUbQO6EJoy8hY",
     "type":"MD",
     "hide_input_from_viewers":false,
     "hide_output_from_viewers":false,
     "report_properties":{
      "rowId":"m9im16JRYXvXMHwapnJEO7"
     }
    }
   }
  },
  {
   "cell_type":"markdown",
   "source":[
    "- The government should promote education among citizens, they should make policies to make education accessible to all, as we say in our analysis that people who have higher education are more likely to have a salary above 50,000 Dollars. \n",
    "- Working hours is one of the significant predictors of salary, The government should implement laws to ensure that people are paid fairly for their work and are not overworked for the increase in salaries. This would improve work-life balance.\n",
    "- Reforms should be made for private-sector employees so that they are paid fairly for their work.\n",
    "- Policy formulated by the government should be considerate of equal pay and counter the pay gap that exists in society."
   ],
   "attachments":{},
   "metadata":{
    "datalore":{
     "node_id":"y3MDs5oBazxI0X8wIpx3NF",
     "type":"MD",
     "hide_input_from_viewers":false,
     "hide_output_from_viewers":false,
     "report_properties":{
      "rowId":"mgJTZfcxDYxQFyjA5VEkmQ"
     }
    }
   }
  }
 ],
 "metadata":{
  "kernelspec":{
   "display_name":"Python",
   "language":"python",
   "name":"python"
  },
  "datalore":{
   "computation_mode":"JUPYTER",
   "package_manager":"pip",
   "base_environment":"default",
   "packages":[],
   "report_row_ids":[
    "psACJZRLh7d8WK5mEfigPu",
    "pxlP5oTc68phhwajMqUIL3",
    "HzJQlcziScNcszemG0BXoT",
    "gL0bKVBfR245ru1KYUDTEq",
    "8BnE0kJFrYHSz7XV0HMEpr",
    "9e1yXLfMvcC2CcvkhIiZNj",
    "PBtxHWILyJlf3qLflhDVU2",
    "bacZCiHQNrjw9Pk3jM1qrH",
    "xqxRUHAfKI7DPyW1XhIIhF",
    "vxA81AkpbQ8EKNk8GvHfTc",
    "g2zg0mXSgWunnwS0zh5ujO",
    "gAoRMEVwgbgm7EBUo6ojZf",
    "hyH6n6Mgss1g3QzFockjNc",
    "mPiFarUARbuhrYnPCBY4fc",
    "inU0LFnaUlFFBC4LOEn261",
    "XJG6pLbKVgjhEhvxCeGeLd",
    "HiidI3N07JZL6r0HHfFTIt",
    "7LGAhQxPg4UaAtz0Fa1b3Y",
    "TEMjltGjmRSCSYC66YWoif",
    "GlK7vksKfIpfhCQt0J3rTB",
    "8aqHSOZWyKeJcYcsFoziVF",
    "1NZiKf60da34LbjPFQpNkX",
    "MseQWHKxc8fpJKNUmJ2ueY",
    "MntZyq1RqgLGLo0RTj53U2",
    "QPVJgCTwMSjYUvdfyncR1k",
    "rsCnJeaxr5mkNhCl6xGyUx",
    "Db7YJmluf4exAhtDgXHWjJ",
    "cfT4y5R9OJGOuEb9r2GBxl",
    "69RQNbbrIw0ljXCDwIYY9v",
    "7XECUrSuU2IX7sxhsC5C2C",
    "SM8xoGsCs2DTq96Ts8uRvk",
    "qntASqiHCbwmJHtT5DH3sb",
    "gwpCCUdOJxq73ZNMZ05gW0",
    "FRYTLIhyhLmFotEoqpTOqY",
    "tQcIXsaCxxfk88AHd6WUEC",
    "afeNbmihBevYIEsgJsDzVU",
    "UnxO6B3qXN0G1yLY21RZfp",
    "FQzHy5M3NQ7WQxKxRleKve",
    "Ctlj9IVeSiUP8pYzD57PZp",
    "gcszMSCLwX2LTopv2T0Z0F",
    "BL9Xqys7AOPmxGPYq0HKTN",
    "5XPXZ698TrkBo5l8Ilafsv",
    "9lFCvHHAtTJueu5C4SuebN",
    "rgxB1SHp52nHOqvHpOOCta",
    "vtLvGwQ7Y3jjQ1A7hEGC9o",
    "H91Yb4mi7Wb3wqE8mqGVdZ",
    "MxEQ5c0IAl8O0XgVOPmZDn",
    "bflxNBmaQHTejxHWJGhZyq",
    "MMK0ygV7so9dUpmB72TDox",
    "6rlFgzR6hxer3fKIQQXYoC",
    "fpnPCBobu0mMxhWkLrI7a5",
    "tkfEHEARhcoPGQZjD72Tze",
    "fhvOmlPq8yOTKSk7mv3rbS",
    "m9GL74pVdaeVF41PcEp0cR",
    "mIa9HErAiebhVgrdQVl6h2",
    "EswmQvvmTcgJJaCxPZrI1K",
    "HGfbQ0JqboXk1OD4Z11NrI",
    "5IqZRQndhxR5aTA0b3fOXe",
    "7UqTGhocUIi2r2cwgWT3z1",
    "dJnkT4dVCbHG4FJgiFCVgj",
    "Ps89PGD7QjUwn2WRxwPwoD",
    "TanNC9jBSOdxeYnS1gJlN9",
    "LnFPyYSA1boRd1XPB34PLs",
    "GBBultI8AVDgmJUzcyJoTc",
    "RAI5Q1NoIq8jio9dZsrEqJ",
    "xC1n6V8CCjw7KaaSBale6i",
    "Z6Ynfn3cKAV4IXYCY2q9We",
    "g7WzpRAr4YH7X97hLV3KAL",
    "8JlKAtg7S4kZu8QRkbu4qQ",
    "tgUjKYFWEMT6FtoI2YTWLt",
    "0WAqPdbq5YPnhOdetMj2E5",
    "SSipidQAxjw6Pnbsodvr7H",
    "asYopN2BdiQbsttHn7lQXm",
    "ZuGJqNSt5G1SCV2dPpaf1I",
    "NaEgp5Kdz2oEAVNZtDpzuJ",
    "JPD43VskD6XbVsqDvvoElJ",
    "tFioKfxmMqP0TnctPyy2wN",
    "vfJBvh0OJPiViz7m8JxeBh",
    "PahhMbKnhDrQBePffrhs5f",
    "lEKR7wO0cpTQHQPoB0r9iE",
    "8iAhD04cGrJQjAAt5bp9Om",
    "00v9dfkBVOjjtPhiHEfjP4",
    "oamSDditSIhAokEzFlUK2b",
    "gOBJDApnQhZCTIF3JSkF8Q",
    "qHsoUUUG6Day2kPSzWMRvh",
    "ks3q2vElwIttW8YFhKGNt5",
    "CAyeg9EDWafhpXTMSjkbIl",
    "S1OrtXOrnRYbK3NblcBw2T",
    "f8mehKN9ST6VEhCB7PgL15",
    "k4yjqUa7X4JpgvtD7tmKNi",
    "qwhKG4VvOG3LtQHxZyOwio",
    "8XXftQbjZsrQ58zVbh5aLZ",
    "Sa6qtPuEp42zCxKfubs9go",
    "pX2mFnC8oFlwqPtSwzmAtf",
    "HSmSzZneFqORHwl27R1H1e",
    "FDchv1pSl03GPrHy7OZbuH",
    "i3L8J1imU1aTUNHKNQATQ0",
    "EME4B6JiDQi1woH5Rk8Ujg",
    "id9OaAB560SaEml5deermv",
    "a9JJFuxdr3phN0mLItq5GU",
    "GWFymXS7iC7FxplkxkLrkQ",
    "eMH67tTBBPtEo9j8TqaWHl",
    "8TOGU7XUhWcAWB9TPkzKxU",
    "BtnK5xKnkmlPHXc1Rnbpov",
    "ndTs51epRBi80qhRoVSCBL",
    "Lds558ErZXBe11kTrUYMSC",
    "h94awcX4EaGw8nhrRBa12T",
    "Iz4wQV1Bn4zmTU1RQYb1b8",
    "mJ1KUXumEEFAQYdkFoKGZh",
    "pnohY9BmynW9NZ7CtvCNST",
    "UkRQLzXHvTXUSURKTjgvcv",
    "3NWUgGeuUSVly0T1sbr6GB",
    "XTFnWbSLcLsQElO7MPVAtr",
    "uy4ykRKgFcqpl7suAHBrwp",
    "rmqQVXS1pJaRzIMHMp0AWz",
    "HEz9Oe4GRQNHF4bFd0p1Q7",
    "MjmTW2Yk0ik7wZoWbfz5o3",
    "y0pLVDmJstmC5djJdE19HG",
    "EFuBZRRzUcjOpxlnBUGqyC",
    "0zYlkT8KI6K2OuJ8QI8ZRZ",
    "ItULZZ8idIS8NPhQQgaCTU",
    "NJY3CyfsLlreF2C2q56MFl",
    "Eij4LoXXczCOwdAikDN9Zm",
    "CmBQYm8Y3UBHYEgd3NnWT0",
    "nybwsdxbgODfzyWXrzI9BW",
    "l8EKhUyC6TXaioHnYdUfXk",
    "XHJv65SKyi3MtMjrhhsM8t",
    "h2S9qlU3Y72NvdbaUF2qPX",
    "JALtivPNTfLAFfwNo88vNH",
    "DwfQDruRfgKNNI1tP7zW0c",
    "A99fKJoG3eiQDSDuz56As2",
    "wmai0rgBQcZZtgkOS3n9Pe",
    "C1ukw3P5qijyK6MMBcZpRy",
    "AOny1LyJwOzKS90e8R8Ulo",
    "7xNbe1PsywciYP6lPZTC4M",
    "5A00U0ZjQbiak1m8K0Kr3e",
    "m0ZmVV4hDblugHM2mvFWZO",
    "2otVY8Lxz7ILsYs35MYl7h",
    "M6NhEDvOtiCboiEecdkrwW",
    "26OarZvQEiUVlotsPMt3FW",
    "hwiMNdCNkmZq1CqiIgewG2",
    "24oumQ27GksNsDDz3OQ64G",
    "lfg4jR1ak8EWtKXp9HUy86",
    "XMjd9GERRAiuSZXRRVPC1t",
    "hPn2lDrjmCpbAXpAyAcMnT",
    "8nHO2YyC1W5AtwzjKJFunI",
    "vDE5YpSndcPpgdTf0gq1ne",
    "m154rLZwp3rxUM30y5vAd5",
    "ql1NsVTc92QmL3PbRnXZBt",
    "FsSCgBl0JqyNCEKsJejxnz",
    "BLyt1mSHC7xfEBOV1vFTnd",
    "MHEtErmbmwGBicnt2U2v0e",
    "uhz8v9lJIuvXNnWNUDsgoo",
    "41XycXx5EjlAlPV4rMQGpm",
    "VIDKjSOhmQ6EF1vqxhkQ3L",
    "dJLxsURFjRMh8z7jNCcALh",
    "t2L5ZxLu7hKGrnv58Ep6Qn",
    "lhSfegB3h3j087853e6lzZ",
    "Ev5ULYx1Q16tOSKmfVO86Y",
    "kdOO6f9B5SledKic8qCmnI",
    "f2qR64ECWy0ai538vrxreZ",
    "6jbLp1dfBWtmERz6uThZRb",
    "YdUV8pk80MQT7xcItnIZ53",
    "X0fomPrjty1N3lbJXb7mF4",
    "5Rhrrj9k8C3dmwn0eDNXQQ",
    "66ymrW5NHIMUwNTpGO6bHX",
    "4ktRyIxJBXGnx0BziCZDe0",
    "ZKg5rCqmxDffbNAiXrYUAu",
    "d2S1Q2lKR6MnBdVmoR0a85",
    "uuyxPXLa9yWrBK4X9LD7oW",
    "m9im16JRYXvXMHwapnJEO7",
    "mgJTZfcxDYxQFyjA5VEkmQ",
    "l9AgYJ1KtUfZXX16sWvJsQ",
    "28SeUrDtn8vP2aVj5rG47E",
    "janYOFuhdmSZ5c0uHt0ZqI",
    "D9Bs6kQ4xr72UgDji9pwE5",
    "iBRpeKdR1PmY2er1SGvhf9",
    "B21kCcPig23T90qCFgoMB2",
    "ITYmdg4L1H3u7n3u4joCpR",
    "WlMBfLI1BAAEqM1VOKBQPv",
    "wbAfZJZaDTUe0Q7SpSQHDY",
    "gD3gbwDlFuGCZZhEYvYs8H",
    "AWdpljHcLc2qD7fEneHYPa",
    "InZdlLs10p9oAMaxxTdhwV",
    "Iot3NVQKrfWEyQuI5Bl47F",
    "RCtR2ae77Elu1B8ae4Hjo9",
    "mtl07531MeGWKP8x1AhcVa",
    "DYocbWViVykFmly2QaQlbd",
    "hqwnXnqgitv8pR9PBWEEh6",
    "gJqVDz5Lxkz1DNLq9vqdts",
    "V9VRp8WuUx48Yx5dxTjRRf",
    "gVle16hHxoaQuJsTdVHcrN",
    "0Bnr4oi4Fy3B6ipRPL3nAV",
    "IQ9HJUPTq5ZWuv72tB9rC4",
    "xYpgChw3uSMfXnepmFiEzR",
    "1GOkKJNDJ7VY9Xzf411mlG",
    "A8NkVLixHN0gRqdL2zmUvv",
    "tFs2i7bDIpISAhAsL7ZHcQ",
    "7Y1vnkNJ3nw7pSwVhtD8MM",
    "UKTgrhGDdDkEPXTOztLYox",
    "5MfHh3wJjjIL72W4PVQVmG",
    "Ihwx8Euc2v6yXHpTz5WQPF",
    "bDpyh4nI1cGn2qNYi8C8G4",
    "f8lkhRHuyC7lkr5mBafYWQ",
    "HOa24OWyyOuv7gSdOf9kwC",
    "0CgSh5Njy6HzujS0x7SyZk",
    "VBiWtDjoiILMoxykgum9ki",
    "K44BPFHWdWnNBLf8QVa8Gz",
    "5HK3Uchmb3B5ACvgqorMaa",
    "uprKIVeteWMEaFEZLucdHb",
    "bhGKH1kiI8tLeKXQgHQuLe",
    "ZfmySShr6rQJO1GCiLFWnI",
    "axSBIuBZ3IFk55XZZJyBYn",
    "0DAh2wurQMkZD2ujJ2xOyG",
    "JuqO3kCJ3YiD4dLIS0vCuY",
    "uOSRX4DrpcaF60XsQbupiC",
    "wU2HPSmSdOdH1OR944mrpY"
   ],
   "version":3
  }
 },
 "nbformat":4,
 "nbformat_minor":4
}