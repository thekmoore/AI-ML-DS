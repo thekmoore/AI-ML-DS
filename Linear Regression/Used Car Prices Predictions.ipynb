{
 "cells":[
  {
   "cell_type":"markdown",
   "source":[
    "# Used Cars Prediction"
   ],
   "attachments":{},
   "metadata":{
    "datalore":{
     "node_id":"29uRntbGvCSwmVYE2nenXh",
     "type":"MD",
     "hide_input_from_viewers":false,
     "hide_output_from_viewers":false,
     "report_properties":{
      "rowId":"mQcm6eRwmUoX2BI9KVYDd1"
     }
    }
   }
  },
  {
   "cell_type":"markdown",
   "source":[
    "## Problem Statement"
   ],
   "attachments":{},
   "metadata":{
    "datalore":{
     "node_id":"rabhcWyBGg9xgVryDk8VW8",
     "type":"MD",
     "hide_input_from_viewers":false,
     "hide_output_from_viewers":false,
     "report_properties":{
      "rowId":"KUl3Bn4ffgs8MhX9Mqi1kC"
     }
    }
   }
  },
  {
   "cell_type":"markdown",
   "source":[
    "### Business Context\n",
    "\n",
    "There is a huge demand for used cars in the Indian Market today. As sales of new cars have slowed down in the recent past, the pre-owned car market has continued to grow over the past years and is larger than the new car market now. Cars4U is a budding tech start-up that aims to find footholes in this market.\n",
    "\n",
    "In 2018-19, while new car sales were recorded at 3.6 million units, around 4 million second-hand cars were bought and sold. There is a slowdown in new car sales and that could mean that the demand is shifting towards the pre-owned market. In fact, some car sellers replace their old cars with pre-owned cars instead of buying new ones. Unlike new cars, where price and supply are fairly deterministic and managed by OEMs (Original Equipment Manufacturer \/ except for dealership level discounts which come into play only in the last stage of the customer journey), used cars are very different beasts with huge uncertainty in both pricing and supply. Keeping this in mind, the pricing scheme of these used cars becomes important in order to grow in the market.\n",
    "\n",
    "As a senior data scientist at Cars4U, you have to come up with a pricing model that can effectively predict the price of used cars and can help the business in devising profitable strategies using differential pricing. For example, if the business knows the market price, it will never sell anything below it.\n",
    "\n",
    "\n",
    "### Objective\n",
    "\n",
    "To explore and visualize the dataset, build a linear regression model to predict the prices of used cars, and generate a set of insights and recommendations that will help the business.\n",
    "\n",
    "\n",
    "### Data Description\n",
    "\n",
    "The data contains the different attributes of used cars sold in different locations. The detailed data dictionary is given below.\n",
    "\n",
    "- Brand: brand name of the car\n",
    "- Model Name: model name of the car\n",
    "- Location: Location in which the car is being sold or is available for purchase (cities)\n",
    "- Year: Manufacturing year of the car\n",
    "- Kilometers_driven: The total kilometers driven in the car by the previous owner(s) in km\n",
    "- Fuel_Type: The type of fuel used by the car (Petrol, Diesel, Electric, CNG, LPG)\n",
    "- Transmission: The type of transmission used by the car (Automatic\/Manual)\n",
    "- Owner_Type: Type of ownership\n",
    "- Mileage: The standard mileage offered by the car company in kmpl or km\/kg\n",
    "- Engine: The displacement volume of the engine in CC\n",
    "- Power: The maximum power of the engine in bhp\n",
    "- Seats: The number of seats in the car\n",
    "- New_Price: The price of a new car of the same model in INR Lakhs (1 Lakh = 100,000 INR)\n",
    "- Price: The price of the used car in INR Lakhs"
   ],
   "attachments":{},
   "metadata":{
    "datalore":{
     "node_id":"ccY0HuGWAF4AdRvvJh4wJ3",
     "type":"MD",
     "hide_input_from_viewers":false,
     "hide_output_from_viewers":false,
     "report_properties":{
      "rowId":"qmVO6JNP9Kxgx9kmxVXnMb"
     }
    }
   }
  },
  {
   "cell_type":"markdown",
   "source":[
    "## Importing necessary libraries"
   ],
   "attachments":{},
   "metadata":{
    "datalore":{
     "node_id":"i4eYa81Wo8lvinZwHwnAsG",
     "type":"MD",
     "hide_input_from_viewers":false,
     "hide_output_from_viewers":false,
     "report_properties":{
      "rowId":"zBY27TRq6IcQKRW5XXk2tK"
     }
    }
   }
  },
  {
   "cell_type":"code",
   "source":[
    "\n",
    "# Libraries to help with reading and manipulating data\n",
    "import numpy as np\n",
    "import pandas as pd\n",
    "\n",
    "# Libraries to help with data visualization\n",
    "import matplotlib.pyplot as plt\n",
    "import seaborn as sns\n",
    "\n",
    "sns.set()\n",
    "\n",
    "# Removes the limit for the number of displayed columns\n",
    "pd.set_option(\"display.max_columns\", None)\n",
    "# Sets the limit for the number of displayed rows\n",
    "pd.set_option(\"display.max_rows\", 200)\n",
    "\n",
    "# to split the data into train and test\n",
    "from sklearn.model_selection import train_test_split\n",
    "\n",
    "# to build linear regression_model\n",
    "from sklearn.linear_model import LinearRegression\n",
    "\n",
    "# to check model performance\n",
    "from sklearn.metrics import mean_absolute_error, mean_squared_error, r2_score\n",
    "\n",
    "# to suppress warnings\n",
    "import warnings\n",
    "\n",
    "warnings.filterwarnings(\"ignore\")"
   ],
   "execution_count":1,
   "outputs":[],
   "metadata":{
    "datalore":{
     "node_id":"WYSIm1kZ8Z8DnHXrLnNfmN",
     "type":"CODE",
     "hide_input_from_viewers":false,
     "hide_output_from_viewers":false,
     "report_properties":{
      "rowId":"p4VQ4DoOksdhTy7frB4kL2"
     }
    }
   }
  },
  {
   "cell_type":"markdown",
   "source":[
    "## Loading the dataset"
   ],
   "attachments":{},
   "metadata":{
    "datalore":{
     "node_id":"iUido5uaMqgZiWbLWYrTlm",
     "type":"MD",
     "hide_input_from_viewers":false,
     "hide_output_from_viewers":false,
     "report_properties":{
      "rowId":"1ngoKIitUqP55SY6ji3Rsz"
     }
    }
   }
  },
  {
   "cell_type":"code",
   "source":[
    "# loading the dataset\n",
    "data = pd.read_csv(\"used_cars_data.csv\")"
   ],
   "execution_count":2,
   "outputs":[],
   "metadata":{
    "datalore":{
     "node_id":"NgV1JTwlxY1WeLOh6ISey6",
     "type":"CODE",
     "hide_input_from_viewers":false,
     "hide_output_from_viewers":false,
     "report_properties":{
      "rowId":"7ceL8WL48I3YuBJ1nBu34u"
     }
    }
   }
  },
  {
   "cell_type":"markdown",
   "source":[
    "## Data Overview"
   ],
   "attachments":{},
   "metadata":{
    "datalore":{
     "node_id":"dt3dftRIx3G2iX1RD03Ehr",
     "type":"MD",
     "hide_input_from_viewers":false,
     "hide_output_from_viewers":false,
     "report_properties":{
      "rowId":"OxLiF924jfecBIvxQsB8jt"
     }
    }
   }
  },
  {
   "cell_type":"markdown",
   "source":[
    "### Displaying the first few rows of the dataset"
   ],
   "attachments":{},
   "metadata":{
    "datalore":{
     "node_id":"3jJINAwkRiaK7uzrvoLshR",
     "type":"MD",
     "hide_input_from_viewers":false,
     "hide_output_from_viewers":false,
     "report_properties":{
      "rowId":"E5E3xxusxhxgHHiEuVUvFN"
     }
    }
   }
  },
  {
   "cell_type":"code",
   "source":[
    "data.head()"
   ],
   "execution_count":3,
   "outputs":[
    {
     "data":{
      "text\/html":[
       "<div>\n",
       "<style scoped>\n",
       "    .dataframe tbody tr th:only-of-type {\n",
       "        vertical-align: middle;\n",
       "    }\n",
       "\n",
       "    .dataframe tbody tr th {\n",
       "        vertical-align: top;\n",
       "    }\n",
       "\n",
       "    .dataframe thead th {\n",
       "        text-align: right;\n",
       "    }\n",
       "<\/style>\n",
       "<table border=\"1\" class=\"dataframe\">\n",
       "  <thead>\n",
       "    <tr style=\"text-align: right;\">\n",
       "      <th><\/th>\n",
       "      <th>Location<\/th>\n",
       "      <th>Year<\/th>\n",
       "      <th>Kilometers_Driven<\/th>\n",
       "      <th>Fuel_Type<\/th>\n",
       "      <th>Transmission<\/th>\n",
       "      <th>Owner_Type<\/th>\n",
       "      <th>Seats<\/th>\n",
       "      <th>New_Price<\/th>\n",
       "      <th>Price<\/th>\n",
       "      <th>mileage_num<\/th>\n",
       "      <th>engine_num<\/th>\n",
       "      <th>power_num<\/th>\n",
       "      <th>Brand<\/th>\n",
       "      <th>Model<\/th>\n",
       "    <\/tr>\n",
       "  <\/thead>\n",
       "  <tbody>\n",
       "    <tr>\n",
       "      <th>0<\/th>\n",
       "      <td>Mumbai<\/td>\n",
       "      <td>2010<\/td>\n",
       "      <td>72000.0<\/td>\n",
       "      <td>CNG<\/td>\n",
       "      <td>Manual<\/td>\n",
       "      <td>First<\/td>\n",
       "      <td>5.0<\/td>\n",
       "      <td>5.51<\/td>\n",
       "      <td>1.75<\/td>\n",
       "      <td>26.60<\/td>\n",
       "      <td>998.0<\/td>\n",
       "      <td>58.16<\/td>\n",
       "      <td>maruti<\/td>\n",
       "      <td>wagon<\/td>\n",
       "    <\/tr>\n",
       "    <tr>\n",
       "      <th>1<\/th>\n",
       "      <td>Pune<\/td>\n",
       "      <td>2015<\/td>\n",
       "      <td>41000.0<\/td>\n",
       "      <td>Diesel<\/td>\n",
       "      <td>Manual<\/td>\n",
       "      <td>First<\/td>\n",
       "      <td>5.0<\/td>\n",
       "      <td>16.06<\/td>\n",
       "      <td>12.50<\/td>\n",
       "      <td>19.67<\/td>\n",
       "      <td>1582.0<\/td>\n",
       "      <td>126.20<\/td>\n",
       "      <td>hyundai<\/td>\n",
       "      <td>creta<\/td>\n",
       "    <\/tr>\n",
       "    <tr>\n",
       "      <th>2<\/th>\n",
       "      <td>Chennai<\/td>\n",
       "      <td>2011<\/td>\n",
       "      <td>46000.0<\/td>\n",
       "      <td>Petrol<\/td>\n",
       "      <td>Manual<\/td>\n",
       "      <td>First<\/td>\n",
       "      <td>5.0<\/td>\n",
       "      <td>8.61<\/td>\n",
       "      <td>4.50<\/td>\n",
       "      <td>18.20<\/td>\n",
       "      <td>1199.0<\/td>\n",
       "      <td>88.70<\/td>\n",
       "      <td>honda<\/td>\n",
       "      <td>jazz<\/td>\n",
       "    <\/tr>\n",
       "    <tr>\n",
       "      <th>3<\/th>\n",
       "      <td>Chennai<\/td>\n",
       "      <td>2012<\/td>\n",
       "      <td>87000.0<\/td>\n",
       "      <td>Diesel<\/td>\n",
       "      <td>Manual<\/td>\n",
       "      <td>First<\/td>\n",
       "      <td>7.0<\/td>\n",
       "      <td>11.27<\/td>\n",
       "      <td>6.00<\/td>\n",
       "      <td>20.77<\/td>\n",
       "      <td>1248.0<\/td>\n",
       "      <td>88.76<\/td>\n",
       "      <td>maruti<\/td>\n",
       "      <td>ertiga<\/td>\n",
       "    <\/tr>\n",
       "    <tr>\n",
       "      <th>4<\/th>\n",
       "      <td>Coimbatore<\/td>\n",
       "      <td>2013<\/td>\n",
       "      <td>40670.0<\/td>\n",
       "      <td>Diesel<\/td>\n",
       "      <td>Automatic<\/td>\n",
       "      <td>Second<\/td>\n",
       "      <td>5.0<\/td>\n",
       "      <td>53.14<\/td>\n",
       "      <td>17.74<\/td>\n",
       "      <td>15.20<\/td>\n",
       "      <td>1968.0<\/td>\n",
       "      <td>140.80<\/td>\n",
       "      <td>audi<\/td>\n",
       "      <td>a4<\/td>\n",
       "    <\/tr>\n",
       "  <\/tbody>\n",
       "<\/table>\n",
       "<\/div>"
      ]
     },
     "metadata":{},
     "output_type":"display_data"
    }
   ],
   "metadata":{
    "datalore":{
     "node_id":"RbnQo3prKfCvCp1ose7uid",
     "type":"CODE",
     "hide_input_from_viewers":false,
     "hide_output_from_viewers":false,
     "report_properties":{
      "rowId":"g2bSH0gcUQA9BgNFIhYekU"
     }
    }
   }
  },
  {
   "cell_type":"markdown",
   "source":[
    "### Checking the shape of the dataset"
   ],
   "attachments":{},
   "metadata":{
    "datalore":{
     "node_id":"zkJULilEgDStvf5GKLd7NU",
     "type":"MD",
     "hide_input_from_viewers":false,
     "hide_output_from_viewers":false,
     "report_properties":{
      "rowId":"3bdHkYCbd61DOuGXc6LzeE"
     }
    }
   }
  },
  {
   "cell_type":"code",
   "source":[
    "# checking shape of the data\n",
    "print(f\"There are {data.shape[0]} rows and {data.shape[1]} columns.\")"
   ],
   "execution_count":4,
   "outputs":[
    {
     "name":"stdout",
     "text":[
      "There are 7252 rows and 14 columns.\n"
     ],
     "output_type":"stream"
    }
   ],
   "metadata":{
    "datalore":{
     "node_id":"8D2NZ2gYMrlbSX8y2wJnC1",
     "type":"CODE",
     "hide_input_from_viewers":false,
     "hide_output_from_viewers":false,
     "report_properties":{
      "rowId":"FFS1TO3aa1IkuEKqyvGKj1"
     }
    }
   }
  },
  {
   "cell_type":"markdown",
   "source":[
    "### Checking 10 random rows of the dataset"
   ],
   "attachments":{},
   "metadata":{
    "datalore":{
     "node_id":"vwa4pdu7VhSA8Mstl6I6QW",
     "type":"MD",
     "hide_input_from_viewers":false,
     "hide_output_from_viewers":false,
     "report_properties":{
      "rowId":"Lgo7jEzzgVxyn9HkqQcovO"
     }
    }
   }
  },
  {
   "cell_type":"code",
   "source":[
    "# let's view a sample of the data\n",
    "data.sample(n=10, random_state=1)"
   ],
   "execution_count":5,
   "outputs":[
    {
     "data":{
      "text\/html":[
       "<div>\n",
       "<style scoped>\n",
       "    .dataframe tbody tr th:only-of-type {\n",
       "        vertical-align: middle;\n",
       "    }\n",
       "\n",
       "    .dataframe tbody tr th {\n",
       "        vertical-align: top;\n",
       "    }\n",
       "\n",
       "    .dataframe thead th {\n",
       "        text-align: right;\n",
       "    }\n",
       "<\/style>\n",
       "<table border=\"1\" class=\"dataframe\">\n",
       "  <thead>\n",
       "    <tr style=\"text-align: right;\">\n",
       "      <th><\/th>\n",
       "      <th>Location<\/th>\n",
       "      <th>Year<\/th>\n",
       "      <th>Kilometers_Driven<\/th>\n",
       "      <th>Fuel_Type<\/th>\n",
       "      <th>Transmission<\/th>\n",
       "      <th>Owner_Type<\/th>\n",
       "      <th>Seats<\/th>\n",
       "      <th>New_Price<\/th>\n",
       "      <th>Price<\/th>\n",
       "      <th>mileage_num<\/th>\n",
       "      <th>engine_num<\/th>\n",
       "      <th>power_num<\/th>\n",
       "      <th>Brand<\/th>\n",
       "      <th>Model<\/th>\n",
       "    <\/tr>\n",
       "  <\/thead>\n",
       "  <tbody>\n",
       "    <tr>\n",
       "      <th>2397<\/th>\n",
       "      <td>Kolkata<\/td>\n",
       "      <td>2016<\/td>\n",
       "      <td>21460.0<\/td>\n",
       "      <td>Petrol<\/td>\n",
       "      <td>Manual<\/td>\n",
       "      <td>First<\/td>\n",
       "      <td>5.0<\/td>\n",
       "      <td>9.470<\/td>\n",
       "      <td>6.00<\/td>\n",
       "      <td>17.00<\/td>\n",
       "      <td>1497.0<\/td>\n",
       "      <td>121.36<\/td>\n",
       "      <td>ford<\/td>\n",
       "      <td>ecosport<\/td>\n",
       "    <\/tr>\n",
       "    <tr>\n",
       "      <th>6218<\/th>\n",
       "      <td>Kolkata<\/td>\n",
       "      <td>2013<\/td>\n",
       "      <td>48000.0<\/td>\n",
       "      <td>Diesel<\/td>\n",
       "      <td>Manual<\/td>\n",
       "      <td>First<\/td>\n",
       "      <td>5.0<\/td>\n",
       "      <td>7.880<\/td>\n",
       "      <td>NaN<\/td>\n",
       "      <td>23.40<\/td>\n",
       "      <td>1248.0<\/td>\n",
       "      <td>74.00<\/td>\n",
       "      <td>maruti<\/td>\n",
       "      <td>swift<\/td>\n",
       "    <\/tr>\n",
       "    <tr>\n",
       "      <th>6737<\/th>\n",
       "      <td>Mumbai<\/td>\n",
       "      <td>2015<\/td>\n",
       "      <td>59500.0<\/td>\n",
       "      <td>Petrol<\/td>\n",
       "      <td>Manual<\/td>\n",
       "      <td>First<\/td>\n",
       "      <td>7.0<\/td>\n",
       "      <td>13.580<\/td>\n",
       "      <td>NaN<\/td>\n",
       "      <td>17.30<\/td>\n",
       "      <td>1497.0<\/td>\n",
       "      <td>117.30<\/td>\n",
       "      <td>honda<\/td>\n",
       "      <td>mobilio<\/td>\n",
       "    <\/tr>\n",
       "    <tr>\n",
       "      <th>3659<\/th>\n",
       "      <td>Delhi<\/td>\n",
       "      <td>2015<\/td>\n",
       "      <td>27000.0<\/td>\n",
       "      <td>Petrol<\/td>\n",
       "      <td>Automatic<\/td>\n",
       "      <td>First<\/td>\n",
       "      <td>5.0<\/td>\n",
       "      <td>9.600<\/td>\n",
       "      <td>5.95<\/td>\n",
       "      <td>19.00<\/td>\n",
       "      <td>1199.0<\/td>\n",
       "      <td>88.70<\/td>\n",
       "      <td>honda<\/td>\n",
       "      <td>jazz<\/td>\n",
       "    <\/tr>\n",
       "    <tr>\n",
       "      <th>4513<\/th>\n",
       "      <td>Bangalore<\/td>\n",
       "      <td>2015<\/td>\n",
       "      <td>19000.0<\/td>\n",
       "      <td>Diesel<\/td>\n",
       "      <td>Automatic<\/td>\n",
       "      <td>Second<\/td>\n",
       "      <td>5.0<\/td>\n",
       "      <td>69.675<\/td>\n",
       "      <td>38.00<\/td>\n",
       "      <td>16.36<\/td>\n",
       "      <td>2179.0<\/td>\n",
       "      <td>187.70<\/td>\n",
       "      <td>jaguar<\/td>\n",
       "      <td>xf<\/td>\n",
       "    <\/tr>\n",
       "    <tr>\n",
       "      <th>599<\/th>\n",
       "      <td>Coimbatore<\/td>\n",
       "      <td>2019<\/td>\n",
       "      <td>40674.0<\/td>\n",
       "      <td>Diesel<\/td>\n",
       "      <td>Automatic<\/td>\n",
       "      <td>First<\/td>\n",
       "      <td>7.0<\/td>\n",
       "      <td>28.050<\/td>\n",
       "      <td>24.82<\/td>\n",
       "      <td>11.36<\/td>\n",
       "      <td>2755.0<\/td>\n",
       "      <td>171.50<\/td>\n",
       "      <td>toyota<\/td>\n",
       "      <td>innova<\/td>\n",
       "    <\/tr>\n",
       "    <tr>\n",
       "      <th>186<\/th>\n",
       "      <td>Bangalore<\/td>\n",
       "      <td>2014<\/td>\n",
       "      <td>37382.0<\/td>\n",
       "      <td>Diesel<\/td>\n",
       "      <td>Automatic<\/td>\n",
       "      <td>First<\/td>\n",
       "      <td>5.0<\/td>\n",
       "      <td>86.970<\/td>\n",
       "      <td>32.00<\/td>\n",
       "      <td>13.00<\/td>\n",
       "      <td>2143.0<\/td>\n",
       "      <td>201.10<\/td>\n",
       "      <td>mercedes-benz<\/td>\n",
       "      <td>e-class<\/td>\n",
       "    <\/tr>\n",
       "    <tr>\n",
       "      <th>305<\/th>\n",
       "      <td>Kochi<\/td>\n",
       "      <td>2014<\/td>\n",
       "      <td>61726.0<\/td>\n",
       "      <td>Diesel<\/td>\n",
       "      <td>Automatic<\/td>\n",
       "      <td>First<\/td>\n",
       "      <td>5.0<\/td>\n",
       "      <td>67.100<\/td>\n",
       "      <td>20.77<\/td>\n",
       "      <td>17.68<\/td>\n",
       "      <td>1968.0<\/td>\n",
       "      <td>174.33<\/td>\n",
       "      <td>audi<\/td>\n",
       "      <td>a6<\/td>\n",
       "    <\/tr>\n",
       "    <tr>\n",
       "      <th>4581<\/th>\n",
       "      <td>Hyderabad<\/td>\n",
       "      <td>2013<\/td>\n",
       "      <td>105000.0<\/td>\n",
       "      <td>Diesel<\/td>\n",
       "      <td>Automatic<\/td>\n",
       "      <td>First<\/td>\n",
       "      <td>5.0<\/td>\n",
       "      <td>44.800<\/td>\n",
       "      <td>19.00<\/td>\n",
       "      <td>17.32<\/td>\n",
       "      <td>1968.0<\/td>\n",
       "      <td>150.00<\/td>\n",
       "      <td>audi<\/td>\n",
       "      <td>q3<\/td>\n",
       "    <\/tr>\n",
       "    <tr>\n",
       "      <th>6616<\/th>\n",
       "      <td>Delhi<\/td>\n",
       "      <td>2014<\/td>\n",
       "      <td>55000.0<\/td>\n",
       "      <td>Diesel<\/td>\n",
       "      <td>Automatic<\/td>\n",
       "      <td>First<\/td>\n",
       "      <td>5.0<\/td>\n",
       "      <td>49.490<\/td>\n",
       "      <td>NaN<\/td>\n",
       "      <td>11.78<\/td>\n",
       "      <td>2143.0<\/td>\n",
       "      <td>167.62<\/td>\n",
       "      <td>mercedes-benz<\/td>\n",
       "      <td>new<\/td>\n",
       "    <\/tr>\n",
       "  <\/tbody>\n",
       "<\/table>\n",
       "<\/div>"
      ]
     },
     "metadata":{},
     "output_type":"display_data"
    }
   ],
   "metadata":{
    "datalore":{
     "node_id":"ssL5UxjEhLuxCuesqnhnJn",
     "type":"CODE",
     "hide_input_from_viewers":false,
     "hide_output_from_viewers":false,
     "report_properties":{
      "rowId":"ifIH53S5EZVkEZrYdBsfM9"
     }
    }
   }
  },
  {
   "cell_type":"markdown",
   "source":[
    "**Observations**"
   ],
   "attachments":{},
   "metadata":{
    "datalore":{
     "node_id":"KCfmtqiH6Jc60FafTywDe8",
     "type":"MD",
     "hide_input_from_viewers":false,
     "hide_output_from_viewers":false,
     "report_properties":{
      "rowId":"7Je2R60sktSNkUPDJNFaiQ"
     }
    }
   }
  },
  {
   "cell_type":"code",
   "source":[
    "# let's create a copy of the data to avoid any changes to original data\n",
    "df = data.copy()"
   ],
   "execution_count":6,
   "outputs":[],
   "metadata":{
    "datalore":{
     "node_id":"gdBmyaVOQUv5zqlBKSnsXF",
     "type":"CODE",
     "hide_input_from_viewers":false,
     "hide_output_from_viewers":false,
     "report_properties":{
      "rowId":"IRCiCgNUoUQjyO0Ocm93vm"
     }
    }
   }
  },
  {
   "cell_type":"markdown",
   "source":[
    "### Checking the data types of the columns for the dataset"
   ],
   "attachments":{},
   "metadata":{
    "datalore":{
     "node_id":"4e11QR8lC40R2t7yDZUKD0",
     "type":"MD",
     "hide_input_from_viewers":false,
     "hide_output_from_viewers":false,
     "report_properties":{
      "rowId":"JtdN90ojybF4ROzGRFddDi"
     }
    }
   }
  },
  {
   "cell_type":"code",
   "source":[
    "# checking column datatypes and number of non-null values\n",
    "df.info()"
   ],
   "execution_count":7,
   "outputs":[
    {
     "name":"stdout",
     "text":[
      "<class 'pandas.core.frame.DataFrame'>\n",
      "RangeIndex: 7252 entries, 0 to 7251\n",
      "Data columns (total 14 columns):\n",
      " #   Column             Non-Null Count  Dtype  \n",
      "---  ------             --------------  -----  \n",
      " 0   Location           7252 non-null   object \n",
      " 1   Year               7252 non-null   int64  \n",
      " 2   Kilometers_Driven  7251 non-null   float64\n",
      " 3   Fuel_Type          7252 non-null   object \n",
      " 4   Transmission       7252 non-null   object \n",
      " 5   Owner_Type         7252 non-null   object \n",
      " 6   Seats              7199 non-null   float64\n",
      " 7   New_Price          7252 non-null   float64\n",
      " 8   Price              6019 non-null   float64\n",
      " 9   mileage_num        7169 non-null   float64\n",
      " 10  engine_num         7206 non-null   float64\n",
      " 11  power_num          7077 non-null   float64\n",
      " 12  Brand              7252 non-null   object \n",
      " 13  Model              7252 non-null   object \n",
      "dtypes: float64(7), int64(1), object(6)\n",
      "memory usage: 793.3+ KB\n"
     ],
     "output_type":"stream"
    }
   ],
   "metadata":{
    "datalore":{
     "node_id":"5hb00tTQaxI1zFHseRPPEf",
     "type":"CODE",
     "hide_input_from_viewers":false,
     "hide_output_from_viewers":false,
     "report_properties":{
      "rowId":"mVdr01j2F6OYhnhB0pxBKP"
     }
    }
   }
  },
  {
   "cell_type":"markdown",
   "source":[
    "**Observations**\n",
    "\n",
    "- 6 columns are of the *object* type columns and 7 columns are of *numerical* type columns"
   ],
   "attachments":{},
   "metadata":{
    "datalore":{
     "node_id":"6bl98fuLQcxg1YevAzrr0B",
     "type":"MD",
     "hide_input_from_viewers":false,
     "hide_output_from_viewers":false,
     "report_properties":{
      "rowId":"YFJgjY3P5CgF7xEZCZ57OF"
     }
    }
   }
  },
  {
   "cell_type":"markdown",
   "source":[
    "### Checking for duplicate values"
   ],
   "attachments":{},
   "metadata":{
    "datalore":{
     "node_id":"j33hVaU2xktPuj8BQ7hCcy",
     "type":"MD",
     "hide_input_from_viewers":false,
     "hide_output_from_viewers":false,
     "report_properties":{
      "rowId":"w2466KX9uST4l83o346fgs"
     }
    }
   }
  },
  {
   "cell_type":"code",
   "source":[
    "# checking for duplicate values\n",
    "df.duplicated().sum()"
   ],
   "execution_count":8,
   "outputs":[
    {
     "data":{
      "text\/plain":[
       "2"
      ]
     },
     "metadata":{},
     "output_type":"display_data"
    }
   ],
   "metadata":{
    "datalore":{
     "node_id":"v8BKPbFMCOKFCOUkK8ZFEX",
     "type":"CODE",
     "hide_input_from_viewers":false,
     "hide_output_from_viewers":false,
     "report_properties":{
      "rowId":"LBtYVlg751MNHaWZuRpc7G"
     }
    }
   }
  },
  {
   "cell_type":"markdown",
   "source":[
    "- There are two duplicate value in the data.\n",
    "- Let's take a closer look at it."
   ],
   "attachments":{},
   "metadata":{
    "datalore":{
     "node_id":"kZ1nxlksJpeFw95OhLr447",
     "type":"MD",
     "hide_input_from_viewers":false,
     "hide_output_from_viewers":false,
     "report_properties":{
      "rowId":"oZ3K921CvjU8eA2Yb9ood2"
     }
    }
   }
  },
  {
   "cell_type":"code",
   "source":[
    "df[df.duplicated(keep=False) == True]"
   ],
   "execution_count":9,
   "outputs":[
    {
     "data":{
      "text\/html":[
       "<div>\n",
       "<style scoped>\n",
       "    .dataframe tbody tr th:only-of-type {\n",
       "        vertical-align: middle;\n",
       "    }\n",
       "\n",
       "    .dataframe tbody tr th {\n",
       "        vertical-align: top;\n",
       "    }\n",
       "\n",
       "    .dataframe thead th {\n",
       "        text-align: right;\n",
       "    }\n",
       "<\/style>\n",
       "<table border=\"1\" class=\"dataframe\">\n",
       "  <thead>\n",
       "    <tr style=\"text-align: right;\">\n",
       "      <th><\/th>\n",
       "      <th>Location<\/th>\n",
       "      <th>Year<\/th>\n",
       "      <th>Kilometers_Driven<\/th>\n",
       "      <th>Fuel_Type<\/th>\n",
       "      <th>Transmission<\/th>\n",
       "      <th>Owner_Type<\/th>\n",
       "      <th>Seats<\/th>\n",
       "      <th>New_Price<\/th>\n",
       "      <th>Price<\/th>\n",
       "      <th>mileage_num<\/th>\n",
       "      <th>engine_num<\/th>\n",
       "      <th>power_num<\/th>\n",
       "      <th>Brand<\/th>\n",
       "      <th>Model<\/th>\n",
       "    <\/tr>\n",
       "  <\/thead>\n",
       "  <tbody>\n",
       "    <tr>\n",
       "      <th>3623<\/th>\n",
       "      <td>Hyderabad<\/td>\n",
       "      <td>2007<\/td>\n",
       "      <td>52195.0<\/td>\n",
       "      <td>Petrol<\/td>\n",
       "      <td>Manual<\/td>\n",
       "      <td>First<\/td>\n",
       "      <td>5.0<\/td>\n",
       "      <td>4.36<\/td>\n",
       "      <td>1.75<\/td>\n",
       "      <td>19.7<\/td>\n",
       "      <td>796.0<\/td>\n",
       "      <td>46.3<\/td>\n",
       "      <td>maruti<\/td>\n",
       "      <td>alto<\/td>\n",
       "    <\/tr>\n",
       "    <tr>\n",
       "      <th>4781<\/th>\n",
       "      <td>Hyderabad<\/td>\n",
       "      <td>2007<\/td>\n",
       "      <td>52195.0<\/td>\n",
       "      <td>Petrol<\/td>\n",
       "      <td>Manual<\/td>\n",
       "      <td>First<\/td>\n",
       "      <td>5.0<\/td>\n",
       "      <td>4.36<\/td>\n",
       "      <td>1.75<\/td>\n",
       "      <td>19.7<\/td>\n",
       "      <td>796.0<\/td>\n",
       "      <td>46.3<\/td>\n",
       "      <td>maruti<\/td>\n",
       "      <td>alto<\/td>\n",
       "    <\/tr>\n",
       "    <tr>\n",
       "      <th>6940<\/th>\n",
       "      <td>Kolkata<\/td>\n",
       "      <td>2017<\/td>\n",
       "      <td>13000.0<\/td>\n",
       "      <td>Diesel<\/td>\n",
       "      <td>Manual<\/td>\n",
       "      <td>First<\/td>\n",
       "      <td>5.0<\/td>\n",
       "      <td>13.58<\/td>\n",
       "      <td>NaN<\/td>\n",
       "      <td>26.0<\/td>\n",
       "      <td>1498.0<\/td>\n",
       "      <td>98.6<\/td>\n",
       "      <td>honda<\/td>\n",
       "      <td>city<\/td>\n",
       "    <\/tr>\n",
       "    <tr>\n",
       "      <th>7077<\/th>\n",
       "      <td>Kolkata<\/td>\n",
       "      <td>2017<\/td>\n",
       "      <td>13000.0<\/td>\n",
       "      <td>Diesel<\/td>\n",
       "      <td>Manual<\/td>\n",
       "      <td>First<\/td>\n",
       "      <td>5.0<\/td>\n",
       "      <td>13.58<\/td>\n",
       "      <td>NaN<\/td>\n",
       "      <td>26.0<\/td>\n",
       "      <td>1498.0<\/td>\n",
       "      <td>98.6<\/td>\n",
       "      <td>honda<\/td>\n",
       "      <td>city<\/td>\n",
       "    <\/tr>\n",
       "  <\/tbody>\n",
       "<\/table>\n",
       "<\/div>"
      ]
     },
     "metadata":{},
     "output_type":"display_data"
    }
   ],
   "metadata":{
    "datalore":{
     "node_id":"VCVi4duRMj1ua2CKdwjuOO",
     "type":"CODE",
     "hide_input_from_viewers":false,
     "hide_output_from_viewers":false,
     "report_properties":{
      "rowId":"cONa6sESnF0vlK6hFzVMSb"
     }
    }
   }
  },
  {
   "cell_type":"markdown",
   "source":[
    "**Observations**\n",
    "\n",
    "- There is a good chance that two cars of the same build were sold in the same location.\n",
    "- But it is highly unlikely that both of them will have the same number of kilometers driven.\n",
    "- So, we will drop the row which occurs second."
   ],
   "attachments":{},
   "metadata":{
    "datalore":{
     "node_id":"YOOrEGnA9SY1U6sjRCH3MS",
     "type":"MD",
     "hide_input_from_viewers":false,
     "hide_output_from_viewers":false,
     "report_properties":{
      "rowId":"IA9y2djBWnQ5DT9E3PITst"
     }
    }
   }
  },
  {
   "cell_type":"code",
   "source":[
    "df.drop(4781, inplace=True)\n",
    "df.drop(6940, inplace=True)"
   ],
   "execution_count":10,
   "outputs":[],
   "metadata":{
    "datalore":{
     "node_id":"Hr6PCOlmMffPHXDYTjrq03",
     "type":"CODE",
     "hide_input_from_viewers":false,
     "hide_output_from_viewers":false,
     "report_properties":{
      "rowId":"0wZN2Ew0Olyfwgu4tVT0wx"
     }
    }
   }
  },
  {
   "cell_type":"code",
   "source":[
    "# checking for duplicate values\n",
    "df.duplicated().sum()"
   ],
   "execution_count":11,
   "outputs":[
    {
     "data":{
      "text\/plain":[
       "0"
      ]
     },
     "metadata":{},
     "output_type":"display_data"
    }
   ],
   "metadata":{
    "datalore":{
     "node_id":"nzbaam7nnl2u7WumVSuW8P",
     "type":"CODE",
     "hide_input_from_viewers":false,
     "hide_output_from_viewers":false,
     "report_properties":{
      "rowId":"HrmwdyMjWoGJFaY0vwN7CV"
     }
    }
   }
  },
  {
   "cell_type":"markdown",
   "source":[
    "- There are no duplicate values"
   ],
   "attachments":{},
   "metadata":{
    "datalore":{
     "node_id":"xrGjdpfrLoYrAJA0CxZagw",
     "type":"MD",
     "hide_input_from_viewers":false,
     "hide_output_from_viewers":false,
     "report_properties":{
      "rowId":"E4huuPyXlbzCWe4YXog2On"
     }
    }
   }
  },
  {
   "cell_type":"markdown",
   "source":[
    "## <a name='link2'>Exploratory Data Analysis (EDA) Summary<\/a>"
   ],
   "attachments":{},
   "metadata":{
    "datalore":{
     "node_id":"uSyI1Ymj4VFz9zyPwXtv4F",
     "type":"MD",
     "hide_input_from_viewers":false,
     "hide_output_from_viewers":false,
     "report_properties":{
      "rowId":"QdVpKeQ6eAoWeNAwWnSv1j"
     }
    }
   }
  },
  {
   "cell_type":"markdown",
   "source":[
    "**The below functions need to be defined to carry out the Exploratory Data Analysis.**"
   ],
   "attachments":{},
   "metadata":{
    "datalore":{
     "node_id":"cH5EH6dKS885lU9OWExyRn",
     "type":"MD",
     "hide_input_from_viewers":false,
     "hide_output_from_viewers":false,
     "report_properties":{
      "rowId":"fb2gzjxHju9UGUHVneBB6L"
     }
    }
   }
  },
  {
   "cell_type":"code",
   "source":[
    "# function to create labeled barplots\n",
    "\n",
    "\n",
    "def labeled_barplot(data, feature, perc=False, n=None):\n",
    "    \"\"\"\n",
    "    Barplot with percentage at the top\n",
    "\n",
    "    data: dataframe\n",
    "    feature: dataframe column\n",
    "    perc: whether to display percentages instead of count (default is False)\n",
    "    n: displays the top n category levels (default is None, i.e., display all levels)\n",
    "    \"\"\"\n",
    "\n",
    "    total = len(data[feature])  # length of the column\n",
    "    count = data[feature].nunique()\n",
    "    if n is None:\n",
    "        plt.figure(figsize=(count + 1, 5))\n",
    "    else:\n",
    "        plt.figure(figsize=(n + 1, 5))\n",
    "\n",
    "    plt.xticks(rotation=90, fontsize=15)\n",
    "    ax = sns.countplot(\n",
    "        data=data,\n",
    "        x=feature,\n",
    "        palette=\"Paired\",\n",
    "        order=data[feature].value_counts().index[:n].sort_values(),\n",
    "    )\n",
    "\n",
    "    for p in ax.patches:\n",
    "        if perc == True:\n",
    "            label = \"{:.1f}%\".format(\n",
    "                100 * p.get_height() \/ total\n",
    "            )  # percentage of each class of the category\n",
    "        else:\n",
    "            label = p.get_height()  # count of each level of the category\n",
    "\n",
    "        x = p.get_x() + p.get_width() \/ 2  # width of the plot\n",
    "        y = p.get_height()  # height of the plot\n",
    "\n",
    "        ax.annotate(\n",
    "            label,\n",
    "            (x, y),\n",
    "            ha=\"center\",\n",
    "            va=\"center\",\n",
    "            size=12,\n",
    "            xytext=(0, 5),\n",
    "            textcoords=\"offset points\",\n",
    "        )  # annotate the percentage\n",
    "\n",
    "    plt.show()  # show the plot"
   ],
   "execution_count":12,
   "outputs":[],
   "metadata":{
    "datalore":{
     "node_id":"skIp7Xd5k7SSI1VtArK2v4",
     "type":"CODE",
     "hide_input_from_viewers":false,
     "hide_output_from_viewers":false,
     "report_properties":{
      "rowId":"eEgXx2mSGXJt1q4xEC5G1k"
     }
    }
   }
  },
  {
   "cell_type":"code",
   "source":[
    "# function to plot a boxplot and a histogram along the same scale.\n",
    "\n",
    "\n",
    "def histogram_boxplot(data, feature, figsize=(12, 7), kde=False, bins=None):\n",
    "    \"\"\"\n",
    "    Boxplot and histogram combined\n",
    "\n",
    "    data: dataframe\n",
    "    feature: dataframe column\n",
    "    figsize: size of figure (default (12,7))\n",
    "    kde: whether to the show density curve (default False)\n",
    "    bins: number of bins for histogram (default None)\n",
    "    \"\"\"\n",
    "    f2, (ax_box2, ax_hist2) = plt.subplots(\n",
    "        nrows=2,  # Number of rows of the subplot grid= 2\n",
    "        sharex=True,  # x-axis will be shared among all subplots\n",
    "        gridspec_kw={\"height_ratios\": (0.25, 0.75)},\n",
    "        figsize=figsize,\n",
    "    )  # creating the 2 subplots\n",
    "    sns.boxplot(\n",
    "        data=data, x=feature, ax=ax_box2, showmeans=True, color=\"violet\"\n",
    "    )  # boxplot will be created and a star will indicate the mean value of the column\n",
    "    sns.histplot(\n",
    "        data=data, x=feature, kde=kde, ax=ax_hist2, bins=bins, palette=\"winter\"\n",
    "    ) if bins else sns.histplot(\n",
    "        data=data, x=feature, kde=kde, ax=ax_hist2\n",
    "    )  # For histogram\n",
    "    ax_hist2.axvline(\n",
    "        data[feature].mean(), color=\"green\", linestyle=\"--\"\n",
    "    )  # Add mean to the histogram\n",
    "    ax_hist2.axvline(\n",
    "        data[feature].median(), color=\"black\", linestyle=\"-\"\n",
    "    )  # Add median to the histogram"
   ],
   "execution_count":13,
   "outputs":[],
   "metadata":{
    "datalore":{
     "node_id":"lMu0ig1gDarBDwV1iiRQj9",
     "type":"CODE",
     "hide_input_from_viewers":false,
     "hide_output_from_viewers":false,
     "report_properties":{
      "rowId":"9y6oT7fTrKUSH4folkw2WB"
     }
    }
   }
  },
  {
   "cell_type":"markdown",
   "source":[
    "### Univariate Analysis"
   ],
   "attachments":{},
   "metadata":{
    "datalore":{
     "node_id":"MW6NgUcenFNslgJWIDWB1m",
     "type":"MD",
     "hide_input_from_viewers":false,
     "hide_output_from_viewers":false,
     "report_properties":{
      "rowId":"H2FKCk3FUsy89cEE17ULKj"
     }
    }
   }
  },
  {
   "cell_type":"code",
   "source":[
    "# creating a copy of the dataframe\n",
    "df1 = df.copy()"
   ],
   "execution_count":14,
   "outputs":[],
   "metadata":{
    "datalore":{
     "node_id":"Duq9xyQE6YAyOOJOB9cYOa",
     "type":"CODE",
     "hide_input_from_viewers":false,
     "hide_output_from_viewers":false,
     "report_properties":{
      "rowId":"56c84A0SmpPWsCkrUdExX9"
     }
    }
   }
  },
  {
   "cell_type":"markdown",
   "source":[
    "#### `Price`"
   ],
   "attachments":{},
   "metadata":{
    "datalore":{
     "node_id":"UhQZrmlWNXbfASxVPMhft5",
     "type":"MD",
     "hide_input_from_viewers":false,
     "hide_output_from_viewers":false,
     "report_properties":{
      "rowId":"br7SU5hDTz0yWFWVniWyTP"
     }
    }
   }
  },
  {
   "cell_type":"code",
   "source":[
    "histogram_boxplot(df1, \"Price\", kde=True)"
   ],
   "execution_count":15,
   "outputs":[
    {
     "data":{
      "image\/png":"[encoded data removed]"
     },
     "metadata":{
      "image\/png":{}
     },
     "output_type":"display_data"
    }
   ],
   "metadata":{
    "datalore":{
     "node_id":"FfFlkVERR8hXCBn0lMj5LX",
     "type":"CODE",
     "hide_input_from_viewers":false,
     "hide_output_from_viewers":false,
     "report_properties":{
      "rowId":"wL98uR0eKA2J5dfElpYca4"
     }
    }
   }
  },
  {
   "cell_type":"markdown",
   "source":[
    "**Observations**\n",
    "\n",
    "* This is a highly skewed distribution."
   ],
   "attachments":{},
   "metadata":{
    "datalore":{
     "node_id":"fKwQOpVxi807AppRuiyH7L",
     "type":"MD",
     "hide_input_from_viewers":false,
     "hide_output_from_viewers":false,
     "report_properties":{
      "rowId":"Q4miYGGFMQUdQVdoUOsGk5"
     }
    }
   }
  },
  {
   "cell_type":"markdown",
   "source":[
    "#### `New_Price`"
   ],
   "attachments":{},
   "metadata":{
    "datalore":{
     "node_id":"fWjuGG2iy62V5xCdQAssk5",
     "type":"MD",
     "hide_input_from_viewers":false,
     "hide_output_from_viewers":false,
     "report_properties":{
      "rowId":"wpj62YeKykbkyeInVbKKZf"
     }
    }
   }
  },
  {
   "cell_type":"code",
   "source":[
    "histogram_boxplot(df1, \"New_Price\", kde=True)"
   ],
   "execution_count":16,
   "outputs":[
    {
     "data":{
      "image\/png":"[encoded data removed]"
     },
     "metadata":{
      "image\/png":{}
     },
     "output_type":"display_data"
    }
   ],
   "metadata":{
    "datalore":{
     "node_id":"8rOoKKMTesxfzhFr6bejm6",
     "type":"CODE",
     "hide_input_from_viewers":false,
     "hide_output_from_viewers":false,
     "report_properties":{
      "rowId":"Z6Vlvq5qFOf2ruAcsxsl9j"
     }
    }
   }
  },
  {
   "cell_type":"markdown",
   "source":[
    "**Observations**\n",
    "\n",
    "* This is another highly skewed distribution."
   ],
   "attachments":{},
   "metadata":{
    "datalore":{
     "node_id":"RhDtszNFXkvBwOACw8lfdO",
     "type":"MD",
     "hide_input_from_viewers":false,
     "hide_output_from_viewers":false,
     "report_properties":{
      "rowId":"2l5Eds5W7mwTTlUwLZ3As0"
     }
    }
   }
  },
  {
   "cell_type":"markdown",
   "source":[
    "#### `Brand`"
   ],
   "attachments":{},
   "metadata":{
    "datalore":{
     "node_id":"g3WgnbPf93pDTAVayKHcV4",
     "type":"MD",
     "hide_input_from_viewers":false,
     "hide_output_from_viewers":false,
     "report_properties":{
      "rowId":"lGkKD9D9LnIft5DmS2cLKB"
     }
    }
   }
  },
  {
   "cell_type":"code",
   "source":[
    "labeled_barplot(df1, \"Brand\", perc=True, n=10)"
   ],
   "execution_count":17,
   "outputs":[
    {
     "data":{
      "image\/png":"[encoded data removed]"
     },
     "metadata":{
      "image\/png":{}
     },
     "output_type":"display_data"
    }
   ],
   "metadata":{
    "datalore":{
     "node_id":"EzpdpnnHcvm23qx3pmUrH6",
     "type":"CODE",
     "hide_input_from_viewers":false,
     "hide_output_from_viewers":false,
     "report_properties":{
      "rowId":"ud814pkTepxj6cDwXZjPdt"
     }
    }
   }
  },
  {
   "cell_type":"markdown",
   "source":[
    "* Most of the cars in the data belong to Maruti or Hyundai. The price of used cars is lower for budget brands like Porsche, Bentley, Lamborghini, etc. The price of used cars is higher for premium brands like Maruti, Tata, Fiat, etc."
   ],
   "attachments":{},
   "metadata":{
    "datalore":{
     "node_id":"jGutvo4nmX7vOVDftbjC6f",
     "type":"MD",
     "hide_input_from_viewers":false,
     "hide_output_from_viewers":false,
     "report_properties":{
      "rowId":"t9P2ZSIR7ZsRQnydUtfqLz"
     }
    }
   }
  },
  {
   "cell_type":"markdown",
   "source":[
    "#### `Location`"
   ],
   "attachments":{},
   "metadata":{
    "datalore":{
     "node_id":"7hIKxBzCX3N9Yn2dyVy9Ij",
     "type":"MD",
     "hide_input_from_viewers":false,
     "hide_output_from_viewers":false,
     "report_properties":{
      "rowId":"4IZTPrOJxOLBY1mds4gOIw"
     }
    }
   }
  },
  {
   "cell_type":"code",
   "source":[
    "labeled_barplot(df1, \"Location\", perc=True)"
   ],
   "execution_count":18,
   "outputs":[
    {
     "data":{
      "image\/png":"[encoded data removed]"
     },
     "metadata":{
      "image\/png":{}
     },
     "output_type":"display_data"
    }
   ],
   "metadata":{
    "datalore":{
     "node_id":"naqvsFJ04DQ8dEWfkQLOqs",
     "type":"CODE",
     "hide_input_from_viewers":false,
     "hide_output_from_viewers":false,
     "report_properties":{
      "rowId":"TMpu6k5VP5V3gKfShkprhR"
     }
    }
   }
  },
  {
   "cell_type":"markdown",
   "source":[
    "* Hyderabad and Mumbai have the most demand for used cars. The price of used cars has a large IQR in Coimbatore and Bangalore."
   ],
   "attachments":{},
   "metadata":{
    "datalore":{
     "node_id":"nkbLKpzBHsCtj0j47ksJnA",
     "type":"MD",
     "hide_input_from_viewers":false,
     "hide_output_from_viewers":false,
     "report_properties":{
      "rowId":"UFTfKgClHKDCwjpxJ1FrtF"
     }
    }
   }
  },
  {
   "cell_type":"markdown",
   "source":[
    "#### `Fuel_Type`"
   ],
   "attachments":{},
   "metadata":{
    "datalore":{
     "node_id":"gptkK1RvQivaEIB0eLV57d",
     "type":"MD",
     "hide_input_from_viewers":false,
     "hide_output_from_viewers":false,
     "report_properties":{
      "rowId":"XyaWMInqoHAdMtPbt5IHkd"
     }
    }
   }
  },
  {
   "cell_type":"code",
   "source":[
    "labeled_barplot(df1, \"Fuel_Type\", perc=True)"
   ],
   "execution_count":19,
   "outputs":[
    {
     "data":{
      "image\/png":"[encoded data removed]"
     },
     "metadata":{
      "image\/png":{}
     },
     "output_type":"display_data"
    }
   ],
   "metadata":{
    "datalore":{
     "node_id":"8MbFoofBFbNznGaTKwWgOA",
     "type":"CODE",
     "hide_input_from_viewers":false,
     "hide_output_from_viewers":false,
     "report_properties":{
      "rowId":"U1utGjQoHknio7p4lwPXJL"
     }
    }
   }
  },
  {
   "cell_type":"markdown",
   "source":[
    "* Around 1% of the cars in the dataset do not run on diesel or petrol."
   ],
   "attachments":{},
   "metadata":{
    "datalore":{
     "node_id":"cITIejo5PJ8ZEvdHsFuzaV",
     "type":"MD",
     "hide_input_from_viewers":false,
     "hide_output_from_viewers":false,
     "report_properties":{
      "rowId":"8fLYIEYLUtpJ8jdmCIvzor"
     }
    }
   }
  },
  {
   "cell_type":"markdown",
   "source":[
    "### Bivariate Analysis"
   ],
   "attachments":{},
   "metadata":{
    "datalore":{
     "node_id":"1avAGScwJosjVjo3dZJGZF",
     "type":"MD",
     "hide_input_from_viewers":false,
     "hide_output_from_viewers":false,
     "report_properties":{
      "rowId":"SUiF4q4LOCc7U88IgEVDlN"
     }
    }
   }
  },
  {
   "cell_type":"markdown",
   "source":[
    "#### Correlation Check"
   ],
   "attachments":{},
   "metadata":{
    "datalore":{
     "node_id":"PhO3kWhqM5U45SZ4pigRdh",
     "type":"MD",
     "hide_input_from_viewers":false,
     "hide_output_from_viewers":false,
     "report_properties":{
      "rowId":"apc0sqWr0bgwGGkOO1jlQq"
     }
    }
   }
  },
  {
   "cell_type":"code",
   "source":[
    "cols_list = df1.select_dtypes(include=np.number).columns.tolist()\n",
    "# dropping Year as it is a temporal variable\n",
    "cols_list.remove(\"Year\")\n",
    "\n",
    "plt.figure(figsize=(15, 7))\n",
    "sns.heatmap(\n",
    "    df1[cols_list].corr(), annot=True, vmin=-1, vmax=1, fmt=\".2f\", cmap=\"Spectral\"\n",
    ")\n",
    "plt.show()"
   ],
   "execution_count":20,
   "outputs":[
    {
     "data":{
      "image\/png":"[encoded data removed]"
     },
     "metadata":{
      "image\/png":{}
     },
     "output_type":"display_data"
    }
   ],
   "metadata":{
    "datalore":{
     "node_id":"vOEolFf3hXlXMbr2IzG7RR",
     "type":"CODE",
     "hide_input_from_viewers":false,
     "hide_output_from_viewers":false,
     "report_properties":{
      "rowId":"AOVc5apuoMr2vrlvJO9y4p"
     }
    }
   }
  },
  {
   "cell_type":"markdown",
   "source":[
    "**Observations**\n",
    "\n",
    "* `Power` and `Engine` are important predictors of used car price, but they are also highly correlated to each other.\n",
    "* The price of a new car of the same model seems to be an important predictor of the used car price, which makes sense."
   ],
   "attachments":{},
   "metadata":{
    "datalore":{
     "node_id":"JrSEJIA6WEFUBz5EaDxTEz",
     "type":"MD",
     "hide_input_from_viewers":false,
     "hide_output_from_viewers":false,
     "report_properties":{
      "rowId":"K1kF145whD0IrghRPewMRu"
     }
    }
   }
  },
  {
   "cell_type":"markdown",
   "source":[
    "#### `Price` vs `Location`"
   ],
   "attachments":{},
   "metadata":{
    "datalore":{
     "node_id":"lbszgiNqjXMgrkvyaHF7JX",
     "type":"MD",
     "hide_input_from_viewers":false,
     "hide_output_from_viewers":false,
     "report_properties":{
      "rowId":"77etJLSSOQjTNDXpIk1IR0"
     }
    }
   }
  },
  {
   "cell_type":"code",
   "source":[
    "plt.figure(figsize=(12, 5))\n",
    "sns.boxplot(x=\"Location\", y=\"Price\", data=df1)\n",
    "plt.show()"
   ],
   "execution_count":21,
   "outputs":[
    {
     "data":{
      "image\/png":"[encoded data removed]"
     },
     "metadata":{
      "image\/png":{}
     },
     "output_type":"display_data"
    }
   ],
   "metadata":{
    "datalore":{
     "node_id":"IFxrXzOmUT2uKKcxKKQGDd",
     "type":"CODE",
     "hide_input_from_viewers":false,
     "hide_output_from_viewers":false,
     "report_properties":{
      "rowId":"uvDbzAsbfI0QO44GoZzD62"
     }
    }
   }
  },
  {
   "cell_type":"markdown",
   "source":[
    "* The price of used cars has a large IQR in Coimbatore and Bangalore."
   ],
   "attachments":{},
   "metadata":{
    "datalore":{
     "node_id":"hifQFIZz5lmxGzpU2xWg8q",
     "type":"MD",
     "hide_input_from_viewers":false,
     "hide_output_from_viewers":false,
     "report_properties":{
      "rowId":"NQD9GhUrYyJtPmyq0dbULp"
     }
    }
   }
  },
  {
   "cell_type":"markdown",
   "source":[
    "#### `Price` vs `Brand`"
   ],
   "attachments":{},
   "metadata":{
    "datalore":{
     "node_id":"EdL3JASYLcBRB6PllJcoTQ",
     "type":"MD",
     "hide_input_from_viewers":false,
     "hide_output_from_viewers":false,
     "report_properties":{
      "rowId":"KrC6Xq4VFWwDTSGC0Jx9wX"
     }
    }
   }
  },
  {
   "cell_type":"code",
   "source":[
    "plt.figure(figsize=(18, 5))\n",
    "sns.boxplot(x=\"Brand\", y=\"Price\", data=df)\n",
    "plt.xticks(rotation=90)\n",
    "plt.show()"
   ],
   "execution_count":22,
   "outputs":[
    {
     "data":{
      "image\/png":"[encoded data removed]"
     },
     "metadata":{
      "image\/png":{}
     },
     "output_type":"display_data"
    }
   ],
   "metadata":{
    "datalore":{
     "node_id":"bi1EPqWTo5QY3jfN88nYfp",
     "type":"CODE",
     "hide_input_from_viewers":false,
     "hide_output_from_viewers":false,
     "report_properties":{
      "rowId":"fXEtamGeBWu4QI35F4PrLZ"
     }
    }
   }
  },
  {
   "cell_type":"markdown",
   "source":[
    "* The price of used cars is lower for budget brands like Maruti, Tata, Fiat, etc.\n",
    "* The price of used cars is higher for premium brands like Porsche, Audi, Lamborghini, etc."
   ],
   "attachments":{},
   "metadata":{
    "datalore":{
     "node_id":"oEmKdbg9qsD4S5IhanxNVE",
     "type":"MD",
     "hide_input_from_viewers":false,
     "hide_output_from_viewers":false,
     "report_properties":{
      "rowId":"Oj9IZwUYmkIHQF9t3W3ARJ"
     }
    }
   }
  },
  {
   "cell_type":"markdown",
   "source":[
    "#### `Price` vs `Year`"
   ],
   "attachments":{},
   "metadata":{
    "datalore":{
     "node_id":"HyTlSNydJTZb3tJNjlAn3C",
     "type":"MD",
     "hide_input_from_viewers":false,
     "hide_output_from_viewers":false,
     "report_properties":{
      "rowId":"DCoRMy6EnP6gywryi4qlhs"
     }
    }
   }
  },
  {
   "cell_type":"code",
   "source":[
    "plt.figure(figsize=(18, 5))\n",
    "sns.boxplot(x=\"Year\", y=\"Price\", data=df1)\n",
    "plt.show()"
   ],
   "execution_count":23,
   "outputs":[
    {
     "data":{
      "image\/png":"[encoded data removed]"
     },
     "metadata":{
      "image\/png":{}
     },
     "output_type":"display_data"
    }
   ],
   "metadata":{
    "datalore":{
     "node_id":"EM1So4aRvcC2MO18C3bAav",
     "type":"CODE",
     "hide_input_from_viewers":false,
     "hide_output_from_viewers":false,
     "report_properties":{
      "rowId":"ckuw9BQKlCOUbF5W5VaT61"
     }
    }
   }
  },
  {
   "cell_type":"markdown",
   "source":[
    "* The price of used cars has increased over the years."
   ],
   "attachments":{},
   "metadata":{
    "datalore":{
     "node_id":"IGp4PTH31zN2H45ElmYdRE",
     "type":"MD",
     "hide_input_from_viewers":false,
     "hide_output_from_viewers":false,
     "report_properties":{
      "rowId":"2hZTVaoCQzgIwpiJtjxnXD"
     }
    }
   }
  },
  {
   "cell_type":"markdown",
   "source":[
    "## Data Preprocessing"
   ],
   "attachments":{},
   "metadata":{
    "datalore":{
     "node_id":"TJQ8HoI3KAthzJD5B7fLH1",
     "type":"MD",
     "hide_input_from_viewers":false,
     "hide_output_from_viewers":false,
     "report_properties":{
      "rowId":"Lws2rhsgEqavMF06ioYsVb"
     }
    }
   }
  },
  {
   "cell_type":"markdown",
   "source":[
    "### Missing Value Treatment"
   ],
   "attachments":{},
   "metadata":{
    "datalore":{
     "node_id":"AfEstrXYODPVt5zq21Vl0N",
     "type":"MD",
     "hide_input_from_viewers":false,
     "hide_output_from_viewers":false,
     "report_properties":{
      "rowId":"nHIoLeE7uzRz1Ku6xu7y86"
     }
    }
   }
  },
  {
   "cell_type":"code",
   "source":[
    "# let's check again for missing values\n",
    "df.isnull().sum()"
   ],
   "execution_count":24,
   "outputs":[
    {
     "data":{
      "text\/html":[
       "<pre>Location                0\n",
       "Year                    0\n",
       "Kilometers_Driven       1\n",
       "Fuel_Type               0\n",
       "Transmission            0\n",
       "Owner_Type              0\n",
       "Seats                  53\n",
       "New_Price               0\n",
       "Price                1232\n",
       "mileage_num            83\n",
       "engine_num             46\n",
       "power_num             175\n",
       "Brand                   0\n",
       "Model                   0\n",
       "dtype: int64<\/pre>"
      ]
     },
     "metadata":{},
     "output_type":"display_data"
    }
   ],
   "metadata":{
    "datalore":{
     "node_id":"JiuCLSSYjUAMP46fOF4UCY",
     "type":"CODE",
     "hide_input_from_viewers":false,
     "hide_output_from_viewers":false,
     "report_properties":{
      "rowId":"Pwn4lYiukGNh5mz4xUIN2B"
     }
    }
   }
  },
  {
   "cell_type":"markdown",
   "source":[
    "**Let's look at a few rows where number of seats is missing.**"
   ],
   "attachments":{},
   "metadata":{
    "datalore":{
     "node_id":"lnRAm7A2PKOYEMB4e3VgxE",
     "type":"MD",
     "hide_input_from_viewers":false,
     "hide_output_from_viewers":false,
     "report_properties":{
      "rowId":"MJGSR4bJtd9KYduxPYF4hP"
     }
    }
   }
  },
  {
   "cell_type":"code",
   "source":[
    "df[df[\"Seats\"].isnull()]"
   ],
   "execution_count":25,
   "outputs":[
    {
     "data":{
      "text\/html":[
       "<div>\n",
       "<style scoped>\n",
       "    .dataframe tbody tr th:only-of-type {\n",
       "        vertical-align: middle;\n",
       "    }\n",
       "\n",
       "    .dataframe tbody tr th {\n",
       "        vertical-align: top;\n",
       "    }\n",
       "\n",
       "    .dataframe thead th {\n",
       "        text-align: right;\n",
       "    }\n",
       "<\/style>\n",
       "<table border=\"1\" class=\"dataframe\">\n",
       "  <thead>\n",
       "    <tr style=\"text-align: right;\">\n",
       "      <th><\/th>\n",
       "      <th>Location<\/th>\n",
       "      <th>Year<\/th>\n",
       "      <th>Kilometers_Driven<\/th>\n",
       "      <th>Fuel_Type<\/th>\n",
       "      <th>Transmission<\/th>\n",
       "      <th>Owner_Type<\/th>\n",
       "      <th>Seats<\/th>\n",
       "      <th>New_Price<\/th>\n",
       "      <th>Price<\/th>\n",
       "      <th>mileage_num<\/th>\n",
       "      <th>engine_num<\/th>\n",
       "      <th>power_num<\/th>\n",
       "      <th>Brand<\/th>\n",
       "      <th>Model<\/th>\n",
       "    <\/tr>\n",
       "  <\/thead>\n",
       "  <tbody>\n",
       "    <tr>\n",
       "      <th>194<\/th>\n",
       "      <td>Ahmedabad<\/td>\n",
       "      <td>2007<\/td>\n",
       "      <td>60006.0<\/td>\n",
       "      <td>Petrol<\/td>\n",
       "      <td>Manual<\/td>\n",
       "      <td>First<\/td>\n",
       "      <td>NaN<\/td>\n",
       "      <td>13.580<\/td>\n",
       "      <td>2.95<\/td>\n",
       "      <td>NaN<\/td>\n",
       "      <td>NaN<\/td>\n",
       "      <td>NaN<\/td>\n",
       "      <td>honda<\/td>\n",
       "      <td>city<\/td>\n",
       "    <\/tr>\n",
       "    <tr>\n",
       "      <th>208<\/th>\n",
       "      <td>Kolkata<\/td>\n",
       "      <td>2010<\/td>\n",
       "      <td>42001.0<\/td>\n",
       "      <td>Petrol<\/td>\n",
       "      <td>Manual<\/td>\n",
       "      <td>First<\/td>\n",
       "      <td>NaN<\/td>\n",
       "      <td>7.880<\/td>\n",
       "      <td>2.11<\/td>\n",
       "      <td>16.10<\/td>\n",
       "      <td>NaN<\/td>\n",
       "      <td>NaN<\/td>\n",
       "      <td>maruti<\/td>\n",
       "      <td>swift<\/td>\n",
       "    <\/tr>\n",
       "    <tr>\n",
       "      <th>229<\/th>\n",
       "      <td>Bangalore<\/td>\n",
       "      <td>2015<\/td>\n",
       "      <td>70436.0<\/td>\n",
       "      <td>Diesel<\/td>\n",
       "      <td>Manual<\/td>\n",
       "      <td>First<\/td>\n",
       "      <td>NaN<\/td>\n",
       "      <td>7.650<\/td>\n",
       "      <td>3.60<\/td>\n",
       "      <td>NaN<\/td>\n",
       "      <td>1498.0<\/td>\n",
       "      <td>99.0<\/td>\n",
       "      <td>ford<\/td>\n",
       "      <td>figo<\/td>\n",
       "    <\/tr>\n",
       "    <tr>\n",
       "      <th>733<\/th>\n",
       "      <td>Chennai<\/td>\n",
       "      <td>2006<\/td>\n",
       "      <td>97800.0<\/td>\n",
       "      <td>Petrol<\/td>\n",
       "      <td>Manual<\/td>\n",
       "      <td>Third<\/td>\n",
       "      <td>NaN<\/td>\n",
       "      <td>7.880<\/td>\n",
       "      <td>1.75<\/td>\n",
       "      <td>16.10<\/td>\n",
       "      <td>NaN<\/td>\n",
       "      <td>NaN<\/td>\n",
       "      <td>maruti<\/td>\n",
       "      <td>swift<\/td>\n",
       "    <\/tr>\n",
       "    <tr>\n",
       "      <th>749<\/th>\n",
       "      <td>Mumbai<\/td>\n",
       "      <td>2008<\/td>\n",
       "      <td>55001.0<\/td>\n",
       "      <td>Diesel<\/td>\n",
       "      <td>Automatic<\/td>\n",
       "      <td>Second<\/td>\n",
       "      <td>NaN<\/td>\n",
       "      <td>120.000<\/td>\n",
       "      <td>26.50<\/td>\n",
       "      <td>NaN<\/td>\n",
       "      <td>NaN<\/td>\n",
       "      <td>NaN<\/td>\n",
       "      <td>land<\/td>\n",
       "      <td>rover<\/td>\n",
       "    <\/tr>\n",
       "    <tr>\n",
       "      <th>1294<\/th>\n",
       "      <td>Delhi<\/td>\n",
       "      <td>2009<\/td>\n",
       "      <td>55005.0<\/td>\n",
       "      <td>Petrol<\/td>\n",
       "      <td>Manual<\/td>\n",
       "      <td>First<\/td>\n",
       "      <td>NaN<\/td>\n",
       "      <td>13.580<\/td>\n",
       "      <td>3.20<\/td>\n",
       "      <td>12.80<\/td>\n",
       "      <td>NaN<\/td>\n",
       "      <td>NaN<\/td>\n",
       "      <td>honda<\/td>\n",
       "      <td>city<\/td>\n",
       "    <\/tr>\n",
       "    <tr>\n",
       "      <th>1327<\/th>\n",
       "      <td>Hyderabad<\/td>\n",
       "      <td>2015<\/td>\n",
       "      <td>50295.0<\/td>\n",
       "      <td>Petrol<\/td>\n",
       "      <td>Manual<\/td>\n",
       "      <td>First<\/td>\n",
       "      <td>NaN<\/td>\n",
       "      <td>7.880<\/td>\n",
       "      <td>5.80<\/td>\n",
       "      <td>16.10<\/td>\n",
       "      <td>NaN<\/td>\n",
       "      <td>NaN<\/td>\n",
       "      <td>maruti<\/td>\n",
       "      <td>swift<\/td>\n",
       "    <\/tr>\n",
       "    <tr>\n",
       "      <th>1385<\/th>\n",
       "      <td>Pune<\/td>\n",
       "      <td>2004<\/td>\n",
       "      <td>115000.0<\/td>\n",
       "      <td>Petrol<\/td>\n",
       "      <td>Manual<\/td>\n",
       "      <td>Second<\/td>\n",
       "      <td>NaN<\/td>\n",
       "      <td>13.580<\/td>\n",
       "      <td>1.50<\/td>\n",
       "      <td>NaN<\/td>\n",
       "      <td>NaN<\/td>\n",
       "      <td>NaN<\/td>\n",
       "      <td>honda<\/td>\n",
       "      <td>city<\/td>\n",
       "    <\/tr>\n",
       "    <tr>\n",
       "      <th>1460<\/th>\n",
       "      <td>Coimbatore<\/td>\n",
       "      <td>2008<\/td>\n",
       "      <td>69078.0<\/td>\n",
       "      <td>Petrol<\/td>\n",
       "      <td>Manual<\/td>\n",
       "      <td>First<\/td>\n",
       "      <td>NaN<\/td>\n",
       "      <td>120.000<\/td>\n",
       "      <td>40.88<\/td>\n",
       "      <td>NaN<\/td>\n",
       "      <td>NaN<\/td>\n",
       "      <td>NaN<\/td>\n",
       "      <td>land<\/td>\n",
       "      <td>rover<\/td>\n",
       "    <\/tr>\n",
       "    <tr>\n",
       "      <th>1917<\/th>\n",
       "      <td>Jaipur<\/td>\n",
       "      <td>2005<\/td>\n",
       "      <td>88000.0<\/td>\n",
       "      <td>Petrol<\/td>\n",
       "      <td>Manual<\/td>\n",
       "      <td>Second<\/td>\n",
       "      <td>NaN<\/td>\n",
       "      <td>13.580<\/td>\n",
       "      <td>1.70<\/td>\n",
       "      <td>13.00<\/td>\n",
       "      <td>1493.0<\/td>\n",
       "      <td>100.0<\/td>\n",
       "      <td>honda<\/td>\n",
       "      <td>city<\/td>\n",
       "    <\/tr>\n",
       "    <tr>\n",
       "      <th>2074<\/th>\n",
       "      <td>Pune<\/td>\n",
       "      <td>2011<\/td>\n",
       "      <td>24255.0<\/td>\n",
       "      <td>Petrol<\/td>\n",
       "      <td>Manual<\/td>\n",
       "      <td>First<\/td>\n",
       "      <td>NaN<\/td>\n",
       "      <td>7.880<\/td>\n",
       "      <td>3.15<\/td>\n",
       "      <td>16.10<\/td>\n",
       "      <td>NaN<\/td>\n",
       "      <td>NaN<\/td>\n",
       "      <td>maruti<\/td>\n",
       "      <td>swift<\/td>\n",
       "    <\/tr>\n",
       "    <tr>\n",
       "      <th>2096<\/th>\n",
       "      <td>Coimbatore<\/td>\n",
       "      <td>2004<\/td>\n",
       "      <td>52146.0<\/td>\n",
       "      <td>Petrol<\/td>\n",
       "      <td>Manual<\/td>\n",
       "      <td>First<\/td>\n",
       "      <td>NaN<\/td>\n",
       "      <td>4.550<\/td>\n",
       "      <td>1.93<\/td>\n",
       "      <td>NaN<\/td>\n",
       "      <td>NaN<\/td>\n",
       "      <td>NaN<\/td>\n",
       "      <td>hyundai<\/td>\n",
       "      <td>santro<\/td>\n",
       "    <\/tr>\n",
       "    <tr>\n",
       "      <th>2264<\/th>\n",
       "      <td>Pune<\/td>\n",
       "      <td>2012<\/td>\n",
       "      <td>24500.0<\/td>\n",
       "      <td>Petrol<\/td>\n",
       "      <td>Manual<\/td>\n",
       "      <td>Second<\/td>\n",
       "      <td>NaN<\/td>\n",
       "      <td>8.525<\/td>\n",
       "      <td>2.95<\/td>\n",
       "      <td>18.30<\/td>\n",
       "      <td>NaN<\/td>\n",
       "      <td>NaN<\/td>\n",
       "      <td>toyota<\/td>\n",
       "      <td>etios<\/td>\n",
       "    <\/tr>\n",
       "    <tr>\n",
       "      <th>2325<\/th>\n",
       "      <td>Pune<\/td>\n",
       "      <td>2015<\/td>\n",
       "      <td>67000.0<\/td>\n",
       "      <td>Petrol<\/td>\n",
       "      <td>Manual<\/td>\n",
       "      <td>First<\/td>\n",
       "      <td>NaN<\/td>\n",
       "      <td>7.880<\/td>\n",
       "      <td>4.70<\/td>\n",
       "      <td>16.10<\/td>\n",
       "      <td>NaN<\/td>\n",
       "      <td>NaN<\/td>\n",
       "      <td>maruti<\/td>\n",
       "      <td>swift<\/td>\n",
       "    <\/tr>\n",
       "    <tr>\n",
       "      <th>2335<\/th>\n",
       "      <td>Mumbai<\/td>\n",
       "      <td>2007<\/td>\n",
       "      <td>55000.0<\/td>\n",
       "      <td>Petrol<\/td>\n",
       "      <td>Manual<\/td>\n",
       "      <td>Second<\/td>\n",
       "      <td>NaN<\/td>\n",
       "      <td>7.880<\/td>\n",
       "      <td>1.75<\/td>\n",
       "      <td>16.10<\/td>\n",
       "      <td>NaN<\/td>\n",
       "      <td>NaN<\/td>\n",
       "      <td>maruti<\/td>\n",
       "      <td>swift<\/td>\n",
       "    <\/tr>\n",
       "    <tr>\n",
       "      <th>2369<\/th>\n",
       "      <td>Chennai<\/td>\n",
       "      <td>2008<\/td>\n",
       "      <td>56000.0<\/td>\n",
       "      <td>Petrol<\/td>\n",
       "      <td>Manual<\/td>\n",
       "      <td>Second<\/td>\n",
       "      <td>NaN<\/td>\n",
       "      <td>7.880<\/td>\n",
       "      <td>1.50<\/td>\n",
       "      <td>19.50<\/td>\n",
       "      <td>1061.0<\/td>\n",
       "      <td>NaN<\/td>\n",
       "      <td>maruti<\/td>\n",
       "      <td>estilo<\/td>\n",
       "    <\/tr>\n",
       "    <tr>\n",
       "      <th>2530<\/th>\n",
       "      <td>Kochi<\/td>\n",
       "      <td>2014<\/td>\n",
       "      <td>64158.0<\/td>\n",
       "      <td>Diesel<\/td>\n",
       "      <td>Automatic<\/td>\n",
       "      <td>First<\/td>\n",
       "      <td>NaN<\/td>\n",
       "      <td>67.870<\/td>\n",
       "      <td>17.89<\/td>\n",
       "      <td>18.48<\/td>\n",
       "      <td>NaN<\/td>\n",
       "      <td>NaN<\/td>\n",
       "      <td>bmw<\/td>\n",
       "      <td>5<\/td>\n",
       "    <\/tr>\n",
       "    <tr>\n",
       "      <th>2542<\/th>\n",
       "      <td>Bangalore<\/td>\n",
       "      <td>2011<\/td>\n",
       "      <td>65000.0<\/td>\n",
       "      <td>Petrol<\/td>\n",
       "      <td>Manual<\/td>\n",
       "      <td>Second<\/td>\n",
       "      <td>NaN<\/td>\n",
       "      <td>4.550<\/td>\n",
       "      <td>3.15<\/td>\n",
       "      <td>NaN<\/td>\n",
       "      <td>NaN<\/td>\n",
       "      <td>NaN<\/td>\n",
       "      <td>hyundai<\/td>\n",
       "      <td>santro<\/td>\n",
       "    <\/tr>\n",
       "    <tr>\n",
       "      <th>2623<\/th>\n",
       "      <td>Pune<\/td>\n",
       "      <td>2012<\/td>\n",
       "      <td>95000.0<\/td>\n",
       "      <td>Diesel<\/td>\n",
       "      <td>Automatic<\/td>\n",
       "      <td>Second<\/td>\n",
       "      <td>NaN<\/td>\n",
       "      <td>67.870<\/td>\n",
       "      <td>18.00<\/td>\n",
       "      <td>18.48<\/td>\n",
       "      <td>NaN<\/td>\n",
       "      <td>NaN<\/td>\n",
       "      <td>bmw<\/td>\n",
       "      <td>5<\/td>\n",
       "    <\/tr>\n",
       "    <tr>\n",
       "      <th>2668<\/th>\n",
       "      <td>Kolkata<\/td>\n",
       "      <td>2014<\/td>\n",
       "      <td>32986.0<\/td>\n",
       "      <td>Petrol<\/td>\n",
       "      <td>Manual<\/td>\n",
       "      <td>First<\/td>\n",
       "      <td>NaN<\/td>\n",
       "      <td>7.880<\/td>\n",
       "      <td>4.24<\/td>\n",
       "      <td>16.10<\/td>\n",
       "      <td>NaN<\/td>\n",
       "      <td>NaN<\/td>\n",
       "      <td>maruti<\/td>\n",
       "      <td>swift<\/td>\n",
       "    <\/tr>\n",
       "    <tr>\n",
       "      <th>2737<\/th>\n",
       "      <td>Jaipur<\/td>\n",
       "      <td>2001<\/td>\n",
       "      <td>200000.0<\/td>\n",
       "      <td>Petrol<\/td>\n",
       "      <td>Manual<\/td>\n",
       "      <td>First<\/td>\n",
       "      <td>NaN<\/td>\n",
       "      <td>5.510<\/td>\n",
       "      <td>0.70<\/td>\n",
       "      <td>12.00<\/td>\n",
       "      <td>NaN<\/td>\n",
       "      <td>NaN<\/td>\n",
       "      <td>maruti<\/td>\n",
       "      <td>wagon<\/td>\n",
       "    <\/tr>\n",
       "    <tr>\n",
       "      <th>2780<\/th>\n",
       "      <td>Pune<\/td>\n",
       "      <td>2009<\/td>\n",
       "      <td>100000.0<\/td>\n",
       "      <td>Petrol<\/td>\n",
       "      <td>Manual<\/td>\n",
       "      <td>First<\/td>\n",
       "      <td>NaN<\/td>\n",
       "      <td>4.550<\/td>\n",
       "      <td>1.60<\/td>\n",
       "      <td>NaN<\/td>\n",
       "      <td>NaN<\/td>\n",
       "      <td>NaN<\/td>\n",
       "      <td>hyundai<\/td>\n",
       "      <td>santro<\/td>\n",
       "    <\/tr>\n",
       "    <tr>\n",
       "      <th>2842<\/th>\n",
       "      <td>Bangalore<\/td>\n",
       "      <td>2012<\/td>\n",
       "      <td>43000.0<\/td>\n",
       "      <td>Petrol<\/td>\n",
       "      <td>Manual<\/td>\n",
       "      <td>First<\/td>\n",
       "      <td>NaN<\/td>\n",
       "      <td>4.550<\/td>\n",
       "      <td>3.25<\/td>\n",
       "      <td>NaN<\/td>\n",
       "      <td>NaN<\/td>\n",
       "      <td>NaN<\/td>\n",
       "      <td>hyundai<\/td>\n",
       "      <td>santro<\/td>\n",
       "    <\/tr>\n",
       "    <tr>\n",
       "      <th>3272<\/th>\n",
       "      <td>Mumbai<\/td>\n",
       "      <td>2008<\/td>\n",
       "      <td>81000.0<\/td>\n",
       "      <td>Diesel<\/td>\n",
       "      <td>Automatic<\/td>\n",
       "      <td>Second<\/td>\n",
       "      <td>NaN<\/td>\n",
       "      <td>67.870<\/td>\n",
       "      <td>10.50<\/td>\n",
       "      <td>18.48<\/td>\n",
       "      <td>NaN<\/td>\n",
       "      <td>NaN<\/td>\n",
       "      <td>bmw<\/td>\n",
       "      <td>5<\/td>\n",
       "    <\/tr>\n",
       "    <tr>\n",
       "      <th>3404<\/th>\n",
       "      <td>Jaipur<\/td>\n",
       "      <td>2006<\/td>\n",
       "      <td>125000.0<\/td>\n",
       "      <td>Petrol<\/td>\n",
       "      <td>Manual<\/td>\n",
       "      <td>Fourth &amp; Above<\/td>\n",
       "      <td>NaN<\/td>\n",
       "      <td>7.880<\/td>\n",
       "      <td>2.35<\/td>\n",
       "      <td>16.10<\/td>\n",
       "      <td>NaN<\/td>\n",
       "      <td>NaN<\/td>\n",
       "      <td>maruti<\/td>\n",
       "      <td>swift<\/td>\n",
       "    <\/tr>\n",
       "    <tr>\n",
       "      <th>3520<\/th>\n",
       "      <td>Delhi<\/td>\n",
       "      <td>2012<\/td>\n",
       "      <td>90000.0<\/td>\n",
       "      <td>Diesel<\/td>\n",
       "      <td>Automatic<\/td>\n",
       "      <td>First<\/td>\n",
       "      <td>NaN<\/td>\n",
       "      <td>67.870<\/td>\n",
       "      <td>14.50<\/td>\n",
       "      <td>18.48<\/td>\n",
       "      <td>NaN<\/td>\n",
       "      <td>NaN<\/td>\n",
       "      <td>bmw<\/td>\n",
       "      <td>5<\/td>\n",
       "    <\/tr>\n",
       "    <tr>\n",
       "      <th>3522<\/th>\n",
       "      <td>Kochi<\/td>\n",
       "      <td>2012<\/td>\n",
       "      <td>66400.0<\/td>\n",
       "      <td>Petrol<\/td>\n",
       "      <td>Manual<\/td>\n",
       "      <td>First<\/td>\n",
       "      <td>NaN<\/td>\n",
       "      <td>4.550<\/td>\n",
       "      <td>2.66<\/td>\n",
       "      <td>NaN<\/td>\n",
       "      <td>NaN<\/td>\n",
       "      <td>NaN<\/td>\n",
       "      <td>hyundai<\/td>\n",
       "      <td>santro<\/td>\n",
       "    <\/tr>\n",
       "    <tr>\n",
       "      <th>3800<\/th>\n",
       "      <td>Mumbai<\/td>\n",
       "      <td>2012<\/td>\n",
       "      <td>129000.0<\/td>\n",
       "      <td>Diesel<\/td>\n",
       "      <td>Automatic<\/td>\n",
       "      <td>First<\/td>\n",
       "      <td>NaN<\/td>\n",
       "      <td>35.290<\/td>\n",
       "      <td>7.00<\/td>\n",
       "      <td>12.80<\/td>\n",
       "      <td>2953.0<\/td>\n",
       "      <td>NaN<\/td>\n",
       "      <td>ford<\/td>\n",
       "      <td>endeavour<\/td>\n",
       "    <\/tr>\n",
       "    <tr>\n",
       "      <th>3810<\/th>\n",
       "      <td>Kolkata<\/td>\n",
       "      <td>2013<\/td>\n",
       "      <td>27000.0<\/td>\n",
       "      <td>Petrol<\/td>\n",
       "      <td>Automatic<\/td>\n",
       "      <td>First<\/td>\n",
       "      <td>NaN<\/td>\n",
       "      <td>33.510<\/td>\n",
       "      <td>11.99<\/td>\n",
       "      <td>14.00<\/td>\n",
       "      <td>NaN<\/td>\n",
       "      <td>NaN<\/td>\n",
       "      <td>honda<\/td>\n",
       "      <td>cr-v<\/td>\n",
       "    <\/tr>\n",
       "    <tr>\n",
       "      <th>3882<\/th>\n",
       "      <td>Kolkata<\/td>\n",
       "      <td>2010<\/td>\n",
       "      <td>40000.0<\/td>\n",
       "      <td>Petrol<\/td>\n",
       "      <td>Manual<\/td>\n",
       "      <td>Second<\/td>\n",
       "      <td>NaN<\/td>\n",
       "      <td>7.880<\/td>\n",
       "      <td>2.50<\/td>\n",
       "      <td>19.50<\/td>\n",
       "      <td>1061.0<\/td>\n",
       "      <td>NaN<\/td>\n",
       "      <td>maruti<\/td>\n",
       "      <td>estilo<\/td>\n",
       "    <\/tr>\n",
       "    <tr>\n",
       "      <th>4011<\/th>\n",
       "      <td>Pune<\/td>\n",
       "      <td>2011<\/td>\n",
       "      <td>45271.0<\/td>\n",
       "      <td>Diesel<\/td>\n",
       "      <td>Manual<\/td>\n",
       "      <td>First<\/td>\n",
       "      <td>NaN<\/td>\n",
       "      <td>8.600<\/td>\n",
       "      <td>2.60<\/td>\n",
       "      <td>20.30<\/td>\n",
       "      <td>NaN<\/td>\n",
       "      <td>NaN<\/td>\n",
       "      <td>fiat<\/td>\n",
       "      <td>punto<\/td>\n",
       "    <\/tr>\n",
       "    <tr>\n",
       "      <th>4152<\/th>\n",
       "      <td>Mumbai<\/td>\n",
       "      <td>2003<\/td>\n",
       "      <td>75000.0<\/td>\n",
       "      <td>Diesel<\/td>\n",
       "      <td>Automatic<\/td>\n",
       "      <td>Second<\/td>\n",
       "      <td>NaN<\/td>\n",
       "      <td>120.000<\/td>\n",
       "      <td>16.11<\/td>\n",
       "      <td>NaN<\/td>\n",
       "      <td>NaN<\/td>\n",
       "      <td>NaN<\/td>\n",
       "      <td>land<\/td>\n",
       "      <td>rover<\/td>\n",
       "    <\/tr>\n",
       "    <tr>\n",
       "      <th>4229<\/th>\n",
       "      <td>Bangalore<\/td>\n",
       "      <td>2005<\/td>\n",
       "      <td>79000.0<\/td>\n",
       "      <td>Petrol<\/td>\n",
       "      <td>Manual<\/td>\n",
       "      <td>Second<\/td>\n",
       "      <td>NaN<\/td>\n",
       "      <td>4.550<\/td>\n",
       "      <td>1.65<\/td>\n",
       "      <td>17.00<\/td>\n",
       "      <td>NaN<\/td>\n",
       "      <td>NaN<\/td>\n",
       "      <td>hyundai<\/td>\n",
       "      <td>santro<\/td>\n",
       "    <\/tr>\n",
       "    <tr>\n",
       "      <th>4577<\/th>\n",
       "      <td>Delhi<\/td>\n",
       "      <td>2012<\/td>\n",
       "      <td>72000.0<\/td>\n",
       "      <td>Diesel<\/td>\n",
       "      <td>Automatic<\/td>\n",
       "      <td>Third<\/td>\n",
       "      <td>NaN<\/td>\n",
       "      <td>67.870<\/td>\n",
       "      <td>13.85<\/td>\n",
       "      <td>18.48<\/td>\n",
       "      <td>NaN<\/td>\n",
       "      <td>NaN<\/td>\n",
       "      <td>bmw<\/td>\n",
       "      <td>5<\/td>\n",
       "    <\/tr>\n",
       "    <tr>\n",
       "      <th>4604<\/th>\n",
       "      <td>Pune<\/td>\n",
       "      <td>2011<\/td>\n",
       "      <td>98000.0<\/td>\n",
       "      <td>Petrol<\/td>\n",
       "      <td>Manual<\/td>\n",
       "      <td>First<\/td>\n",
       "      <td>NaN<\/td>\n",
       "      <td>9.600<\/td>\n",
       "      <td>3.15<\/td>\n",
       "      <td>16.70<\/td>\n",
       "      <td>NaN<\/td>\n",
       "      <td>NaN<\/td>\n",
       "      <td>honda<\/td>\n",
       "      <td>jazz<\/td>\n",
       "    <\/tr>\n",
       "    <tr>\n",
       "      <th>4697<\/th>\n",
       "      <td>Kochi<\/td>\n",
       "      <td>2017<\/td>\n",
       "      <td>17941.0<\/td>\n",
       "      <td>Petrol<\/td>\n",
       "      <td>Manual<\/td>\n",
       "      <td>First<\/td>\n",
       "      <td>NaN<\/td>\n",
       "      <td>8.600<\/td>\n",
       "      <td>3.93<\/td>\n",
       "      <td>15.70<\/td>\n",
       "      <td>NaN<\/td>\n",
       "      <td>NaN<\/td>\n",
       "      <td>fiat<\/td>\n",
       "      <td>punto<\/td>\n",
       "    <\/tr>\n",
       "    <tr>\n",
       "      <th>4712<\/th>\n",
       "      <td>Pune<\/td>\n",
       "      <td>2003<\/td>\n",
       "      <td>80000.0<\/td>\n",
       "      <td>Petrol<\/td>\n",
       "      <td>Manual<\/td>\n",
       "      <td>Second<\/td>\n",
       "      <td>NaN<\/td>\n",
       "      <td>4.550<\/td>\n",
       "      <td>0.90<\/td>\n",
       "      <td>17.00<\/td>\n",
       "      <td>NaN<\/td>\n",
       "      <td>NaN<\/td>\n",
       "      <td>hyundai<\/td>\n",
       "      <td>santro<\/td>\n",
       "    <\/tr>\n",
       "    <tr>\n",
       "      <th>4952<\/th>\n",
       "      <td>Kolkata<\/td>\n",
       "      <td>2010<\/td>\n",
       "      <td>47000.0<\/td>\n",
       "      <td>Petrol<\/td>\n",
       "      <td>Manual<\/td>\n",
       "      <td>First<\/td>\n",
       "      <td>NaN<\/td>\n",
       "      <td>8.600<\/td>\n",
       "      <td>1.49<\/td>\n",
       "      <td>14.60<\/td>\n",
       "      <td>NaN<\/td>\n",
       "      <td>NaN<\/td>\n",
       "      <td>fiat<\/td>\n",
       "      <td>punto<\/td>\n",
       "    <\/tr>\n",
       "    <tr>\n",
       "      <th>5015<\/th>\n",
       "      <td>Delhi<\/td>\n",
       "      <td>2006<\/td>\n",
       "      <td>63000.0<\/td>\n",
       "      <td>Petrol<\/td>\n",
       "      <td>Manual<\/td>\n",
       "      <td>First<\/td>\n",
       "      <td>NaN<\/td>\n",
       "      <td>7.880<\/td>\n",
       "      <td>1.60<\/td>\n",
       "      <td>16.10<\/td>\n",
       "      <td>NaN<\/td>\n",
       "      <td>NaN<\/td>\n",
       "      <td>maruti<\/td>\n",
       "      <td>swift<\/td>\n",
       "    <\/tr>\n",
       "    <tr>\n",
       "      <th>5185<\/th>\n",
       "      <td>Delhi<\/td>\n",
       "      <td>2012<\/td>\n",
       "      <td>52000.0<\/td>\n",
       "      <td>Petrol<\/td>\n",
       "      <td>Manual<\/td>\n",
       "      <td>First<\/td>\n",
       "      <td>NaN<\/td>\n",
       "      <td>7.880<\/td>\n",
       "      <td>3.65<\/td>\n",
       "      <td>16.10<\/td>\n",
       "      <td>NaN<\/td>\n",
       "      <td>NaN<\/td>\n",
       "      <td>maruti<\/td>\n",
       "      <td>swift<\/td>\n",
       "    <\/tr>\n",
       "    <tr>\n",
       "      <th>5270<\/th>\n",
       "      <td>Bangalore<\/td>\n",
       "      <td>2002<\/td>\n",
       "      <td>53000.0<\/td>\n",
       "      <td>Petrol<\/td>\n",
       "      <td>Manual<\/td>\n",
       "      <td>Second<\/td>\n",
       "      <td>NaN<\/td>\n",
       "      <td>13.580<\/td>\n",
       "      <td>1.85<\/td>\n",
       "      <td>NaN<\/td>\n",
       "      <td>NaN<\/td>\n",
       "      <td>NaN<\/td>\n",
       "      <td>honda<\/td>\n",
       "      <td>city<\/td>\n",
       "    <\/tr>\n",
       "    <tr>\n",
       "      <th>5893<\/th>\n",
       "      <td>Chennai<\/td>\n",
       "      <td>2008<\/td>\n",
       "      <td>51000.0<\/td>\n",
       "      <td>Petrol<\/td>\n",
       "      <td>Manual<\/td>\n",
       "      <td>Second<\/td>\n",
       "      <td>NaN<\/td>\n",
       "      <td>7.880<\/td>\n",
       "      <td>1.75<\/td>\n",
       "      <td>19.50<\/td>\n",
       "      <td>1061.0<\/td>\n",
       "      <td>NaN<\/td>\n",
       "      <td>maruti<\/td>\n",
       "      <td>estilo<\/td>\n",
       "    <\/tr>\n",
       "    <tr>\n",
       "      <th>6042<\/th>\n",
       "      <td>Bangalore<\/td>\n",
       "      <td>2009<\/td>\n",
       "      <td>72000.0<\/td>\n",
       "      <td>Petrol<\/td>\n",
       "      <td>Manual<\/td>\n",
       "      <td>Second<\/td>\n",
       "      <td>NaN<\/td>\n",
       "      <td>25.830<\/td>\n",
       "      <td>NaN<\/td>\n",
       "      <td>17.50<\/td>\n",
       "      <td>NaN<\/td>\n",
       "      <td>NaN<\/td>\n",
       "      <td>skoda<\/td>\n",
       "      <td>laura<\/td>\n",
       "    <\/tr>\n",
       "    <tr>\n",
       "      <th>6541<\/th>\n",
       "      <td>Bangalore<\/td>\n",
       "      <td>2012<\/td>\n",
       "      <td>56600.0<\/td>\n",
       "      <td>Diesel<\/td>\n",
       "      <td>Manual<\/td>\n",
       "      <td>First<\/td>\n",
       "      <td>NaN<\/td>\n",
       "      <td>8.525<\/td>\n",
       "      <td>NaN<\/td>\n",
       "      <td>23.59<\/td>\n",
       "      <td>NaN<\/td>\n",
       "      <td>NaN<\/td>\n",
       "      <td>toyota<\/td>\n",
       "      <td>etios<\/td>\n",
       "    <\/tr>\n",
       "    <tr>\n",
       "      <th>6544<\/th>\n",
       "      <td>Bangalore<\/td>\n",
       "      <td>2012<\/td>\n",
       "      <td>58000.0<\/td>\n",
       "      <td>Petrol<\/td>\n",
       "      <td>Automatic<\/td>\n",
       "      <td>Second<\/td>\n",
       "      <td>NaN<\/td>\n",
       "      <td>10.250<\/td>\n",
       "      <td>NaN<\/td>\n",
       "      <td>15.00<\/td>\n",
       "      <td>NaN<\/td>\n",
       "      <td>NaN<\/td>\n",
       "      <td>hyundai<\/td>\n",
       "      <td>i20<\/td>\n",
       "    <\/tr>\n",
       "    <tr>\n",
       "      <th>6632<\/th>\n",
       "      <td>Kolkata<\/td>\n",
       "      <td>2016<\/td>\n",
       "      <td>27000.0<\/td>\n",
       "      <td>Diesel<\/td>\n",
       "      <td>Manual<\/td>\n",
       "      <td>First<\/td>\n",
       "      <td>NaN<\/td>\n",
       "      <td>18.865<\/td>\n",
       "      <td>NaN<\/td>\n",
       "      <td>NaN<\/td>\n",
       "      <td>NaN<\/td>\n",
       "      <td>NaN<\/td>\n",
       "      <td>mahindra<\/td>\n",
       "      <td>tuv<\/td>\n",
       "    <\/tr>\n",
       "    <tr>\n",
       "      <th>6642<\/th>\n",
       "      <td>Bangalore<\/td>\n",
       "      <td>2009<\/td>\n",
       "      <td>150000.0<\/td>\n",
       "      <td>Diesel<\/td>\n",
       "      <td>Automatic<\/td>\n",
       "      <td>Second<\/td>\n",
       "      <td>NaN<\/td>\n",
       "      <td>67.870<\/td>\n",
       "      <td>NaN<\/td>\n",
       "      <td>18.48<\/td>\n",
       "      <td>NaN<\/td>\n",
       "      <td>NaN<\/td>\n",
       "      <td>bmw<\/td>\n",
       "      <td>5<\/td>\n",
       "    <\/tr>\n",
       "    <tr>\n",
       "      <th>6650<\/th>\n",
       "      <td>Kolkata<\/td>\n",
       "      <td>2015<\/td>\n",
       "      <td>36009.0<\/td>\n",
       "      <td>Petrol<\/td>\n",
       "      <td>Manual<\/td>\n",
       "      <td>First<\/td>\n",
       "      <td>NaN<\/td>\n",
       "      <td>7.880<\/td>\n",
       "      <td>NaN<\/td>\n",
       "      <td>16.10<\/td>\n",
       "      <td>NaN<\/td>\n",
       "      <td>NaN<\/td>\n",
       "      <td>maruti<\/td>\n",
       "      <td>swift<\/td>\n",
       "    <\/tr>\n",
       "    <tr>\n",
       "      <th>6676<\/th>\n",
       "      <td>Jaipur<\/td>\n",
       "      <td>2010<\/td>\n",
       "      <td>65000.0<\/td>\n",
       "      <td>Petrol<\/td>\n",
       "      <td>Manual<\/td>\n",
       "      <td>Third<\/td>\n",
       "      <td>NaN<\/td>\n",
       "      <td>8.600<\/td>\n",
       "      <td>NaN<\/td>\n",
       "      <td>14.60<\/td>\n",
       "      <td>NaN<\/td>\n",
       "      <td>NaN<\/td>\n",
       "      <td>fiat<\/td>\n",
       "      <td>punto<\/td>\n",
       "    <\/tr>\n",
       "    <tr>\n",
       "      <th>6684<\/th>\n",
       "      <td>Pune<\/td>\n",
       "      <td>2010<\/td>\n",
       "      <td>115000.0<\/td>\n",
       "      <td>Petrol<\/td>\n",
       "      <td>Manual<\/td>\n",
       "      <td>Second<\/td>\n",
       "      <td>NaN<\/td>\n",
       "      <td>7.880<\/td>\n",
       "      <td>NaN<\/td>\n",
       "      <td>16.10<\/td>\n",
       "      <td>NaN<\/td>\n",
       "      <td>NaN<\/td>\n",
       "      <td>maruti<\/td>\n",
       "      <td>swift<\/td>\n",
       "    <\/tr>\n",
       "    <tr>\n",
       "      <th>6879<\/th>\n",
       "      <td>Chennai<\/td>\n",
       "      <td>2009<\/td>\n",
       "      <td>95000.0<\/td>\n",
       "      <td>Diesel<\/td>\n",
       "      <td>Automatic<\/td>\n",
       "      <td>Second<\/td>\n",
       "      <td>NaN<\/td>\n",
       "      <td>67.870<\/td>\n",
       "      <td>NaN<\/td>\n",
       "      <td>18.48<\/td>\n",
       "      <td>NaN<\/td>\n",
       "      <td>NaN<\/td>\n",
       "      <td>bmw<\/td>\n",
       "      <td>5<\/td>\n",
       "    <\/tr>\n",
       "    <tr>\n",
       "      <th>6901<\/th>\n",
       "      <td>Kochi<\/td>\n",
       "      <td>2012<\/td>\n",
       "      <td>59311.0<\/td>\n",
       "      <td>Petrol<\/td>\n",
       "      <td>Manual<\/td>\n",
       "      <td>First<\/td>\n",
       "      <td>NaN<\/td>\n",
       "      <td>8.525<\/td>\n",
       "      <td>NaN<\/td>\n",
       "      <td>18.30<\/td>\n",
       "      <td>NaN<\/td>\n",
       "      <td>NaN<\/td>\n",
       "      <td>toyota<\/td>\n",
       "      <td>etios<\/td>\n",
       "    <\/tr>\n",
       "    <tr>\n",
       "      <th>6956<\/th>\n",
       "      <td>Kochi<\/td>\n",
       "      <td>2019<\/td>\n",
       "      <td>11574.0<\/td>\n",
       "      <td>Petrol<\/td>\n",
       "      <td>Manual<\/td>\n",
       "      <td>First<\/td>\n",
       "      <td>NaN<\/td>\n",
       "      <td>9.600<\/td>\n",
       "      <td>NaN<\/td>\n",
       "      <td>NaN<\/td>\n",
       "      <td>1199.0<\/td>\n",
       "      <td>88.7<\/td>\n",
       "      <td>honda<\/td>\n",
       "      <td>jazz<\/td>\n",
       "    <\/tr>\n",
       "  <\/tbody>\n",
       "<\/table>\n",
       "<\/div>"
      ]
     },
     "metadata":{},
     "output_type":"display_data"
    }
   ],
   "metadata":{
    "datalore":{
     "node_id":"wa28SDkkrWHcBXGa7xOxP1",
     "type":"CODE",
     "hide_input_from_viewers":false,
     "hide_output_from_viewers":false,
     "report_properties":{
      "rowId":"Gkbnorl8xNMdozaszFqFc3"
     }
    }
   }
  },
  {
   "cell_type":"markdown",
   "source":[
    "**We'll impute these missing values one-by-one by taking the median number of seats for the particular car using the `Brand` and `Model`.**"
   ],
   "attachments":{},
   "metadata":{
    "datalore":{
     "node_id":"Y95RLpF3Sup8b40U6m1Prs",
     "type":"MD",
     "hide_input_from_viewers":false,
     "hide_output_from_viewers":false,
     "report_properties":{
      "rowId":"oGQt7mfC1aSAAiegKf9XM2"
     }
    }
   }
  },
  {
   "cell_type":"code",
   "source":[
    "df.groupby([\"Brand\",\"Model\"], as_index=False)[\"Seats\"].median()"
   ],
   "execution_count":26,
   "outputs":[
    {
     "data":{
      "text\/html":[
       "<div>\n",
       "<style scoped>\n",
       "    .dataframe tbody tr th:only-of-type {\n",
       "        vertical-align: middle;\n",
       "    }\n",
       "\n",
       "    .dataframe tbody tr th {\n",
       "        vertical-align: top;\n",
       "    }\n",
       "\n",
       "    .dataframe thead th {\n",
       "        text-align: right;\n",
       "    }\n",
       "<\/style>\n",
       "<table border=\"1\" class=\"dataframe\">\n",
       "  <thead>\n",
       "    <tr style=\"text-align: right;\">\n",
       "      <th><\/th>\n",
       "      <th>Brand<\/th>\n",
       "      <th>Model<\/th>\n",
       "      <th>Seats<\/th>\n",
       "    <\/tr>\n",
       "  <\/thead>\n",
       "  <tbody>\n",
       "    <tr>\n",
       "      <th>0<\/th>\n",
       "      <td>ambassador<\/td>\n",
       "      <td>classic<\/td>\n",
       "      <td>5.0<\/td>\n",
       "    <\/tr>\n",
       "    <tr>\n",
       "      <th>1<\/th>\n",
       "      <td>audi<\/td>\n",
       "      <td>a3<\/td>\n",
       "      <td>5.0<\/td>\n",
       "    <\/tr>\n",
       "    <tr>\n",
       "      <th>2<\/th>\n",
       "      <td>audi<\/td>\n",
       "      <td>a4<\/td>\n",
       "      <td>5.0<\/td>\n",
       "    <\/tr>\n",
       "    <tr>\n",
       "      <th>3<\/th>\n",
       "      <td>audi<\/td>\n",
       "      <td>a6<\/td>\n",
       "      <td>5.0<\/td>\n",
       "    <\/tr>\n",
       "    <tr>\n",
       "      <th>4<\/th>\n",
       "      <td>audi<\/td>\n",
       "      <td>a7<\/td>\n",
       "      <td>5.0<\/td>\n",
       "    <\/tr>\n",
       "    <tr>\n",
       "      <th>...<\/th>\n",
       "      <td>...<\/td>\n",
       "      <td>...<\/td>\n",
       "      <td>...<\/td>\n",
       "    <\/tr>\n",
       "    <tr>\n",
       "      <th>217<\/th>\n",
       "      <td>volvo<\/td>\n",
       "      <td>s60<\/td>\n",
       "      <td>5.0<\/td>\n",
       "    <\/tr>\n",
       "    <tr>\n",
       "      <th>218<\/th>\n",
       "      <td>volvo<\/td>\n",
       "      <td>s80<\/td>\n",
       "      <td>5.0<\/td>\n",
       "    <\/tr>\n",
       "    <tr>\n",
       "      <th>219<\/th>\n",
       "      <td>volvo<\/td>\n",
       "      <td>v40<\/td>\n",
       "      <td>5.0<\/td>\n",
       "    <\/tr>\n",
       "    <tr>\n",
       "      <th>220<\/th>\n",
       "      <td>volvo<\/td>\n",
       "      <td>xc60<\/td>\n",
       "      <td>5.0<\/td>\n",
       "    <\/tr>\n",
       "    <tr>\n",
       "      <th>221<\/th>\n",
       "      <td>volvo<\/td>\n",
       "      <td>xc90<\/td>\n",
       "      <td>7.0<\/td>\n",
       "    <\/tr>\n",
       "  <\/tbody>\n",
       "<\/table>\n",
       "<p>222 rows × 3 columns<\/p>\n",
       "<\/div>"
      ]
     },
     "metadata":{},
     "output_type":"display_data"
    }
   ],
   "metadata":{
    "datalore":{
     "node_id":"x776Uuaiox8MrmMAghJn2J",
     "type":"CODE",
     "hide_input_from_viewers":false,
     "hide_output_from_viewers":false,
     "report_properties":{
      "rowId":"mJ07UCELYjFxOFSviwrIDS"
     }
    }
   }
  },
  {
   "cell_type":"code",
   "source":[
    "# imputing missing values in Seats\n",
    "df[\"Seats\"] = df.groupby([\"Brand\",\"Model\"])[\"Seats\"].transform(\n",
    "    lambda x: x.fillna(x.median())\n",
    ")"
   ],
   "execution_count":27,
   "outputs":[],
   "metadata":{
    "datalore":{
     "node_id":"S9MXcWuAkf2XDBK91J60EL",
     "type":"CODE",
     "hide_input_from_viewers":false,
     "hide_output_from_viewers":false,
     "report_properties":{
      "rowId":"xtNaNXqzemS2UFd2sWrH13"
     }
    }
   }
  },
  {
   "cell_type":"code",
   "source":[
    "# Checking missing values in Seats\n",
    "df[df[\"Seats\"].isnull()]"
   ],
   "execution_count":28,
   "outputs":[
    {
     "data":{
      "text\/html":[
       "<div>\n",
       "<style scoped>\n",
       "    .dataframe tbody tr th:only-of-type {\n",
       "        vertical-align: middle;\n",
       "    }\n",
       "\n",
       "    .dataframe tbody tr th {\n",
       "        vertical-align: top;\n",
       "    }\n",
       "\n",
       "    .dataframe thead th {\n",
       "        text-align: right;\n",
       "    }\n",
       "<\/style>\n",
       "<table border=\"1\" class=\"dataframe\">\n",
       "  <thead>\n",
       "    <tr style=\"text-align: right;\">\n",
       "      <th><\/th>\n",
       "      <th>Location<\/th>\n",
       "      <th>Year<\/th>\n",
       "      <th>Kilometers_Driven<\/th>\n",
       "      <th>Fuel_Type<\/th>\n",
       "      <th>Transmission<\/th>\n",
       "      <th>Owner_Type<\/th>\n",
       "      <th>Seats<\/th>\n",
       "      <th>New_Price<\/th>\n",
       "      <th>Price<\/th>\n",
       "      <th>mileage_num<\/th>\n",
       "      <th>engine_num<\/th>\n",
       "      <th>power_num<\/th>\n",
       "      <th>Brand<\/th>\n",
       "      <th>Model<\/th>\n",
       "    <\/tr>\n",
       "  <\/thead>\n",
       "  <tbody>\n",
       "    <tr>\n",
       "      <th>2369<\/th>\n",
       "      <td>Chennai<\/td>\n",
       "      <td>2008<\/td>\n",
       "      <td>56000.0<\/td>\n",
       "      <td>Petrol<\/td>\n",
       "      <td>Manual<\/td>\n",
       "      <td>Second<\/td>\n",
       "      <td>NaN<\/td>\n",
       "      <td>7.88<\/td>\n",
       "      <td>1.50<\/td>\n",
       "      <td>19.5<\/td>\n",
       "      <td>1061.0<\/td>\n",
       "      <td>NaN<\/td>\n",
       "      <td>maruti<\/td>\n",
       "      <td>estilo<\/td>\n",
       "    <\/tr>\n",
       "    <tr>\n",
       "      <th>3882<\/th>\n",
       "      <td>Kolkata<\/td>\n",
       "      <td>2010<\/td>\n",
       "      <td>40000.0<\/td>\n",
       "      <td>Petrol<\/td>\n",
       "      <td>Manual<\/td>\n",
       "      <td>Second<\/td>\n",
       "      <td>NaN<\/td>\n",
       "      <td>7.88<\/td>\n",
       "      <td>2.50<\/td>\n",
       "      <td>19.5<\/td>\n",
       "      <td>1061.0<\/td>\n",
       "      <td>NaN<\/td>\n",
       "      <td>maruti<\/td>\n",
       "      <td>estilo<\/td>\n",
       "    <\/tr>\n",
       "    <tr>\n",
       "      <th>5893<\/th>\n",
       "      <td>Chennai<\/td>\n",
       "      <td>2008<\/td>\n",
       "      <td>51000.0<\/td>\n",
       "      <td>Petrol<\/td>\n",
       "      <td>Manual<\/td>\n",
       "      <td>Second<\/td>\n",
       "      <td>NaN<\/td>\n",
       "      <td>7.88<\/td>\n",
       "      <td>1.75<\/td>\n",
       "      <td>19.5<\/td>\n",
       "      <td>1061.0<\/td>\n",
       "      <td>NaN<\/td>\n",
       "      <td>maruti<\/td>\n",
       "      <td>estilo<\/td>\n",
       "    <\/tr>\n",
       "  <\/tbody>\n",
       "<\/table>\n",
       "<\/div>"
      ]
     },
     "metadata":{},
     "output_type":"display_data"
    }
   ],
   "metadata":{
    "datalore":{
     "node_id":"NnYhJRiv7xanlyxFAfEqJI",
     "type":"CODE",
     "hide_input_from_viewers":false,
     "hide_output_from_viewers":false,
     "report_properties":{
      "rowId":"KZr6eExfiZLDLQa9ujU4MR"
     }
    }
   }
  },
  {
   "cell_type":"markdown",
   "source":[
    "* Maruti Estilo can accommodate 5 people."
   ],
   "attachments":{},
   "metadata":{
    "datalore":{
     "node_id":"GNYDuGTnXevGLW4rQG8dzE",
     "type":"MD",
     "hide_input_from_viewers":false,
     "hide_output_from_viewers":false,
     "report_properties":{
      "rowId":"TDQWoTVMb5tfSPjSPScAoC"
     }
    }
   }
  },
  {
   "cell_type":"code",
   "source":[
    "df[\"Seats\"] = df[\"Seats\"].fillna(5.0)"
   ],
   "execution_count":29,
   "outputs":[],
   "metadata":{
    "datalore":{
     "node_id":"EDbeaF9Ij3O7Vw07tqsTvd",
     "type":"CODE",
     "hide_input_from_viewers":false,
     "hide_output_from_viewers":false,
     "report_properties":{
      "rowId":"m0nyCKXos1MVIuxhxstHfd"
     }
    }
   }
  },
  {
   "cell_type":"markdown",
   "source":[
    "**We will use a similar method to fill missing values for the `Kilometers_Driven`, `mileage_num`, `engine_num`, and `power_num` columns.**"
   ],
   "attachments":{},
   "metadata":{
    "datalore":{
     "node_id":"w1BWdBGsJjZSHeXSFooWtn",
     "type":"MD",
     "hide_input_from_viewers":false,
     "hide_output_from_viewers":false,
     "report_properties":{
      "rowId":"z9kBdGIPixDvhVn4BvCfgz"
     }
    }
   }
  },
  {
   "cell_type":"code",
   "source":[
    "cols_list = [\"Kilometers_Driven\",\"mileage_num\", \"engine_num\", \"power_num\"]\n",
    "\n",
    "for col in cols_list:\n",
    "    df[col] = df.groupby([\"Brand\", \"Model\"])[col].transform(\n",
    "        lambda x: x.fillna(x.median())\n",
    "    )\n",
    "\n",
    "df.isnull().sum()"
   ],
   "execution_count":30,
   "outputs":[
    {
     "data":{
      "text\/html":[
       "<pre>Location                0\n",
       "Year                    0\n",
       "Kilometers_Driven       0\n",
       "Fuel_Type               0\n",
       "Transmission            0\n",
       "Owner_Type              0\n",
       "Seats                   0\n",
       "New_Price               0\n",
       "Price                1232\n",
       "mileage_num             9\n",
       "engine_num              0\n",
       "power_num              12\n",
       "Brand                   0\n",
       "Model                   0\n",
       "dtype: int64<\/pre>"
      ]
     },
     "metadata":{},
     "output_type":"display_data"
    }
   ],
   "metadata":{
    "datalore":{
     "node_id":"bybwk0rwBtUANvPavpU2Bi",
     "type":"CODE",
     "hide_input_from_viewers":false,
     "hide_output_from_viewers":false,
     "report_properties":{
      "rowId":"WqNtlVSbwyPo8vQT0eF5UT"
     }
    }
   }
  },
  {
   "cell_type":"markdown",
   "source":[
    "* There are still some missing values in `mileage_num` and `power_num`.\n",
    "* We'll impute these missing values by taking the median grouped by the `Brand`."
   ],
   "attachments":{},
   "metadata":{
    "datalore":{
     "node_id":"Rb3LcmiPTFvRfm7hPiUpqG",
     "type":"MD",
     "hide_input_from_viewers":false,
     "hide_output_from_viewers":false,
     "report_properties":{
      "rowId":"FE3fIJd7yQPVD24fVd5rav"
     }
    }
   }
  },
  {
   "cell_type":"code",
   "source":[
    "cols_list = [\"mileage_num\", \"power_num\"]\n",
    "\n",
    "for col in cols_list:\n",
    "    df[col] = df.groupby([\"Brand\"])[col].transform(lambda x: x.fillna(x.median()))\n",
    "\n",
    "df.isnull().sum()"
   ],
   "execution_count":31,
   "outputs":[
    {
     "data":{
      "text\/html":[
       "<pre>Location                0\n",
       "Year                    0\n",
       "Kilometers_Driven       0\n",
       "Fuel_Type               0\n",
       "Transmission            0\n",
       "Owner_Type              0\n",
       "Seats                   0\n",
       "New_Price               0\n",
       "Price                1232\n",
       "mileage_num             1\n",
       "engine_num              0\n",
       "power_num               2\n",
       "Brand                   0\n",
       "Model                   0\n",
       "dtype: int64<\/pre>"
      ]
     },
     "metadata":{},
     "output_type":"display_data"
    }
   ],
   "metadata":{
    "datalore":{
     "node_id":"TwFWyFZdCcEa5dgTWGjJNq",
     "type":"CODE",
     "hide_input_from_viewers":false,
     "hide_output_from_viewers":false,
     "report_properties":{
      "rowId":"BsGd7VVE6BQeg4A6hcvN9m"
     }
    }
   }
  },
  {
   "cell_type":"markdown",
   "source":[
    "* There are still some missing values in `mileage_num` and `power_num`.\n",
    "* We'll impute these missing values using the column median across the entire data."
   ],
   "attachments":{},
   "metadata":{
    "datalore":{
     "node_id":"twjYk5802QDDk4YpG8oOzu",
     "type":"MD",
     "hide_input_from_viewers":false,
     "hide_output_from_viewers":false,
     "report_properties":{
      "rowId":"xTrnTj7JIQ2euqemYfCLAW"
     }
    }
   }
  },
  {
   "cell_type":"code",
   "source":[
    "cols_list = [\"mileage_num\", \"power_num\"]\n",
    "\n",
    "for col in cols_list:\n",
    "    df[col] = df[col].fillna(df[col].median())\n",
    "\n",
    "df.isnull().sum()"
   ],
   "execution_count":32,
   "outputs":[
    {
     "data":{
      "text\/html":[
       "<pre>Location                0\n",
       "Year                    0\n",
       "Kilometers_Driven       0\n",
       "Fuel_Type               0\n",
       "Transmission            0\n",
       "Owner_Type              0\n",
       "Seats                   0\n",
       "New_Price               0\n",
       "Price                1232\n",
       "mileage_num             0\n",
       "engine_num              0\n",
       "power_num               0\n",
       "Brand                   0\n",
       "Model                   0\n",
       "dtype: int64<\/pre>"
      ]
     },
     "metadata":{},
     "output_type":"display_data"
    }
   ],
   "metadata":{
    "datalore":{
     "node_id":"PKV8E5lBhACRC9ZDgucH5K",
     "type":"CODE",
     "hide_input_from_viewers":false,
     "hide_output_from_viewers":false,
     "report_properties":{
      "rowId":"bOK473nnVE0qiHD4aRvseR"
     }
    }
   }
  },
  {
   "cell_type":"markdown",
   "source":[
    "- Missing values in all columns except `Price` are imputed.\n",
    "- We will drop the rows where `Price` is missing as it is the target variable."
   ],
   "attachments":{},
   "metadata":{
    "datalore":{
     "node_id":"wmcAAuuV9DfhV31VBcsCHV",
     "type":"MD",
     "hide_input_from_viewers":false,
     "hide_output_from_viewers":false,
     "report_properties":{
      "rowId":"3eCIBgnkDSUFadnvmnmsUr"
     }
    }
   }
  },
  {
   "cell_type":"code",
   "source":[
    "# considering only the data points where price is not missing\n",
    "df = df[df[\"Price\"].notna()].copy()\n",
    "\n",
    "# checking for missing values\n",
    "df.isnull().sum()"
   ],
   "execution_count":33,
   "outputs":[
    {
     "data":{
      "text\/html":[
       "<pre>Location             0\n",
       "Year                 0\n",
       "Kilometers_Driven    0\n",
       "Fuel_Type            0\n",
       "Transmission         0\n",
       "Owner_Type           0\n",
       "Seats                0\n",
       "New_Price            0\n",
       "Price                0\n",
       "mileage_num          0\n",
       "engine_num           0\n",
       "power_num            0\n",
       "Brand                0\n",
       "Model                0\n",
       "dtype: int64<\/pre>"
      ]
     },
     "metadata":{},
     "output_type":"display_data"
    }
   ],
   "metadata":{
    "datalore":{
     "node_id":"EfS43ihibWwGkYSdNsdCdJ",
     "type":"CODE",
     "hide_input_from_viewers":false,
     "hide_output_from_viewers":false,
     "report_properties":{
      "rowId":"FLX1umH4sJRUvXxj2IJCJx"
     }
    }
   }
  },
  {
   "cell_type":"markdown",
   "source":[
    "- All missing values are dealt with."
   ],
   "attachments":{},
   "metadata":{
    "datalore":{
     "node_id":"zTncu0rRXmq6SEwHZQReE8",
     "type":"MD",
     "hide_input_from_viewers":false,
     "hide_output_from_viewers":false,
     "report_properties":{
      "rowId":"SxtOy3eJLEU4buN4w2E84a"
     }
    }
   }
  },
  {
   "cell_type":"markdown",
   "source":[
    "## Model Building - Linear Regression"
   ],
   "attachments":{},
   "metadata":{
    "datalore":{
     "node_id":"1hug3qDy2dhoDa8464eYhE",
     "type":"MD",
     "hide_input_from_viewers":false,
     "hide_output_from_viewers":false,
     "report_properties":{
      "rowId":"trLyesE9ZiuHxCD1jmN1PP"
     }
    }
   }
  },
  {
   "cell_type":"markdown",
   "source":[
    "1. We want to predict the used car price.\n",
    "2. Before we proceed to build a model, we'll have to encode categorical features.\n",
    "3. We'll split the data into train and test to be able to evaluate the model that we build on the train data.\n",
    "4. We will build a Linear Regression model using the train data and then check it's performance."
   ],
   "attachments":{},
   "metadata":{
    "datalore":{
     "node_id":"b9MoSwBfJdtTVcvpN7NC1L",
     "type":"MD",
     "hide_input_from_viewers":false,
     "hide_output_from_viewers":false,
     "report_properties":{
      "rowId":"Huyec1zFi395gPj60xtQIq"
     }
    }
   }
  },
  {
   "cell_type":"code",
   "source":[
    "# looking at value counts for non-numeric features\n",
    "\n",
    "num_to_display = 10  # defining this up here so it's easy to change later\n",
    "\n",
    "for colname in df.dtypes[df.dtypes == \"object\"].index:\n",
    "    val_counts = df[colname].value_counts(dropna=False)  # will also show the NA counts\n",
    "    print(val_counts[:num_to_display])\n",
    "\n",
    "    if len(val_counts) > num_to_display:\n",
    "        print(f\"Only displaying first {num_to_display} of {len(val_counts)} values.\")\n",
    "    print(\"-\" * 50, \"\\n\")  # just for more space in between"
   ],
   "execution_count":34,
   "outputs":[
    {
     "name":"stdout",
     "text":[
      "Mumbai        790\n",
      "Hyderabad     741\n",
      "Kochi         651\n",
      "Coimbatore    636\n",
      "Pune          622\n",
      "Delhi         554\n",
      "Kolkata       535\n",
      "Chennai       494\n",
      "Jaipur        413\n",
      "Bangalore     358\n",
      "Name: Location, dtype: int64\n",
      "Only displaying first 10 of 11 values.\n",
      "-------------------------------------------------- \n",
      "\n",
      "Diesel      3205\n",
      "Petrol      2745\n",
      "CNG           56\n",
      "LPG           10\n",
      "Electric       2\n",
      "Name: Fuel_Type, dtype: int64\n",
      "-------------------------------------------------- \n",
      "\n",
      "Manual       4298\n",
      "Automatic    1720\n",
      "Name: Transmission, dtype: int64\n",
      "-------------------------------------------------- \n",
      "\n",
      "First             4928\n",
      "Second             968\n",
      "Third              113\n",
      "Fourth & Above       9\n",
      "Name: Owner_Type, dtype: int64\n",
      "-------------------------------------------------- \n",
      "\n",
      "maruti           1210\n",
      "hyundai          1107\n",
      "honda             608\n",
      "toyota            411\n",
      "mercedes-benz     318\n",
      "volkswagen        315\n",
      "ford              300\n",
      "mahindra          272\n",
      "bmw               267\n",
      "audi              236\n",
      "Name: Brand, dtype: int64\n",
      "Only displaying first 10 of 30 values.\n",
      "-------------------------------------------------- \n",
      "\n",
      "swift     353\n",
      "city      270\n",
      "i20       247\n",
      "verna     170\n",
      "innova    164\n",
      "i10       156\n",
      "grand     156\n",
      "wagon     154\n",
      "polo      151\n",
      "alto      142\n",
      "Name: Model, dtype: int64\n",
      "Only displaying first 10 of 211 values.\n",
      "-------------------------------------------------- \n",
      "\n"
     ],
     "output_type":"stream"
    }
   ],
   "metadata":{
    "datalore":{
     "node_id":"d9VftEJuPXUcAvDE3CO2iU",
     "type":"CODE",
     "hide_input_from_viewers":false,
     "hide_output_from_viewers":false,
     "report_properties":{
      "rowId":"Btnmam7vAkhXkzuS6tnOcf"
     }
    }
   }
  },
  {
   "cell_type":"markdown",
   "source":[
    "Observations:\n",
    "\n",
    "- Creating dummy variables for the categorical variable `Model`(211) would increase the number of features in the model extensively.\n",
    "\n",
    "- To check the effect of these dummy variables, we can create two models\n",
    "     - one with all the variables\n",
    "     - one without the `Model` dummy variables\n",
    "\n",
    "- This will allow us to see how the dummy variables affect the performance of the model."
   ],
   "attachments":{},
   "metadata":{
    "datalore":{
     "node_id":"5cwHpkMoghpaPHuTDvxvI5",
     "type":"MD",
     "hide_input_from_viewers":false,
     "hide_output_from_viewers":false,
     "report_properties":{
      "rowId":"3Vz9zmLXjfShdCjrcYy5hW"
     }
    }
   }
  },
  {
   "cell_type":"markdown",
   "source":[
    "### Model Performance Check"
   ],
   "attachments":{},
   "metadata":{
    "datalore":{
     "node_id":"BP3dfKlxupemggEB3Gfl6x",
     "type":"MD",
     "hide_input_from_viewers":false,
     "hide_output_from_viewers":false,
     "report_properties":{
      "rowId":"KgW0DjNz1YKCWgfiI0BvFW"
     }
    }
   }
  },
  {
   "cell_type":"markdown",
   "source":[
    "Before moving ahead, we define a function to check the performance of the model using different metrics.\n",
    "\n",
    "* We will be using metric functions defined in sklearn for RMSE, MAE, and $R^2$.\n",
    "* We will define a function to calculate adjusted $R^2$.    \n",
    "* We will create a function which will print out all the above metrics in one go."
   ],
   "attachments":{},
   "metadata":{
    "datalore":{
     "node_id":"oiCW83slE0ZA93xoR1vFLT",
     "type":"MD",
     "hide_input_from_viewers":false,
     "hide_output_from_viewers":false,
     "report_properties":{
      "rowId":"gDBIHpkroIcSCLPuQVzjtZ"
     }
    }
   }
  },
  {
   "cell_type":"code",
   "source":[
    "# function to compute adjusted R-squared\n",
    "def adj_r2_score(predictors, targets, predictions):\n",
    "    r2 = r2_score(targets, predictions)\n",
    "    n = predictors.shape[0]\n",
    "    k = predictors.shape[1]\n",
    "    return 1 - ((1 - r2) * (n - 1) \/ (n - k - 1))\n",
    "\n",
    "# function to compute different metrics to check performance of a regression model\n",
    "def model_performance_regression(model, predictors, target):\n",
    "    \"\"\"\n",
    "    Function to compute different metrics to check regression model performance\n",
    "\n",
    "    model: regressor\n",
    "    predictors: independent variables\n",
    "    target: dependent variable\n",
    "    \"\"\"\n",
    "\n",
    "    # predicting using the independent variables\n",
    "    pred = model.predict(predictors)\n",
    "\n",
    "    r2 = r2_score(target, pred)  # to compute R-squared\n",
    "    adjr2 = adj_r2_score(predictors, target, pred)  # to compute adjusted R-squared\n",
    "    rmse = np.sqrt(mean_squared_error(target, pred))  # to compute RMSE\n",
    "    mae = mean_absolute_error(target, pred)  # to compute MAE\n",
    "\n",
    "    # creating a dataframe of metrics\n",
    "    df_perf = pd.DataFrame(\n",
    "        {\n",
    "            \"RMSE\": rmse,\n",
    "            \"MAE\": mae,\n",
    "            \"R-squared\": r2,\n",
    "            \"Adj. R-squared\": adjr2,\n",
    "        },\n",
    "        index=[0],\n",
    "    )\n",
    "\n",
    "    return df_perf"
   ],
   "execution_count":35,
   "outputs":[],
   "metadata":{
    "datalore":{
     "node_id":"4jrDVPppB76TzaJNvnbHlL",
     "type":"CODE",
     "hide_input_from_viewers":false,
     "hide_output_from_viewers":false,
     "report_properties":{
      "rowId":"lVCiks1XPXd6xzUPmdi5lG"
     }
    }
   }
  },
  {
   "cell_type":"markdown",
   "source":[
    "### Data Preparation for modeling with all variables"
   ],
   "attachments":{},
   "metadata":{
    "datalore":{
     "node_id":"8hiRc7H6FgQ4rwG5T7uKl1",
     "type":"MD",
     "hide_input_from_viewers":false,
     "hide_output_from_viewers":false,
     "report_properties":{
      "rowId":"ZtBPgYoepcvArP3dS2SIaF"
     }
    }
   }
  },
  {
   "cell_type":"code",
   "source":[
    "# defining the dependent and independent variables\n",
    "X = df.drop([\"Price\"], axis=1)\n",
    "y = df[\"Price\"]"
   ],
   "execution_count":36,
   "outputs":[],
   "metadata":{
    "datalore":{
     "node_id":"bqgSVfE8W8f4M8xTGYCGgV",
     "type":"CODE",
     "hide_input_from_viewers":false,
     "hide_output_from_viewers":false,
     "report_properties":{
      "rowId":"4jaPv0m1yIkB8xQjUsmSJw"
     }
    }
   }
  },
  {
   "cell_type":"code",
   "source":[
    "# creating dummy variables\n",
    "X = pd.get_dummies(\n",
    "    X,\n",
    "    columns=X.select_dtypes(include=[\"object\", \"category\"]).columns.tolist(),\n",
    "    drop_first=True,\n",
    ")\n",
    "\n",
    "X.head()"
   ],
   "execution_count":37,
   "outputs":[
    {
     "data":{
      "text\/html":[
       "<div>\n",
       "<style scoped>\n",
       "    .dataframe tbody tr th:only-of-type {\n",
       "        vertical-align: middle;\n",
       "    }\n",
       "\n",
       "    .dataframe tbody tr th {\n",
       "        vertical-align: top;\n",
       "    }\n",
       "\n",
       "    .dataframe thead th {\n",
       "        text-align: right;\n",
       "    }\n",
       "<\/style>\n",
       "<table border=\"1\" class=\"dataframe\">\n",
       "  <thead>\n",
       "    <tr style=\"text-align: right;\">\n",
       "      <th><\/th>\n",
       "      <th>Year<\/th>\n",
       "      <th>Kilometers_Driven<\/th>\n",
       "      <th>Seats<\/th>\n",
       "      <th>New_Price<\/th>\n",
       "      <th>mileage_num<\/th>\n",
       "      <th>engine_num<\/th>\n",
       "      <th>power_num<\/th>\n",
       "      <th>Location_Bangalore<\/th>\n",
       "      <th>Location_Chennai<\/th>\n",
       "      <th>Location_Coimbatore<\/th>\n",
       "      <th>Location_Delhi<\/th>\n",
       "      <th>Location_Hyderabad<\/th>\n",
       "      <th>Location_Jaipur<\/th>\n",
       "      <th>Location_Kochi<\/th>\n",
       "      <th>Location_Kolkata<\/th>\n",
       "      <th>Location_Mumbai<\/th>\n",
       "      <th>Location_Pune<\/th>\n",
       "      <th>Fuel_Type_Diesel<\/th>\n",
       "      <th>Fuel_Type_Electric<\/th>\n",
       "      <th>Fuel_Type_LPG<\/th>\n",
       "      <th>Fuel_Type_Petrol<\/th>\n",
       "      <th>Transmission_Manual<\/th>\n",
       "      <th>Owner_Type_Fourth &amp; Above<\/th>\n",
       "      <th>Owner_Type_Second<\/th>\n",
       "      <th>Owner_Type_Third<\/th>\n",
       "      <th>Brand_audi<\/th>\n",
       "      <th>Brand_bentley<\/th>\n",
       "      <th>Brand_bmw<\/th>\n",
       "      <th>Brand_chevrolet<\/th>\n",
       "      <th>Brand_datsun<\/th>\n",
       "      <th>Brand_fiat<\/th>\n",
       "      <th>Brand_force<\/th>\n",
       "      <th>Brand_ford<\/th>\n",
       "      <th>Brand_honda<\/th>\n",
       "      <th>Brand_hyundai<\/th>\n",
       "      <th>Brand_isuzu<\/th>\n",
       "      <th>Brand_jaguar<\/th>\n",
       "      <th>Brand_jeep<\/th>\n",
       "      <th>Brand_lamborghini<\/th>\n",
       "      <th>Brand_land<\/th>\n",
       "      <th>Brand_mahindra<\/th>\n",
       "      <th>Brand_maruti<\/th>\n",
       "      <th>Brand_mercedes-benz<\/th>\n",
       "      <th>Brand_mini<\/th>\n",
       "      <th>Brand_mitsubishi<\/th>\n",
       "      <th>Brand_nissan<\/th>\n",
       "      <th>Brand_porsche<\/th>\n",
       "      <th>Brand_renault<\/th>\n",
       "      <th>Brand_skoda<\/th>\n",
       "      <th>Brand_smart<\/th>\n",
       "      <th>Brand_tata<\/th>\n",
       "      <th>Brand_toyota<\/th>\n",
       "      <th>Brand_volkswagen<\/th>\n",
       "      <th>Brand_volvo<\/th>\n",
       "      <th>Model_1000<\/th>\n",
       "      <th>Model_3<\/th>\n",
       "      <th>Model_5<\/th>\n",
       "      <th>Model_6<\/th>\n",
       "      <th>Model_7<\/th>\n",
       "      <th>Model_800<\/th>\n",
       "      <th>Model_a<\/th>\n",
       "      <th>Model_a-star<\/th>\n",
       "      <th>Model_a3<\/th>\n",
       "      <th>Model_a4<\/th>\n",
       "      <th>Model_a6<\/th>\n",
       "      <th>Model_a7<\/th>\n",
       "      <th>Model_a8<\/th>\n",
       "      <th>Model_accent<\/th>\n",
       "      <th>Model_accord<\/th>\n",
       "      <th>Model_alto<\/th>\n",
       "      <th>Model_amaze<\/th>\n",
       "      <th>Model_ameo<\/th>\n",
       "      <th>Model_aspire<\/th>\n",
       "      <th>Model_aveo<\/th>\n",
       "      <th>Model_avventura<\/th>\n",
       "      <th>Model_b<\/th>\n",
       "      <th>Model_baleno<\/th>\n",
       "      <th>Model_beat<\/th>\n",
       "      <th>Model_beetle<\/th>\n",
       "      <th>Model_bolero<\/th>\n",
       "      <th>Model_bolt<\/th>\n",
       "      <th>Model_boxster<\/th>\n",
       "      <th>Model_br-v<\/th>\n",
       "      <th>Model_brio<\/th>\n",
       "      <th>Model_brv<\/th>\n",
       "      <th>Model_c-class<\/th>\n",
       "      <th>Model_camry<\/th>\n",
       "      <th>Model_captiva<\/th>\n",
       "      <th>Model_captur<\/th>\n",
       "      <th>Model_cayenne<\/th>\n",
       "      <th>Model_cayman<\/th>\n",
       "      <th>Model_cedia<\/th>\n",
       "      <th>Model_celerio<\/th>\n",
       "      <th>Model_ciaz<\/th>\n",
       "      <th>Model_city<\/th>\n",
       "      <th>Model_civic<\/th>\n",
       "      <th>Model_cla<\/th>\n",
       "      <th>Model_classic<\/th>\n",
       "      <th>Model_cls-class<\/th>\n",
       "      <th>Model_clubman<\/th>\n",
       "      <th>Model_compass<\/th>\n",
       "      <th>Model_continental<\/th>\n",
       "      <th>Model_cooper<\/th>\n",
       "      <th>Model_corolla<\/th>\n",
       "      <th>Model_countryman<\/th>\n",
       "      <th>Model_cr-v<\/th>\n",
       "      <th>Model_creta<\/th>\n",
       "      <th>Model_crosspolo<\/th>\n",
       "      <th>Model_cruze<\/th>\n",
       "      <th>Model_d-max<\/th>\n",
       "      <th>Model_duster<\/th>\n",
       "      <th>Model_dzire<\/th>\n",
       "      <th>Model_e<\/th>\n",
       "      <th>Model_e-class<\/th>\n",
       "      <th>Model_ecosport<\/th>\n",
       "      <th>Model_eeco<\/th>\n",
       "      <th>Model_elantra<\/th>\n",
       "      <th>Model_elite<\/th>\n",
       "      <th>Model_endeavour<\/th>\n",
       "      <th>Model_enjoy<\/th>\n",
       "      <th>Model_eon<\/th>\n",
       "      <th>Model_ertiga<\/th>\n",
       "      <th>Model_esteem<\/th>\n",
       "      <th>Model_estilo<\/th>\n",
       "      <th>Model_etios<\/th>\n",
       "      <th>Model_evalia<\/th>\n",
       "      <th>Model_f<\/th>\n",
       "      <th>Model_fabia<\/th>\n",
       "      <th>Model_fiesta<\/th>\n",
       "      <th>Model_figo<\/th>\n",
       "      <th>Model_fluence<\/th>\n",
       "      <th>Model_fortuner<\/th>\n",
       "      <th>Model_fortwo<\/th>\n",
       "      <th>Model_freestyle<\/th>\n",
       "      <th>Model_fusion<\/th>\n",
       "      <th>Model_gallardo<\/th>\n",
       "      <th>Model_getz<\/th>\n",
       "      <th>Model_gl-class<\/th>\n",
       "      <th>Model_gla<\/th>\n",
       "      <th>Model_glc<\/th>\n",
       "      <th>Model_gle<\/th>\n",
       "      <th>Model_gls<\/th>\n",
       "      <th>Model_go<\/th>\n",
       "      <th>Model_grand<\/th>\n",
       "      <th>Model_grande<\/th>\n",
       "      <th>Model_hexa<\/th>\n",
       "      <th>Model_i10<\/th>\n",
       "      <th>Model_i20<\/th>\n",
       "      <th>Model_ignis<\/th>\n",
       "      <th>Model_ikon<\/th>\n",
       "      <th>Model_indica<\/th>\n",
       "      <th>Model_indigo<\/th>\n",
       "      <th>Model_innova<\/th>\n",
       "      <th>Model_jazz<\/th>\n",
       "      <th>Model_jeep<\/th>\n",
       "      <th>Model_jetta<\/th>\n",
       "      <th>Model_koleos<\/th>\n",
       "      <th>Model_kuv<\/th>\n",
       "      <th>Model_kwid<\/th>\n",
       "      <th>Model_lancer<\/th>\n",
       "      <th>Model_laura<\/th>\n",
       "      <th>Model_linea<\/th>\n",
       "      <th>Model_lodgy<\/th>\n",
       "      <th>Model_logan<\/th>\n",
       "      <th>Model_m-class<\/th>\n",
       "      <th>Model_manza<\/th>\n",
       "      <th>Model_micra<\/th>\n",
       "      <th>Model_mobilio<\/th>\n",
       "      <th>Model_montero<\/th>\n",
       "      <th>Model_mustang<\/th>\n",
       "      <th>Model_mux<\/th>\n",
       "      <th>Model_nano<\/th>\n",
       "      <th>Model_new<\/th>\n",
       "      <th>Model_nexon<\/th>\n",
       "      <th>Model_nuvosport<\/th>\n",
       "      <th>Model_octavia<\/th>\n",
       "      <th>Model_omni<\/th>\n",
       "      <th>Model_one<\/th>\n",
       "      <th>Model_optra<\/th>\n",
       "      <th>Model_outlander<\/th>\n",
       "      <th>Model_pajero<\/th>\n",
       "      <th>Model_panamera<\/th>\n",
       "      <th>Model_passat<\/th>\n",
       "      <th>Model_petra<\/th>\n",
       "      <th>Model_platinum<\/th>\n",
       "      <th>Model_polo<\/th>\n",
       "      <th>Model_prius<\/th>\n",
       "      <th>Model_pulse<\/th>\n",
       "      <th>Model_punto<\/th>\n",
       "      <th>Model_q3<\/th>\n",
       "      <th>Model_q5<\/th>\n",
       "      <th>Model_q7<\/th>\n",
       "      <th>Model_qualis<\/th>\n",
       "      <th>Model_quanto<\/th>\n",
       "      <th>Model_r-class<\/th>\n",
       "      <th>Model_rapid<\/th>\n",
       "      <th>Model_redi<\/th>\n",
       "      <th>Model_redi-go<\/th>\n",
       "      <th>Model_renault<\/th>\n",
       "      <th>Model_ritz<\/th>\n",
       "      <th>Model_rover<\/th>\n",
       "      <th>Model_rs5<\/th>\n",
       "      <th>Model_s<\/th>\n",
       "      <th>Model_s-class<\/th>\n",
       "      <th>Model_s-cross<\/th>\n",
       "      <th>Model_s60<\/th>\n",
       "      <th>Model_s80<\/th>\n",
       "      <th>Model_safari<\/th>\n",
       "      <th>Model_sail<\/th>\n",
       "      <th>Model_santa<\/th>\n",
       "      <th>Model_santro<\/th>\n",
       "      <th>Model_scala<\/th>\n",
       "      <th>Model_scorpio<\/th>\n",
       "      <th>Model_siena<\/th>\n",
       "      <th>Model_sl-class<\/th>\n",
       "      <th>Model_slc<\/th>\n",
       "      <th>Model_slk-class<\/th>\n",
       "      <th>Model_sonata<\/th>\n",
       "      <th>Model_spark<\/th>\n",
       "      <th>Model_ssangyong<\/th>\n",
       "      <th>Model_sumo<\/th>\n",
       "      <th>Model_sunny<\/th>\n",
       "      <th>Model_superb<\/th>\n",
       "      <th>Model_swift<\/th>\n",
       "      <th>Model_sx4<\/th>\n",
       "      <th>Model_tavera<\/th>\n",
       "      <th>Model_teana<\/th>\n",
       "      <th>Model_terrano<\/th>\n",
       "      <th>Model_thar<\/th>\n",
       "      <th>Model_tiago<\/th>\n",
       "      <th>Model_tigor<\/th>\n",
       "      <th>Model_tiguan<\/th>\n",
       "      <th>Model_tt<\/th>\n",
       "      <th>Model_tucson<\/th>\n",
       "      <th>Model_tuv<\/th>\n",
       "      <th>Model_v40<\/th>\n",
       "      <th>Model_vento<\/th>\n",
       "      <th>Model_venture<\/th>\n",
       "      <th>Model_verito<\/th>\n",
       "      <th>Model_verna<\/th>\n",
       "      <th>Model_versa<\/th>\n",
       "      <th>Model_vitara<\/th>\n",
       "      <th>Model_wagon<\/th>\n",
       "      <th>Model_wr-v<\/th>\n",
       "      <th>Model_wrv<\/th>\n",
       "      <th>Model_x-trail<\/th>\n",
       "      <th>Model_x1<\/th>\n",
       "      <th>Model_x3<\/th>\n",
       "      <th>Model_x5<\/th>\n",
       "      <th>Model_x6<\/th>\n",
       "      <th>Model_xc60<\/th>\n",
       "      <th>Model_xc90<\/th>\n",
       "      <th>Model_xcent<\/th>\n",
       "      <th>Model_xe<\/th>\n",
       "      <th>Model_xenon<\/th>\n",
       "      <th>Model_xf<\/th>\n",
       "      <th>Model_xj<\/th>\n",
       "      <th>Model_xuv300<\/th>\n",
       "      <th>Model_xuv500<\/th>\n",
       "      <th>Model_xylo<\/th>\n",
       "      <th>Model_yeti<\/th>\n",
       "      <th>Model_z4<\/th>\n",
       "      <th>Model_zen<\/th>\n",
       "      <th>Model_zest<\/th>\n",
       "    <\/tr>\n",
       "  <\/thead>\n",
       "  <tbody>\n",
       "    <tr>\n",
       "      <th>0<\/th>\n",
       "      <td>2010<\/td>\n",
       "      <td>72000.0<\/td>\n",
       "      <td>5.0<\/td>\n",
       "      <td>5.51<\/td>\n",
       "      <td>26.60<\/td>\n",
       "      <td>998.0<\/td>\n",
       "      <td>58.16<\/td>\n",
       "      <td>0<\/td>\n",
       "      <td>0<\/td>\n",
       "      <td>0<\/td>\n",
       "      <td>0<\/td>\n",
       "      <td>0<\/td>\n",
       "      <td>0<\/td>\n",
       "      <td>0<\/td>\n",
       "      <td>0<\/td>\n",
       "      <td>1<\/td>\n",
       "      <td>0<\/td>\n",
       "      <td>0<\/td>\n",
       "      <td>0<\/td>\n",
       "      <td>0<\/td>\n",
       "      <td>0<\/td>\n",
       "      <td>1<\/td>\n",
       "      <td>0<\/td>\n",
       "      <td>0<\/td>\n",
       "      <td>0<\/td>\n",
       "      <td>0<\/td>\n",
       "      <td>0<\/td>\n",
       "      <td>0<\/td>\n",
       "      <td>0<\/td>\n",
       "      <td>0<\/td>\n",
       "      <td>0<\/td>\n",
       "      <td>0<\/td>\n",
       "      <td>0<\/td>\n",
       "      <td>0<\/td>\n",
       "      <td>0<\/td>\n",
       "      <td>0<\/td>\n",
       "      <td>0<\/td>\n",
       "      <td>0<\/td>\n",
       "      <td>0<\/td>\n",
       "      <td>0<\/td>\n",
       "      <td>0<\/td>\n",
       "      <td>1<\/td>\n",
       "      <td>0<\/td>\n",
       "      <td>0<\/td>\n",
       "      <td>0<\/td>\n",
       "      <td>0<\/td>\n",
       "      <td>0<\/td>\n",
       "      <td>0<\/td>\n",
       "      <td>0<\/td>\n",
       "      <td>0<\/td>\n",
       "      <td>0<\/td>\n",
       "      <td>0<\/td>\n",
       "      <td>0<\/td>\n",
       "      <td>0<\/td>\n",
       "      <td>0<\/td>\n",
       "      <td>0<\/td>\n",
       "      <td>0<\/td>\n",
       "      <td>0<\/td>\n",
       "      <td>0<\/td>\n",
       "      <td>0<\/td>\n",
       "      <td>0<\/td>\n",
       "      <td>0<\/td>\n",
       "      <td>0<\/td>\n",
       "      <td>0<\/td>\n",
       "      <td>0<\/td>\n",
       "      <td>0<\/td>\n",
       "      <td>0<\/td>\n",
       "      <td>0<\/td>\n",
       "      <td>0<\/td>\n",
       "      <td>0<\/td>\n",
       "      <td>0<\/td>\n",
       "      <td>0<\/td>\n",
       "      <td>0<\/td>\n",
       "      <td>0<\/td>\n",
       "      <td>0<\/td>\n",
       "      <td>0<\/td>\n",
       "      <td>0<\/td>\n",
       "      <td>0<\/td>\n",
       "      <td>0<\/td>\n",
       "      <td>0<\/td>\n",
       "      <td>0<\/td>\n",
       "      <td>0<\/td>\n",
       "      <td>0<\/td>\n",
       "      <td>0<\/td>\n",
       "      <td>0<\/td>\n",
       "      <td>0<\/td>\n",
       "      <td>0<\/td>\n",
       "      <td>0<\/td>\n",
       "      <td>0<\/td>\n",
       "      <td>0<\/td>\n",
       "      <td>0<\/td>\n",
       "      <td>0<\/td>\n",
       "      <td>0<\/td>\n",
       "      <td>0<\/td>\n",
       "      <td>0<\/td>\n",
       "      <td>0<\/td>\n",
       "      <td>0<\/td>\n",
       "      <td>0<\/td>\n",
       "      <td>0<\/td>\n",
       "      <td>0<\/td>\n",
       "      <td>0<\/td>\n",
       "      <td>0<\/td>\n",
       "      <td>0<\/td>\n",
       "      <td>0<\/td>\n",
       "      <td>0<\/td>\n",
       "      <td>0<\/td>\n",
       "      <td>0<\/td>\n",
       "      <td>0<\/td>\n",
       "      <td>0<\/td>\n",
       "      <td>0<\/td>\n",
       "      <td>0<\/td>\n",
       "      <td>0<\/td>\n",
       "      <td>0<\/td>\n",
       "      <td>0<\/td>\n",
       "      <td>0<\/td>\n",
       "      <td>0<\/td>\n",
       "      <td>0<\/td>\n",
       "      <td>0<\/td>\n",
       "      <td>0<\/td>\n",
       "      <td>0<\/td>\n",
       "      <td>0<\/td>\n",
       "      <td>0<\/td>\n",
       "      <td>0<\/td>\n",
       "      <td>0<\/td>\n",
       "      <td>0<\/td>\n",
       "      <td>0<\/td>\n",
       "      <td>0<\/td>\n",
       "      <td>0<\/td>\n",
       "      <td>0<\/td>\n",
       "      <td>0<\/td>\n",
       "      <td>0<\/td>\n",
       "      <td>0<\/td>\n",
       "      <td>0<\/td>\n",
       "      <td>0<\/td>\n",
       "      <td>0<\/td>\n",
       "      <td>0<\/td>\n",
       "      <td>0<\/td>\n",
       "      <td>0<\/td>\n",
       "      <td>0<\/td>\n",
       "      <td>0<\/td>\n",
       "      <td>0<\/td>\n",
       "      <td>0<\/td>\n",
       "      <td>0<\/td>\n",
       "      <td>0<\/td>\n",
       "      <td>0<\/td>\n",
       "      <td>0<\/td>\n",
       "      <td>0<\/td>\n",
       "      <td>0<\/td>\n",
       "      <td>0<\/td>\n",
       "      <td>0<\/td>\n",
       "      <td>0<\/td>\n",
       "      <td>0<\/td>\n",
       "      <td>0<\/td>\n",
       "      <td>0<\/td>\n",
       "      <td>0<\/td>\n",
       "      <td>0<\/td>\n",
       "      <td>0<\/td>\n",
       "      <td>0<\/td>\n",
       "      <td>0<\/td>\n",
       "      <td>0<\/td>\n",
       "      <td>0<\/td>\n",
       "      <td>0<\/td>\n",
       "      <td>0<\/td>\n",
       "      <td>0<\/td>\n",
       "      <td>0<\/td>\n",
       "      <td>0<\/td>\n",
       "      <td>0<\/td>\n",
       "      <td>0<\/td>\n",
       "      <td>0<\/td>\n",
       "      <td>0<\/td>\n",
       "      <td>0<\/td>\n",
       "      <td>0<\/td>\n",
       "      <td>0<\/td>\n",
       "      <td>0<\/td>\n",
       "      <td>0<\/td>\n",
       "      <td>0<\/td>\n",
       "      <td>0<\/td>\n",
       "      <td>0<\/td>\n",
       "      <td>0<\/td>\n",
       "      <td>0<\/td>\n",
       "      <td>0<\/td>\n",
       "      <td>0<\/td>\n",
       "      <td>0<\/td>\n",
       "      <td>0<\/td>\n",
       "      <td>0<\/td>\n",
       "      <td>0<\/td>\n",
       "      <td>0<\/td>\n",
       "      <td>0<\/td>\n",
       "      <td>0<\/td>\n",
       "      <td>0<\/td>\n",
       "      <td>0<\/td>\n",
       "      <td>0<\/td>\n",
       "      <td>0<\/td>\n",
       "      <td>0<\/td>\n",
       "      <td>0<\/td>\n",
       "      <td>0<\/td>\n",
       "      <td>0<\/td>\n",
       "      <td>0<\/td>\n",
       "      <td>0<\/td>\n",
       "      <td>0<\/td>\n",
       "      <td>0<\/td>\n",
       "      <td>0<\/td>\n",
       "      <td>0<\/td>\n",
       "      <td>0<\/td>\n",
       "      <td>0<\/td>\n",
       "      <td>0<\/td>\n",
       "      <td>0<\/td>\n",
       "      <td>0<\/td>\n",
       "      <td>0<\/td>\n",
       "      <td>0<\/td>\n",
       "      <td>0<\/td>\n",
       "      <td>0<\/td>\n",
       "      <td>0<\/td>\n",
       "      <td>0<\/td>\n",
       "      <td>0<\/td>\n",
       "      <td>0<\/td>\n",
       "      <td>0<\/td>\n",
       "      <td>0<\/td>\n",
       "      <td>0<\/td>\n",
       "      <td>0<\/td>\n",
       "      <td>0<\/td>\n",
       "      <td>0<\/td>\n",
       "      <td>0<\/td>\n",
       "      <td>0<\/td>\n",
       "      <td>0<\/td>\n",
       "      <td>0<\/td>\n",
       "      <td>0<\/td>\n",
       "      <td>0<\/td>\n",
       "      <td>0<\/td>\n",
       "      <td>0<\/td>\n",
       "      <td>0<\/td>\n",
       "      <td>0<\/td>\n",
       "      <td>0<\/td>\n",
       "      <td>0<\/td>\n",
       "      <td>0<\/td>\n",
       "      <td>0<\/td>\n",
       "      <td>0<\/td>\n",
       "      <td>0<\/td>\n",
       "      <td>0<\/td>\n",
       "      <td>0<\/td>\n",
       "      <td>0<\/td>\n",
       "      <td>0<\/td>\n",
       "      <td>1<\/td>\n",
       "      <td>0<\/td>\n",
       "      <td>0<\/td>\n",
       "      <td>0<\/td>\n",
       "      <td>0<\/td>\n",
       "      <td>0<\/td>\n",
       "      <td>0<\/td>\n",
       "      <td>0<\/td>\n",
       "      <td>0<\/td>\n",
       "      <td>0<\/td>\n",
       "      <td>0<\/td>\n",
       "      <td>0<\/td>\n",
       "      <td>0<\/td>\n",
       "      <td>0<\/td>\n",
       "      <td>0<\/td>\n",
       "      <td>0<\/td>\n",
       "      <td>0<\/td>\n",
       "      <td>0<\/td>\n",
       "      <td>0<\/td>\n",
       "      <td>0<\/td>\n",
       "      <td>0<\/td>\n",
       "      <td>0<\/td>\n",
       "    <\/tr>\n",
       "    <tr>\n",
       "      <th>1<\/th>\n",
       "      <td>2015<\/td>\n",
       "      <td>41000.0<\/td>\n",
       "      <td>5.0<\/td>\n",
       "      <td>16.06<\/td>\n",
       "      <td>19.67<\/td>\n",
       "      <td>1582.0<\/td>\n",
       "      <td>126.20<\/td>\n",
       "      <td>0<\/td>\n",
       "      <td>0<\/td>\n",
       "      <td>0<\/td>\n",
       "      <td>0<\/td>\n",
       "      <td>0<\/td>\n",
       "      <td>0<\/td>\n",
       "      <td>0<\/td>\n",
       "      <td>0<\/td>\n",
       "      <td>0<\/td>\n",
       "      <td>1<\/td>\n",
       "      <td>1<\/td>\n",
       "      <td>0<\/td>\n",
       "      <td>0<\/td>\n",
       "      <td>0<\/td>\n",
       "      <td>1<\/td>\n",
       "      <td>0<\/td>\n",
       "      <td>0<\/td>\n",
       "      <td>0<\/td>\n",
       "      <td>0<\/td>\n",
       "      <td>0<\/td>\n",
       "      <td>0<\/td>\n",
       "      <td>0<\/td>\n",
       "      <td>0<\/td>\n",
       "      <td>0<\/td>\n",
       "      <td>0<\/td>\n",
       "      <td>0<\/td>\n",
       "      <td>0<\/td>\n",
       "      <td>1<\/td>\n",
       "      <td>0<\/td>\n",
       "      <td>0<\/td>\n",
       "      <td>0<\/td>\n",
       "      <td>0<\/td>\n",
       "      <td>0<\/td>\n",
       "      <td>0<\/td>\n",
       "      <td>0<\/td>\n",
       "      <td>0<\/td>\n",
       "      <td>0<\/td>\n",
       "      <td>0<\/td>\n",
       "      <td>0<\/td>\n",
       "      <td>0<\/td>\n",
       "      <td>0<\/td>\n",
       "      <td>0<\/td>\n",
       "      <td>0<\/td>\n",
       "      <td>0<\/td>\n",
       "      <td>0<\/td>\n",
       "      <td>0<\/td>\n",
       "      <td>0<\/td>\n",
       "      <td>0<\/td>\n",
       "      <td>0<\/td>\n",
       "      <td>0<\/td>\n",
       "      <td>0<\/td>\n",
       "      <td>0<\/td>\n",
       "      <td>0<\/td>\n",
       "      <td>0<\/td>\n",
       "      <td>0<\/td>\n",
       "      <td>0<\/td>\n",
       "      <td>0<\/td>\n",
       "      <td>0<\/td>\n",
       "      <td>0<\/td>\n",
       "      <td>0<\/td>\n",
       "      <td>0<\/td>\n",
       "      <td>0<\/td>\n",
       "      <td>0<\/td>\n",
       "      <td>0<\/td>\n",
       "      <td>0<\/td>\n",
       "      <td>0<\/td>\n",
       "      <td>0<\/td>\n",
       "      <td>0<\/td>\n",
       "      <td>0<\/td>\n",
       "      <td>0<\/td>\n",
       "      <td>0<\/td>\n",
       "      <td>0<\/td>\n",
       "      <td>0<\/td>\n",
       "      <td>0<\/td>\n",
       "      <td>0<\/td>\n",
       "      <td>0<\/td>\n",
       "      <td>0<\/td>\n",
       "      <td>0<\/td>\n",
       "      <td>0<\/td>\n",
       "      <td>0<\/td>\n",
       "      <td>0<\/td>\n",
       "      <td>0<\/td>\n",
       "      <td>0<\/td>\n",
       "      <td>0<\/td>\n",
       "      <td>0<\/td>\n",
       "      <td>0<\/td>\n",
       "      <td>0<\/td>\n",
       "      <td>0<\/td>\n",
       "      <td>0<\/td>\n",
       "      <td>0<\/td>\n",
       "      <td>0<\/td>\n",
       "      <td>0<\/td>\n",
       "      <td>0<\/td>\n",
       "      <td>0<\/td>\n",
       "      <td>0<\/td>\n",
       "      <td>0<\/td>\n",
       "      <td>0<\/td>\n",
       "      <td>0<\/td>\n",
       "      <td>0<\/td>\n",
       "      <td>1<\/td>\n",
       "      <td>0<\/td>\n",
       "      <td>0<\/td>\n",
       "      <td>0<\/td>\n",
       "      <td>0<\/td>\n",
       "      <td>0<\/td>\n",
       "      <td>0<\/td>\n",
       "      <td>0<\/td>\n",
       "      <td>0<\/td>\n",
       "      <td>0<\/td>\n",
       "      <td>0<\/td>\n",
       "      <td>0<\/td>\n",
       "      <td>0<\/td>\n",
       "      <td>0<\/td>\n",
       "      <td>0<\/td>\n",
       "      <td>0<\/td>\n",
       "      <td>0<\/td>\n",
       "      <td>0<\/td>\n",
       "      <td>0<\/td>\n",
       "      <td>0<\/td>\n",
       "      <td>0<\/td>\n",
       "      <td>0<\/td>\n",
       "      <td>0<\/td>\n",
       "      <td>0<\/td>\n",
       "      <td>0<\/td>\n",
       "      <td>0<\/td>\n",
       "      <td>0<\/td>\n",
       "      <td>0<\/td>\n",
       "      <td>0<\/td>\n",
       "      <td>0<\/td>\n",
       "      <td>0<\/td>\n",
       "      <td>0<\/td>\n",
       "      <td>0<\/td>\n",
       "      <td>0<\/td>\n",
       "      <td>0<\/td>\n",
       "      <td>0<\/td>\n",
       "      <td>0<\/td>\n",
       "      <td>0<\/td>\n",
       "      <td>0<\/td>\n",
       "      <td>0<\/td>\n",
       "      <td>0<\/td>\n",
       "      <td>0<\/td>\n",
       "      <td>0<\/td>\n",
       "      <td>0<\/td>\n",
       "      <td>0<\/td>\n",
       "      <td>0<\/td>\n",
       "      <td>0<\/td>\n",
       "      <td>0<\/td>\n",
       "      <td>0<\/td>\n",
       "      <td>0<\/td>\n",
       "      <td>0<\/td>\n",
       "      <td>0<\/td>\n",
       "      <td>0<\/td>\n",
       "      <td>0<\/td>\n",
       "      <td>0<\/td>\n",
       "      <td>0<\/td>\n",
       "      <td>0<\/td>\n",
       "      <td>0<\/td>\n",
       "      <td>0<\/td>\n",
       "      <td>0<\/td>\n",
       "      <td>0<\/td>\n",
       "      <td>0<\/td>\n",
       "      <td>0<\/td>\n",
       "      <td>0<\/td>\n",
       "      <td>0<\/td>\n",
       "      <td>0<\/td>\n",
       "      <td>0<\/td>\n",
       "      <td>0<\/td>\n",
       "      <td>0<\/td>\n",
       "      <td>0<\/td>\n",
       "      <td>0<\/td>\n",
       "      <td>0<\/td>\n",
       "      <td>0<\/td>\n",
       "      <td>0<\/td>\n",
       "      <td>0<\/td>\n",
       "      <td>0<\/td>\n",
       "      <td>0<\/td>\n",
       "      <td>0<\/td>\n",
       "      <td>0<\/td>\n",
       "      <td>0<\/td>\n",
       "      <td>0<\/td>\n",
       "      <td>0<\/td>\n",
       "      <td>0<\/td>\n",
       "      <td>0<\/td>\n",
       "      <td>0<\/td>\n",
       "      <td>0<\/td>\n",
       "      <td>0<\/td>\n",
       "      <td>0<\/td>\n",
       "      <td>0<\/td>\n",
       "      <td>0<\/td>\n",
       "      <td>0<\/td>\n",
       "      <td>0<\/td>\n",
       "      <td>0<\/td>\n",
       "      <td>0<\/td>\n",
       "      <td>0<\/td>\n",
       "      <td>0<\/td>\n",
       "      <td>0<\/td>\n",
       "      <td>0<\/td>\n",
       "      <td>0<\/td>\n",
       "      <td>0<\/td>\n",
       "      <td>0<\/td>\n",
       "      <td>0<\/td>\n",
       "      <td>0<\/td>\n",
       "      <td>0<\/td>\n",
       "      <td>0<\/td>\n",
       "      <td>0<\/td>\n",
       "      <td>0<\/td>\n",
       "      <td>0<\/td>\n",
       "      <td>0<\/td>\n",
       "      <td>0<\/td>\n",
       "      <td>0<\/td>\n",
       "      <td>0<\/td>\n",
       "      <td>0<\/td>\n",
       "      <td>0<\/td>\n",
       "      <td>0<\/td>\n",
       "      <td>0<\/td>\n",
       "      <td>0<\/td>\n",
       "      <td>0<\/td>\n",
       "      <td>0<\/td>\n",
       "      <td>0<\/td>\n",
       "      <td>0<\/td>\n",
       "      <td>0<\/td>\n",
       "      <td>0<\/td>\n",
       "      <td>0<\/td>\n",
       "      <td>0<\/td>\n",
       "      <td>0<\/td>\n",
       "      <td>0<\/td>\n",
       "      <td>0<\/td>\n",
       "      <td>0<\/td>\n",
       "      <td>0<\/td>\n",
       "      <td>0<\/td>\n",
       "      <td>0<\/td>\n",
       "      <td>0<\/td>\n",
       "      <td>0<\/td>\n",
       "      <td>0<\/td>\n",
       "      <td>0<\/td>\n",
       "      <td>0<\/td>\n",
       "      <td>0<\/td>\n",
       "      <td>0<\/td>\n",
       "      <td>0<\/td>\n",
       "      <td>0<\/td>\n",
       "      <td>0<\/td>\n",
       "      <td>0<\/td>\n",
       "      <td>0<\/td>\n",
       "      <td>0<\/td>\n",
       "      <td>0<\/td>\n",
       "      <td>0<\/td>\n",
       "      <td>0<\/td>\n",
       "      <td>0<\/td>\n",
       "      <td>0<\/td>\n",
       "      <td>0<\/td>\n",
       "      <td>0<\/td>\n",
       "      <td>0<\/td>\n",
       "      <td>0<\/td>\n",
       "      <td>0<\/td>\n",
       "      <td>0<\/td>\n",
       "      <td>0<\/td>\n",
       "      <td>0<\/td>\n",
       "    <\/tr>\n",
       "    <tr>\n",
       "      <th>2<\/th>\n",
       "      <td>2011<\/td>\n",
       "      <td>46000.0<\/td>\n",
       "      <td>5.0<\/td>\n",
       "      <td>8.61<\/td>\n",
       "      <td>18.20<\/td>\n",
       "      <td>1199.0<\/td>\n",
       "      <td>88.70<\/td>\n",
       "      <td>0<\/td>\n",
       "      <td>1<\/td>\n",
       "      <td>0<\/td>\n",
       "      <td>0<\/td>\n",
       "      <td>0<\/td>\n",
       "      <td>0<\/td>\n",
       "      <td>0<\/td>\n",
       "      <td>0<\/td>\n",
       "      <td>0<\/td>\n",
       "      <td>0<\/td>\n",
       "      <td>0<\/td>\n",
       "      <td>0<\/td>\n",
       "      <td>0<\/td>\n",
       "      <td>1<\/td>\n",
       "      <td>1<\/td>\n",
       "      <td>0<\/td>\n",
       "      <td>0<\/td>\n",
       "      <td>0<\/td>\n",
       "      <td>0<\/td>\n",
       "      <td>0<\/td>\n",
       "      <td>0<\/td>\n",
       "      <td>0<\/td>\n",
       "      <td>0<\/td>\n",
       "      <td>0<\/td>\n",
       "      <td>0<\/td>\n",
       "      <td>0<\/td>\n",
       "      <td>1<\/td>\n",
       "      <td>0<\/td>\n",
       "      <td>0<\/td>\n",
       "      <td>0<\/td>\n",
       "      <td>0<\/td>\n",
       "      <td>0<\/td>\n",
       "      <td>0<\/td>\n",
       "      <td>0<\/td>\n",
       "      <td>0<\/td>\n",
       "      <td>0<\/td>\n",
       "      <td>0<\/td>\n",
       "      <td>0<\/td>\n",
       "      <td>0<\/td>\n",
       "      <td>0<\/td>\n",
       "      <td>0<\/td>\n",
       "      <td>0<\/td>\n",
       "      <td>0<\/td>\n",
       "      <td>0<\/td>\n",
       "      <td>0<\/td>\n",
       "      <td>0<\/td>\n",
       "      <td>0<\/td>\n",
       "      <td>0<\/td>\n",
       "      <td>0<\/td>\n",
       "      <td>0<\/td>\n",
       "      <td>0<\/td>\n",
       "      <td>0<\/td>\n",
       "      <td>0<\/td>\n",
       "      <td>0<\/td>\n",
       "      <td>0<\/td>\n",
       "      <td>0<\/td>\n",
       "      <td>0<\/td>\n",
       "      <td>0<\/td>\n",
       "      <td>0<\/td>\n",
       "      <td>0<\/td>\n",
       "      <td>0<\/td>\n",
       "      <td>0<\/td>\n",
       "      <td>0<\/td>\n",
       "      <td>0<\/td>\n",
       "      <td>0<\/td>\n",
       "      <td>0<\/td>\n",
       "      <td>0<\/td>\n",
       "      <td>0<\/td>\n",
       "      <td>0<\/td>\n",
       "      <td>0<\/td>\n",
       "      <td>0<\/td>\n",
       "      <td>0<\/td>\n",
       "      <td>0<\/td>\n",
       "      <td>0<\/td>\n",
       "      <td>0<\/td>\n",
       "      <td>0<\/td>\n",
       "      <td>0<\/td>\n",
       "      <td>0<\/td>\n",
       "      <td>0<\/td>\n",
       "      <td>0<\/td>\n",
       "      <td>0<\/td>\n",
       "      <td>0<\/td>\n",
       "      <td>0<\/td>\n",
       "      <td>0<\/td>\n",
       "      <td>0<\/td>\n",
       "      <td>0<\/td>\n",
       "      <td>0<\/td>\n",
       "      <td>0<\/td>\n",
       "      <td>0<\/td>\n",
       "      <td>0<\/td>\n",
       "      <td>0<\/td>\n",
       "      <td>0<\/td>\n",
       "      <td>0<\/td>\n",
       "      <td>0<\/td>\n",
       "      <td>0<\/td>\n",
       "      <td>0<\/td>\n",
       "      <td>0<\/td>\n",
       "      <td>0<\/td>\n",
       "      <td>0<\/td>\n",
       "      <td>0<\/td>\n",
       "      <td>0<\/td>\n",
       "      <td>0<\/td>\n",
       "      <td>0<\/td>\n",
       "      <td>0<\/td>\n",
       "      <td>0<\/td>\n",
       "      <td>0<\/td>\n",
       "      <td>0<\/td>\n",
       "      <td>0<\/td>\n",
       "      <td>0<\/td>\n",
       "      <td>0<\/td>\n",
       "      <td>0<\/td>\n",
       "      <td>0<\/td>\n",
       "      <td>0<\/td>\n",
       "      <td>0<\/td>\n",
       "      <td>0<\/td>\n",
       "      <td>0<\/td>\n",
       "      <td>0<\/td>\n",
       "      <td>0<\/td>\n",
       "      <td>0<\/td>\n",
       "      <td>0<\/td>\n",
       "      <td>0<\/td>\n",
       "      <td>0<\/td>\n",
       "      <td>0<\/td>\n",
       "      <td>0<\/td>\n",
       "      <td>0<\/td>\n",
       "      <td>0<\/td>\n",
       "      <td>0<\/td>\n",
       "      <td>0<\/td>\n",
       "      <td>0<\/td>\n",
       "      <td>0<\/td>\n",
       "      <td>0<\/td>\n",
       "      <td>0<\/td>\n",
       "      <td>0<\/td>\n",
       "      <td>0<\/td>\n",
       "      <td>0<\/td>\n",
       "      <td>0<\/td>\n",
       "      <td>0<\/td>\n",
       "      <td>0<\/td>\n",
       "      <td>0<\/td>\n",
       "      <td>0<\/td>\n",
       "      <td>0<\/td>\n",
       "      <td>0<\/td>\n",
       "      <td>0<\/td>\n",
       "      <td>0<\/td>\n",
       "      <td>0<\/td>\n",
       "      <td>0<\/td>\n",
       "      <td>1<\/td>\n",
       "      <td>0<\/td>\n",
       "      <td>0<\/td>\n",
       "      <td>0<\/td>\n",
       "      <td>0<\/td>\n",
       "      <td>0<\/td>\n",
       "      <td>0<\/td>\n",
       "      <td>0<\/td>\n",
       "      <td>0<\/td>\n",
       "      <td>0<\/td>\n",
       "      <td>0<\/td>\n",
       "      <td>0<\/td>\n",
       "      <td>0<\/td>\n",
       "      <td>0<\/td>\n",
       "      <td>0<\/td>\n",
       "      <td>0<\/td>\n",
       "      <td>0<\/td>\n",
       "      <td>0<\/td>\n",
       "      <td>0<\/td>\n",
       "      <td>0<\/td>\n",
       "      <td>0<\/td>\n",
       "      <td>0<\/td>\n",
       "      <td>0<\/td>\n",
       "      <td>0<\/td>\n",
       "      <td>0<\/td>\n",
       "      <td>0<\/td>\n",
       "      <td>0<\/td>\n",
       "      <td>0<\/td>\n",
       "      <td>0<\/td>\n",
       "      <td>0<\/td>\n",
       "      <td>0<\/td>\n",
       "      <td>0<\/td>\n",
       "      <td>0<\/td>\n",
       "      <td>0<\/td>\n",
       "      <td>0<\/td>\n",
       "      <td>0<\/td>\n",
       "      <td>0<\/td>\n",
       "      <td>0<\/td>\n",
       "      <td>0<\/td>\n",
       "      <td>0<\/td>\n",
       "      <td>0<\/td>\n",
       "      <td>0<\/td>\n",
       "      <td>0<\/td>\n",
       "      <td>0<\/td>\n",
       "      <td>0<\/td>\n",
       "      <td>0<\/td>\n",
       "      <td>0<\/td>\n",
       "      <td>0<\/td>\n",
       "      <td>0<\/td>\n",
       "      <td>0<\/td>\n",
       "      <td>0<\/td>\n",
       "      <td>0<\/td>\n",
       "      <td>0<\/td>\n",
       "      <td>0<\/td>\n",
       "      <td>0<\/td>\n",
       "      <td>0<\/td>\n",
       "      <td>0<\/td>\n",
       "      <td>0<\/td>\n",
       "      <td>0<\/td>\n",
       "      <td>0<\/td>\n",
       "      <td>0<\/td>\n",
       "      <td>0<\/td>\n",
       "      <td>0<\/td>\n",
       "      <td>0<\/td>\n",
       "      <td>0<\/td>\n",
       "      <td>0<\/td>\n",
       "      <td>0<\/td>\n",
       "      <td>0<\/td>\n",
       "      <td>0<\/td>\n",
       "      <td>0<\/td>\n",
       "      <td>0<\/td>\n",
       "      <td>0<\/td>\n",
       "      <td>0<\/td>\n",
       "      <td>0<\/td>\n",
       "      <td>0<\/td>\n",
       "      <td>0<\/td>\n",
       "      <td>0<\/td>\n",
       "      <td>0<\/td>\n",
       "      <td>0<\/td>\n",
       "      <td>0<\/td>\n",
       "      <td>0<\/td>\n",
       "      <td>0<\/td>\n",
       "      <td>0<\/td>\n",
       "      <td>0<\/td>\n",
       "      <td>0<\/td>\n",
       "      <td>0<\/td>\n",
       "      <td>0<\/td>\n",
       "      <td>0<\/td>\n",
       "      <td>0<\/td>\n",
       "      <td>0<\/td>\n",
       "      <td>0<\/td>\n",
       "      <td>0<\/td>\n",
       "      <td>0<\/td>\n",
       "      <td>0<\/td>\n",
       "      <td>0<\/td>\n",
       "      <td>0<\/td>\n",
       "      <td>0<\/td>\n",
       "      <td>0<\/td>\n",
       "      <td>0<\/td>\n",
       "      <td>0<\/td>\n",
       "      <td>0<\/td>\n",
       "      <td>0<\/td>\n",
       "      <td>0<\/td>\n",
       "      <td>0<\/td>\n",
       "      <td>0<\/td>\n",
       "      <td>0<\/td>\n",
       "      <td>0<\/td>\n",
       "      <td>0<\/td>\n",
       "      <td>0<\/td>\n",
       "      <td>0<\/td>\n",
       "      <td>0<\/td>\n",
       "    <\/tr>\n",
       "    <tr>\n",
       "      <th>3<\/th>\n",
       "      <td>2012<\/td>\n",
       "      <td>87000.0<\/td>\n",
       "      <td>7.0<\/td>\n",
       "      <td>11.27<\/td>\n",
       "      <td>20.77<\/td>\n",
       "      <td>1248.0<\/td>\n",
       "      <td>88.76<\/td>\n",
       "      <td>0<\/td>\n",
       "      <td>1<\/td>\n",
       "      <td>0<\/td>\n",
       "      <td>0<\/td>\n",
       "      <td>0<\/td>\n",
       "      <td>0<\/td>\n",
       "      <td>0<\/td>\n",
       "      <td>0<\/td>\n",
       "      <td>0<\/td>\n",
       "      <td>0<\/td>\n",
       "      <td>1<\/td>\n",
       "      <td>0<\/td>\n",
       "      <td>0<\/td>\n",
       "      <td>0<\/td>\n",
       "      <td>1<\/td>\n",
       "      <td>0<\/td>\n",
       "      <td>0<\/td>\n",
       "      <td>0<\/td>\n",
       "      <td>0<\/td>\n",
       "      <td>0<\/td>\n",
       "      <td>0<\/td>\n",
       "      <td>0<\/td>\n",
       "      <td>0<\/td>\n",
       "      <td>0<\/td>\n",
       "      <td>0<\/td>\n",
       "      <td>0<\/td>\n",
       "      <td>0<\/td>\n",
       "      <td>0<\/td>\n",
       "      <td>0<\/td>\n",
       "      <td>0<\/td>\n",
       "      <td>0<\/td>\n",
       "      <td>0<\/td>\n",
       "      <td>0<\/td>\n",
       "      <td>0<\/td>\n",
       "      <td>1<\/td>\n",
       "      <td>0<\/td>\n",
       "      <td>0<\/td>\n",
       "      <td>0<\/td>\n",
       "      <td>0<\/td>\n",
       "      <td>0<\/td>\n",
       "      <td>0<\/td>\n",
       "      <td>0<\/td>\n",
       "      <td>0<\/td>\n",
       "      <td>0<\/td>\n",
       "      <td>0<\/td>\n",
       "      <td>0<\/td>\n",
       "      <td>0<\/td>\n",
       "      <td>0<\/td>\n",
       "      <td>0<\/td>\n",
       "      <td>0<\/td>\n",
       "      <td>0<\/td>\n",
       "      <td>0<\/td>\n",
       "      <td>0<\/td>\n",
       "      <td>0<\/td>\n",
       "      <td>0<\/td>\n",
       "      <td>0<\/td>\n",
       "      <td>0<\/td>\n",
       "      <td>0<\/td>\n",
       "      <td>0<\/td>\n",
       "      <td>0<\/td>\n",
       "      <td>0<\/td>\n",
       "      <td>0<\/td>\n",
       "      <td>0<\/td>\n",
       "      <td>0<\/td>\n",
       "      <td>0<\/td>\n",
       "      <td>0<\/td>\n",
       "      <td>0<\/td>\n",
       "      <td>0<\/td>\n",
       "      <td>0<\/td>\n",
       "      <td>0<\/td>\n",
       "      <td>0<\/td>\n",
       "      <td>0<\/td>\n",
       "      <td>0<\/td>\n",
       "      <td>0<\/td>\n",
       "      <td>0<\/td>\n",
       "      <td>0<\/td>\n",
       "      <td>0<\/td>\n",
       "      <td>0<\/td>\n",
       "      <td>0<\/td>\n",
       "      <td>0<\/td>\n",
       "      <td>0<\/td>\n",
       "      <td>0<\/td>\n",
       "      <td>0<\/td>\n",
       "      <td>0<\/td>\n",
       "      <td>0<\/td>\n",
       "      <td>0<\/td>\n",
       "      <td>0<\/td>\n",
       "      <td>0<\/td>\n",
       "      <td>0<\/td>\n",
       "      <td>0<\/td>\n",
       "      <td>0<\/td>\n",
       "      <td>0<\/td>\n",
       "      <td>0<\/td>\n",
       "      <td>0<\/td>\n",
       "      <td>0<\/td>\n",
       "      <td>0<\/td>\n",
       "      <td>0<\/td>\n",
       "      <td>0<\/td>\n",
       "      <td>0<\/td>\n",
       "      <td>0<\/td>\n",
       "      <td>0<\/td>\n",
       "      <td>0<\/td>\n",
       "      <td>0<\/td>\n",
       "      <td>0<\/td>\n",
       "      <td>0<\/td>\n",
       "      <td>0<\/td>\n",
       "      <td>0<\/td>\n",
       "      <td>0<\/td>\n",
       "      <td>0<\/td>\n",
       "      <td>0<\/td>\n",
       "      <td>0<\/td>\n",
       "      <td>0<\/td>\n",
       "      <td>0<\/td>\n",
       "      <td>0<\/td>\n",
       "      <td>1<\/td>\n",
       "      <td>0<\/td>\n",
       "      <td>0<\/td>\n",
       "      <td>0<\/td>\n",
       "      <td>0<\/td>\n",
       "      <td>0<\/td>\n",
       "      <td>0<\/td>\n",
       "      <td>0<\/td>\n",
       "      <td>0<\/td>\n",
       "      <td>0<\/td>\n",
       "      <td>0<\/td>\n",
       "      <td>0<\/td>\n",
       "      <td>0<\/td>\n",
       "      <td>0<\/td>\n",
       "      <td>0<\/td>\n",
       "      <td>0<\/td>\n",
       "      <td>0<\/td>\n",
       "      <td>0<\/td>\n",
       "      <td>0<\/td>\n",
       "      <td>0<\/td>\n",
       "      <td>0<\/td>\n",
       "      <td>0<\/td>\n",
       "      <td>0<\/td>\n",
       "      <td>0<\/td>\n",
       "      <td>0<\/td>\n",
       "      <td>0<\/td>\n",
       "      <td>0<\/td>\n",
       "      <td>0<\/td>\n",
       "      <td>0<\/td>\n",
       "      <td>0<\/td>\n",
       "      <td>0<\/td>\n",
       "      <td>0<\/td>\n",
       "      <td>0<\/td>\n",
       "      <td>0<\/td>\n",
       "      <td>0<\/td>\n",
       "      <td>0<\/td>\n",
       "      <td>0<\/td>\n",
       "      <td>0<\/td>\n",
       "      <td>0<\/td>\n",
       "      <td>0<\/td>\n",
       "      <td>0<\/td>\n",
       "      <td>0<\/td>\n",
       "      <td>0<\/td>\n",
       "      <td>0<\/td>\n",
       "      <td>0<\/td>\n",
       "      <td>0<\/td>\n",
       "      <td>0<\/td>\n",
       "      <td>0<\/td>\n",
       "      <td>0<\/td>\n",
       "      <td>0<\/td>\n",
       "      <td>0<\/td>\n",
       "      <td>0<\/td>\n",
       "      <td>0<\/td>\n",
       "      <td>0<\/td>\n",
       "      <td>0<\/td>\n",
       "      <td>0<\/td>\n",
       "      <td>0<\/td>\n",
       "      <td>0<\/td>\n",
       "      <td>0<\/td>\n",
       "      <td>0<\/td>\n",
       "      <td>0<\/td>\n",
       "      <td>0<\/td>\n",
       "      <td>0<\/td>\n",
       "      <td>0<\/td>\n",
       "      <td>0<\/td>\n",
       "      <td>0<\/td>\n",
       "      <td>0<\/td>\n",
       "      <td>0<\/td>\n",
       "      <td>0<\/td>\n",
       "      <td>0<\/td>\n",
       "      <td>0<\/td>\n",
       "      <td>0<\/td>\n",
       "      <td>0<\/td>\n",
       "      <td>0<\/td>\n",
       "      <td>0<\/td>\n",
       "      <td>0<\/td>\n",
       "      <td>0<\/td>\n",
       "      <td>0<\/td>\n",
       "      <td>0<\/td>\n",
       "      <td>0<\/td>\n",
       "      <td>0<\/td>\n",
       "      <td>0<\/td>\n",
       "      <td>0<\/td>\n",
       "      <td>0<\/td>\n",
       "      <td>0<\/td>\n",
       "      <td>0<\/td>\n",
       "      <td>0<\/td>\n",
       "      <td>0<\/td>\n",
       "      <td>0<\/td>\n",
       "      <td>0<\/td>\n",
       "      <td>0<\/td>\n",
       "      <td>0<\/td>\n",
       "      <td>0<\/td>\n",
       "      <td>0<\/td>\n",
       "      <td>0<\/td>\n",
       "      <td>0<\/td>\n",
       "      <td>0<\/td>\n",
       "      <td>0<\/td>\n",
       "      <td>0<\/td>\n",
       "      <td>0<\/td>\n",
       "      <td>0<\/td>\n",
       "      <td>0<\/td>\n",
       "      <td>0<\/td>\n",
       "      <td>0<\/td>\n",
       "      <td>0<\/td>\n",
       "      <td>0<\/td>\n",
       "      <td>0<\/td>\n",
       "      <td>0<\/td>\n",
       "      <td>0<\/td>\n",
       "      <td>0<\/td>\n",
       "      <td>0<\/td>\n",
       "      <td>0<\/td>\n",
       "      <td>0<\/td>\n",
       "      <td>0<\/td>\n",
       "      <td>0<\/td>\n",
       "      <td>0<\/td>\n",
       "      <td>0<\/td>\n",
       "      <td>0<\/td>\n",
       "      <td>0<\/td>\n",
       "      <td>0<\/td>\n",
       "      <td>0<\/td>\n",
       "      <td>0<\/td>\n",
       "      <td>0<\/td>\n",
       "      <td>0<\/td>\n",
       "      <td>0<\/td>\n",
       "      <td>0<\/td>\n",
       "      <td>0<\/td>\n",
       "      <td>0<\/td>\n",
       "      <td>0<\/td>\n",
       "      <td>0<\/td>\n",
       "      <td>0<\/td>\n",
       "      <td>0<\/td>\n",
       "      <td>0<\/td>\n",
       "      <td>0<\/td>\n",
       "      <td>0<\/td>\n",
       "      <td>0<\/td>\n",
       "      <td>0<\/td>\n",
       "      <td>0<\/td>\n",
       "      <td>0<\/td>\n",
       "      <td>0<\/td>\n",
       "      <td>0<\/td>\n",
       "      <td>0<\/td>\n",
       "      <td>0<\/td>\n",
       "    <\/tr>\n",
       "    <tr>\n",
       "      <th>4<\/th>\n",
       "      <td>2013<\/td>\n",
       "      <td>40670.0<\/td>\n",
       "      <td>5.0<\/td>\n",
       "      <td>53.14<\/td>\n",
       "      <td>15.20<\/td>\n",
       "      <td>1968.0<\/td>\n",
       "      <td>140.80<\/td>\n",
       "      <td>0<\/td>\n",
       "      <td>0<\/td>\n",
       "      <td>1<\/td>\n",
       "      <td>0<\/td>\n",
       "      <td>0<\/td>\n",
       "      <td>0<\/td>\n",
       "      <td>0<\/td>\n",
       "      <td>0<\/td>\n",
       "      <td>0<\/td>\n",
       "      <td>0<\/td>\n",
       "      <td>1<\/td>\n",
       "      <td>0<\/td>\n",
       "      <td>0<\/td>\n",
       "      <td>0<\/td>\n",
       "      <td>0<\/td>\n",
       "      <td>0<\/td>\n",
       "      <td>1<\/td>\n",
       "      <td>0<\/td>\n",
       "      <td>1<\/td>\n",
       "      <td>0<\/td>\n",
       "      <td>0<\/td>\n",
       "      <td>0<\/td>\n",
       "      <td>0<\/td>\n",
       "      <td>0<\/td>\n",
       "      <td>0<\/td>\n",
       "      <td>0<\/td>\n",
       "      <td>0<\/td>\n",
       "      <td>0<\/td>\n",
       "      <td>0<\/td>\n",
       "      <td>0<\/td>\n",
       "      <td>0<\/td>\n",
       "      <td>0<\/td>\n",
       "      <td>0<\/td>\n",
       "      <td>0<\/td>\n",
       "      <td>0<\/td>\n",
       "      <td>0<\/td>\n",
       "      <td>0<\/td>\n",
       "      <td>0<\/td>\n",
       "      <td>0<\/td>\n",
       "      <td>0<\/td>\n",
       "      <td>0<\/td>\n",
       "      <td>0<\/td>\n",
       "      <td>0<\/td>\n",
       "      <td>0<\/td>\n",
       "      <td>0<\/td>\n",
       "      <td>0<\/td>\n",
       "      <td>0<\/td>\n",
       "      <td>0<\/td>\n",
       "      <td>0<\/td>\n",
       "      <td>0<\/td>\n",
       "      <td>0<\/td>\n",
       "      <td>0<\/td>\n",
       "      <td>0<\/td>\n",
       "      <td>0<\/td>\n",
       "      <td>0<\/td>\n",
       "      <td>0<\/td>\n",
       "      <td>1<\/td>\n",
       "      <td>0<\/td>\n",
       "      <td>0<\/td>\n",
       "      <td>0<\/td>\n",
       "      <td>0<\/td>\n",
       "      <td>0<\/td>\n",
       "      <td>0<\/td>\n",
       "      <td>0<\/td>\n",
       "      <td>0<\/td>\n",
       "      <td>0<\/td>\n",
       "      <td>0<\/td>\n",
       "      <td>0<\/td>\n",
       "      <td>0<\/td>\n",
       "      <td>0<\/td>\n",
       "      <td>0<\/td>\n",
       "      <td>0<\/td>\n",
       "      <td>0<\/td>\n",
       "      <td>0<\/td>\n",
       "      <td>0<\/td>\n",
       "      <td>0<\/td>\n",
       "      <td>0<\/td>\n",
       "      <td>0<\/td>\n",
       "      <td>0<\/td>\n",
       "      <td>0<\/td>\n",
       "      <td>0<\/td>\n",
       "      <td>0<\/td>\n",
       "      <td>0<\/td>\n",
       "      <td>0<\/td>\n",
       "      <td>0<\/td>\n",
       "      <td>0<\/td>\n",
       "      <td>0<\/td>\n",
       "      <td>0<\/td>\n",
       "      <td>0<\/td>\n",
       "      <td>0<\/td>\n",
       "      <td>0<\/td>\n",
       "      <td>0<\/td>\n",
       "      <td>0<\/td>\n",
       "      <td>0<\/td>\n",
       "      <td>0<\/td>\n",
       "      <td>0<\/td>\n",
       "      <td>0<\/td>\n",
       "      <td>0<\/td>\n",
       "      <td>0<\/td>\n",
       "      <td>0<\/td>\n",
       "      <td>0<\/td>\n",
       "      <td>0<\/td>\n",
       "      <td>0<\/td>\n",
       "      <td>0<\/td>\n",
       "      <td>0<\/td>\n",
       "      <td>0<\/td>\n",
       "      <td>0<\/td>\n",
       "      <td>0<\/td>\n",
       "      <td>0<\/td>\n",
       "      <td>0<\/td>\n",
       "      <td>0<\/td>\n",
       "      <td>0<\/td>\n",
       "      <td>0<\/td>\n",
       "      <td>0<\/td>\n",
       "      <td>0<\/td>\n",
       "      <td>0<\/td>\n",
       "      <td>0<\/td>\n",
       "      <td>0<\/td>\n",
       "      <td>0<\/td>\n",
       "      <td>0<\/td>\n",
       "      <td>0<\/td>\n",
       "      <td>0<\/td>\n",
       "      <td>0<\/td>\n",
       "      <td>0<\/td>\n",
       "      <td>0<\/td>\n",
       "      <td>0<\/td>\n",
       "      <td>0<\/td>\n",
       "      <td>0<\/td>\n",
       "      <td>0<\/td>\n",
       "      <td>0<\/td>\n",
       "      <td>0<\/td>\n",
       "      <td>0<\/td>\n",
       "      <td>0<\/td>\n",
       "      <td>0<\/td>\n",
       "      <td>0<\/td>\n",
       "      <td>0<\/td>\n",
       "      <td>0<\/td>\n",
       "      <td>0<\/td>\n",
       "      <td>0<\/td>\n",
       "      <td>0<\/td>\n",
       "      <td>0<\/td>\n",
       "      <td>0<\/td>\n",
       "      <td>0<\/td>\n",
       "      <td>0<\/td>\n",
       "      <td>0<\/td>\n",
       "      <td>0<\/td>\n",
       "      <td>0<\/td>\n",
       "      <td>0<\/td>\n",
       "      <td>0<\/td>\n",
       "      <td>0<\/td>\n",
       "      <td>0<\/td>\n",
       "      <td>0<\/td>\n",
       "      <td>0<\/td>\n",
       "      <td>0<\/td>\n",
       "      <td>0<\/td>\n",
       "      <td>0<\/td>\n",
       "      <td>0<\/td>\n",
       "      <td>0<\/td>\n",
       "      <td>0<\/td>\n",
       "      <td>0<\/td>\n",
       "      <td>0<\/td>\n",
       "      <td>0<\/td>\n",
       "      <td>0<\/td>\n",
       "      <td>0<\/td>\n",
       "      <td>0<\/td>\n",
       "      <td>0<\/td>\n",
       "      <td>0<\/td>\n",
       "      <td>0<\/td>\n",
       "      <td>0<\/td>\n",
       "      <td>0<\/td>\n",
       "      <td>0<\/td>\n",
       "      <td>0<\/td>\n",
       "      <td>0<\/td>\n",
       "      <td>0<\/td>\n",
       "      <td>0<\/td>\n",
       "      <td>0<\/td>\n",
       "      <td>0<\/td>\n",
       "      <td>0<\/td>\n",
       "      <td>0<\/td>\n",
       "      <td>0<\/td>\n",
       "      <td>0<\/td>\n",
       "      <td>0<\/td>\n",
       "      <td>0<\/td>\n",
       "      <td>0<\/td>\n",
       "      <td>0<\/td>\n",
       "      <td>0<\/td>\n",
       "      <td>0<\/td>\n",
       "      <td>0<\/td>\n",
       "      <td>0<\/td>\n",
       "      <td>0<\/td>\n",
       "      <td>0<\/td>\n",
       "      <td>0<\/td>\n",
       "      <td>0<\/td>\n",
       "      <td>0<\/td>\n",
       "      <td>0<\/td>\n",
       "      <td>0<\/td>\n",
       "      <td>0<\/td>\n",
       "      <td>0<\/td>\n",
       "      <td>0<\/td>\n",
       "      <td>0<\/td>\n",
       "      <td>0<\/td>\n",
       "      <td>0<\/td>\n",
       "      <td>0<\/td>\n",
       "      <td>0<\/td>\n",
       "      <td>0<\/td>\n",
       "      <td>0<\/td>\n",
       "      <td>0<\/td>\n",
       "      <td>0<\/td>\n",
       "      <td>0<\/td>\n",
       "      <td>0<\/td>\n",
       "      <td>0<\/td>\n",
       "      <td>0<\/td>\n",
       "      <td>0<\/td>\n",
       "      <td>0<\/td>\n",
       "      <td>0<\/td>\n",
       "      <td>0<\/td>\n",
       "      <td>0<\/td>\n",
       "      <td>0<\/td>\n",
       "      <td>0<\/td>\n",
       "      <td>0<\/td>\n",
       "      <td>0<\/td>\n",
       "      <td>0<\/td>\n",
       "      <td>0<\/td>\n",
       "      <td>0<\/td>\n",
       "      <td>0<\/td>\n",
       "      <td>0<\/td>\n",
       "      <td>0<\/td>\n",
       "      <td>0<\/td>\n",
       "      <td>0<\/td>\n",
       "      <td>0<\/td>\n",
       "      <td>0<\/td>\n",
       "      <td>0<\/td>\n",
       "      <td>0<\/td>\n",
       "      <td>0<\/td>\n",
       "      <td>0<\/td>\n",
       "      <td>0<\/td>\n",
       "      <td>0<\/td>\n",
       "      <td>0<\/td>\n",
       "      <td>0<\/td>\n",
       "      <td>0<\/td>\n",
       "      <td>0<\/td>\n",
       "      <td>0<\/td>\n",
       "      <td>0<\/td>\n",
       "      <td>0<\/td>\n",
       "      <td>0<\/td>\n",
       "      <td>0<\/td>\n",
       "      <td>0<\/td>\n",
       "      <td>0<\/td>\n",
       "      <td>0<\/td>\n",
       "      <td>0<\/td>\n",
       "      <td>0<\/td>\n",
       "      <td>0<\/td>\n",
       "      <td>0<\/td>\n",
       "      <td>0<\/td>\n",
       "      <td>0<\/td>\n",
       "      <td>0<\/td>\n",
       "      <td>0<\/td>\n",
       "    <\/tr>\n",
       "  <\/tbody>\n",
       "<\/table>\n",
       "<\/div>"
      ]
     },
     "metadata":{},
     "output_type":"display_data"
    }
   ],
   "metadata":{
    "datalore":{
     "node_id":"cy4ef91jLLEeMugR3jNIqi",
     "type":"CODE",
     "hide_input_from_viewers":false,
     "hide_output_from_viewers":false,
     "report_properties":{
      "rowId":"oCOCO3WRrq9kSm46939BQI"
     }
    }
   }
  },
  {
   "cell_type":"code",
   "source":[
    "X.shape"
   ],
   "execution_count":38,
   "outputs":[
    {
     "data":{
      "text\/plain":[
       "(6018, 264)"
      ]
     },
     "metadata":{},
     "output_type":"display_data"
    }
   ],
   "metadata":{
    "datalore":{
     "node_id":"a33PUl336PNWcKLutvFKo5",
     "type":"CODE",
     "hide_input_from_viewers":false,
     "hide_output_from_viewers":false,
     "report_properties":{
      "rowId":"oW2gnS7lbu0O7i312klfWh"
     }
    }
   }
  },
  {
   "cell_type":"markdown",
   "source":[
    "- The dataset X has 264 columns and 6018 rows"
   ],
   "attachments":{},
   "metadata":{
    "datalore":{
     "node_id":"Wlp6CjUPlkcTXgCtrH9kNv",
     "type":"MD",
     "hide_input_from_viewers":false,
     "hide_output_from_viewers":false,
     "report_properties":{
      "rowId":"bBNdzY0vNV9JH7lyssvicM"
     }
    }
   }
  },
  {
   "cell_type":"code",
   "source":[
    "# splitting the data in 70:30 ratio for train to test data\n",
    "\n",
    "x_train, x_test, y_train, y_test = train_test_split(X, y, test_size=0.3, random_state=1)"
   ],
   "execution_count":39,
   "outputs":[],
   "metadata":{
    "datalore":{
     "node_id":"iSmwBr7cP9GRv2yVTmTc5r",
     "type":"CODE",
     "hide_input_from_viewers":false,
     "hide_output_from_viewers":false,
     "report_properties":{
      "rowId":"MQWNX3UTie7RqUl3zkm6eT"
     }
    }
   }
  },
  {
   "cell_type":"code",
   "source":[
    "print(\"Number of rows in train data =\", x_train.shape[0])\n",
    "print(\"Number of rows in test data =\", x_test.shape[0])"
   ],
   "execution_count":40,
   "outputs":[
    {
     "name":"stdout",
     "text":[
      "Number of rows in train data = 4212\n",
      "Number of rows in test data = 1806\n"
     ],
     "output_type":"stream"
    }
   ],
   "metadata":{
    "datalore":{
     "node_id":"ShdNfCmvoEAXOVcUpJtk6Q",
     "type":"CODE",
     "hide_input_from_viewers":false,
     "hide_output_from_viewers":false,
     "report_properties":{
      "rowId":"oOnUkOiTMX4AESzfmMAFcL"
     }
    }
   }
  },
  {
   "cell_type":"markdown",
   "source":[
    "### Model Building - Linear Regression with all variables"
   ],
   "attachments":{},
   "metadata":{
    "datalore":{
     "node_id":"jR80kpJnT9qTTUniRfLGhy",
     "type":"MD",
     "hide_input_from_viewers":false,
     "hide_output_from_viewers":false,
     "report_properties":{
      "rowId":"jEnoIG71S85Jk0J8kxjHDf"
     }
    }
   }
  },
  {
   "cell_type":"code",
   "source":[
    "# fitting a linear model\n",
    "lin_reg_model1 = LinearRegression()\n",
    "lin_reg_model1.fit(x_train, y_train)"
   ],
   "execution_count":41,
   "outputs":[
    {
     "data":{
      "text\/html":[
       "<style>#sk-container-id-1 {color: black;background-color: white;}#sk-container-id-1 pre{padding: 0;}#sk-container-id-1 div.sk-toggleable {background-color: white;}#sk-container-id-1 label.sk-toggleable__label {cursor: pointer;display: block;width: 100%;margin-bottom: 0;padding: 0.3em;box-sizing: border-box;text-align: center;}#sk-container-id-1 label.sk-toggleable__label-arrow:before {content: \"▸\";float: left;margin-right: 0.25em;color: #696969;}#sk-container-id-1 label.sk-toggleable__label-arrow:hover:before {color: black;}#sk-container-id-1 div.sk-estimator:hover label.sk-toggleable__label-arrow:before {color: black;}#sk-container-id-1 div.sk-toggleable__content {max-height: 0;max-width: 0;overflow: hidden;text-align: left;background-color: #f0f8ff;}#sk-container-id-1 div.sk-toggleable__content pre {margin: 0.2em;color: black;border-radius: 0.25em;background-color: #f0f8ff;}#sk-container-id-1 input.sk-toggleable__control:checked~div.sk-toggleable__content {max-height: 200px;max-width: 100%;overflow: auto;}#sk-container-id-1 input.sk-toggleable__control:checked~label.sk-toggleable__label-arrow:before {content: \"▾\";}#sk-container-id-1 div.sk-estimator input.sk-toggleable__control:checked~label.sk-toggleable__label {background-color: #d4ebff;}#sk-container-id-1 div.sk-label input.sk-toggleable__control:checked~label.sk-toggleable__label {background-color: #d4ebff;}#sk-container-id-1 input.sk-hidden--visually {border: 0;clip: rect(1px 1px 1px 1px);clip: rect(1px, 1px, 1px, 1px);height: 1px;margin: -1px;overflow: hidden;padding: 0;position: absolute;width: 1px;}#sk-container-id-1 div.sk-estimator {font-family: monospace;background-color: #f0f8ff;border: 1px dotted black;border-radius: 0.25em;box-sizing: border-box;margin-bottom: 0.5em;}#sk-container-id-1 div.sk-estimator:hover {background-color: #d4ebff;}#sk-container-id-1 div.sk-parallel-item::after {content: \"\";width: 100%;border-bottom: 1px solid gray;flex-grow: 1;}#sk-container-id-1 div.sk-label:hover label.sk-toggleable__label {background-color: #d4ebff;}#sk-container-id-1 div.sk-serial::before {content: \"\";position: absolute;border-left: 1px solid gray;box-sizing: border-box;top: 0;bottom: 0;left: 50%;z-index: 0;}#sk-container-id-1 div.sk-serial {display: flex;flex-direction: column;align-items: center;background-color: white;padding-right: 0.2em;padding-left: 0.2em;position: relative;}#sk-container-id-1 div.sk-item {position: relative;z-index: 1;}#sk-container-id-1 div.sk-parallel {display: flex;align-items: stretch;justify-content: center;background-color: white;position: relative;}#sk-container-id-1 div.sk-item::before, #sk-container-id-1 div.sk-parallel-item::before {content: \"\";position: absolute;border-left: 1px solid gray;box-sizing: border-box;top: 0;bottom: 0;left: 50%;z-index: -1;}#sk-container-id-1 div.sk-parallel-item {display: flex;flex-direction: column;z-index: 1;position: relative;background-color: white;}#sk-container-id-1 div.sk-parallel-item:first-child::after {align-self: flex-end;width: 50%;}#sk-container-id-1 div.sk-parallel-item:last-child::after {align-self: flex-start;width: 50%;}#sk-container-id-1 div.sk-parallel-item:only-child::after {width: 0;}#sk-container-id-1 div.sk-dashed-wrapped {border: 1px dashed gray;margin: 0 0.4em 0.5em 0.4em;box-sizing: border-box;padding-bottom: 0.4em;background-color: white;}#sk-container-id-1 div.sk-label label {font-family: monospace;font-weight: bold;display: inline-block;line-height: 1.2em;}#sk-container-id-1 div.sk-label-container {text-align: center;}#sk-container-id-1 div.sk-container {\/* jupyter's `normalize.less` sets `[hidden] { display: none; }` but bootstrap.min.css set `[hidden] { display: none !important; }` so we also need the `!important` here to be able to override the default hidden behavior on the sphinx rendered scikit-learn.org. See: https:\/\/github.com\/scikit-learn\/scikit-learn\/issues\/21755 *\/display: inline-block !important;position: relative;}#sk-container-id-1 div.sk-text-repr-fallback {display: none;}<\/style><div id=\"sk-container-id-1\" class=\"sk-top-container\"><div class=\"sk-text-repr-fallback\"><pre>LinearRegression()<\/pre><b>In a Jupyter environment, please rerun this cell to show the HTML representation or trust the notebook. <br \/>On GitHub, the HTML representation is unable to render, please try loading this page with nbviewer.org.<\/b><\/div><div class=\"sk-container\" hidden><div class=\"sk-item\"><div class=\"sk-estimator sk-toggleable\"><input class=\"sk-toggleable__control sk-hidden--visually\" id=\"sk-estimator-id-1\" type=\"checkbox\" checked><label for=\"sk-estimator-id-1\" class=\"sk-toggleable__label sk-toggleable__label-arrow\">LinearRegression<\/label><div class=\"sk-toggleable__content\"><pre>LinearRegression()<\/pre><\/div><\/div><\/div><\/div><\/div>"
      ]
     },
     "metadata":{},
     "output_type":"display_data"
    }
   ],
   "metadata":{
    "datalore":{
     "node_id":"J89jVf3hNsWMKoR1rJAfgo",
     "type":"CODE",
     "hide_input_from_viewers":false,
     "hide_output_from_viewers":false,
     "report_properties":{
      "rowId":"fP3nDUjOrLBFvSFtG3UT3x"
     }
    }
   }
  },
  {
   "cell_type":"code",
   "source":[
    "# Checking model performance on train set\n",
    "print(\"Training Performance:\")\n",
    "lin_reg_model1_perf_train = model_performance_regression(\n",
    "    lin_reg_model1, x_train, y_train\n",
    ")\n",
    "lin_reg_model1_perf_train"
   ],
   "execution_count":42,
   "outputs":[
    {
     "name":"stdout",
     "text":[
      "Training Performance:\n"
     ],
     "output_type":"stream"
    },
    {
     "data":{
      "text\/html":[
       "<div>\n",
       "<style scoped>\n",
       "    .dataframe tbody tr th:only-of-type {\n",
       "        vertical-align: middle;\n",
       "    }\n",
       "\n",
       "    .dataframe tbody tr th {\n",
       "        vertical-align: top;\n",
       "    }\n",
       "\n",
       "    .dataframe thead th {\n",
       "        text-align: right;\n",
       "    }\n",
       "<\/style>\n",
       "<table border=\"1\" class=\"dataframe\">\n",
       "  <thead>\n",
       "    <tr style=\"text-align: right;\">\n",
       "      <th><\/th>\n",
       "      <th>RMSE<\/th>\n",
       "      <th>MAE<\/th>\n",
       "      <th>R-squared<\/th>\n",
       "      <th>Adj. R-squared<\/th>\n",
       "    <\/tr>\n",
       "  <\/thead>\n",
       "  <tbody>\n",
       "    <tr>\n",
       "      <th>0<\/th>\n",
       "      <td>4.177332<\/td>\n",
       "      <td>2.24432<\/td>\n",
       "      <td>0.86575<\/td>\n",
       "      <td>0.856771<\/td>\n",
       "    <\/tr>\n",
       "  <\/tbody>\n",
       "<\/table>\n",
       "<\/div>"
      ]
     },
     "metadata":{},
     "output_type":"display_data"
    }
   ],
   "metadata":{
    "datalore":{
     "node_id":"lcVZhboevC7Vfh1w28EegV",
     "type":"CODE",
     "hide_input_from_viewers":false,
     "hide_output_from_viewers":false,
     "report_properties":{
      "rowId":"jopcl2LhZlMp0tLL1VKZwG"
     }
    }
   }
  },
  {
   "cell_type":"markdown",
   "source":[
    "* Both the R-squared and Adjusted R squared of our model are high. This is a clear indication that we have been able to create a very good model that is able to explain variance in the price of used cars up to ~87%.\n",
    "\n",
    "* The model is not an underfitting model.\n",
    "\n",
    "* Let's do a quick performance check on the test data."
   ],
   "attachments":{},
   "metadata":{
    "datalore":{
     "node_id":"kUSFWh2AWV4kbvqEF251Vl",
     "type":"MD",
     "hide_input_from_viewers":false,
     "hide_output_from_viewers":false,
     "report_properties":{
      "rowId":"90EedR8m8G8B00InYfrslu"
     }
    }
   }
  },
  {
   "cell_type":"code",
   "source":[
    "# Checking model performance on test set\n",
    "print(\"Test Performance:\")\n",
    "lin_reg_model1_perf_test = model_performance_regression(lin_reg_model1, x_test, y_test)\n",
    "lin_reg_model1_perf_test"
   ],
   "execution_count":43,
   "outputs":[
    {
     "name":"stdout",
     "text":[
      "Test Performance:\n"
     ],
     "output_type":"stream"
    },
    {
     "data":{
      "text\/html":[
       "<div>\n",
       "<style scoped>\n",
       "    .dataframe tbody tr th:only-of-type {\n",
       "        vertical-align: middle;\n",
       "    }\n",
       "\n",
       "    .dataframe tbody tr th {\n",
       "        vertical-align: top;\n",
       "    }\n",
       "\n",
       "    .dataframe thead th {\n",
       "        text-align: right;\n",
       "    }\n",
       "<\/style>\n",
       "<table border=\"1\" class=\"dataframe\">\n",
       "  <thead>\n",
       "    <tr style=\"text-align: right;\">\n",
       "      <th><\/th>\n",
       "      <th>RMSE<\/th>\n",
       "      <th>MAE<\/th>\n",
       "      <th>R-squared<\/th>\n",
       "      <th>Adj. R-squared<\/th>\n",
       "    <\/tr>\n",
       "  <\/thead>\n",
       "  <tbody>\n",
       "    <tr>\n",
       "      <th>0<\/th>\n",
       "      <td>4.305989<\/td>\n",
       "      <td>2.387192<\/td>\n",
       "      <td>0.83718<\/td>\n",
       "      <td>0.809286<\/td>\n",
       "    <\/tr>\n",
       "  <\/tbody>\n",
       "<\/table>\n",
       "<\/div>"
      ]
     },
     "metadata":{},
     "output_type":"display_data"
    }
   ],
   "metadata":{
    "datalore":{
     "node_id":"oFstKjImwsUL1936JjtECg",
     "type":"CODE",
     "hide_input_from_viewers":false,
     "hide_output_from_viewers":false,
     "report_properties":{
      "rowId":"kJ6DnpkgwayGPrbfHdDa2t"
     }
    }
   }
  },
  {
   "cell_type":"markdown",
   "source":[
    "* Root Mean Squared Error (RMSE) and Mean Absolute Error (MAE) of train and test data are close, which indicates that our model is not overfitting the train data.\n",
    "\n",
    "* MAE indicates that our current model is able to predict used car prices within a mean error of 4.3 lakhs on test data.\n",
    "\n",
    "* The units of both RMSE and MAE are the same, Lakhs in this case. But RMSE is greater than MAE because it penalizes the outliers more."
   ],
   "attachments":{},
   "metadata":{
    "datalore":{
     "node_id":"hBM4qEvpEU7DjensFG5vyH",
     "type":"MD",
     "hide_input_from_viewers":false,
     "hide_output_from_viewers":false,
     "report_properties":{
      "rowId":"22NnENnxIkjj9NCub7m2VE"
     }
    }
   }
  },
  {
   "cell_type":"markdown",
   "source":[
    "### Data Preparation for modeling without dummy variables for Model"
   ],
   "attachments":{},
   "metadata":{
    "datalore":{
     "node_id":"lkqktmkxLKzDnC753VX3f1",
     "type":"MD",
     "hide_input_from_viewers":false,
     "hide_output_from_viewers":false,
     "report_properties":{
      "rowId":"wQjbPihjTPZZOCqUwB3d4W"
     }
    }
   }
  },
  {
   "cell_type":"code",
   "source":[
    "# defining the dependent and independent variables\n",
    "X = df.drop([\"Price\", \"Model\"], axis=1)\n",
    "y = df[\"Price\"]\n",
    "\n",
    "# creating dummy variables\n",
    "X = pd.get_dummies(\n",
    "    X,\n",
    "    columns=X.select_dtypes(include=[\"object\", \"category\"]).columns.tolist(),\n",
    "    drop_first=True,\n",
    ")\n",
    "\n",
    "# splitting the data in 70:30 ratio for train to test data\n",
    "\n",
    "x_train2, x_test2, y_train, y_test = train_test_split(\n",
    "    X, y, test_size=0.3, random_state=1\n",
    ")\n",
    "\n",
    "print(\"Number of rows in train data =\", x_train2.shape[0])\n",
    "print(\"Number of rows in test data =\", x_test2.shape[0])"
   ],
   "execution_count":44,
   "outputs":[
    {
     "name":"stdout",
     "text":[
      "Number of rows in train data = 4212\n",
      "Number of rows in test data = 1806\n"
     ],
     "output_type":"stream"
    }
   ],
   "metadata":{
    "datalore":{
     "node_id":"QXDDErEAEaNRuxZ4HzisfA",
     "type":"CODE",
     "hide_input_from_viewers":false,
     "hide_output_from_viewers":false,
     "report_properties":{
      "rowId":"VqApK3XbyxCAOF1zIHati6"
     }
    }
   }
  },
  {
   "cell_type":"markdown",
   "source":[
    "### Model Building - Linear Regression without dummy variables for Model"
   ],
   "attachments":{},
   "metadata":{
    "datalore":{
     "node_id":"OmTNVzxToZB9uWllMIyvtZ",
     "type":"MD",
     "hide_input_from_viewers":false,
     "hide_output_from_viewers":false,
     "report_properties":{
      "rowId":"QYz0UWlULCFTskHUTTna7M"
     }
    }
   }
  },
  {
   "cell_type":"code",
   "source":[
    "# fitting a linear model\n",
    "lin_reg_model2 = LinearRegression()\n",
    "lin_reg_model2.fit(x_train2, y_train)"
   ],
   "execution_count":45,
   "outputs":[
    {
     "data":{
      "text\/html":[
       "<style>#sk-container-id-2 {color: black;background-color: white;}#sk-container-id-2 pre{padding: 0;}#sk-container-id-2 div.sk-toggleable {background-color: white;}#sk-container-id-2 label.sk-toggleable__label {cursor: pointer;display: block;width: 100%;margin-bottom: 0;padding: 0.3em;box-sizing: border-box;text-align: center;}#sk-container-id-2 label.sk-toggleable__label-arrow:before {content: \"▸\";float: left;margin-right: 0.25em;color: #696969;}#sk-container-id-2 label.sk-toggleable__label-arrow:hover:before {color: black;}#sk-container-id-2 div.sk-estimator:hover label.sk-toggleable__label-arrow:before {color: black;}#sk-container-id-2 div.sk-toggleable__content {max-height: 0;max-width: 0;overflow: hidden;text-align: left;background-color: #f0f8ff;}#sk-container-id-2 div.sk-toggleable__content pre {margin: 0.2em;color: black;border-radius: 0.25em;background-color: #f0f8ff;}#sk-container-id-2 input.sk-toggleable__control:checked~div.sk-toggleable__content {max-height: 200px;max-width: 100%;overflow: auto;}#sk-container-id-2 input.sk-toggleable__control:checked~label.sk-toggleable__label-arrow:before {content: \"▾\";}#sk-container-id-2 div.sk-estimator input.sk-toggleable__control:checked~label.sk-toggleable__label {background-color: #d4ebff;}#sk-container-id-2 div.sk-label input.sk-toggleable__control:checked~label.sk-toggleable__label {background-color: #d4ebff;}#sk-container-id-2 input.sk-hidden--visually {border: 0;clip: rect(1px 1px 1px 1px);clip: rect(1px, 1px, 1px, 1px);height: 1px;margin: -1px;overflow: hidden;padding: 0;position: absolute;width: 1px;}#sk-container-id-2 div.sk-estimator {font-family: monospace;background-color: #f0f8ff;border: 1px dotted black;border-radius: 0.25em;box-sizing: border-box;margin-bottom: 0.5em;}#sk-container-id-2 div.sk-estimator:hover {background-color: #d4ebff;}#sk-container-id-2 div.sk-parallel-item::after {content: \"\";width: 100%;border-bottom: 1px solid gray;flex-grow: 1;}#sk-container-id-2 div.sk-label:hover label.sk-toggleable__label {background-color: #d4ebff;}#sk-container-id-2 div.sk-serial::before {content: \"\";position: absolute;border-left: 1px solid gray;box-sizing: border-box;top: 0;bottom: 0;left: 50%;z-index: 0;}#sk-container-id-2 div.sk-serial {display: flex;flex-direction: column;align-items: center;background-color: white;padding-right: 0.2em;padding-left: 0.2em;position: relative;}#sk-container-id-2 div.sk-item {position: relative;z-index: 1;}#sk-container-id-2 div.sk-parallel {display: flex;align-items: stretch;justify-content: center;background-color: white;position: relative;}#sk-container-id-2 div.sk-item::before, #sk-container-id-2 div.sk-parallel-item::before {content: \"\";position: absolute;border-left: 1px solid gray;box-sizing: border-box;top: 0;bottom: 0;left: 50%;z-index: -1;}#sk-container-id-2 div.sk-parallel-item {display: flex;flex-direction: column;z-index: 1;position: relative;background-color: white;}#sk-container-id-2 div.sk-parallel-item:first-child::after {align-self: flex-end;width: 50%;}#sk-container-id-2 div.sk-parallel-item:last-child::after {align-self: flex-start;width: 50%;}#sk-container-id-2 div.sk-parallel-item:only-child::after {width: 0;}#sk-container-id-2 div.sk-dashed-wrapped {border: 1px dashed gray;margin: 0 0.4em 0.5em 0.4em;box-sizing: border-box;padding-bottom: 0.4em;background-color: white;}#sk-container-id-2 div.sk-label label {font-family: monospace;font-weight: bold;display: inline-block;line-height: 1.2em;}#sk-container-id-2 div.sk-label-container {text-align: center;}#sk-container-id-2 div.sk-container {\/* jupyter's `normalize.less` sets `[hidden] { display: none; }` but bootstrap.min.css set `[hidden] { display: none !important; }` so we also need the `!important` here to be able to override the default hidden behavior on the sphinx rendered scikit-learn.org. See: https:\/\/github.com\/scikit-learn\/scikit-learn\/issues\/21755 *\/display: inline-block !important;position: relative;}#sk-container-id-2 div.sk-text-repr-fallback {display: none;}<\/style><div id=\"sk-container-id-2\" class=\"sk-top-container\"><div class=\"sk-text-repr-fallback\"><pre>LinearRegression()<\/pre><b>In a Jupyter environment, please rerun this cell to show the HTML representation or trust the notebook. <br \/>On GitHub, the HTML representation is unable to render, please try loading this page with nbviewer.org.<\/b><\/div><div class=\"sk-container\" hidden><div class=\"sk-item\"><div class=\"sk-estimator sk-toggleable\"><input class=\"sk-toggleable__control sk-hidden--visually\" id=\"sk-estimator-id-2\" type=\"checkbox\" checked><label for=\"sk-estimator-id-2\" class=\"sk-toggleable__label sk-toggleable__label-arrow\">LinearRegression<\/label><div class=\"sk-toggleable__content\"><pre>LinearRegression()<\/pre><\/div><\/div><\/div><\/div><\/div>"
      ]
     },
     "metadata":{},
     "output_type":"display_data"
    }
   ],
   "metadata":{
    "datalore":{
     "node_id":"AJaoof8F038mK7c0ebvbxX",
     "type":"CODE",
     "hide_input_from_viewers":false,
     "hide_output_from_viewers":false,
     "report_properties":{
      "rowId":"5vBW1dkI2wQJwX58P89djb"
     }
    }
   }
  },
  {
   "cell_type":"code",
   "source":[
    "# Checking model performance on train set\n",
    "print(\"Training Performance:\")\n",
    "lin_reg_model2_perf_train = model_performance_regression(\n",
    "    lin_reg_model2, x_train2, y_train\n",
    ")\n",
    "lin_reg_model2_perf_train"
   ],
   "execution_count":46,
   "outputs":[
    {
     "name":"stdout",
     "text":[
      "Training Performance:\n"
     ],
     "output_type":"stream"
    },
    {
     "data":{
      "text\/html":[
       "<div>\n",
       "<style scoped>\n",
       "    .dataframe tbody tr th:only-of-type {\n",
       "        vertical-align: middle;\n",
       "    }\n",
       "\n",
       "    .dataframe tbody tr th {\n",
       "        vertical-align: top;\n",
       "    }\n",
       "\n",
       "    .dataframe thead th {\n",
       "        text-align: right;\n",
       "    }\n",
       "<\/style>\n",
       "<table border=\"1\" class=\"dataframe\">\n",
       "  <thead>\n",
       "    <tr style=\"text-align: right;\">\n",
       "      <th><\/th>\n",
       "      <th>RMSE<\/th>\n",
       "      <th>MAE<\/th>\n",
       "      <th>R-squared<\/th>\n",
       "      <th>Adj. R-squared<\/th>\n",
       "    <\/tr>\n",
       "  <\/thead>\n",
       "  <tbody>\n",
       "    <tr>\n",
       "      <th>0<\/th>\n",
       "      <td>5.373312<\/td>\n",
       "      <td>2.885274<\/td>\n",
       "      <td>0.777874<\/td>\n",
       "      <td>0.774988<\/td>\n",
       "    <\/tr>\n",
       "  <\/tbody>\n",
       "<\/table>\n",
       "<\/div>"
      ]
     },
     "metadata":{},
     "output_type":"display_data"
    }
   ],
   "metadata":{
    "datalore":{
     "node_id":"OHEeVhwwB5xO9wZtzfOHf4",
     "type":"CODE",
     "hide_input_from_viewers":false,
     "hide_output_from_viewers":false,
     "report_properties":{
      "rowId":"yJIcWJEPPveYNZ1w3fZZNG"
     }
    }
   }
  },
  {
   "cell_type":"code",
   "source":[
    "# Checking model performance on test set\n",
    "print(\"Test Performance:\")\n",
    "lin_reg_model2_perf_test = model_performance_regression(lin_reg_model2, x_test2, y_test)\n",
    "lin_reg_model2_perf_test"
   ],
   "execution_count":47,
   "outputs":[
    {
     "name":"stdout",
     "text":[
      "Test Performance:\n"
     ],
     "output_type":"stream"
    },
    {
     "data":{
      "text\/html":[
       "<div>\n",
       "<style scoped>\n",
       "    .dataframe tbody tr th:only-of-type {\n",
       "        vertical-align: middle;\n",
       "    }\n",
       "\n",
       "    .dataframe tbody tr th {\n",
       "        vertical-align: top;\n",
       "    }\n",
       "\n",
       "    .dataframe thead th {\n",
       "        text-align: right;\n",
       "    }\n",
       "<\/style>\n",
       "<table border=\"1\" class=\"dataframe\">\n",
       "  <thead>\n",
       "    <tr style=\"text-align: right;\">\n",
       "      <th><\/th>\n",
       "      <th>RMSE<\/th>\n",
       "      <th>MAE<\/th>\n",
       "      <th>R-squared<\/th>\n",
       "      <th>Adj. R-squared<\/th>\n",
       "    <\/tr>\n",
       "  <\/thead>\n",
       "  <tbody>\n",
       "    <tr>\n",
       "      <th>0<\/th>\n",
       "      <td>4.708771<\/td>\n",
       "      <td>2.758357<\/td>\n",
       "      <td>0.805295<\/td>\n",
       "      <td>0.799291<\/td>\n",
       "    <\/tr>\n",
       "  <\/tbody>\n",
       "<\/table>\n",
       "<\/div>"
      ]
     },
     "metadata":{},
     "output_type":"display_data"
    }
   ],
   "metadata":{
    "datalore":{
     "node_id":"pMUyXeR2JFswLtmV9xyAeU",
     "type":"CODE",
     "hide_input_from_viewers":false,
     "hide_output_from_viewers":false,
     "report_properties":{
      "rowId":"0tERHLiFJ4v1kN3Tna9eHx"
     }
    }
   }
  },
  {
   "cell_type":"markdown",
   "source":[
    "* Both the R-squared and Adjusted R squared of our model are lesser than before and the model is able to explain up to 80% of the variance in the price of used cars.\n",
    "* MAE indicates that our current model is able to predict used car prices within a mean error of 2.75 lakhs on test data."
   ],
   "attachments":{},
   "metadata":{
    "datalore":{
     "node_id":"CwtA3jzobCwx59DMi38yvm",
     "type":"MD",
     "hide_input_from_viewers":false,
     "hide_output_from_viewers":false,
     "report_properties":{
      "rowId":"038nI0ink1onWmoxYrmHP1"
     }
    }
   }
  },
  {
   "cell_type":"markdown",
   "source":[
    "### Model Performance Comparison"
   ],
   "attachments":{},
   "metadata":{
    "datalore":{
     "node_id":"sHs9OEnBtNWECRHcvxIM7J",
     "type":"MD",
     "hide_input_from_viewers":false,
     "hide_output_from_viewers":false,
     "report_properties":{
      "rowId":"QOKhEmfgLWOm7aUzJoLwM1"
     }
    }
   }
  },
  {
   "cell_type":"code",
   "source":[
    "# training performance comparison\n",
    "\n",
    "models_train_comp_df = pd.concat(\n",
    "    [lin_reg_model1_perf_train.T, lin_reg_model2_perf_train.T,], axis=1,\n",
    ")\n",
    "\n",
    "models_train_comp_df.columns = [\n",
    "    \"Linear Regression (all variables)\",\n",
    "    \"Linear Regression (without dummy variables for Model)\",\n",
    "]\n",
    "\n",
    "print(\"Training performance comparison:\")\n",
    "models_train_comp_df"
   ],
   "execution_count":48,
   "outputs":[
    {
     "name":"stdout",
     "text":[
      "Training performance comparison:\n"
     ],
     "output_type":"stream"
    },
    {
     "data":{
      "text\/html":[
       "<div>\n",
       "<style scoped>\n",
       "    .dataframe tbody tr th:only-of-type {\n",
       "        vertical-align: middle;\n",
       "    }\n",
       "\n",
       "    .dataframe tbody tr th {\n",
       "        vertical-align: top;\n",
       "    }\n",
       "\n",
       "    .dataframe thead th {\n",
       "        text-align: right;\n",
       "    }\n",
       "<\/style>\n",
       "<table border=\"1\" class=\"dataframe\">\n",
       "  <thead>\n",
       "    <tr style=\"text-align: right;\">\n",
       "      <th><\/th>\n",
       "      <th>Linear Regression (all variables)<\/th>\n",
       "      <th>Linear Regression (without dummy variables for Model)<\/th>\n",
       "    <\/tr>\n",
       "  <\/thead>\n",
       "  <tbody>\n",
       "    <tr>\n",
       "      <th>RMSE<\/th>\n",
       "      <td>4.177332<\/td>\n",
       "      <td>5.373312<\/td>\n",
       "    <\/tr>\n",
       "    <tr>\n",
       "      <th>MAE<\/th>\n",
       "      <td>2.244320<\/td>\n",
       "      <td>2.885274<\/td>\n",
       "    <\/tr>\n",
       "    <tr>\n",
       "      <th>R-squared<\/th>\n",
       "      <td>0.865750<\/td>\n",
       "      <td>0.777874<\/td>\n",
       "    <\/tr>\n",
       "    <tr>\n",
       "      <th>Adj. R-squared<\/th>\n",
       "      <td>0.856771<\/td>\n",
       "      <td>0.774988<\/td>\n",
       "    <\/tr>\n",
       "  <\/tbody>\n",
       "<\/table>\n",
       "<\/div>"
      ]
     },
     "metadata":{},
     "output_type":"display_data"
    }
   ],
   "metadata":{
    "datalore":{
     "node_id":"xEXUfqJ5jfAX8ZTaP9qMQY",
     "type":"CODE",
     "hide_input_from_viewers":false,
     "hide_output_from_viewers":false,
     "report_properties":{
      "rowId":"0jkzFFGsDhMkEDMcQbwDpy"
     }
    }
   }
  },
  {
   "cell_type":"code",
   "source":[
    "# test performance comparison\n",
    "\n",
    "models_test_comp_df = pd.concat(\n",
    "    [lin_reg_model1_perf_test.T, lin_reg_model2_perf_test.T,], axis=1,\n",
    ")\n",
    "\n",
    "models_test_comp_df.columns = [\n",
    "    \"Linear Regression (all variables)\",\n",
    "    \"Linear Regression (without dummy variables for Model)\",\n",
    "]\n",
    "\n",
    "print(\"Test performance comparison:\")\n",
    "models_test_comp_df"
   ],
   "execution_count":49,
   "outputs":[
    {
     "name":"stdout",
     "text":[
      "Test performance comparison:\n"
     ],
     "output_type":"stream"
    },
    {
     "data":{
      "text\/html":[
       "<div>\n",
       "<style scoped>\n",
       "    .dataframe tbody tr th:only-of-type {\n",
       "        vertical-align: middle;\n",
       "    }\n",
       "\n",
       "    .dataframe tbody tr th {\n",
       "        vertical-align: top;\n",
       "    }\n",
       "\n",
       "    .dataframe thead th {\n",
       "        text-align: right;\n",
       "    }\n",
       "<\/style>\n",
       "<table border=\"1\" class=\"dataframe\">\n",
       "  <thead>\n",
       "    <tr style=\"text-align: right;\">\n",
       "      <th><\/th>\n",
       "      <th>Linear Regression (all variables)<\/th>\n",
       "      <th>Linear Regression (without dummy variables for Model)<\/th>\n",
       "    <\/tr>\n",
       "  <\/thead>\n",
       "  <tbody>\n",
       "    <tr>\n",
       "      <th>RMSE<\/th>\n",
       "      <td>4.305989<\/td>\n",
       "      <td>4.708771<\/td>\n",
       "    <\/tr>\n",
       "    <tr>\n",
       "      <th>MAE<\/th>\n",
       "      <td>2.387192<\/td>\n",
       "      <td>2.758357<\/td>\n",
       "    <\/tr>\n",
       "    <tr>\n",
       "      <th>R-squared<\/th>\n",
       "      <td>0.837180<\/td>\n",
       "      <td>0.805295<\/td>\n",
       "    <\/tr>\n",
       "    <tr>\n",
       "      <th>Adj. R-squared<\/th>\n",
       "      <td>0.809286<\/td>\n",
       "      <td>0.799291<\/td>\n",
       "    <\/tr>\n",
       "  <\/tbody>\n",
       "<\/table>\n",
       "<\/div>"
      ]
     },
     "metadata":{},
     "output_type":"display_data"
    }
   ],
   "metadata":{
    "datalore":{
     "node_id":"vjuHuUpfaA7NWJWJIgz4MX",
     "type":"CODE",
     "hide_input_from_viewers":false,
     "hide_output_from_viewers":false,
     "report_properties":{
      "rowId":"QVcEPehhytifexnim4gatJ"
     }
    }
   }
  },
  {
   "cell_type":"markdown",
   "source":[
    "**We will consider *lin_reg_model1* (model with all variables) as our final model.**"
   ],
   "attachments":{},
   "metadata":{
    "datalore":{
     "node_id":"17anoXJIZpLYXnNAiW7Ku9",
     "type":"MD",
     "hide_input_from_viewers":false,
     "hide_output_from_viewers":false,
     "report_properties":{
      "rowId":"q8aXQP6TEL5BBV99ZSepKw"
     }
    }
   }
  },
  {
   "cell_type":"markdown",
   "source":[
    "## Business Insights and Recommendations"
   ],
   "attachments":{},
   "metadata":{
    "datalore":{
     "node_id":"PlYzMxBRJEXE8BuYSxFejJ",
     "type":"MD",
     "hide_input_from_viewers":false,
     "hide_output_from_viewers":false,
     "report_properties":{
      "rowId":"wheH4MeFCu3Ek1RXebnzkJ"
     }
    }
   }
  },
  {
   "cell_type":"markdown",
   "source":[
    "1. Our linear regression model has successfully explained approximately 83% of the variation in the data.\n",
    "2. The Mean Absolute Error (MAE) indicates that our current model can predict used car prices with an average error of around 2.38 lakhs on the test data.\n",
    "3. Our analysis has revealed that certain factors, such as the year of manufacture, the number of seats, and the maximum power of the engine, tend to increase the price of a used car. Conversely, factors like the distance traveled and engine volume tend to decrease the price of a used car.\n",
    "4. Certain markets tend to have higher prices, and it would be beneficial for Cars4U to focus on these markets and establish offices in these areas if necessary.\n",
    "5. We need to gather data on the cost side of things before discussing profitability in the business.\n",
    "6. After analyzing the data, the next step would be to cluster the different data sets and determine whether we should create multiple models for different locations or car types.\n",
    "\n",
    "\n"
   ],
   "attachments":{},
   "metadata":{
    "datalore":{
     "node_id":"oswRORVHQs4bSfR53KaRkd",
     "type":"MD",
     "hide_input_from_viewers":false,
     "hide_output_from_viewers":false,
     "report_properties":{
      "rowId":"ZiUCDElCBo16you7QEWyvm"
     }
    }
   }
  }
 ],
 "metadata":{
  "kernelspec":{
   "display_name":"Python",
   "language":"python",
   "name":"python"
  },
  "datalore":{
   "computation_mode":"JUPYTER",
   "package_manager":"pip",
   "base_environment":"default",
   "packages":[],
   "report_row_ids":[
    "mQcm6eRwmUoX2BI9KVYDd1",
    "pWFrfHRJY2lf4fKAnK5Om5",
    "KUl3Bn4ffgs8MhX9Mqi1kC",
    "qmVO6JNP9Kxgx9kmxVXnMb",
    "zBY27TRq6IcQKRW5XXk2tK",
    "p4VQ4DoOksdhTy7frB4kL2",
    "1ngoKIitUqP55SY6ji3Rsz",
    "7ceL8WL48I3YuBJ1nBu34u",
    "OxLiF924jfecBIvxQsB8jt",
    "E5E3xxusxhxgHHiEuVUvFN",
    "g2bSH0gcUQA9BgNFIhYekU",
    "3bdHkYCbd61DOuGXc6LzeE",
    "FFS1TO3aa1IkuEKqyvGKj1",
    "Lgo7jEzzgVxyn9HkqQcovO",
    "ifIH53S5EZVkEZrYdBsfM9",
    "7Je2R60sktSNkUPDJNFaiQ",
    "IRCiCgNUoUQjyO0Ocm93vm",
    "JtdN90ojybF4ROzGRFddDi",
    "mVdr01j2F6OYhnhB0pxBKP",
    "YFJgjY3P5CgF7xEZCZ57OF",
    "w2466KX9uST4l83o346fgs",
    "LBtYVlg751MNHaWZuRpc7G",
    "oZ3K921CvjU8eA2Yb9ood2",
    "cONa6sESnF0vlK6hFzVMSb",
    "IA9y2djBWnQ5DT9E3PITst",
    "0wZN2Ew0Olyfwgu4tVT0wx",
    "HrmwdyMjWoGJFaY0vwN7CV",
    "E4huuPyXlbzCWe4YXog2On",
    "QdVpKeQ6eAoWeNAwWnSv1j",
    "aDOA4xWy8Da7eJ9VDrBTbo",
    "fb2gzjxHju9UGUHVneBB6L",
    "eEgXx2mSGXJt1q4xEC5G1k",
    "9y6oT7fTrKUSH4folkw2WB",
    "H2FKCk3FUsy89cEE17ULKj",
    "56c84A0SmpPWsCkrUdExX9",
    "br7SU5hDTz0yWFWVniWyTP",
    "wL98uR0eKA2J5dfElpYca4",
    "Q4miYGGFMQUdQVdoUOsGk5",
    "wpj62YeKykbkyeInVbKKZf",
    "Z6Vlvq5qFOf2ruAcsxsl9j",
    "2l5Eds5W7mwTTlUwLZ3As0",
    "lGkKD9D9LnIft5DmS2cLKB",
    "ud814pkTepxj6cDwXZjPdt",
    "t9P2ZSIR7ZsRQnydUtfqLz",
    "4IZTPrOJxOLBY1mds4gOIw",
    "TMpu6k5VP5V3gKfShkprhR",
    "UFTfKgClHKDCwjpxJ1FrtF",
    "XyaWMInqoHAdMtPbt5IHkd",
    "U1utGjQoHknio7p4lwPXJL",
    "8fLYIEYLUtpJ8jdmCIvzor",
    "SUiF4q4LOCc7U88IgEVDlN",
    "apc0sqWr0bgwGGkOO1jlQq",
    "AOVc5apuoMr2vrlvJO9y4p",
    "K1kF145whD0IrghRPewMRu",
    "77etJLSSOQjTNDXpIk1IR0",
    "uvDbzAsbfI0QO44GoZzD62",
    "NQD9GhUrYyJtPmyq0dbULp",
    "KrC6Xq4VFWwDTSGC0Jx9wX",
    "fXEtamGeBWu4QI35F4PrLZ",
    "Oj9IZwUYmkIHQF9t3W3ARJ",
    "DCoRMy6EnP6gywryi4qlhs",
    "ckuw9BQKlCOUbF5W5VaT61",
    "2hZTVaoCQzgIwpiJtjxnXD",
    "Lws2rhsgEqavMF06ioYsVb",
    "nHIoLeE7uzRz1Ku6xu7y86",
    "Pwn4lYiukGNh5mz4xUIN2B",
    "MJGSR4bJtd9KYduxPYF4hP",
    "Gkbnorl8xNMdozaszFqFc3",
    "oGQt7mfC1aSAAiegKf9XM2",
    "mJ07UCELYjFxOFSviwrIDS",
    "xtNaNXqzemS2UFd2sWrH13",
    "KZr6eExfiZLDLQa9ujU4MR",
    "TDQWoTVMb5tfSPjSPScAoC",
    "m0nyCKXos1MVIuxhxstHfd",
    "z9kBdGIPixDvhVn4BvCfgz",
    "WqNtlVSbwyPo8vQT0eF5UT",
    "FE3fIJd7yQPVD24fVd5rav",
    "BsGd7VVE6BQeg4A6hcvN9m",
    "xTrnTj7JIQ2euqemYfCLAW",
    "bOK473nnVE0qiHD4aRvseR",
    "3eCIBgnkDSUFadnvmnmsUr",
    "FLX1umH4sJRUvXxj2IJCJx",
    "SxtOy3eJLEU4buN4w2E84a",
    "trLyesE9ZiuHxCD1jmN1PP",
    "Huyec1zFi395gPj60xtQIq",
    "Btnmam7vAkhXkzuS6tnOcf",
    "3Vz9zmLXjfShdCjrcYy5hW",
    "KgW0DjNz1YKCWgfiI0BvFW",
    "gDBIHpkroIcSCLPuQVzjtZ",
    "lVCiks1XPXd6xzUPmdi5lG",
    "ZtBPgYoepcvArP3dS2SIaF",
    "4jaPv0m1yIkB8xQjUsmSJw",
    "oCOCO3WRrq9kSm46939BQI",
    "oW2gnS7lbu0O7i312klfWh",
    "bBNdzY0vNV9JH7lyssvicM",
    "MQWNX3UTie7RqUl3zkm6eT",
    "oOnUkOiTMX4AESzfmMAFcL",
    "jEnoIG71S85Jk0J8kxjHDf",
    "fP3nDUjOrLBFvSFtG3UT3x",
    "jopcl2LhZlMp0tLL1VKZwG",
    "90EedR8m8G8B00InYfrslu",
    "kJ6DnpkgwayGPrbfHdDa2t",
    "22NnENnxIkjj9NCub7m2VE",
    "wQjbPihjTPZZOCqUwB3d4W",
    "VqApK3XbyxCAOF1zIHati6",
    "QYz0UWlULCFTskHUTTna7M",
    "5vBW1dkI2wQJwX58P89djb",
    "yJIcWJEPPveYNZ1w3fZZNG",
    "0tERHLiFJ4v1kN3Tna9eHx",
    "038nI0ink1onWmoxYrmHP1",
    "QOKhEmfgLWOm7aUzJoLwM1",
    "0jkzFFGsDhMkEDMcQbwDpy",
    "QVcEPehhytifexnim4gatJ",
    "q8aXQP6TEL5BBV99ZSepKw",
    "wheH4MeFCu3Ek1RXebnzkJ",
    "ZiUCDElCBo16you7QEWyvm",
    "vErcyrGksGn56xk1FVOOYN",
    "rYgWPjQeHQFtFSLkQdHWBb",
    "PhJYk9wBEOJQBG63NzoyCr",
    "5OgShiMb2YjgMweMmG1qD3",
    "MgP0pY1idVZYDN55Yw1MA2",
    "YlqJRnxcRKtIYMkTRyq8Zt",
    "tQSmMtM6CSk2DzvD0fUwmP",
    "BoA1u2VCy0kNIlhVPpJnGz",
    "LicLXVPhhw9l2hXjoDvdP5",
    "SMS2yZcSCWZp3aSlpD3osy",
    "iajNZOVIjdGAhtBV0oCrXO",
    "q4OnYmAxbJcMiG2in5Ns3M",
    "QuQ6HZJIkkcUu7WPztj7X0",
    "CUUBow6bB8OJK8TF7bV6RB",
    "9bzNO93J1qL2ok5liEQMWN",
    "dMyWwHr4MzFh5SitSvpE0R",
    "qqWEtsCpZgx0kbmc8YCq0M",
    "RLJrdHaNlOIo8dEh0gxsLr",
    "HOiIJJ4lfOjQB4w8Kc0fqQ",
    "toOg0Cy1pJW1JMe78dzFna",
    "MQ59oC3WvuHi849UqaDBTi",
    "TA5J3ejS7ClVItycsDYTDa",
    "I63ctKIHThG5JKLXjVNCE7",
    "uEmpWRwxVRq7U1NIN6xzYZ",
    "NmlaGecNsjqbbqkcLTLDiP",
    "izFX3hK8KAL1EWT9qPKmvB",
    "qCGa5w4O5Uvswr9g46SDjd",
    "wdT5Dg1Uuj6v9IqdQEcWkw",
    "RQ5g3nFP5imgcdSQcmqdZR",
    "xOe2SD1x7g04knwqaIgyzG",
    "ROajrCWokaCwZN71WWFsTj",
    "PNLSyEpijK23YSsTWW49oV",
    "D1tYTwgST2BkwzTh7Q85ZG",
    "qNG845DyWwFdpsh2sOEG4t",
    "0wumHLxH5qMR0eMxb3K0bF",
    "GYAaaPV4xTpk0IJqbw9Xgs",
    "UhgegzXWUuZeeiuJ60GSPl",
    "Ju1mqONBEcdMMSUL9oZe0j",
    "mDGo0RCePBm7Jh4KMTYpMr",
    "tanW7js65aIAa3LdS4UAXt",
    "k1J0hcFiBjJNF2Ohar9r5z",
    "JupTTxIySVM306cFFHSjAN",
    "1jaIPMCyEdwZeAwA1EMnIz",
    "QX2pISvgd4zBrFEBm8e1as",
    "kEB4BREDcsRMyc6fj6Y8zU",
    "QdSlCwUkSKSTAyEYLMaK7Z",
    "7Wsgng8e3fvq54iM571tkd",
    "xSf8vY05zfAwTxIrtl2xN7",
    "POII5hNFmcFppIJQNfXnBp",
    "2Mczw5UfAJeIkCievK85Qp",
    "56JbuS3iNZuJ12F8Gkyjsk",
    "I2vNvr1R4nfaxDstqGiG4S",
    "5ERU69kLuJXXvUp9RwsWPP",
    "DdXHgp3svL6jjP4sXzCAJu",
    "19AuylyGvHMMIK9AwECbKJ",
    "RuF5J8yRr2MfKjhVh0kZP6",
    "APFg9CuJcqhmgUUlOJ4wmx",
    "xcvHPj1hU02v3kArvPVlyh"
   ],
   "version":3
  }
 },
 "nbformat":4,
 "nbformat_minor":4
}