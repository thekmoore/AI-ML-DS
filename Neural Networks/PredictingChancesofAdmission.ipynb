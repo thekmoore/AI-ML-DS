{
 "cells":[
  {
   "cell_type":"markdown",
   "source":[
    "# **Predicting Chances of Admission**\n",
    "\n",
    "--------------------\n",
    "## **Context**\n",
    "--------------------\n",
    "\n",
    "The world is developing rapidly and continuously looking for the best knowledge and experience among people. This motivates people all around the world to stand out in their jobs and look for higher degrees that can help them in improving their skills and knowledge. As a result, the number of students applying for Master's programs has increased substantially.\n",
    "\n",
    "The current admission dataset was created for the prediction of admissions into the University of California, Los Angeles (UCLA). It was built to help students in shortlisting universities based on their profiles. The predicted output gives them a fair idea about their chances of getting accepted.\n",
    "\n",
    "----------------------\n",
    "## **Objective**\n",
    "----------------------\n",
    "\n",
    "We need to build a classification model using neural networks to predict a student's chances of admission into UCLA.\n",
    "\n",
    "------------------------------\n",
    "## **Data Dictionary**\n",
    "------------------------------\n",
    "\n",
    "The dataset contains several features which are considered important during the application for Masters Programs.\n",
    "The features included are: \n",
    "\n",
    "- **GRE Scores:** (out of 340)\n",
    "\n",
    "- **TOEFL Scores:** (out of 120)\n",
    "\n",
    "- **University Rating:**  It indicates the Bachelor University ranking (out of 5)\n",
    "\n",
    "- **Statement of Purpose Strength:** (out of 5)\n",
    "\n",
    "- **Letter of Recommendation Strength:** (out of 5)\n",
    "\n",
    "- **Undergraduate GPA:** (out of 10)\n",
    "\n",
    "- **Research Experience:** (either 0 or 1)\n",
    "\n",
    "- **Chance of Admit:** (ranging from 0 to 1)"
   ],
   "attachments":{},
   "metadata":{
    "datalore":{
     "node_id":"u8yKmBKAqRgpOaf82UgKpC",
     "type":"MD",
     "hide_input_from_viewers":false,
     "hide_output_from_viewers":false,
     "report_properties":{
      "rowId":"ipylvajTaM0PsA6WIQvRpF"
     }
    }
   }
  },
  {
   "cell_type":"markdown",
   "source":[
    "## **Loading the libraries and the dataset**"
   ],
   "attachments":{},
   "metadata":{
    "datalore":{
     "node_id":"8n5jCKQsqoQTb4jQnXsdvy",
     "type":"MD",
     "hide_input_from_viewers":false,
     "hide_output_from_viewers":false,
     "report_properties":{
      "rowId":"ZYntA41gZ7ts20HtFUseO3"
     }
    }
   }
  },
  {
   "cell_type":"code",
   "source":[
    "import numpy as np\n",
    "import pandas as pd\n",
    "import matplotlib.pyplot as plt\n",
    "import seaborn as sns\n",
    "\n",
    "from sklearn.model_selection import train_test_split\n",
    "from sklearn.preprocessing import MinMaxScaler\n",
    "\n",
    "import tensorflow as tf\n",
    "from tensorflow.keras.models import Sequential\n",
    "from tensorflow.keras.layers import Dense, Dropout, Activation"
   ],
   "execution_count":1,
   "outputs":[],
   "metadata":{
    "datalore":{
     "node_id":"TJshecNiw3VYF6vky3bdV5",
     "type":"CODE",
     "hide_input_from_viewers":false,
     "hide_output_from_viewers":false,
     "report_properties":{
      "rowId":"fUAWXdHMzkGcmcCKuRqS7p"
     }
    }
   }
  },
  {
   "cell_type":"markdown",
   "source":[
    "Now, let's load the data using the read_csv() function. One small change from Jupyter here is that the path of the file might be a bit different. \n",
    "To get the path of the data file, follow the below steps:\n",
    "- To go the panel on the left-hand side and click on the folder icon at the bottom\n",
    "- Move the cursor on the file name\n",
    "- Click on the three dots and select the option \"Copy path\""
   ],
   "attachments":{},
   "metadata":{
    "datalore":{
     "node_id":"hxM1EMBVFaYE2A3tsEVhlt",
     "type":"MD",
     "hide_input_from_viewers":false,
     "hide_output_from_viewers":false,
     "report_properties":{
      "rowId":"UxZNnYnGqwytawK5oVI2Cu"
     }
    }
   }
  },
  {
   "cell_type":"code",
   "source":[
    "# Importing the dataset\n",
    "data = pd.read_csv('AdmissionP.csv')\n",
    "\n",
    "# Check the top five records of the data\n",
    "data.head()"
   ],
   "execution_count":2,
   "outputs":[
    {
     "data":{
      "text\/html":[
       "<div>\n",
       "<style scoped>\n",
       "    .dataframe tbody tr th:only-of-type {\n",
       "        vertical-align: middle;\n",
       "    }\n",
       "\n",
       "    .dataframe tbody tr th {\n",
       "        vertical-align: top;\n",
       "    }\n",
       "\n",
       "    .dataframe thead th {\n",
       "        text-align: right;\n",
       "    }\n",
       "<\/style>\n",
       "<table border=\"1\" class=\"dataframe\">\n",
       "  <thead>\n",
       "    <tr style=\"text-align: right;\">\n",
       "      <th><\/th>\n",
       "      <th>Serial No.<\/th>\n",
       "      <th>GRE Score<\/th>\n",
       "      <th>TOEFL Score<\/th>\n",
       "      <th>University Rating<\/th>\n",
       "      <th>SOP<\/th>\n",
       "      <th>LOR<\/th>\n",
       "      <th>CGPA<\/th>\n",
       "      <th>Research<\/th>\n",
       "      <th>Chance of Admit<\/th>\n",
       "    <\/tr>\n",
       "  <\/thead>\n",
       "  <tbody>\n",
       "    <tr>\n",
       "      <th>0<\/th>\n",
       "      <td>1<\/td>\n",
       "      <td>337<\/td>\n",
       "      <td>118<\/td>\n",
       "      <td>4<\/td>\n",
       "      <td>4.5<\/td>\n",
       "      <td>4.5<\/td>\n",
       "      <td>9.65<\/td>\n",
       "      <td>1<\/td>\n",
       "      <td>0.92<\/td>\n",
       "    <\/tr>\n",
       "    <tr>\n",
       "      <th>1<\/th>\n",
       "      <td>2<\/td>\n",
       "      <td>324<\/td>\n",
       "      <td>107<\/td>\n",
       "      <td>4<\/td>\n",
       "      <td>4.0<\/td>\n",
       "      <td>4.5<\/td>\n",
       "      <td>8.87<\/td>\n",
       "      <td>1<\/td>\n",
       "      <td>0.76<\/td>\n",
       "    <\/tr>\n",
       "    <tr>\n",
       "      <th>2<\/th>\n",
       "      <td>3<\/td>\n",
       "      <td>316<\/td>\n",
       "      <td>104<\/td>\n",
       "      <td>3<\/td>\n",
       "      <td>3.0<\/td>\n",
       "      <td>3.5<\/td>\n",
       "      <td>8.00<\/td>\n",
       "      <td>1<\/td>\n",
       "      <td>0.72<\/td>\n",
       "    <\/tr>\n",
       "    <tr>\n",
       "      <th>3<\/th>\n",
       "      <td>4<\/td>\n",
       "      <td>322<\/td>\n",
       "      <td>110<\/td>\n",
       "      <td>3<\/td>\n",
       "      <td>3.5<\/td>\n",
       "      <td>2.5<\/td>\n",
       "      <td>8.67<\/td>\n",
       "      <td>1<\/td>\n",
       "      <td>0.80<\/td>\n",
       "    <\/tr>\n",
       "    <tr>\n",
       "      <th>4<\/th>\n",
       "      <td>5<\/td>\n",
       "      <td>314<\/td>\n",
       "      <td>103<\/td>\n",
       "      <td>2<\/td>\n",
       "      <td>2.0<\/td>\n",
       "      <td>3.0<\/td>\n",
       "      <td>8.21<\/td>\n",
       "      <td>0<\/td>\n",
       "      <td>0.65<\/td>\n",
       "    <\/tr>\n",
       "  <\/tbody>\n",
       "<\/table>\n",
       "<\/div>"
      ]
     },
     "metadata":{},
     "output_type":"display_data"
    }
   ],
   "metadata":{
    "datalore":{
     "node_id":"1rgFrfeeZyh8H9mzIEhztE",
     "type":"CODE",
     "hide_input_from_viewers":false,
     "hide_output_from_viewers":false,
     "report_properties":{
      "rowId":"gYBtypwWNg2HqQKn8CeljI"
     }
    }
   }
  },
  {
   "cell_type":"markdown",
   "source":[
    "**Observations:**\n",
    "\n",
    "- In the above dataset, the target variable is **Chance of Admit**.\n",
    "- To make this a classification task, let's convert the target variable into a categorical variable by using a threshold of 80%.\n",
    "- We are assuming that if **Chance of Admit** is more than 80% then **Admit** would be 1 (i.e. yes), otherwise, it would be 0 (i.e. no)."
   ],
   "attachments":{},
   "metadata":{
    "datalore":{
     "node_id":"XgjCA19UvjhpZHv7gYxIQb",
     "type":"MD",
     "hide_input_from_viewers":false,
     "hide_output_from_viewers":false,
     "report_properties":{
      "rowId":"ALGzCp4j61DriSqe5qFMn9"
     }
    }
   }
  },
  {
   "cell_type":"code",
   "source":[
    "# Converting the target variable into a categorical variable\n",
    "\n",
    "data['Admit'] = data['Chance of Admit '].apply(lambda x: 1 if x > 0.8 else 0)"
   ],
   "execution_count":3,
   "outputs":[],
   "metadata":{
    "datalore":{
     "node_id":"YZ4WCrEXRx4USs3z9a5snR",
     "type":"CODE",
     "hide_input_from_viewers":false,
     "hide_output_from_viewers":false,
     "report_properties":{
      "rowId":"gpxty8YydhK12jkXsQLFcD"
     }
    }
   }
  },
  {
   "cell_type":"markdown",
   "source":[
    "Now that we have created a new target variable, we can remove the column - **Chance of Admit** from the dataset. We can also remove the column - **Serial No.** as it would not add any value to our analysis."
   ],
   "attachments":{},
   "metadata":{
    "datalore":{
     "node_id":"MZ2pBJdG2t5XghByLcrwni",
     "type":"MD",
     "hide_input_from_viewers":false,
     "hide_output_from_viewers":false,
     "report_properties":{
      "rowId":"y0FBxNqFQTByoiySIZbfXV"
     }
    }
   }
  },
  {
   "cell_type":"code",
   "source":[
    "# Dropping columns\n",
    "data = data.drop(['Serial No.', 'Chance of Admit '], axis=1)\n",
    "data.head()"
   ],
   "execution_count":4,
   "outputs":[
    {
     "data":{
      "text\/html":[
       "<div>\n",
       "<style scoped>\n",
       "    .dataframe tbody tr th:only-of-type {\n",
       "        vertical-align: middle;\n",
       "    }\n",
       "\n",
       "    .dataframe tbody tr th {\n",
       "        vertical-align: top;\n",
       "    }\n",
       "\n",
       "    .dataframe thead th {\n",
       "        text-align: right;\n",
       "    }\n",
       "<\/style>\n",
       "<table border=\"1\" class=\"dataframe\">\n",
       "  <thead>\n",
       "    <tr style=\"text-align: right;\">\n",
       "      <th><\/th>\n",
       "      <th>GRE Score<\/th>\n",
       "      <th>TOEFL Score<\/th>\n",
       "      <th>University Rating<\/th>\n",
       "      <th>SOP<\/th>\n",
       "      <th>LOR<\/th>\n",
       "      <th>CGPA<\/th>\n",
       "      <th>Research<\/th>\n",
       "      <th>Admit<\/th>\n",
       "    <\/tr>\n",
       "  <\/thead>\n",
       "  <tbody>\n",
       "    <tr>\n",
       "      <th>0<\/th>\n",
       "      <td>337<\/td>\n",
       "      <td>118<\/td>\n",
       "      <td>4<\/td>\n",
       "      <td>4.5<\/td>\n",
       "      <td>4.5<\/td>\n",
       "      <td>9.65<\/td>\n",
       "      <td>1<\/td>\n",
       "      <td>1<\/td>\n",
       "    <\/tr>\n",
       "    <tr>\n",
       "      <th>1<\/th>\n",
       "      <td>324<\/td>\n",
       "      <td>107<\/td>\n",
       "      <td>4<\/td>\n",
       "      <td>4.0<\/td>\n",
       "      <td>4.5<\/td>\n",
       "      <td>8.87<\/td>\n",
       "      <td>1<\/td>\n",
       "      <td>0<\/td>\n",
       "    <\/tr>\n",
       "    <tr>\n",
       "      <th>2<\/th>\n",
       "      <td>316<\/td>\n",
       "      <td>104<\/td>\n",
       "      <td>3<\/td>\n",
       "      <td>3.0<\/td>\n",
       "      <td>3.5<\/td>\n",
       "      <td>8.00<\/td>\n",
       "      <td>1<\/td>\n",
       "      <td>0<\/td>\n",
       "    <\/tr>\n",
       "    <tr>\n",
       "      <th>3<\/th>\n",
       "      <td>322<\/td>\n",
       "      <td>110<\/td>\n",
       "      <td>3<\/td>\n",
       "      <td>3.5<\/td>\n",
       "      <td>2.5<\/td>\n",
       "      <td>8.67<\/td>\n",
       "      <td>1<\/td>\n",
       "      <td>0<\/td>\n",
       "    <\/tr>\n",
       "    <tr>\n",
       "      <th>4<\/th>\n",
       "      <td>314<\/td>\n",
       "      <td>103<\/td>\n",
       "      <td>2<\/td>\n",
       "      <td>2.0<\/td>\n",
       "      <td>3.0<\/td>\n",
       "      <td>8.21<\/td>\n",
       "      <td>0<\/td>\n",
       "      <td>0<\/td>\n",
       "    <\/tr>\n",
       "  <\/tbody>\n",
       "<\/table>\n",
       "<\/div>"
      ]
     },
     "metadata":{},
     "output_type":"display_data"
    }
   ],
   "metadata":{
    "datalore":{
     "node_id":"oFUYlTs4mYV56fpo9fDCqo",
     "type":"CODE",
     "hide_input_from_viewers":false,
     "hide_output_from_viewers":false,
     "report_properties":{
      "rowId":"AHmnv5Fv7WvZCq1H6EO724"
     }
    }
   }
  },
  {
   "cell_type":"markdown",
   "source":[
    "## **Exploratory Data Analysis**"
   ],
   "attachments":{},
   "metadata":{
    "datalore":{
     "node_id":"aGvQFJKzv2IhxCOmxVoum0",
     "type":"MD",
     "hide_input_from_viewers":false,
     "hide_output_from_viewers":false,
     "report_properties":{
      "rowId":"XDLTl8curl3Ew3SprDKmLC"
     }
    }
   }
  },
  {
   "cell_type":"markdown",
   "source":[
    "**Let's check the info of the data**"
   ],
   "attachments":{},
   "metadata":{
    "datalore":{
     "node_id":"59nR4NW7U0IuHVb4huiO5b",
     "type":"MD",
     "hide_input_from_viewers":false,
     "hide_output_from_viewers":false,
     "report_properties":{
      "rowId":"sFWTTcfeMjIrYlrx9SNErN"
     }
    }
   }
  },
  {
   "cell_type":"code",
   "source":[
    "# Let's check the info of the data\n",
    "data.info()"
   ],
   "execution_count":5,
   "outputs":[
    {
     "name":"stdout",
     "text":[
      "<class 'pandas.core.frame.DataFrame'>\n",
      "RangeIndex: 500 entries, 0 to 499\n",
      "Data columns (total 8 columns):\n",
      " #   Column             Non-Null Count  Dtype  \n",
      "---  ------             --------------  -----  \n",
      " 0   GRE Score          500 non-null    int64  \n",
      " 1   TOEFL Score        500 non-null    int64  \n",
      " 2   University Rating  500 non-null    int64  \n",
      " 3   SOP                500 non-null    float64\n",
      " 4   LOR                500 non-null    float64\n",
      " 5   CGPA               500 non-null    float64\n",
      " 6   Research           500 non-null    int64  \n",
      " 7   Admit              500 non-null    int64  \n",
      "dtypes: float64(3), int64(5)\n",
      "memory usage: 31.4 KB\n"
     ],
     "output_type":"stream"
    }
   ],
   "metadata":{
    "datalore":{
     "node_id":"JPgfiNEVVHS4cM2RSUKB16",
     "type":"CODE",
     "hide_input_from_viewers":false,
     "hide_output_from_viewers":false,
     "report_properties":{
      "rowId":"m3BaxrmXQkhwLLb4O5r1dK"
     }
    }
   }
  },
  {
   "cell_type":"markdown",
   "source":[
    "**Observations:**\n",
    "\n",
    "- There are **500 observations and 8 columns** in the data.\n",
    "- All the columns are of **numeric data** type.\n",
    "- There are **no missing values** in the data."
   ],
   "attachments":{},
   "metadata":{
    "datalore":{
     "node_id":"aVlo73D0BL8qFnfQ4m0bOa",
     "type":"MD",
     "hide_input_from_viewers":false,
     "hide_output_from_viewers":false,
     "report_properties":{
      "rowId":"1OWdYSBn9Vlr6pLIuWDtwu"
     }
    }
   }
  },
  {
   "cell_type":"markdown",
   "source":[
    "### **Summary Statistics**"
   ],
   "attachments":{},
   "metadata":{
    "datalore":{
     "node_id":"yNdFgN7gX4BtQQkvpKI7Hl",
     "type":"MD",
     "hide_input_from_viewers":false,
     "hide_output_from_viewers":false,
     "report_properties":{
      "rowId":"aGDu9ZLmvcXKUKPPKVNkG3"
     }
    }
   }
  },
  {
   "cell_type":"code",
   "source":[
    "# Let's check the summary statistics of the data\n",
    "data.describe().T"
   ],
   "execution_count":6,
   "outputs":[
    {
     "data":{
      "text\/html":[
       "<div>\n",
       "<style scoped>\n",
       "    .dataframe tbody tr th:only-of-type {\n",
       "        vertical-align: middle;\n",
       "    }\n",
       "\n",
       "    .dataframe tbody tr th {\n",
       "        vertical-align: top;\n",
       "    }\n",
       "\n",
       "    .dataframe thead th {\n",
       "        text-align: right;\n",
       "    }\n",
       "<\/style>\n",
       "<table border=\"1\" class=\"dataframe\">\n",
       "  <thead>\n",
       "    <tr style=\"text-align: right;\">\n",
       "      <th><\/th>\n",
       "      <th>count<\/th>\n",
       "      <th>mean<\/th>\n",
       "      <th>std<\/th>\n",
       "      <th>min<\/th>\n",
       "      <th>25%<\/th>\n",
       "      <th>50%<\/th>\n",
       "      <th>75%<\/th>\n",
       "      <th>max<\/th>\n",
       "    <\/tr>\n",
       "  <\/thead>\n",
       "  <tbody>\n",
       "    <tr>\n",
       "      <th>GRE Score<\/th>\n",
       "      <td>500.0<\/td>\n",
       "      <td>316.47200<\/td>\n",
       "      <td>11.295148<\/td>\n",
       "      <td>290.0<\/td>\n",
       "      <td>308.0000<\/td>\n",
       "      <td>317.00<\/td>\n",
       "      <td>325.00<\/td>\n",
       "      <td>340.00<\/td>\n",
       "    <\/tr>\n",
       "    <tr>\n",
       "      <th>TOEFL Score<\/th>\n",
       "      <td>500.0<\/td>\n",
       "      <td>107.19200<\/td>\n",
       "      <td>6.081868<\/td>\n",
       "      <td>92.0<\/td>\n",
       "      <td>103.0000<\/td>\n",
       "      <td>107.00<\/td>\n",
       "      <td>112.00<\/td>\n",
       "      <td>120.00<\/td>\n",
       "    <\/tr>\n",
       "    <tr>\n",
       "      <th>University Rating<\/th>\n",
       "      <td>500.0<\/td>\n",
       "      <td>3.11400<\/td>\n",
       "      <td>1.143512<\/td>\n",
       "      <td>1.0<\/td>\n",
       "      <td>2.0000<\/td>\n",
       "      <td>3.00<\/td>\n",
       "      <td>4.00<\/td>\n",
       "      <td>5.00<\/td>\n",
       "    <\/tr>\n",
       "    <tr>\n",
       "      <th>SOP<\/th>\n",
       "      <td>500.0<\/td>\n",
       "      <td>3.37400<\/td>\n",
       "      <td>0.991004<\/td>\n",
       "      <td>1.0<\/td>\n",
       "      <td>2.5000<\/td>\n",
       "      <td>3.50<\/td>\n",
       "      <td>4.00<\/td>\n",
       "      <td>5.00<\/td>\n",
       "    <\/tr>\n",
       "    <tr>\n",
       "      <th>LOR<\/th>\n",
       "      <td>500.0<\/td>\n",
       "      <td>3.48400<\/td>\n",
       "      <td>0.925450<\/td>\n",
       "      <td>1.0<\/td>\n",
       "      <td>3.0000<\/td>\n",
       "      <td>3.50<\/td>\n",
       "      <td>4.00<\/td>\n",
       "      <td>5.00<\/td>\n",
       "    <\/tr>\n",
       "    <tr>\n",
       "      <th>CGPA<\/th>\n",
       "      <td>500.0<\/td>\n",
       "      <td>8.57644<\/td>\n",
       "      <td>0.604813<\/td>\n",
       "      <td>6.8<\/td>\n",
       "      <td>8.1275<\/td>\n",
       "      <td>8.56<\/td>\n",
       "      <td>9.04<\/td>\n",
       "      <td>9.92<\/td>\n",
       "    <\/tr>\n",
       "    <tr>\n",
       "      <th>Research<\/th>\n",
       "      <td>500.0<\/td>\n",
       "      <td>0.56000<\/td>\n",
       "      <td>0.496884<\/td>\n",
       "      <td>0.0<\/td>\n",
       "      <td>0.0000<\/td>\n",
       "      <td>1.00<\/td>\n",
       "      <td>1.00<\/td>\n",
       "      <td>1.00<\/td>\n",
       "    <\/tr>\n",
       "    <tr>\n",
       "      <th>Admit<\/th>\n",
       "      <td>500.0<\/td>\n",
       "      <td>0.28400<\/td>\n",
       "      <td>0.451388<\/td>\n",
       "      <td>0.0<\/td>\n",
       "      <td>0.0000<\/td>\n",
       "      <td>0.00<\/td>\n",
       "      <td>1.00<\/td>\n",
       "      <td>1.00<\/td>\n",
       "    <\/tr>\n",
       "  <\/tbody>\n",
       "<\/table>\n",
       "<\/div>"
      ]
     },
     "metadata":{},
     "output_type":"display_data"
    }
   ],
   "metadata":{
    "datalore":{
     "node_id":"KykhiV6Y7YDfeyUIYPzfD9",
     "type":"CODE",
     "hide_input_from_viewers":false,
     "hide_output_from_viewers":false,
     "report_properties":{
      "rowId":"2PD22FIGjWQZKafbEYq5GH"
     }
    }
   }
  },
  {
   "cell_type":"markdown",
   "source":[
    "**Observations:**\n",
    "\n",
    "- The average GRE score of students applying for UCLA is ~316 out of 340. Some students scored full marks on GRE. \n",
    "-  The average TOEFL score of students applying for UCLA is ~107 out of 120. Some students scored full marks on TOEFL.\n",
    "- There are students with all kinds of ratings for bachelor's University, SOP, and LOR - ratings ranging from 1 to 5.\n",
    "-  The average CGPA of students applying for UCLA is 8.57.\n",
    "- Majority of students (~56%) have research experience.\n",
    "- As per our assumption, on average 28.4% of students would get admission to UCLA."
   ],
   "attachments":{},
   "metadata":{
    "datalore":{
     "node_id":"DiAVvackcL8YS0B7cPqzmI",
     "type":"MD",
     "hide_input_from_viewers":false,
     "hide_output_from_viewers":false,
     "report_properties":{
      "rowId":"t9jOLsP3s43cirftPcch4j"
     }
    }
   }
  },
  {
   "cell_type":"markdown",
   "source":[
    "### **Let's visualize the dataset to see some patterns**"
   ],
   "attachments":{},
   "metadata":{
    "datalore":{
     "node_id":"vJaAilNL2Mg7ZHAzqC5s2v",
     "type":"MD",
     "hide_input_from_viewers":false,
     "hide_output_from_viewers":false,
     "report_properties":{
      "rowId":"rR2IUqbTzrWsmpm21rsgTY"
     }
    }
   }
  },
  {
   "cell_type":"code",
   "source":[
    "plt.figure(figsize=(15,8))\n",
    "sns.scatterplot(data=data, \n",
    "           x='GRE Score', \n",
    "           y='TOEFL Score', \n",
    "           hue='Admit',\n",
    "           size='SOP');"
   ],
   "execution_count":7,
   "outputs":[
    {
     "data":{
      "image\/png":"[encoded data removed]"
     },
     "metadata":{
      "image\/png":{}
     },
     "output_type":"display_data"
    }
   ],
   "metadata":{
    "datalore":{
     "node_id":"76uO6RSpQqund4p44vYUdK",
     "type":"CODE",
     "hide_input_from_viewers":false,
     "hide_output_from_viewers":false,
     "report_properties":{
      "rowId":"s41lHNrVzVHpu3hMi7mxNd"
     }
    }
   }
  },
  {
   "cell_type":"markdown",
   "source":[
    "**Observations:** \n",
    "\n",
    "- There is a linear relationship between GRE and TOEFL scores. This implies that students scoring high one of them would score high in the other as well.\n",
    "- With the increase in GRE and TOEFL scores, the strength of SOP increases. \n",
    "- We can see a distinction between students who were admitted (denoted by orange) vs those who were not admitted (denoted by blue). We can see that majority of students who were admitted have GRE score greater than 320, TOEFL score greater than 105, and SOP of 4 or higher."
   ],
   "attachments":{},
   "metadata":{
    "datalore":{
     "node_id":"EbF4QmnmIYusCYAXJVwHMm",
     "type":"MD",
     "hide_input_from_viewers":false,
     "hide_output_from_viewers":false,
     "report_properties":{
      "rowId":"TNFWmRPSBTA5bSwy8H6DIe"
     }
    }
   }
  },
  {
   "cell_type":"code",
   "source":[
    "plt.figure(figsize=(10,7))\n",
    "sns.boxplot(data=data,\n",
    "             x='University Rating', \n",
    "             y='CGPA',\n",
    "             hue='Admit')\n",
    "plt.title('Relationship between different University Rating and CGPA')\n",
    "plt.show()"
   ],
   "execution_count":8,
   "outputs":[
    {
     "data":{
      "image\/png":"[encoded data removed]"
     },
     "metadata":{
      "image\/png":{}
     },
     "output_type":"display_data"
    }
   ],
   "metadata":{
    "datalore":{
     "node_id":"o6OEzDaWWnEVlMc0qCqk25",
     "type":"CODE",
     "hide_input_from_viewers":false,
     "hide_output_from_viewers":false,
     "report_properties":{
      "rowId":"JZfB8QDU1fHzWx7rzMl0Tz"
     }
    }
   }
  },
  {
   "cell_type":"markdown",
   "source":[
    "**Observations:** \n",
    "\n",
    "- We can see that, with increasing university ratings, the CGPA is also increasing, and also the chances of getting admitted to UCLA have increased.\n",
    "- The CGPA of students getting admission to UCLA is higher as compared to students not getting admission to UCLA which makes sense."
   ],
   "attachments":{},
   "metadata":{
    "datalore":{
     "node_id":"8P5u1pRZZ5diD6bGtnbKxR",
     "type":"MD",
     "hide_input_from_viewers":false,
     "hide_output_from_viewers":false,
     "report_properties":{
      "rowId":"ED4JVm4puT0J8xF2Wa7iff"
     }
    }
   }
  },
  {
   "cell_type":"markdown",
   "source":[
    "## **Data Preparation**"
   ],
   "attachments":{},
   "metadata":{
    "datalore":{
     "node_id":"uzz9aDmMPIHWBXbyZddYkw",
     "type":"MD",
     "hide_input_from_viewers":false,
     "hide_output_from_viewers":false,
     "report_properties":{
      "rowId":"4zBDUafqoYwLZ1GH9ndKbb"
     }
    }
   }
  },
  {
   "cell_type":"markdown",
   "source":[
    "This dataset contains both numerical and categorical variables. We need to treat them first before we pass them onto the neural network. We will perform the below pre-processing steps: \n",
    "*   One hot encoding of categorical variables\n",
    "*   Scaling numerical variables\n",
    "\n",
    "An important point to remember: Before we scale numerical variables, we would first split the dataset into train and test datasets and perform scaling separately. Otherwise, we would be leaking information from the test data to the train data and the resulting model might give a false sense of good performance. This is known as **data leakage** which we would like to avoid."
   ],
   "attachments":{},
   "metadata":{
    "datalore":{
     "node_id":"j2Ip7tajmAHXZ3JbDNcTun",
     "type":"MD",
     "hide_input_from_viewers":false,
     "hide_output_from_viewers":false,
     "report_properties":{
      "rowId":"xggOb8VBWqbKt5Jb1iV7F7"
     }
    }
   }
  },
  {
   "cell_type":"markdown",
   "source":[
    "Now, let's split the dataset into train and test datasets. To do that, we would be extracting all the **independent variables** and save them into a variable **features**. And the target variable **Admit** would be saved into a variable **target**. These two variables will be used to split the parent dataset into train and test datasets."
   ],
   "attachments":{},
   "metadata":{
    "datalore":{
     "node_id":"thGAQ8ihhpxzKQ6d0FhZpU",
     "type":"MD",
     "hide_input_from_viewers":false,
     "hide_output_from_viewers":false,
     "report_properties":{
      "rowId":"KOh1wU9NuIP0wUd89LI5ja"
     }
    }
   }
  },
  {
   "cell_type":"code",
   "source":[
    "features = data.drop(['Admit'], axis=1)\n",
    "\n",
    "target = data['Admit']"
   ],
   "execution_count":9,
   "outputs":[],
   "metadata":{
    "datalore":{
     "node_id":"O9ORRMdnwOHMt9zyIGKLn2",
     "type":"CODE",
     "hide_input_from_viewers":false,
     "hide_output_from_viewers":false,
     "report_properties":{
      "rowId":"kSHFNAIO7HCCXTuF2fdx0e"
     }
    }
   }
  },
  {
   "cell_type":"markdown",
   "source":[
    "The size of the dataset is small and the Keras implementation provides an argument for selecting some percentage of training data as validation data to check the accuracy of the model. Therefore, we will split the data into an 80:20 ratio."
   ],
   "attachments":{},
   "metadata":{
    "datalore":{
     "node_id":"IOueVXbJ2FVFy6h1zyS4Mf",
     "type":"MD",
     "hide_input_from_viewers":false,
     "hide_output_from_viewers":false,
     "report_properties":{
      "rowId":"3R7gLPeh9bEHH5ADWnu7Dt"
     }
    }
   }
  },
  {
   "cell_type":"code",
   "source":[
    "# Splitting the dataset into train and test data\n",
    "X_train, X_test, y_train, y_test =  train_test_split(features, target, test_size=0.2, random_state=42)"
   ],
   "execution_count":10,
   "outputs":[],
   "metadata":{
    "datalore":{
     "node_id":"7sWSmclxHp1jbS8yzglrUH",
     "type":"CODE",
     "hide_input_from_viewers":false,
     "hide_output_from_viewers":false,
     "report_properties":{
      "rowId":"JuBgZ5XLDnT75BhYTUUyPX"
     }
    }
   }
  },
  {
   "cell_type":"markdown",
   "source":[
    "Now, we will perform scaling on the numerical variables separately for train and test sets. We will perform **fit** and **transform** on the train data and then only we will perform **transform** on the test data. "
   ],
   "attachments":{},
   "metadata":{
    "datalore":{
     "node_id":"0DPbyIL6yekTxsxEsKADNT",
     "type":"MD",
     "hide_input_from_viewers":false,
     "hide_output_from_viewers":false,
     "report_properties":{
      "rowId":"2kbBxj5P9vMkYQdmjYMDD8"
     }
    }
   }
  },
  {
   "cell_type":"code",
   "source":[
    "scaler = MinMaxScaler()\n",
    "\n",
    "# Here, we are passing all the features (numerical and categorical), that's okay as min-max scaler will not change values of categorical variables\n",
    "X_train_normalized = scaler.fit_transform(X_train)"
   ],
   "execution_count":11,
   "outputs":[],
   "metadata":{
    "datalore":{
     "node_id":"6fKhaJNSQiRBieSYPPBZvF",
     "type":"CODE",
     "hide_input_from_viewers":false,
     "hide_output_from_viewers":false,
     "report_properties":{
      "rowId":"SXOdO0WGoxslWshZpmoMtP"
     }
    }
   }
  },
  {
   "cell_type":"code",
   "source":[
    "X_test_normalized = scaler.transform(X_test)"
   ],
   "execution_count":12,
   "outputs":[],
   "metadata":{
    "datalore":{
     "node_id":"82v9Co9EscF6WfUoSd3GrR",
     "type":"CODE",
     "hide_input_from_viewers":false,
     "hide_output_from_viewers":false,
     "report_properties":{
      "rowId":"HdqX5MefwOVOfWvTYi1Fco"
     }
    }
   }
  },
  {
   "cell_type":"markdown",
   "source":[
    "## **Model Building**"
   ],
   "attachments":{},
   "metadata":{
    "datalore":{
     "node_id":"RgaohCfJcDMlR9Fs32XDP7",
     "type":"MD",
     "hide_input_from_viewers":false,
     "hide_output_from_viewers":false,
     "report_properties":{
      "rowId":"Egs0nSJB6GgZ3C08FUJubR"
     }
    }
   }
  },
  {
   "cell_type":"markdown",
   "source":[
    "In neural networks, there are so many hyper-parameters that you can play around with and tune the network to get the best results. Some of them are - \n",
    "\n",
    "\n",
    "\n",
    "1.   Number of hidden layers\n",
    "2.   Number of neurons in each hidden layer\n",
    "3.   Activation functions in hidden layers\n",
    "4.   Optimizers\n",
    "5.   Random initialization of weights and biases\n",
    "6.   Batch size\n",
    "7.   Learning rate\n",
    "8.   Early stopping\n",
    "9.   L1 and L2 Regularization\n",
    "10.  Dropout\n",
    "11.  Momentum\n",
    "\n",
    "and so on..."
   ],
   "attachments":{},
   "metadata":{
    "datalore":{
     "node_id":"hIMR2u7pMmvBEdifTvgxuI",
     "type":"MD",
     "hide_input_from_viewers":false,
     "hide_output_from_viewers":false,
     "report_properties":{
      "rowId":"6Yg9msFZv724U7kNzae93i"
     }
    }
   }
  },
  {
   "cell_type":"markdown",
   "source":[
    "First, let's set the seed for random number generators in NumPy, Python, and TensorFlow to be able to reproduce the same results everytime we run the code."
   ],
   "attachments":{},
   "metadata":{
    "datalore":{
     "node_id":"ReKGm36C2jJ5OsYcZY19O9",
     "type":"MD",
     "hide_input_from_viewers":false,
     "hide_output_from_viewers":false,
     "report_properties":{
      "rowId":"11VlL5yIsXezKoTbgnm9wf"
     }
    }
   }
  },
  {
   "cell_type":"code",
   "source":[
    "# Fixing the seed for random number generators\n",
    "np.random.seed(42)\n",
    "\n",
    "import random\n",
    "random.seed(42)\n",
    "\n",
    "tf.random.set_seed(42)"
   ],
   "execution_count":13,
   "outputs":[],
   "metadata":{
    "datalore":{
     "node_id":"fprQTMcMZNNrnlOeU1YnKP",
     "type":"CODE",
     "hide_input_from_viewers":false,
     "hide_output_from_viewers":false,
     "report_properties":{
      "rowId":"3jNFOB5bjjXLYX9gVeUl47"
     }
    }
   }
  },
  {
   "cell_type":"markdown",
   "source":[
    "**Let's build a feed forward neural network with 2 hidden layers and the output layer.**"
   ],
   "attachments":{},
   "metadata":{
    "datalore":{
     "node_id":"aPxeNZFNEyAnlYeAaAV4ms",
     "type":"MD",
     "hide_input_from_viewers":false,
     "hide_output_from_viewers":false,
     "report_properties":{
      "rowId":"cnvFJw8JV5hJ0y5HTWVmMp"
     }
    }
   }
  },
  {
   "cell_type":"code",
   "source":[
    "# We will be adding the layers sequentially\n",
    "model_1 = Sequential()\n",
    "\n",
    "# First hidden layer with 128 neurons and relu activation function, the input shape tuple denotes number of independent variables\n",
    "model_1.add(Dense(128, activation='relu', input_shape=(7,)))\n",
    "\n",
    "# We will be switching 20% of neurons off randomly at each iteration to avoid overfitting\n",
    "model_1.add(Dropout(0.2))\n",
    "\n",
    "# Second hidden layer with 64 neurons and relu activation function\n",
    "model_1.add(Dense(64, activation='relu'))\n",
    "\n",
    "# We will be switching 10% of neurons off randomly at each iteration to avoid overfitting\n",
    "model_1.add(Dropout(0.1))\n",
    "\n",
    "# Output layer with only one neuron and sigmoid as activation function will give the probability of students getting admitted into UCLA  \n",
    "model_1.add(Dense(1, activation='sigmoid'))"
   ],
   "execution_count":14,
   "outputs":[],
   "metadata":{
    "datalore":{
     "node_id":"UO0j8bPyjsfHcAYwx1eN4i",
     "type":"CODE",
     "hide_input_from_viewers":false,
     "hide_output_from_viewers":false,
     "report_properties":{
      "rowId":"kOdjIVepx6ohBnDfKObwxx"
     }
    }
   }
  },
  {
   "cell_type":"markdown",
   "source":[
    "Once we are done with the model architecture, we need to compile the model, where we need to provide the loss function that we want to optimize, the optimization algorithm, and the evaluation metric that we are interested in to evaluate the model."
   ],
   "attachments":{},
   "metadata":{
    "datalore":{
     "node_id":"QDzBpZnMualyNjtdCAbDaP",
     "type":"MD",
     "hide_input_from_viewers":false,
     "hide_output_from_viewers":false,
     "report_properties":{
      "rowId":"ZvKlYhcjKFpptHIzVKHPsI"
     }
    }
   }
  },
  {
   "cell_type":"markdown",
   "source":[
    "Since this is a binary classification task, we will be minimizing the **binary_crossentropy** and we can choose one optimizer out of \n",
    "1.   SGD\n",
    "2.   RMSprop\n",
    "3.   Adam\n",
    "4.   Adadelta\n",
    "5.   Adagrad\n",
    "6.   Adamax\n",
    "7.   Nadam\n",
    "8.   Ftrl\n",
    "\n",
    "This is a hyper-parameter. You can play around with these optimizers to check which one performs better with a particular data.\n",
    "\n",
    "For now, let's try **adamax** optimizer with **accuracy** as the metric and see the model's summary."
   ],
   "attachments":{},
   "metadata":{
    "datalore":{
     "node_id":"odhr5F41ZIhCfNro1oJs6W",
     "type":"MD",
     "hide_input_from_viewers":false,
     "hide_output_from_viewers":false,
     "report_properties":{
      "rowId":"I9inbEpghyQOJcS16hqJ6a"
     }
    }
   }
  },
  {
   "cell_type":"code",
   "source":[
    "model_1.compile(loss = 'binary_crossentropy', optimizer='adamax', metrics=['accuracy'])\n",
    "\n",
    "model_1.summary()"
   ],
   "execution_count":15,
   "outputs":[
    {
     "name":"stdout",
     "text":[
      "Model: \"sequential\"\n",
      "_________________________________________________________________\n",
      " Layer (type)                Output Shape              Param #   \n",
      "=================================================================\n",
      " dense (Dense)               (None, 128)               1024      \n",
      "                                                                 \n",
      " dropout (Dropout)           (None, 128)               0         \n",
      "                                                                 \n",
      " dense_1 (Dense)             (None, 64)                8256      \n",
      "                                                                 \n",
      " dropout_1 (Dropout)         (None, 64)                0         \n",
      "                                                                 \n",
      " dense_2 (Dense)             (None, 1)                 65        \n",
      "                                                                 \n",
      "=================================================================\n",
      "Total params: 9,345\n",
      "Trainable params: 9,345\n",
      "Non-trainable params: 0\n",
      "_________________________________________________________________\n"
     ],
     "output_type":"stream"
    }
   ],
   "metadata":{
    "datalore":{
     "node_id":"mC1sler5FOJAixFAKnru4I",
     "type":"CODE",
     "hide_input_from_viewers":false,
     "hide_output_from_viewers":false,
     "report_properties":{
      "rowId":"pxB7aTwKTF6ziesdiEOpdN"
     }
    }
   }
  },
  {
   "cell_type":"markdown",
   "source":[
    "From the above summary, we can see that this architecture will train a total of **9,857** parameters i.e. weights and biases in the network."
   ],
   "attachments":{},
   "metadata":{
    "datalore":{
     "node_id":"8YDnp3Uo7UD3FPjjl6iwWc",
     "type":"MD",
     "hide_input_from_viewers":false,
     "hide_output_from_viewers":false,
     "report_properties":{
      "rowId":"bYOzb5QlJMl0wAOTOyMds0"
     }
    }
   }
  },
  {
   "cell_type":"markdown",
   "source":[
    "### **Training the model**"
   ],
   "attachments":{},
   "metadata":{
    "datalore":{
     "node_id":"4mULuKeQ1fe7Zqfn5m8Sbg",
     "type":"MD",
     "hide_input_from_viewers":false,
     "hide_output_from_viewers":false,
     "report_properties":{
      "rowId":"TnRqxMxItQrINFjRZomCyQ"
     }
    }
   }
  },
  {
   "cell_type":"markdown",
   "source":[
    "Let's now train the model using the below piece of code. We will keep the 10% of the training data for validation."
   ],
   "attachments":{},
   "metadata":{
    "datalore":{
     "node_id":"EDciotrRW8G1gKbmRfWZRv",
     "type":"MD",
     "hide_input_from_viewers":false,
     "hide_output_from_viewers":false,
     "report_properties":{
      "rowId":"3djB5nkmZnV3u7DXh0mdlh"
     }
    }
   }
  },
  {
   "cell_type":"code",
   "source":[
    "history_1 = model_1.fit(X_train_normalized, \n",
    "                    y_train,\n",
    "                    validation_split=0.1, \n",
    "                    epochs=150, \n",
    "                    verbose=2)"
   ],
   "execution_count":16,
   "outputs":[
    {
     "name":"stdout",
     "text":[
      "Epoch 1\/150\n",
      "12\/12 - 1s - loss: 0.6709 - accuracy: 0.6722 - val_loss: 0.6905 - val_accuracy: 0.5750 - 1s\/epoch - 101ms\/step\n",
      "Epoch 2\/150\n",
      "12\/12 - 0s - loss: 0.6348 - accuracy: 0.7278 - val_loss: 0.6897 - val_accuracy: 0.5750 - 53ms\/epoch - 4ms\/step\n",
      "Epoch 3\/150\n",
      "12\/12 - 0s - loss: 0.6168 - accuracy: 0.7278 - val_loss: 0.6878 - val_accuracy: 0.5750 - 54ms\/epoch - 4ms\/step\n",
      "Epoch 4\/150\n",
      "12\/12 - 0s - loss: 0.6001 - accuracy: 0.7278 - val_loss: 0.6698 - val_accuracy: 0.5750 - 55ms\/epoch - 5ms\/step\n",
      "Epoch 5\/150\n",
      "12\/12 - 0s - loss: 0.5841 - accuracy: 0.7306 - val_loss: 0.6489 - val_accuracy: 0.5750 - 55ms\/epoch - 5ms\/step\n",
      "Epoch 6\/150\n",
      "12\/12 - 0s - loss: 0.5617 - accuracy: 0.7278 - val_loss: 0.6400 - val_accuracy: 0.5750 - 53ms\/epoch - 4ms\/step\n",
      "Epoch 7\/150\n",
      "12\/12 - 0s - loss: 0.5457 - accuracy: 0.7306 - val_loss: 0.6126 - val_accuracy: 0.5750 - 61ms\/epoch - 5ms\/step\n",
      "Epoch 8\/150\n",
      "12\/12 - 0s - loss: 0.5226 - accuracy: 0.7528 - val_loss: 0.5981 - val_accuracy: 0.6000 - 63ms\/epoch - 5ms\/step\n",
      "Epoch 9\/150\n",
      "12\/12 - 0s - loss: 0.5114 - accuracy: 0.7694 - val_loss: 0.5818 - val_accuracy: 0.6500 - 53ms\/epoch - 4ms\/step\n",
      "Epoch 10\/150\n",
      "12\/12 - 0s - loss: 0.4883 - accuracy: 0.7806 - val_loss: 0.5630 - val_accuracy: 0.8750 - 59ms\/epoch - 5ms\/step\n",
      "Epoch 11\/150\n",
      "12\/12 - 0s - loss: 0.4733 - accuracy: 0.8000 - val_loss: 0.5440 - val_accuracy: 0.9250 - 59ms\/epoch - 5ms\/step\n",
      "Epoch 12\/150\n",
      "12\/12 - 0s - loss: 0.4639 - accuracy: 0.7972 - val_loss: 0.5378 - val_accuracy: 0.9250 - 73ms\/epoch - 6ms\/step\n",
      "Epoch 13\/150\n",
      "12\/12 - 0s - loss: 0.4512 - accuracy: 0.8111 - val_loss: 0.5179 - val_accuracy: 0.9250 - 70ms\/epoch - 6ms\/step\n",
      "Epoch 14\/150\n",
      "12\/12 - 0s - loss: 0.4417 - accuracy: 0.8278 - val_loss: 0.4987 - val_accuracy: 0.9250 - 72ms\/epoch - 6ms\/step\n",
      "Epoch 15\/150\n",
      "12\/12 - 0s - loss: 0.4282 - accuracy: 0.8500 - val_loss: 0.4947 - val_accuracy: 0.9250 - 54ms\/epoch - 5ms\/step\n",
      "Epoch 16\/150\n",
      "12\/12 - 0s - loss: 0.4159 - accuracy: 0.8639 - val_loss: 0.4808 - val_accuracy: 0.9250 - 53ms\/epoch - 4ms\/step\n",
      "Epoch 17\/150\n",
      "12\/12 - 0s - loss: 0.3993 - accuracy: 0.8861 - val_loss: 0.4612 - val_accuracy: 0.9000 - 74ms\/epoch - 6ms\/step\n",
      "Epoch 18\/150\n",
      "12\/12 - 0s - loss: 0.3983 - accuracy: 0.8806 - val_loss: 0.4580 - val_accuracy: 0.9250 - 53ms\/epoch - 4ms\/step\n",
      "Epoch 19\/150\n",
      "12\/12 - 0s - loss: 0.3914 - accuracy: 0.8722 - val_loss: 0.4482 - val_accuracy: 0.9250 - 56ms\/epoch - 5ms\/step\n",
      "Epoch 20\/150\n",
      "12\/12 - 0s - loss: 0.3735 - accuracy: 0.8750 - val_loss: 0.4384 - val_accuracy: 0.9250 - 55ms\/epoch - 5ms\/step\n",
      "Epoch 21\/150\n",
      "12\/12 - 0s - loss: 0.3743 - accuracy: 0.8861 - val_loss: 0.4316 - val_accuracy: 0.9250 - 55ms\/epoch - 5ms\/step\n",
      "Epoch 22\/150\n",
      "12\/12 - 0s - loss: 0.3591 - accuracy: 0.9028 - val_loss: 0.4151 - val_accuracy: 0.9250 - 96ms\/epoch - 8ms\/step\n",
      "Epoch 23\/150\n",
      "12\/12 - 0s - loss: 0.3492 - accuracy: 0.8944 - val_loss: 0.4053 - val_accuracy: 0.9000 - 83ms\/epoch - 7ms\/step\n",
      "Epoch 24\/150\n",
      "12\/12 - 0s - loss: 0.3468 - accuracy: 0.8944 - val_loss: 0.3991 - val_accuracy: 0.9250 - 70ms\/epoch - 6ms\/step\n",
      "Epoch 25\/150\n",
      "12\/12 - 0s - loss: 0.3400 - accuracy: 0.8944 - val_loss: 0.3877 - val_accuracy: 0.9000 - 59ms\/epoch - 5ms\/step\n",
      "Epoch 26\/150\n",
      "12\/12 - 0s - loss: 0.3374 - accuracy: 0.8833 - val_loss: 0.3835 - val_accuracy: 0.9250 - 57ms\/epoch - 5ms\/step\n",
      "Epoch 27\/150\n",
      "12\/12 - 0s - loss: 0.3274 - accuracy: 0.8944 - val_loss: 0.3708 - val_accuracy: 0.9000 - 59ms\/epoch - 5ms\/step\n",
      "Epoch 28\/150\n",
      "12\/12 - 0s - loss: 0.3234 - accuracy: 0.9028 - val_loss: 0.3739 - val_accuracy: 0.9250 - 73ms\/epoch - 6ms\/step\n",
      "Epoch 29\/150\n",
      "12\/12 - 0s - loss: 0.3221 - accuracy: 0.8889 - val_loss: 0.3636 - val_accuracy: 0.9250 - 53ms\/epoch - 4ms\/step\n",
      "Epoch 30\/150\n",
      "12\/12 - 0s - loss: 0.3166 - accuracy: 0.9083 - val_loss: 0.3470 - val_accuracy: 0.9000 - 59ms\/epoch - 5ms\/step\n",
      "Epoch 31\/150\n",
      "12\/12 - 0s - loss: 0.3092 - accuracy: 0.8861 - val_loss: 0.3457 - val_accuracy: 0.9250 - 77ms\/epoch - 6ms\/step\n",
      "Epoch 32\/150\n",
      "12\/12 - 0s - loss: 0.3039 - accuracy: 0.9000 - val_loss: 0.3446 - val_accuracy: 0.9250 - 57ms\/epoch - 5ms\/step\n",
      "Epoch 33\/150\n",
      "12\/12 - 0s - loss: 0.2989 - accuracy: 0.8944 - val_loss: 0.3371 - val_accuracy: 0.9250 - 56ms\/epoch - 5ms\/step\n",
      "Epoch 34\/150\n",
      "12\/12 - 0s - loss: 0.2979 - accuracy: 0.8944 - val_loss: 0.3322 - val_accuracy: 0.9250 - 59ms\/epoch - 5ms\/step\n",
      "Epoch 35\/150\n",
      "12\/12 - 0s - loss: 0.2822 - accuracy: 0.9194 - val_loss: 0.3281 - val_accuracy: 0.9250 - 59ms\/epoch - 5ms\/step\n",
      "Epoch 36\/150\n",
      "12\/12 - 0s - loss: 0.2848 - accuracy: 0.8861 - val_loss: 0.3198 - val_accuracy: 0.9250 - 59ms\/epoch - 5ms\/step\n",
      "Epoch 37\/150\n",
      "12\/12 - 0s - loss: 0.2868 - accuracy: 0.8972 - val_loss: 0.3077 - val_accuracy: 0.9000 - 81ms\/epoch - 7ms\/step\n",
      "Epoch 38\/150\n",
      "12\/12 - 0s - loss: 0.2609 - accuracy: 0.9056 - val_loss: 0.3069 - val_accuracy: 0.9250 - 63ms\/epoch - 5ms\/step\n",
      "Epoch 39\/150\n",
      "12\/12 - 0s - loss: 0.2834 - accuracy: 0.8917 - val_loss: 0.3056 - val_accuracy: 0.9250 - 90ms\/epoch - 8ms\/step\n",
      "Epoch 40\/150\n",
      "12\/12 - 0s - loss: 0.2793 - accuracy: 0.9056 - val_loss: 0.2928 - val_accuracy: 0.9000 - 66ms\/epoch - 6ms\/step\n",
      "Epoch 41\/150\n",
      "12\/12 - 0s - loss: 0.2613 - accuracy: 0.9083 - val_loss: 0.2992 - val_accuracy: 0.9250 - 77ms\/epoch - 6ms\/step\n",
      "Epoch 42\/150\n",
      "12\/12 - 0s - loss: 0.2629 - accuracy: 0.9250 - val_loss: 0.2902 - val_accuracy: 0.9000 - 53ms\/epoch - 4ms\/step\n",
      "Epoch 43\/150\n",
      "12\/12 - 0s - loss: 0.2642 - accuracy: 0.8889 - val_loss: 0.2927 - val_accuracy: 0.9250 - 72ms\/epoch - 6ms\/step\n",
      "Epoch 44\/150\n",
      "12\/12 - 0s - loss: 0.2627 - accuracy: 0.9000 - val_loss: 0.2893 - val_accuracy: 0.9250 - 55ms\/epoch - 5ms\/step\n",
      "Epoch 45\/150\n",
      "12\/12 - 0s - loss: 0.2521 - accuracy: 0.9028 - val_loss: 0.2837 - val_accuracy: 0.9250 - 54ms\/epoch - 5ms\/step\n",
      "Epoch 46\/150\n",
      "12\/12 - 0s - loss: 0.2660 - accuracy: 0.8944 - val_loss: 0.2891 - val_accuracy: 0.9250 - 56ms\/epoch - 5ms\/step\n",
      "Epoch 47\/150\n",
      "12\/12 - 0s - loss: 0.2517 - accuracy: 0.9028 - val_loss: 0.2759 - val_accuracy: 0.9000 - 61ms\/epoch - 5ms\/step\n",
      "Epoch 48\/150\n",
      "12\/12 - 0s - loss: 0.2536 - accuracy: 0.9028 - val_loss: 0.2726 - val_accuracy: 0.9000 - 54ms\/epoch - 5ms\/step\n",
      "Epoch 49\/150\n",
      "12\/12 - 0s - loss: 0.2592 - accuracy: 0.9000 - val_loss: 0.2781 - val_accuracy: 0.9250 - 59ms\/epoch - 5ms\/step\n",
      "Epoch 50\/150\n",
      "12\/12 - 0s - loss: 0.2465 - accuracy: 0.9083 - val_loss: 0.2717 - val_accuracy: 0.9000 - 58ms\/epoch - 5ms\/step\n",
      "Epoch 51\/150\n",
      "12\/12 - 0s - loss: 0.2471 - accuracy: 0.8972 - val_loss: 0.2731 - val_accuracy: 0.9000 - 75ms\/epoch - 6ms\/step\n",
      "Epoch 52\/150\n",
      "12\/12 - 0s - loss: 0.2350 - accuracy: 0.9000 - val_loss: 0.2742 - val_accuracy: 0.9000 - 53ms\/epoch - 4ms\/step\n",
      "Epoch 53\/150\n",
      "12\/12 - 0s - loss: 0.2313 - accuracy: 0.9139 - val_loss: 0.2705 - val_accuracy: 0.9250 - 54ms\/epoch - 5ms\/step\n",
      "Epoch 54\/150\n",
      "12\/12 - 0s - loss: 0.2457 - accuracy: 0.8972 - val_loss: 0.2675 - val_accuracy: 0.9000 - 54ms\/epoch - 5ms\/step\n",
      "Epoch 55\/150\n",
      "12\/12 - 0s - loss: 0.2286 - accuracy: 0.9083 - val_loss: 0.2630 - val_accuracy: 0.9250 - 51ms\/epoch - 4ms\/step\n",
      "Epoch 56\/150\n",
      "12\/12 - 0s - loss: 0.2382 - accuracy: 0.9139 - val_loss: 0.2585 - val_accuracy: 0.9000 - 68ms\/epoch - 6ms\/step\n",
      "Epoch 57\/150\n",
      "12\/12 - 0s - loss: 0.2340 - accuracy: 0.8944 - val_loss: 0.2570 - val_accuracy: 0.9000 - 55ms\/epoch - 5ms\/step\n",
      "Epoch 58\/150\n",
      "12\/12 - 0s - loss: 0.2358 - accuracy: 0.9028 - val_loss: 0.2614 - val_accuracy: 0.9250 - 55ms\/epoch - 5ms\/step\n",
      "Epoch 59\/150\n",
      "12\/12 - 0s - loss: 0.2401 - accuracy: 0.9056 - val_loss: 0.2574 - val_accuracy: 0.9000 - 55ms\/epoch - 5ms\/step\n",
      "Epoch 60\/150\n",
      "12\/12 - 0s - loss: 0.2189 - accuracy: 0.9278 - val_loss: 0.2572 - val_accuracy: 0.9000 - 49ms\/epoch - 4ms\/step\n",
      "Epoch 61\/150\n",
      "12\/12 - 0s - loss: 0.2218 - accuracy: 0.9194 - val_loss: 0.2619 - val_accuracy: 0.9250 - 56ms\/epoch - 5ms\/step\n",
      "Epoch 62\/150\n",
      "12\/12 - 0s - loss: 0.2219 - accuracy: 0.9028 - val_loss: 0.2615 - val_accuracy: 0.9250 - 56ms\/epoch - 5ms\/step\n",
      "Epoch 63\/150\n",
      "12\/12 - 0s - loss: 0.2282 - accuracy: 0.9139 - val_loss: 0.2568 - val_accuracy: 0.9250 - 52ms\/epoch - 4ms\/step\n",
      "Epoch 64\/150\n",
      "12\/12 - 0s - loss: 0.2242 - accuracy: 0.9083 - val_loss: 0.2520 - val_accuracy: 0.9000 - 52ms\/epoch - 4ms\/step\n",
      "Epoch 65\/150\n",
      "12\/12 - 0s - loss: 0.2312 - accuracy: 0.9083 - val_loss: 0.2547 - val_accuracy: 0.9250 - 60ms\/epoch - 5ms\/step\n",
      "Epoch 66\/150\n",
      "12\/12 - 0s - loss: 0.2229 - accuracy: 0.9083 - val_loss: 0.2578 - val_accuracy: 0.9250 - 54ms\/epoch - 4ms\/step\n",
      "Epoch 67\/150\n",
      "12\/12 - 0s - loss: 0.2098 - accuracy: 0.9139 - val_loss: 0.2468 - val_accuracy: 0.9000 - 51ms\/epoch - 4ms\/step\n",
      "Epoch 68\/150\n",
      "12\/12 - 0s - loss: 0.2206 - accuracy: 0.9139 - val_loss: 0.2490 - val_accuracy: 0.9000 - 52ms\/epoch - 4ms\/step\n",
      "Epoch 69\/150\n",
      "12\/12 - 0s - loss: 0.2134 - accuracy: 0.9333 - val_loss: 0.2537 - val_accuracy: 0.9000 - 48ms\/epoch - 4ms\/step\n",
      "Epoch 70\/150\n",
      "12\/12 - 0s - loss: 0.2241 - accuracy: 0.9167 - val_loss: 0.2458 - val_accuracy: 0.9000 - 51ms\/epoch - 4ms\/step\n",
      "Epoch 71\/150\n",
      "12\/12 - 0s - loss: 0.2115 - accuracy: 0.9194 - val_loss: 0.2548 - val_accuracy: 0.9250 - 55ms\/epoch - 5ms\/step\n",
      "Epoch 72\/150\n",
      "12\/12 - 0s - loss: 0.1995 - accuracy: 0.9167 - val_loss: 0.2460 - val_accuracy: 0.9000 - 48ms\/epoch - 4ms\/step\n",
      "Epoch 73\/150\n",
      "12\/12 - 0s - loss: 0.2095 - accuracy: 0.9111 - val_loss: 0.2460 - val_accuracy: 0.9000 - 52ms\/epoch - 4ms\/step\n",
      "Epoch 74\/150\n",
      "12\/12 - 0s - loss: 0.2105 - accuracy: 0.9222 - val_loss: 0.2483 - val_accuracy: 0.9000 - 49ms\/epoch - 4ms\/step\n",
      "Epoch 75\/150\n",
      "12\/12 - 0s - loss: 0.2224 - accuracy: 0.9056 - val_loss: 0.2488 - val_accuracy: 0.9000 - 55ms\/epoch - 5ms\/step\n",
      "Epoch 76\/150\n",
      "12\/12 - 0s - loss: 0.2080 - accuracy: 0.9111 - val_loss: 0.2556 - val_accuracy: 0.9250 - 46ms\/epoch - 4ms\/step\n",
      "Epoch 77\/150\n",
      "12\/12 - 0s - loss: 0.2225 - accuracy: 0.8944 - val_loss: 0.2472 - val_accuracy: 0.9000 - 51ms\/epoch - 4ms\/step\n",
      "Epoch 78\/150\n",
      "12\/12 - 0s - loss: 0.2168 - accuracy: 0.9139 - val_loss: 0.2439 - val_accuracy: 0.9000 - 51ms\/epoch - 4ms\/step\n",
      "Epoch 79\/150\n",
      "12\/12 - 0s - loss: 0.1973 - accuracy: 0.9194 - val_loss: 0.2519 - val_accuracy: 0.9250 - 69ms\/epoch - 6ms\/step\n",
      "Epoch 80\/150\n",
      "12\/12 - 0s - loss: 0.2169 - accuracy: 0.8944 - val_loss: 0.2479 - val_accuracy: 0.9000 - 54ms\/epoch - 4ms\/step\n",
      "Epoch 81\/150\n",
      "12\/12 - 0s - loss: 0.1960 - accuracy: 0.9306 - val_loss: 0.2410 - val_accuracy: 0.9000 - 53ms\/epoch - 4ms\/step\n",
      "Epoch 82\/150\n",
      "12\/12 - 0s - loss: 0.2211 - accuracy: 0.9000 - val_loss: 0.2450 - val_accuracy: 0.9000 - 62ms\/epoch - 5ms\/step\n",
      "Epoch 83\/150\n",
      "12\/12 - 0s - loss: 0.2195 - accuracy: 0.9056 - val_loss: 0.2436 - val_accuracy: 0.9000 - 56ms\/epoch - 5ms\/step\n",
      "Epoch 84\/150\n",
      "12\/12 - 0s - loss: 0.1901 - accuracy: 0.9139 - val_loss: 0.2425 - val_accuracy: 0.9000 - 76ms\/epoch - 6ms\/step\n",
      "Epoch 85\/150\n",
      "12\/12 - 0s - loss: 0.2052 - accuracy: 0.9250 - val_loss: 0.2481 - val_accuracy: 0.9000 - 59ms\/epoch - 5ms\/step\n",
      "Epoch 86\/150\n",
      "12\/12 - 0s - loss: 0.2310 - accuracy: 0.9222 - val_loss: 0.2484 - val_accuracy: 0.9000 - 53ms\/epoch - 4ms\/step\n",
      "Epoch 87\/150\n",
      "12\/12 - 0s - loss: 0.1978 - accuracy: 0.9250 - val_loss: 0.2397 - val_accuracy: 0.9000 - 60ms\/epoch - 5ms\/step\n",
      "Epoch 88\/150\n",
      "12\/12 - 0s - loss: 0.2027 - accuracy: 0.9111 - val_loss: 0.2429 - val_accuracy: 0.9000 - 61ms\/epoch - 5ms\/step\n",
      "Epoch 89\/150\n",
      "12\/12 - 0s - loss: 0.2107 - accuracy: 0.9111 - val_loss: 0.2473 - val_accuracy: 0.9000 - 58ms\/epoch - 5ms\/step\n",
      "Epoch 90\/150\n",
      "12\/12 - 0s - loss: 0.1975 - accuracy: 0.9194 - val_loss: 0.2411 - val_accuracy: 0.9000 - 54ms\/epoch - 4ms\/step\n",
      "Epoch 91\/150\n",
      "12\/12 - 0s - loss: 0.2099 - accuracy: 0.9250 - val_loss: 0.2423 - val_accuracy: 0.9000 - 58ms\/epoch - 5ms\/step\n",
      "Epoch 92\/150\n",
      "12\/12 - 0s - loss: 0.1995 - accuracy: 0.9194 - val_loss: 0.2465 - val_accuracy: 0.9000 - 52ms\/epoch - 4ms\/step\n",
      "Epoch 93\/150\n",
      "12\/12 - 0s - loss: 0.2158 - accuracy: 0.8972 - val_loss: 0.2447 - val_accuracy: 0.9000 - 54ms\/epoch - 4ms\/step\n",
      "Epoch 94\/150\n",
      "12\/12 - 0s - loss: 0.2037 - accuracy: 0.9139 - val_loss: 0.2484 - val_accuracy: 0.9000 - 56ms\/epoch - 5ms\/step\n",
      "Epoch 95\/150\n",
      "12\/12 - 0s - loss: 0.1985 - accuracy: 0.9139 - val_loss: 0.2423 - val_accuracy: 0.9000 - 77ms\/epoch - 6ms\/step\n",
      "Epoch 96\/150\n",
      "12\/12 - 0s - loss: 0.2021 - accuracy: 0.9167 - val_loss: 0.2429 - val_accuracy: 0.9000 - 54ms\/epoch - 4ms\/step\n",
      "Epoch 97\/150\n",
      "12\/12 - 0s - loss: 0.2083 - accuracy: 0.9278 - val_loss: 0.2436 - val_accuracy: 0.9000 - 52ms\/epoch - 4ms\/step\n",
      "Epoch 98\/150\n",
      "12\/12 - 0s - loss: 0.2040 - accuracy: 0.9083 - val_loss: 0.2432 - val_accuracy: 0.9000 - 56ms\/epoch - 5ms\/step\n",
      "Epoch 99\/150\n",
      "12\/12 - 0s - loss: 0.2124 - accuracy: 0.9028 - val_loss: 0.2390 - val_accuracy: 0.9000 - 54ms\/epoch - 4ms\/step\n",
      "Epoch 100\/150\n",
      "12\/12 - 0s - loss: 0.2095 - accuracy: 0.9222 - val_loss: 0.2464 - val_accuracy: 0.9000 - 52ms\/epoch - 4ms\/step\n",
      "Epoch 101\/150\n",
      "12\/12 - 0s - loss: 0.2106 - accuracy: 0.9222 - val_loss: 0.2429 - val_accuracy: 0.9000 - 79ms\/epoch - 7ms\/step\n",
      "Epoch 102\/150\n",
      "12\/12 - 0s - loss: 0.2114 - accuracy: 0.9083 - val_loss: 0.2457 - val_accuracy: 0.9000 - 73ms\/epoch - 6ms\/step\n",
      "Epoch 103\/150\n",
      "12\/12 - 0s - loss: 0.1903 - accuracy: 0.9306 - val_loss: 0.2389 - val_accuracy: 0.9000 - 49ms\/epoch - 4ms\/step\n",
      "Epoch 104\/150\n",
      "12\/12 - 0s - loss: 0.2015 - accuracy: 0.9139 - val_loss: 0.2505 - val_accuracy: 0.9250 - 81ms\/epoch - 7ms\/step\n",
      "Epoch 105\/150\n",
      "12\/12 - 0s - loss: 0.1907 - accuracy: 0.9306 - val_loss: 0.2513 - val_accuracy: 0.9250 - 78ms\/epoch - 6ms\/step\n",
      "Epoch 106\/150\n",
      "12\/12 - 0s - loss: 0.1972 - accuracy: 0.9222 - val_loss: 0.2351 - val_accuracy: 0.9000 - 68ms\/epoch - 6ms\/step\n",
      "Epoch 107\/150\n",
      "12\/12 - 0s - loss: 0.1926 - accuracy: 0.9250 - val_loss: 0.2421 - val_accuracy: 0.9000 - 74ms\/epoch - 6ms\/step\n",
      "Epoch 108\/150\n",
      "12\/12 - 0s - loss: 0.2075 - accuracy: 0.9083 - val_loss: 0.2422 - val_accuracy: 0.9000 - 80ms\/epoch - 7ms\/step\n",
      "Epoch 109\/150\n",
      "12\/12 - 0s - loss: 0.1989 - accuracy: 0.9194 - val_loss: 0.2370 - val_accuracy: 0.9000 - 57ms\/epoch - 5ms\/step\n",
      "Epoch 110\/150\n",
      "12\/12 - 0s - loss: 0.2042 - accuracy: 0.9139 - val_loss: 0.2450 - val_accuracy: 0.9000 - 82ms\/epoch - 7ms\/step\n",
      "Epoch 111\/150\n",
      "12\/12 - 0s - loss: 0.2002 - accuracy: 0.9222 - val_loss: 0.2398 - val_accuracy: 0.9000 - 91ms\/epoch - 8ms\/step\n",
      "Epoch 112\/150\n",
      "12\/12 - 0s - loss: 0.1930 - accuracy: 0.9222 - val_loss: 0.2394 - val_accuracy: 0.9000 - 60ms\/epoch - 5ms\/step\n",
      "Epoch 113\/150\n",
      "12\/12 - 0s - loss: 0.1707 - accuracy: 0.9167 - val_loss: 0.2422 - val_accuracy: 0.9000 - 47ms\/epoch - 4ms\/step\n",
      "Epoch 114\/150\n",
      "12\/12 - 0s - loss: 0.1897 - accuracy: 0.9139 - val_loss: 0.2498 - val_accuracy: 0.9000 - 47ms\/epoch - 4ms\/step\n",
      "Epoch 115\/150\n",
      "12\/12 - 0s - loss: 0.2023 - accuracy: 0.9139 - val_loss: 0.2530 - val_accuracy: 0.9000 - 52ms\/epoch - 4ms\/step\n",
      "Epoch 116\/150\n",
      "12\/12 - 0s - loss: 0.1952 - accuracy: 0.9111 - val_loss: 0.2432 - val_accuracy: 0.9000 - 51ms\/epoch - 4ms\/step\n",
      "Epoch 117\/150\n",
      "12\/12 - 0s - loss: 0.1788 - accuracy: 0.9250 - val_loss: 0.2364 - val_accuracy: 0.9000 - 47ms\/epoch - 4ms\/step\n",
      "Epoch 118\/150\n",
      "12\/12 - 0s - loss: 0.1845 - accuracy: 0.9278 - val_loss: 0.2432 - val_accuracy: 0.9000 - 49ms\/epoch - 4ms\/step\n",
      "Epoch 119\/150\n",
      "12\/12 - 0s - loss: 0.2017 - accuracy: 0.9222 - val_loss: 0.2441 - val_accuracy: 0.9000 - 50ms\/epoch - 4ms\/step\n",
      "Epoch 120\/150\n",
      "12\/12 - 0s - loss: 0.1746 - accuracy: 0.9333 - val_loss: 0.2447 - val_accuracy: 0.9000 - 49ms\/epoch - 4ms\/step\n",
      "Epoch 121\/150\n",
      "12\/12 - 0s - loss: 0.1848 - accuracy: 0.9278 - val_loss: 0.2389 - val_accuracy: 0.9000 - 50ms\/epoch - 4ms\/step\n",
      "Epoch 122\/150\n",
      "12\/12 - 0s - loss: 0.1902 - accuracy: 0.9278 - val_loss: 0.2439 - val_accuracy: 0.9000 - 48ms\/epoch - 4ms\/step\n",
      "Epoch 123\/150\n",
      "12\/12 - 0s - loss: 0.1882 - accuracy: 0.9222 - val_loss: 0.2380 - val_accuracy: 0.9000 - 50ms\/epoch - 4ms\/step\n",
      "Epoch 124\/150\n",
      "12\/12 - 0s - loss: 0.1842 - accuracy: 0.9250 - val_loss: 0.2332 - val_accuracy: 0.9000 - 50ms\/epoch - 4ms\/step\n",
      "Epoch 125\/150\n",
      "12\/12 - 0s - loss: 0.1892 - accuracy: 0.9083 - val_loss: 0.2362 - val_accuracy: 0.9000 - 47ms\/epoch - 4ms\/step\n",
      "Epoch 126\/150\n",
      "12\/12 - 0s - loss: 0.1916 - accuracy: 0.9167 - val_loss: 0.2427 - val_accuracy: 0.9000 - 47ms\/epoch - 4ms\/step\n",
      "Epoch 127\/150\n",
      "12\/12 - 0s - loss: 0.1866 - accuracy: 0.9111 - val_loss: 0.2352 - val_accuracy: 0.9000 - 47ms\/epoch - 4ms\/step\n",
      "Epoch 128\/150\n",
      "12\/12 - 0s - loss: 0.1864 - accuracy: 0.9139 - val_loss: 0.2407 - val_accuracy: 0.9000 - 48ms\/epoch - 4ms\/step\n",
      "Epoch 129\/150\n",
      "12\/12 - 0s - loss: 0.1859 - accuracy: 0.9250 - val_loss: 0.2370 - val_accuracy: 0.9000 - 48ms\/epoch - 4ms\/step\n",
      "Epoch 130\/150\n",
      "12\/12 - 0s - loss: 0.1921 - accuracy: 0.9083 - val_loss: 0.2457 - val_accuracy: 0.9000 - 61ms\/epoch - 5ms\/step\n",
      "Epoch 131\/150\n",
      "12\/12 - 0s - loss: 0.1871 - accuracy: 0.9250 - val_loss: 0.2420 - val_accuracy: 0.9000 - 50ms\/epoch - 4ms\/step\n",
      "Epoch 132\/150\n",
      "12\/12 - 0s - loss: 0.1879 - accuracy: 0.9167 - val_loss: 0.2449 - val_accuracy: 0.9000 - 46ms\/epoch - 4ms\/step\n",
      "Epoch 133\/150\n",
      "12\/12 - 0s - loss: 0.1846 - accuracy: 0.9222 - val_loss: 0.2378 - val_accuracy: 0.9000 - 77ms\/epoch - 6ms\/step\n",
      "Epoch 134\/150\n",
      "12\/12 - 0s - loss: 0.1955 - accuracy: 0.9194 - val_loss: 0.2400 - val_accuracy: 0.9000 - 50ms\/epoch - 4ms\/step\n",
      "Epoch 135\/150\n",
      "12\/12 - 0s - loss: 0.1852 - accuracy: 0.9250 - val_loss: 0.2437 - val_accuracy: 0.9000 - 47ms\/epoch - 4ms\/step\n",
      "Epoch 136\/150\n",
      "12\/12 - 0s - loss: 0.1910 - accuracy: 0.9222 - val_loss: 0.2506 - val_accuracy: 0.9000 - 47ms\/epoch - 4ms\/step\n",
      "Epoch 137\/150\n",
      "12\/12 - 0s - loss: 0.1864 - accuracy: 0.9222 - val_loss: 0.2461 - val_accuracy: 0.9000 - 47ms\/epoch - 4ms\/step\n",
      "Epoch 138\/150\n",
      "12\/12 - 0s - loss: 0.1851 - accuracy: 0.9278 - val_loss: 0.2518 - val_accuracy: 0.9000 - 47ms\/epoch - 4ms\/step\n",
      "Epoch 139\/150\n",
      "12\/12 - 0s - loss: 0.2017 - accuracy: 0.9083 - val_loss: 0.2427 - val_accuracy: 0.9000 - 46ms\/epoch - 4ms\/step\n",
      "Epoch 140\/150\n",
      "12\/12 - 0s - loss: 0.1851 - accuracy: 0.9167 - val_loss: 0.2501 - val_accuracy: 0.9000 - 48ms\/epoch - 4ms\/step\n",
      "Epoch 141\/150\n",
      "12\/12 - 0s - loss: 0.1939 - accuracy: 0.9111 - val_loss: 0.2402 - val_accuracy: 0.9000 - 48ms\/epoch - 4ms\/step\n",
      "Epoch 142\/150\n",
      "12\/12 - 0s - loss: 0.1664 - accuracy: 0.9361 - val_loss: 0.2447 - val_accuracy: 0.9000 - 46ms\/epoch - 4ms\/step\n",
      "Epoch 143\/150\n",
      "12\/12 - 0s - loss: 0.1934 - accuracy: 0.9222 - val_loss: 0.2583 - val_accuracy: 0.9250 - 44ms\/epoch - 4ms\/step\n",
      "Epoch 144\/150\n",
      "12\/12 - 0s - loss: 0.1843 - accuracy: 0.9111 - val_loss: 0.2455 - val_accuracy: 0.9000 - 48ms\/epoch - 4ms\/step\n",
      "Epoch 145\/150\n",
      "12\/12 - 0s - loss: 0.1977 - accuracy: 0.9167 - val_loss: 0.2357 - val_accuracy: 0.9000 - 49ms\/epoch - 4ms\/step\n",
      "Epoch 146\/150\n",
      "12\/12 - 0s - loss: 0.1882 - accuracy: 0.9306 - val_loss: 0.2422 - val_accuracy: 0.9000 - 53ms\/epoch - 4ms\/step\n",
      "Epoch 147\/150\n",
      "12\/12 - 0s - loss: 0.1801 - accuracy: 0.9250 - val_loss: 0.2461 - val_accuracy: 0.9000 - 45ms\/epoch - 4ms\/step\n",
      "Epoch 148\/150\n",
      "12\/12 - 0s - loss: 0.1979 - accuracy: 0.9250 - val_loss: 0.2471 - val_accuracy: 0.9000 - 47ms\/epoch - 4ms\/step\n",
      "Epoch 149\/150\n",
      "12\/12 - 0s - loss: 0.1665 - accuracy: 0.9417 - val_loss: 0.2443 - val_accuracy: 0.9000 - 46ms\/epoch - 4ms\/step\n",
      "Epoch 150\/150\n",
      "12\/12 - 0s - loss: 0.1677 - accuracy: 0.9194 - val_loss: 0.2431 - val_accuracy: 0.9000 - 45ms\/epoch - 4ms\/step\n"
     ],
     "output_type":"stream"
    }
   ],
   "metadata":{
    "datalore":{
     "node_id":"JwwkXjox8W4L4vTeTetDm7",
     "type":"CODE",
     "hide_input_from_viewers":false,
     "hide_output_from_viewers":false,
     "report_properties":{
      "rowId":"DmNs1cFyOEidx8yGaTDKzq"
     }
    }
   }
  },
  {
   "cell_type":"markdown",
   "source":[
    "### **Plotting Accuracy vs Epoch Curve**"
   ],
   "attachments":{},
   "metadata":{
    "datalore":{
     "node_id":"lldkaqdlIVmwRRGMvzVDVF",
     "type":"MD",
     "hide_input_from_viewers":false,
     "hide_output_from_viewers":false,
     "report_properties":{
      "rowId":"h0K9VKRZl8gHf7Edqjicq9"
     }
    }
   }
  },
  {
   "cell_type":"code",
   "source":[
    "plt.plot(history_1.history['accuracy'])\n",
    "plt.plot(history_1.history['val_accuracy'])\n",
    "plt.title('Accuracy vs Epochs')\n",
    "plt.ylabel('Accuracy')\n",
    "plt.xlabel('Epoch')\n",
    "plt.legend(['Train', 'Validation'], loc='lower right')\n",
    "plt.show()"
   ],
   "execution_count":17,
   "outputs":[
    {
     "data":{
      "image\/png":"[encoded data removed]"
     },
     "metadata":{
      "image\/png":{}
     },
     "output_type":"display_data"
    }
   ],
   "metadata":{
    "datalore":{
     "node_id":"SNvAWGB0LCTS9lLjjI9zfb",
     "type":"CODE",
     "hide_input_from_viewers":false,
     "hide_output_from_viewers":false,
     "report_properties":{
      "rowId":"TxSaZU9ctL9qaRsNnVVkeg"
     }
    }
   }
  },
  {
   "cell_type":"markdown",
   "source":[
    "**Observations:**\n",
    "\n",
    "- The training accuracy is fluctuating but overall it is increasing with the increase in the epochs.\n",
    "- The validation accuracy is constant between ~80 to 150 epochs.\n",
    "- The model is giving good accuracy. After 150 epochs, the accuracy of the model on the training data is about 93% and the validation accuracy is 90%.\n",
    "- The validation accuracy is closer to the training accuracy. This indicates that the model is giving a generalized performance."
   ],
   "attachments":{},
   "metadata":{
    "datalore":{
     "node_id":"FHATKTZpub9xV1rseJw4Pm",
     "type":"MD",
     "hide_input_from_viewers":false,
     "hide_output_from_viewers":false,
     "report_properties":{
      "rowId":"75z5DIilUsyJyisklzi9Kb"
     }
    }
   }
  },
  {
   "cell_type":"markdown",
   "source":[
    "Let's try to increase the model complexity by tuning some of the hyper-parameters mentioned earlier and check if we can improve the model performance. Out of all the options we have, let's try to change the number of hidden layers, the number of neurons in each hidden layer, the activation function in the hidden layer, and the optimizer from **adamax** to **adam**. Also, we have observed that validation accuracy became constant after some epochs, let's try less number of epochs which would also reduce the computation time. "
   ],
   "attachments":{},
   "metadata":{
    "datalore":{
     "node_id":"bbKGwlAty2cwMqLyKQ2tr4",
     "type":"MD",
     "hide_input_from_viewers":false,
     "hide_output_from_viewers":false,
     "report_properties":{
      "rowId":"UpEIR44mRwhfO8cTp9kbDu"
     }
    }
   }
  },
  {
   "cell_type":"markdown",
   "source":[
    "First, we need to clear the previous model's history from the session. In Keras, we need special command to clear the model's history otherwise the previous model history remains in the backend.\n",
    "Also, let's fix the seed again after clearing the backend."
   ],
   "attachments":{},
   "metadata":{
    "datalore":{
     "node_id":"9t3ZVztb1H2xKRHOE8ESje",
     "type":"MD",
     "hide_input_from_viewers":false,
     "hide_output_from_viewers":false,
     "report_properties":{
      "rowId":"oibzNiIZiNyXnuND4U9ADv"
     }
    }
   }
  },
  {
   "cell_type":"code",
   "source":[
    "# Clearing backend\n",
    "from tensorflow.keras import backend\n",
    "backend.clear_session()"
   ],
   "execution_count":18,
   "outputs":[],
   "metadata":{
    "datalore":{
     "node_id":"JPPGFR6eTxoRzyu2jL1VMA",
     "type":"CODE",
     "hide_input_from_viewers":false,
     "hide_output_from_viewers":false,
     "report_properties":{
      "rowId":"NmhUWMzo8gCNwEizcuINZK"
     }
    }
   }
  },
  {
   "cell_type":"code",
   "source":[
    "# Fixing the seed for random number generators\n",
    "np.random.seed(42)\n",
    "\n",
    "import random\n",
    "random.seed(42)\n",
    "\n",
    "tf.random.set_seed(42)"
   ],
   "execution_count":19,
   "outputs":[],
   "metadata":{
    "datalore":{
     "node_id":"nfosnwbx996gFlw9tKkxCH",
     "type":"CODE",
     "hide_input_from_viewers":false,
     "hide_output_from_viewers":false,
     "report_properties":{
      "rowId":"ZEeZMfrnGfoMQI0xLwnykS"
     }
    }
   }
  },
  {
   "cell_type":"code",
   "source":[
    "model_2 = Sequential()\n",
    "model_2.add(Dense(128, activation='tanh', input_shape=(7,)))\n",
    "model_2.add(Dropout(0.1))\n",
    "model_2.add(Dense(64, activation='tanh'))\n",
    "model_2.add(Dropout(0.1))\n",
    "model_2.add(Dense(32, activation='tanh'))\n",
    "model_2.add(Dense(1, activation='sigmoid'))"
   ],
   "execution_count":20,
   "outputs":[],
   "metadata":{
    "datalore":{
     "node_id":"ZdA6V1aF6nnw3r7izjp1rm",
     "type":"CODE",
     "hide_input_from_viewers":false,
     "hide_output_from_viewers":false,
     "report_properties":{
      "rowId":"jCMpyON2B5b6y1PY2ICSP5"
     }
    }
   }
  },
  {
   "cell_type":"code",
   "source":[
    "model_2.compile(loss = 'binary_crossentropy', optimizer='adam', metrics=['accuracy'])\n",
    "model_2.summary()"
   ],
   "execution_count":21,
   "outputs":[
    {
     "name":"stdout",
     "text":[
      "Model: \"sequential\"\n",
      "_________________________________________________________________\n",
      " Layer (type)                Output Shape              Param #   \n",
      "=================================================================\n",
      " dense (Dense)               (None, 128)               1024      \n",
      "                                                                 \n",
      " dropout (Dropout)           (None, 128)               0         \n",
      "                                                                 \n",
      " dense_1 (Dense)             (None, 64)                8256      \n",
      "                                                                 \n",
      " dropout_1 (Dropout)         (None, 64)                0         \n",
      "                                                                 \n",
      " dense_2 (Dense)             (None, 32)                2080      \n",
      "                                                                 \n",
      " dense_3 (Dense)             (None, 1)                 33        \n",
      "                                                                 \n",
      "=================================================================\n",
      "Total params: 11,393\n",
      "Trainable params: 11,393\n",
      "Non-trainable params: 0\n",
      "_________________________________________________________________\n"
     ],
     "output_type":"stream"
    }
   ],
   "metadata":{
    "datalore":{
     "node_id":"Q1hgm5Ve5EbfAKqIbIdkob",
     "type":"CODE",
     "hide_input_from_viewers":false,
     "hide_output_from_viewers":false,
     "report_properties":{
      "rowId":"uNL5WQi53dsokEcugGOTA6"
     }
    }
   }
  },
  {
   "cell_type":"code",
   "source":[
    "history_2 = model_2.fit(X_train_normalized, \n",
    "                    y_train, \n",
    "                    validation_split=0.1, \n",
    "                    epochs=100, \n",
    "                    verbose=2)"
   ],
   "execution_count":22,
   "outputs":[
    {
     "name":"stdout",
     "text":[
      "Epoch 1\/100\n",
      "12\/12 - 1s - loss: 0.6572 - accuracy: 0.6417 - val_loss: 0.7388 - val_accuracy: 0.5750 - 1s\/epoch - 84ms\/step\n",
      "Epoch 2\/100\n",
      "12\/12 - 0s - loss: 0.5731 - accuracy: 0.7194 - val_loss: 0.6418 - val_accuracy: 0.5000 - 49ms\/epoch - 4ms\/step\n",
      "Epoch 3\/100\n",
      "12\/12 - 0s - loss: 0.5302 - accuracy: 0.7056 - val_loss: 0.6031 - val_accuracy: 0.5750 - 43ms\/epoch - 4ms\/step\n",
      "Epoch 4\/100\n",
      "12\/12 - 0s - loss: 0.4916 - accuracy: 0.7528 - val_loss: 0.5426 - val_accuracy: 0.8250 - 46ms\/epoch - 4ms\/step\n",
      "Epoch 5\/100\n",
      "12\/12 - 0s - loss: 0.4503 - accuracy: 0.7750 - val_loss: 0.5213 - val_accuracy: 0.8250 - 43ms\/epoch - 4ms\/step\n",
      "Epoch 6\/100\n",
      "12\/12 - 0s - loss: 0.4102 - accuracy: 0.8361 - val_loss: 0.4405 - val_accuracy: 0.8000 - 44ms\/epoch - 4ms\/step\n",
      "Epoch 7\/100\n",
      "12\/12 - 0s - loss: 0.3876 - accuracy: 0.8361 - val_loss: 0.4792 - val_accuracy: 0.8000 - 45ms\/epoch - 4ms\/step\n",
      "Epoch 8\/100\n",
      "12\/12 - 0s - loss: 0.3583 - accuracy: 0.8722 - val_loss: 0.3819 - val_accuracy: 0.9250 - 47ms\/epoch - 4ms\/step\n",
      "Epoch 9\/100\n",
      "12\/12 - 0s - loss: 0.3300 - accuracy: 0.8694 - val_loss: 0.3266 - val_accuracy: 0.8750 - 44ms\/epoch - 4ms\/step\n",
      "Epoch 10\/100\n",
      "12\/12 - 0s - loss: 0.3005 - accuracy: 0.8861 - val_loss: 0.3141 - val_accuracy: 0.9250 - 62ms\/epoch - 5ms\/step\n",
      "Epoch 11\/100\n",
      "12\/12 - 0s - loss: 0.2687 - accuracy: 0.8944 - val_loss: 0.3921 - val_accuracy: 0.8500 - 48ms\/epoch - 4ms\/step\n",
      "Epoch 12\/100\n",
      "12\/12 - 0s - loss: 0.2774 - accuracy: 0.8889 - val_loss: 0.2682 - val_accuracy: 0.9250 - 45ms\/epoch - 4ms\/step\n",
      "Epoch 13\/100\n",
      "12\/12 - 0s - loss: 0.2512 - accuracy: 0.9000 - val_loss: 0.2943 - val_accuracy: 0.9250 - 47ms\/epoch - 4ms\/step\n",
      "Epoch 14\/100\n",
      "12\/12 - 0s - loss: 0.2286 - accuracy: 0.9028 - val_loss: 0.3504 - val_accuracy: 0.9250 - 47ms\/epoch - 4ms\/step\n",
      "Epoch 15\/100\n",
      "12\/12 - 0s - loss: 0.2525 - accuracy: 0.8861 - val_loss: 0.2475 - val_accuracy: 0.9000 - 44ms\/epoch - 4ms\/step\n",
      "Epoch 16\/100\n",
      "12\/12 - 0s - loss: 0.2316 - accuracy: 0.9083 - val_loss: 0.2496 - val_accuracy: 0.9250 - 64ms\/epoch - 5ms\/step\n",
      "Epoch 17\/100\n",
      "12\/12 - 0s - loss: 0.2473 - accuracy: 0.9083 - val_loss: 0.2854 - val_accuracy: 0.9250 - 46ms\/epoch - 4ms\/step\n",
      "Epoch 18\/100\n",
      "12\/12 - 0s - loss: 0.2104 - accuracy: 0.9278 - val_loss: 0.2348 - val_accuracy: 0.9250 - 52ms\/epoch - 4ms\/step\n",
      "Epoch 19\/100\n",
      "12\/12 - 0s - loss: 0.2072 - accuracy: 0.8972 - val_loss: 0.2372 - val_accuracy: 0.9250 - 47ms\/epoch - 4ms\/step\n",
      "Epoch 20\/100\n",
      "12\/12 - 0s - loss: 0.1978 - accuracy: 0.9167 - val_loss: 0.2764 - val_accuracy: 0.9250 - 52ms\/epoch - 4ms\/step\n",
      "Epoch 21\/100\n",
      "12\/12 - 0s - loss: 0.2056 - accuracy: 0.9139 - val_loss: 0.2428 - val_accuracy: 0.9250 - 74ms\/epoch - 6ms\/step\n",
      "Epoch 22\/100\n",
      "12\/12 - 0s - loss: 0.1943 - accuracy: 0.9111 - val_loss: 0.2383 - val_accuracy: 0.9250 - 71ms\/epoch - 6ms\/step\n",
      "Epoch 23\/100\n",
      "12\/12 - 0s - loss: 0.1964 - accuracy: 0.9028 - val_loss: 0.2551 - val_accuracy: 0.9000 - 68ms\/epoch - 6ms\/step\n",
      "Epoch 24\/100\n",
      "12\/12 - 0s - loss: 0.2063 - accuracy: 0.9028 - val_loss: 0.2936 - val_accuracy: 0.9250 - 83ms\/epoch - 7ms\/step\n",
      "Epoch 25\/100\n",
      "12\/12 - 0s - loss: 0.2106 - accuracy: 0.9167 - val_loss: 0.2465 - val_accuracy: 0.9250 - 69ms\/epoch - 6ms\/step\n",
      "Epoch 26\/100\n",
      "12\/12 - 0s - loss: 0.1950 - accuracy: 0.9139 - val_loss: 0.2402 - val_accuracy: 0.9250 - 61ms\/epoch - 5ms\/step\n",
      "Epoch 27\/100\n",
      "12\/12 - 0s - loss: 0.1815 - accuracy: 0.9278 - val_loss: 0.2631 - val_accuracy: 0.9250 - 47ms\/epoch - 4ms\/step\n",
      "Epoch 28\/100\n",
      "12\/12 - 0s - loss: 0.1699 - accuracy: 0.9306 - val_loss: 0.2415 - val_accuracy: 0.9250 - 66ms\/epoch - 6ms\/step\n",
      "Epoch 29\/100\n",
      "12\/12 - 0s - loss: 0.2216 - accuracy: 0.8944 - val_loss: 0.2485 - val_accuracy: 0.9250 - 57ms\/epoch - 5ms\/step\n",
      "Epoch 30\/100\n",
      "12\/12 - 0s - loss: 0.2179 - accuracy: 0.8944 - val_loss: 0.2807 - val_accuracy: 0.9250 - 76ms\/epoch - 6ms\/step\n",
      "Epoch 31\/100\n",
      "12\/12 - 0s - loss: 0.1697 - accuracy: 0.9250 - val_loss: 0.2594 - val_accuracy: 0.9000 - 60ms\/epoch - 5ms\/step\n",
      "Epoch 32\/100\n",
      "12\/12 - 0s - loss: 0.1788 - accuracy: 0.9361 - val_loss: 0.2395 - val_accuracy: 0.9250 - 109ms\/epoch - 9ms\/step\n",
      "Epoch 33\/100\n",
      "12\/12 - 0s - loss: 0.1892 - accuracy: 0.9139 - val_loss: 0.2595 - val_accuracy: 0.9250 - 72ms\/epoch - 6ms\/step\n",
      "Epoch 34\/100\n",
      "12\/12 - 0s - loss: 0.1744 - accuracy: 0.9250 - val_loss: 0.2550 - val_accuracy: 0.9000 - 72ms\/epoch - 6ms\/step\n",
      "Epoch 35\/100\n",
      "12\/12 - 0s - loss: 0.1737 - accuracy: 0.9278 - val_loss: 0.2373 - val_accuracy: 0.9500 - 78ms\/epoch - 6ms\/step\n",
      "Epoch 36\/100\n",
      "12\/12 - 0s - loss: 0.1837 - accuracy: 0.9167 - val_loss: 0.2481 - val_accuracy: 0.9250 - 65ms\/epoch - 5ms\/step\n",
      "Epoch 37\/100\n",
      "12\/12 - 0s - loss: 0.1821 - accuracy: 0.9139 - val_loss: 0.2413 - val_accuracy: 0.9250 - 62ms\/epoch - 5ms\/step\n",
      "Epoch 38\/100\n",
      "12\/12 - 0s - loss: 0.1763 - accuracy: 0.9278 - val_loss: 0.2405 - val_accuracy: 0.9250 - 53ms\/epoch - 4ms\/step\n",
      "Epoch 39\/100\n",
      "12\/12 - 0s - loss: 0.1808 - accuracy: 0.9056 - val_loss: 0.2308 - val_accuracy: 0.9500 - 71ms\/epoch - 6ms\/step\n",
      "Epoch 40\/100\n",
      "12\/12 - 0s - loss: 0.1628 - accuracy: 0.9250 - val_loss: 0.2937 - val_accuracy: 0.9250 - 68ms\/epoch - 6ms\/step\n",
      "Epoch 41\/100\n",
      "12\/12 - 0s - loss: 0.1765 - accuracy: 0.9250 - val_loss: 0.2402 - val_accuracy: 0.9500 - 50ms\/epoch - 4ms\/step\n",
      "Epoch 42\/100\n",
      "12\/12 - 0s - loss: 0.1594 - accuracy: 0.9389 - val_loss: 0.2558 - val_accuracy: 0.9000 - 53ms\/epoch - 4ms\/step\n",
      "Epoch 43\/100\n",
      "12\/12 - 0s - loss: 0.1793 - accuracy: 0.9222 - val_loss: 0.2543 - val_accuracy: 0.9000 - 51ms\/epoch - 4ms\/step\n",
      "Epoch 44\/100\n",
      "12\/12 - 0s - loss: 0.1702 - accuracy: 0.9250 - val_loss: 0.2364 - val_accuracy: 0.9500 - 49ms\/epoch - 4ms\/step\n",
      "Epoch 45\/100\n",
      "12\/12 - 0s - loss: 0.1764 - accuracy: 0.9167 - val_loss: 0.2392 - val_accuracy: 0.9250 - 49ms\/epoch - 4ms\/step\n",
      "Epoch 46\/100\n",
      "12\/12 - 0s - loss: 0.1657 - accuracy: 0.9194 - val_loss: 0.2382 - val_accuracy: 0.9250 - 97ms\/epoch - 8ms\/step\n",
      "Epoch 47\/100\n",
      "12\/12 - 0s - loss: 0.1694 - accuracy: 0.9222 - val_loss: 0.2436 - val_accuracy: 0.9250 - 52ms\/epoch - 4ms\/step\n",
      "Epoch 48\/100\n",
      "12\/12 - 0s - loss: 0.1576 - accuracy: 0.9361 - val_loss: 0.2508 - val_accuracy: 0.9000 - 52ms\/epoch - 4ms\/step\n",
      "Epoch 49\/100\n",
      "12\/12 - 0s - loss: 0.1800 - accuracy: 0.9250 - val_loss: 0.2416 - val_accuracy: 0.9250 - 51ms\/epoch - 4ms\/step\n",
      "Epoch 50\/100\n",
      "12\/12 - 0s - loss: 0.1838 - accuracy: 0.9056 - val_loss: 0.2606 - val_accuracy: 0.9250 - 51ms\/epoch - 4ms\/step\n",
      "Epoch 51\/100\n",
      "12\/12 - 0s - loss: 0.1662 - accuracy: 0.9250 - val_loss: 0.2444 - val_accuracy: 0.9500 - 52ms\/epoch - 4ms\/step\n",
      "Epoch 52\/100\n",
      "12\/12 - 0s - loss: 0.1739 - accuracy: 0.9222 - val_loss: 0.2441 - val_accuracy: 0.9500 - 69ms\/epoch - 6ms\/step\n",
      "Epoch 53\/100\n",
      "12\/12 - 0s - loss: 0.1579 - accuracy: 0.9306 - val_loss: 0.2871 - val_accuracy: 0.9250 - 49ms\/epoch - 4ms\/step\n",
      "Epoch 54\/100\n",
      "12\/12 - 0s - loss: 0.2015 - accuracy: 0.9028 - val_loss: 0.2443 - val_accuracy: 0.9250 - 70ms\/epoch - 6ms\/step\n",
      "Epoch 55\/100\n",
      "12\/12 - 0s - loss: 0.1922 - accuracy: 0.9111 - val_loss: 0.2417 - val_accuracy: 0.9250 - 56ms\/epoch - 5ms\/step\n",
      "Epoch 56\/100\n",
      "12\/12 - 0s - loss: 0.1934 - accuracy: 0.9056 - val_loss: 0.2725 - val_accuracy: 0.9250 - 52ms\/epoch - 4ms\/step\n",
      "Epoch 57\/100\n",
      "12\/12 - 0s - loss: 0.1683 - accuracy: 0.9278 - val_loss: 0.2370 - val_accuracy: 0.9250 - 56ms\/epoch - 5ms\/step\n",
      "Epoch 58\/100\n",
      "12\/12 - 0s - loss: 0.1649 - accuracy: 0.9222 - val_loss: 0.2372 - val_accuracy: 0.9250 - 52ms\/epoch - 4ms\/step\n",
      "Epoch 59\/100\n",
      "12\/12 - 0s - loss: 0.1805 - accuracy: 0.9111 - val_loss: 0.2628 - val_accuracy: 0.9250 - 54ms\/epoch - 5ms\/step\n",
      "Epoch 60\/100\n",
      "12\/12 - 0s - loss: 0.1746 - accuracy: 0.9194 - val_loss: 0.2534 - val_accuracy: 0.9250 - 57ms\/epoch - 5ms\/step\n",
      "Epoch 61\/100\n",
      "12\/12 - 0s - loss: 0.1700 - accuracy: 0.9250 - val_loss: 0.2397 - val_accuracy: 0.9250 - 61ms\/epoch - 5ms\/step\n",
      "Epoch 62\/100\n",
      "12\/12 - 0s - loss: 0.1611 - accuracy: 0.9333 - val_loss: 0.2501 - val_accuracy: 0.9000 - 55ms\/epoch - 5ms\/step\n",
      "Epoch 63\/100\n",
      "12\/12 - 0s - loss: 0.1679 - accuracy: 0.9139 - val_loss: 0.2393 - val_accuracy: 0.9250 - 70ms\/epoch - 6ms\/step\n",
      "Epoch 64\/100\n",
      "12\/12 - 0s - loss: 0.1680 - accuracy: 0.9194 - val_loss: 0.2485 - val_accuracy: 0.9000 - 50ms\/epoch - 4ms\/step\n",
      "Epoch 65\/100\n",
      "12\/12 - 0s - loss: 0.1665 - accuracy: 0.9278 - val_loss: 0.2517 - val_accuracy: 0.9250 - 52ms\/epoch - 4ms\/step\n",
      "Epoch 66\/100\n",
      "12\/12 - 0s - loss: 0.1765 - accuracy: 0.9111 - val_loss: 0.2373 - val_accuracy: 0.9500 - 52ms\/epoch - 4ms\/step\n",
      "Epoch 67\/100\n",
      "12\/12 - 0s - loss: 0.1856 - accuracy: 0.9194 - val_loss: 0.2638 - val_accuracy: 0.9250 - 53ms\/epoch - 4ms\/step\n",
      "Epoch 68\/100\n",
      "12\/12 - 0s - loss: 0.1875 - accuracy: 0.9194 - val_loss: 0.2847 - val_accuracy: 0.9250 - 67ms\/epoch - 6ms\/step\n",
      "Epoch 69\/100\n",
      "12\/12 - 0s - loss: 0.1663 - accuracy: 0.9333 - val_loss: 0.2441 - val_accuracy: 0.9250 - 59ms\/epoch - 5ms\/step\n",
      "Epoch 70\/100\n",
      "12\/12 - 0s - loss: 0.1741 - accuracy: 0.9278 - val_loss: 0.2555 - val_accuracy: 0.9000 - 52ms\/epoch - 4ms\/step\n",
      "Epoch 71\/100\n",
      "12\/12 - 0s - loss: 0.1707 - accuracy: 0.9361 - val_loss: 0.2422 - val_accuracy: 0.9500 - 53ms\/epoch - 4ms\/step\n",
      "Epoch 72\/100\n",
      "12\/12 - 0s - loss: 0.1861 - accuracy: 0.9111 - val_loss: 0.3203 - val_accuracy: 0.9250 - 55ms\/epoch - 5ms\/step\n",
      "Epoch 73\/100\n",
      "12\/12 - 0s - loss: 0.1567 - accuracy: 0.9250 - val_loss: 0.2376 - val_accuracy: 0.9500 - 57ms\/epoch - 5ms\/step\n",
      "Epoch 74\/100\n",
      "12\/12 - 0s - loss: 0.1599 - accuracy: 0.9417 - val_loss: 0.2771 - val_accuracy: 0.9250 - 69ms\/epoch - 6ms\/step\n",
      "Epoch 75\/100\n",
      "12\/12 - 0s - loss: 0.1844 - accuracy: 0.9194 - val_loss: 0.2409 - val_accuracy: 0.9250 - 53ms\/epoch - 4ms\/step\n",
      "Epoch 76\/100\n",
      "12\/12 - 0s - loss: 0.1679 - accuracy: 0.9278 - val_loss: 0.2440 - val_accuracy: 0.9250 - 68ms\/epoch - 6ms\/step\n",
      "Epoch 77\/100\n",
      "12\/12 - 0s - loss: 0.1542 - accuracy: 0.9222 - val_loss: 0.2375 - val_accuracy: 0.9250 - 68ms\/epoch - 6ms\/step\n",
      "Epoch 78\/100\n",
      "12\/12 - 0s - loss: 0.1553 - accuracy: 0.9333 - val_loss: 0.2491 - val_accuracy: 0.9250 - 57ms\/epoch - 5ms\/step\n",
      "Epoch 79\/100\n",
      "12\/12 - 0s - loss: 0.1686 - accuracy: 0.9278 - val_loss: 0.2511 - val_accuracy: 0.9000 - 51ms\/epoch - 4ms\/step\n",
      "Epoch 80\/100\n",
      "12\/12 - 0s - loss: 0.1757 - accuracy: 0.9194 - val_loss: 0.2664 - val_accuracy: 0.9250 - 55ms\/epoch - 5ms\/step\n",
      "Epoch 81\/100\n",
      "12\/12 - 0s - loss: 0.1582 - accuracy: 0.9333 - val_loss: 0.2303 - val_accuracy: 0.9250 - 65ms\/epoch - 5ms\/step\n",
      "Epoch 82\/100\n",
      "12\/12 - 0s - loss: 0.1536 - accuracy: 0.9278 - val_loss: 0.2371 - val_accuracy: 0.9250 - 53ms\/epoch - 4ms\/step\n",
      "Epoch 83\/100\n",
      "12\/12 - 0s - loss: 0.1617 - accuracy: 0.9278 - val_loss: 0.2522 - val_accuracy: 0.9250 - 50ms\/epoch - 4ms\/step\n",
      "Epoch 84\/100\n",
      "12\/12 - 0s - loss: 0.1595 - accuracy: 0.9306 - val_loss: 0.2519 - val_accuracy: 0.9250 - 51ms\/epoch - 4ms\/step\n",
      "Epoch 85\/100\n",
      "12\/12 - 0s - loss: 0.1592 - accuracy: 0.9167 - val_loss: 0.2557 - val_accuracy: 0.9250 - 49ms\/epoch - 4ms\/step\n",
      "Epoch 86\/100\n",
      "12\/12 - 0s - loss: 0.1675 - accuracy: 0.9167 - val_loss: 0.2576 - val_accuracy: 0.9250 - 50ms\/epoch - 4ms\/step\n",
      "Epoch 87\/100\n",
      "12\/12 - 0s - loss: 0.1592 - accuracy: 0.9306 - val_loss: 0.2581 - val_accuracy: 0.9250 - 46ms\/epoch - 4ms\/step\n",
      "Epoch 88\/100\n",
      "12\/12 - 0s - loss: 0.1969 - accuracy: 0.9028 - val_loss: 0.2286 - val_accuracy: 0.9500 - 47ms\/epoch - 4ms\/step\n",
      "Epoch 89\/100\n",
      "12\/12 - 0s - loss: 0.1704 - accuracy: 0.9167 - val_loss: 0.2520 - val_accuracy: 0.9250 - 46ms\/epoch - 4ms\/step\n",
      "Epoch 90\/100\n",
      "12\/12 - 0s - loss: 0.1636 - accuracy: 0.9222 - val_loss: 0.2510 - val_accuracy: 0.9250 - 46ms\/epoch - 4ms\/step\n",
      "Epoch 91\/100\n",
      "12\/12 - 0s - loss: 0.1509 - accuracy: 0.9389 - val_loss: 0.2449 - val_accuracy: 0.9000 - 45ms\/epoch - 4ms\/step\n",
      "Epoch 92\/100\n",
      "12\/12 - 0s - loss: 0.1650 - accuracy: 0.9222 - val_loss: 0.2516 - val_accuracy: 0.9250 - 46ms\/epoch - 4ms\/step\n",
      "Epoch 93\/100\n",
      "12\/12 - 0s - loss: 0.1590 - accuracy: 0.9194 - val_loss: 0.2430 - val_accuracy: 0.9500 - 47ms\/epoch - 4ms\/step\n",
      "Epoch 94\/100\n",
      "12\/12 - 0s - loss: 0.1652 - accuracy: 0.9250 - val_loss: 0.2512 - val_accuracy: 0.9250 - 67ms\/epoch - 6ms\/step\n",
      "Epoch 95\/100\n",
      "12\/12 - 0s - loss: 0.1575 - accuracy: 0.9250 - val_loss: 0.2371 - val_accuracy: 0.9250 - 74ms\/epoch - 6ms\/step\n",
      "Epoch 96\/100\n",
      "12\/12 - 0s - loss: 0.1722 - accuracy: 0.9194 - val_loss: 0.2394 - val_accuracy: 0.9250 - 87ms\/epoch - 7ms\/step\n",
      "Epoch 97\/100\n",
      "12\/12 - 0s - loss: 0.1575 - accuracy: 0.9250 - val_loss: 0.2587 - val_accuracy: 0.9250 - 68ms\/epoch - 6ms\/step\n",
      "Epoch 98\/100\n",
      "12\/12 - 0s - loss: 0.1585 - accuracy: 0.9250 - val_loss: 0.2429 - val_accuracy: 0.9250 - 73ms\/epoch - 6ms\/step\n",
      "Epoch 99\/100\n",
      "12\/12 - 0s - loss: 0.1834 - accuracy: 0.9222 - val_loss: 0.2678 - val_accuracy: 0.9250 - 48ms\/epoch - 4ms\/step\n",
      "Epoch 100\/100\n",
      "12\/12 - 0s - loss: 0.1620 - accuracy: 0.9222 - val_loss: 0.2395 - val_accuracy: 0.9250 - 47ms\/epoch - 4ms\/step\n"
     ],
     "output_type":"stream"
    }
   ],
   "metadata":{
    "datalore":{
     "node_id":"Ad8S1Wmi9Q0McEoabjXMnh",
     "type":"CODE",
     "hide_input_from_viewers":false,
     "hide_output_from_viewers":false,
     "report_properties":{
      "rowId":"RKvgScXPAFzarQSvkvGW2C"
     }
    }
   }
  },
  {
   "cell_type":"code",
   "source":[
    "plt.plot(history_2.history['accuracy'])\n",
    "plt.plot(history_2.history['val_accuracy'])\n",
    "plt.title('Accuracy vs Epochs')\n",
    "plt.ylabel('Accuracy')\n",
    "plt.xlabel('Epoch')\n",
    "plt.legend(['Train', 'Validation'], loc='lower right')\n",
    "plt.show()"
   ],
   "execution_count":23,
   "outputs":[
    {
     "data":{
      "image\/png":"[encoded data removed]"
     },
     "metadata":{
      "image\/png":{}
     },
     "output_type":"display_data"
    }
   ],
   "metadata":{
    "datalore":{
     "node_id":"XPsfZpCX9YqkIymQwYDWu2",
     "type":"CODE",
     "hide_input_from_viewers":false,
     "hide_output_from_viewers":false,
     "report_properties":{
      "rowId":"jubv7WefakKwbEOwec3Hay"
     }
    }
   }
  },
  {
   "cell_type":"markdown",
   "source":[
    "**Observations:** \n",
    "\n",
    "- We are able to slightly improve the model performance on the training data but the validation accuracy has increased by 5%.\n",
    "- The validation accuracy is higher than the training accuracy. This might due to the small size of the validation set and the model is able is to correctly classify the data points in the validation set."
   ],
   "attachments":{},
   "metadata":{
    "datalore":{
     "node_id":"p21BZd4QZHyyHVsryDhfa9",
     "type":"MD",
     "hide_input_from_viewers":false,
     "hide_output_from_viewers":false,
     "report_properties":{
      "rowId":"fk7Ow7TCEdZihd2p3eCxtt"
     }
    }
   }
  },
  {
   "cell_type":"markdown",
   "source":[
    "**Let's try to further tune some of the hyper-parameters and check if we can improve the model performance.**\n",
    "\n",
    "We will use learning_rate = 0.001 for the optimizer in the training process and increase the model complexity by further increasing the number of layers, the number of nodes in each layer, and the epochs."
   ],
   "attachments":{},
   "metadata":{
    "datalore":{
     "node_id":"y8SxvNxivvI8tipcNZtKN1",
     "type":"MD",
     "hide_input_from_viewers":false,
     "hide_output_from_viewers":false,
     "report_properties":{
      "rowId":"WoKQa7UCUQCAvpzOOJQXlH"
     }
    }
   }
  },
  {
   "cell_type":"code",
   "source":[
    "# Clearing the backend\n",
    "from tensorflow.keras import backend\n",
    "backend.clear_session()"
   ],
   "execution_count":24,
   "outputs":[],
   "metadata":{
    "datalore":{
     "node_id":"NEib1eDmHhjMYdzzMB07xS",
     "type":"CODE",
     "hide_input_from_viewers":false,
     "hide_output_from_viewers":false,
     "report_properties":{
      "rowId":"btBAtx4Wsq4DCPOMf0xQvu"
     }
    }
   }
  },
  {
   "cell_type":"code",
   "source":[
    "# Fixing the seed for random number generators\n",
    "np.random.seed(42)\n",
    "\n",
    "import random\n",
    "random.seed(42)\n",
    "\n",
    "tf.random.set_seed(42)"
   ],
   "execution_count":25,
   "outputs":[],
   "metadata":{
    "datalore":{
     "node_id":"rLkSwF2rVVzgjzRQdBfoXg",
     "type":"CODE",
     "hide_input_from_viewers":false,
     "hide_output_from_viewers":false,
     "report_properties":{
      "rowId":"26QIO9yu4aDJ3QsJgL8VPV"
     }
    }
   }
  },
  {
   "cell_type":"code",
   "source":[
    "model_3 = Sequential()\n",
    "model_3.add(Dense(256, activation='tanh', input_shape=(7,)))\n",
    "model_3.add(Dropout(0.1))\n",
    "model_3.add(Dense(128, activation='tanh'))\n",
    "model_3.add(Dropout(0.1))\n",
    "model_3.add(Dense(64, activation='tanh'))\n",
    "model_3.add(Dropout(0.1))\n",
    "model_3.add(Dense(32, activation='tanh'))\n",
    "model_3.add(Dense(1, activation='sigmoid'))"
   ],
   "execution_count":26,
   "outputs":[],
   "metadata":{
    "datalore":{
     "node_id":"vBWtXF6nA46M0p5oKL4olc",
     "type":"CODE",
     "hide_input_from_viewers":false,
     "hide_output_from_viewers":false,
     "report_properties":{
      "rowId":"In9KHVZ2KdaoZJCmHOIzj2"
     }
    }
   }
  },
  {
   "cell_type":"code",
   "source":[
    "model_3.compile(loss = 'binary_crossentropy', optimizer=tf.keras.optimizers.Adam(learning_rate=0.001), metrics=['accuracy'])\n",
    "model_3.summary()"
   ],
   "execution_count":27,
   "outputs":[
    {
     "name":"stdout",
     "text":[
      "Model: \"sequential\"\n",
      "_________________________________________________________________\n",
      " Layer (type)                Output Shape              Param #   \n",
      "=================================================================\n",
      " dense (Dense)               (None, 256)               2048      \n",
      "                                                                 \n",
      " dropout (Dropout)           (None, 256)               0         \n",
      "                                                                 \n",
      " dense_1 (Dense)             (None, 128)               32896     \n",
      "                                                                 \n",
      " dropout_1 (Dropout)         (None, 128)               0         \n",
      "                                                                 \n",
      " dense_2 (Dense)             (None, 64)                8256      \n",
      "                                                                 \n",
      " dropout_2 (Dropout)         (None, 64)                0         \n",
      "                                                                 \n",
      " dense_3 (Dense)             (None, 32)                2080      \n",
      "                                                                 \n",
      " dense_4 (Dense)             (None, 1)                 33        \n",
      "                                                                 \n",
      "=================================================================\n",
      "Total params: 45,313\n",
      "Trainable params: 45,313\n",
      "Non-trainable params: 0\n",
      "_________________________________________________________________\n"
     ],
     "output_type":"stream"
    }
   ],
   "metadata":{
    "datalore":{
     "node_id":"NJIv9pTOOX0la44MUR3wiu",
     "type":"CODE",
     "hide_input_from_viewers":false,
     "hide_output_from_viewers":false,
     "report_properties":{
      "rowId":"kpumEJb4vHM5AhqKvvzyjE"
     }
    }
   }
  },
  {
   "cell_type":"markdown",
   "source":[
    "- Notice that the number of trainable parameters has increased substantially as compared to previous models."
   ],
   "attachments":{},
   "metadata":{
    "datalore":{
     "node_id":"apVl2npraYEkvFOL5Hq2TM",
     "type":"MD",
     "hide_input_from_viewers":false,
     "hide_output_from_viewers":false,
     "report_properties":{
      "rowId":"i14AAYAXhlCISi167NCKuJ"
     }
    }
   }
  },
  {
   "cell_type":"code",
   "source":[
    "history_3 = model_3.fit(X_train_normalized, \n",
    "                    y_train, \n",
    "                    validation_split=0.1, \n",
    "                    epochs=200,\n",
    "                    verbose=2)"
   ],
   "execution_count":28,
   "outputs":[
    {
     "name":"stdout",
     "text":[
      "Epoch 1\/200\n",
      "12\/12 - 1s - loss: 0.6646 - accuracy: 0.6722 - val_loss: 0.6486 - val_accuracy: 0.5000 - 1s\/epoch - 111ms\/step\n",
      "Epoch 2\/200\n",
      "12\/12 - 0s - loss: 0.5430 - accuracy: 0.6944 - val_loss: 0.6405 - val_accuracy: 0.5750 - 54ms\/epoch - 5ms\/step\n",
      "Epoch 3\/200\n",
      "12\/12 - 0s - loss: 0.4832 - accuracy: 0.7111 - val_loss: 0.5351 - val_accuracy: 0.8000 - 52ms\/epoch - 4ms\/step\n",
      "Epoch 4\/200\n",
      "12\/12 - 0s - loss: 0.4489 - accuracy: 0.7528 - val_loss: 0.4981 - val_accuracy: 0.8750 - 51ms\/epoch - 4ms\/step\n",
      "Epoch 5\/200\n",
      "12\/12 - 0s - loss: 0.3970 - accuracy: 0.8222 - val_loss: 0.4034 - val_accuracy: 0.8500 - 52ms\/epoch - 4ms\/step\n",
      "Epoch 6\/200\n",
      "12\/12 - 0s - loss: 0.3894 - accuracy: 0.8278 - val_loss: 0.3669 - val_accuracy: 0.8000 - 52ms\/epoch - 4ms\/step\n",
      "Epoch 7\/200\n",
      "12\/12 - 0s - loss: 0.3292 - accuracy: 0.8611 - val_loss: 0.3281 - val_accuracy: 0.8750 - 52ms\/epoch - 4ms\/step\n",
      "Epoch 8\/200\n",
      "12\/12 - 0s - loss: 0.2793 - accuracy: 0.9000 - val_loss: 0.3234 - val_accuracy: 0.9250 - 53ms\/epoch - 4ms\/step\n",
      "Epoch 9\/200\n",
      "12\/12 - 0s - loss: 0.2650 - accuracy: 0.8917 - val_loss: 0.3113 - val_accuracy: 0.9250 - 82ms\/epoch - 7ms\/step\n",
      "Epoch 10\/200\n",
      "12\/12 - 0s - loss: 0.2441 - accuracy: 0.8917 - val_loss: 0.2419 - val_accuracy: 0.9000 - 51ms\/epoch - 4ms\/step\n",
      "Epoch 11\/200\n",
      "12\/12 - 0s - loss: 0.2596 - accuracy: 0.8917 - val_loss: 0.2539 - val_accuracy: 0.9000 - 51ms\/epoch - 4ms\/step\n",
      "Epoch 12\/200\n",
      "12\/12 - 0s - loss: 0.2218 - accuracy: 0.9083 - val_loss: 0.2362 - val_accuracy: 0.9500 - 52ms\/epoch - 4ms\/step\n",
      "Epoch 13\/200\n",
      "12\/12 - 0s - loss: 0.2305 - accuracy: 0.8722 - val_loss: 0.2527 - val_accuracy: 0.9000 - 52ms\/epoch - 4ms\/step\n",
      "Epoch 14\/200\n",
      "12\/12 - 0s - loss: 0.2184 - accuracy: 0.9167 - val_loss: 0.3318 - val_accuracy: 0.9250 - 53ms\/epoch - 4ms\/step\n",
      "Epoch 15\/200\n",
      "12\/12 - 0s - loss: 0.2201 - accuracy: 0.9056 - val_loss: 0.2744 - val_accuracy: 0.9250 - 51ms\/epoch - 4ms\/step\n",
      "Epoch 16\/200\n",
      "12\/12 - 0s - loss: 0.2033 - accuracy: 0.8972 - val_loss: 0.2317 - val_accuracy: 0.9250 - 51ms\/epoch - 4ms\/step\n",
      "Epoch 17\/200\n",
      "12\/12 - 0s - loss: 0.2109 - accuracy: 0.9167 - val_loss: 0.2490 - val_accuracy: 0.9500 - 52ms\/epoch - 4ms\/step\n",
      "Epoch 18\/200\n",
      "12\/12 - 0s - loss: 0.1941 - accuracy: 0.9167 - val_loss: 0.2316 - val_accuracy: 0.9500 - 54ms\/epoch - 4ms\/step\n",
      "Epoch 19\/200\n",
      "12\/12 - 0s - loss: 0.1810 - accuracy: 0.9167 - val_loss: 0.2401 - val_accuracy: 0.9250 - 52ms\/epoch - 4ms\/step\n",
      "Epoch 20\/200\n",
      "12\/12 - 0s - loss: 0.1965 - accuracy: 0.9139 - val_loss: 0.2358 - val_accuracy: 0.9500 - 52ms\/epoch - 4ms\/step\n",
      "Epoch 21\/200\n",
      "12\/12 - 0s - loss: 0.1954 - accuracy: 0.9028 - val_loss: 0.2440 - val_accuracy: 0.9000 - 65ms\/epoch - 5ms\/step\n",
      "Epoch 22\/200\n",
      "12\/12 - 0s - loss: 0.1863 - accuracy: 0.9139 - val_loss: 0.2303 - val_accuracy: 0.9500 - 51ms\/epoch - 4ms\/step\n",
      "Epoch 23\/200\n",
      "12\/12 - 0s - loss: 0.1967 - accuracy: 0.8889 - val_loss: 0.2402 - val_accuracy: 0.9500 - 51ms\/epoch - 4ms\/step\n",
      "Epoch 24\/200\n",
      "12\/12 - 0s - loss: 0.2108 - accuracy: 0.9028 - val_loss: 0.2465 - val_accuracy: 0.9500 - 52ms\/epoch - 4ms\/step\n",
      "Epoch 25\/200\n",
      "12\/12 - 0s - loss: 0.1958 - accuracy: 0.9028 - val_loss: 0.2653 - val_accuracy: 0.9250 - 51ms\/epoch - 4ms\/step\n",
      "Epoch 26\/200\n",
      "12\/12 - 0s - loss: 0.1910 - accuracy: 0.8944 - val_loss: 0.2534 - val_accuracy: 0.9250 - 53ms\/epoch - 4ms\/step\n",
      "Epoch 27\/200\n",
      "12\/12 - 0s - loss: 0.1593 - accuracy: 0.9333 - val_loss: 0.2960 - val_accuracy: 0.9250 - 51ms\/epoch - 4ms\/step\n",
      "Epoch 28\/200\n",
      "12\/12 - 0s - loss: 0.1922 - accuracy: 0.9056 - val_loss: 0.2475 - val_accuracy: 0.9000 - 51ms\/epoch - 4ms\/step\n",
      "Epoch 29\/200\n",
      "12\/12 - 0s - loss: 0.2352 - accuracy: 0.8917 - val_loss: 0.2514 - val_accuracy: 0.9250 - 54ms\/epoch - 4ms\/step\n",
      "Epoch 30\/200\n",
      "12\/12 - 0s - loss: 0.1966 - accuracy: 0.9083 - val_loss: 0.2369 - val_accuracy: 0.9250 - 53ms\/epoch - 4ms\/step\n",
      "Epoch 31\/200\n",
      "12\/12 - 0s - loss: 0.1844 - accuracy: 0.9111 - val_loss: 0.2727 - val_accuracy: 0.9250 - 52ms\/epoch - 4ms\/step\n",
      "Epoch 32\/200\n",
      "12\/12 - 0s - loss: 0.1726 - accuracy: 0.9194 - val_loss: 0.2369 - val_accuracy: 0.9250 - 54ms\/epoch - 4ms\/step\n",
      "Epoch 33\/200\n",
      "12\/12 - 0s - loss: 0.1671 - accuracy: 0.9278 - val_loss: 0.2448 - val_accuracy: 0.9000 - 51ms\/epoch - 4ms\/step\n",
      "Epoch 34\/200\n",
      "12\/12 - 0s - loss: 0.1765 - accuracy: 0.9250 - val_loss: 0.2384 - val_accuracy: 0.9250 - 51ms\/epoch - 4ms\/step\n",
      "Epoch 35\/200\n",
      "12\/12 - 0s - loss: 0.1828 - accuracy: 0.9111 - val_loss: 0.2255 - val_accuracy: 0.9250 - 54ms\/epoch - 4ms\/step\n",
      "Epoch 36\/200\n",
      "12\/12 - 0s - loss: 0.1884 - accuracy: 0.9139 - val_loss: 0.2368 - val_accuracy: 0.9500 - 52ms\/epoch - 4ms\/step\n",
      "Epoch 37\/200\n",
      "12\/12 - 0s - loss: 0.1767 - accuracy: 0.9222 - val_loss: 0.2455 - val_accuracy: 0.9250 - 54ms\/epoch - 4ms\/step\n",
      "Epoch 38\/200\n",
      "12\/12 - 0s - loss: 0.1869 - accuracy: 0.9056 - val_loss: 0.2429 - val_accuracy: 0.9000 - 51ms\/epoch - 4ms\/step\n",
      "Epoch 39\/200\n",
      "12\/12 - 0s - loss: 0.1657 - accuracy: 0.9250 - val_loss: 0.2284 - val_accuracy: 0.9250 - 53ms\/epoch - 4ms\/step\n",
      "Epoch 40\/200\n",
      "12\/12 - 0s - loss: 0.1740 - accuracy: 0.9194 - val_loss: 0.3037 - val_accuracy: 0.9250 - 56ms\/epoch - 5ms\/step\n",
      "Epoch 41\/200\n",
      "12\/12 - 0s - loss: 0.1814 - accuracy: 0.9167 - val_loss: 0.2351 - val_accuracy: 0.9500 - 52ms\/epoch - 4ms\/step\n",
      "Epoch 42\/200\n",
      "12\/12 - 0s - loss: 0.1678 - accuracy: 0.9222 - val_loss: 0.2536 - val_accuracy: 0.9250 - 51ms\/epoch - 4ms\/step\n",
      "Epoch 43\/200\n",
      "12\/12 - 0s - loss: 0.1755 - accuracy: 0.9139 - val_loss: 0.2705 - val_accuracy: 0.9250 - 52ms\/epoch - 4ms\/step\n",
      "Epoch 44\/200\n",
      "12\/12 - 0s - loss: 0.1674 - accuracy: 0.9167 - val_loss: 0.2322 - val_accuracy: 0.9250 - 53ms\/epoch - 4ms\/step\n",
      "Epoch 45\/200\n",
      "12\/12 - 0s - loss: 0.1628 - accuracy: 0.9250 - val_loss: 0.2367 - val_accuracy: 0.9250 - 53ms\/epoch - 4ms\/step\n",
      "Epoch 46\/200\n",
      "12\/12 - 0s - loss: 0.1697 - accuracy: 0.9222 - val_loss: 0.2357 - val_accuracy: 0.9500 - 53ms\/epoch - 4ms\/step\n",
      "Epoch 47\/200\n",
      "12\/12 - 0s - loss: 0.1680 - accuracy: 0.9222 - val_loss: 0.2468 - val_accuracy: 0.9500 - 53ms\/epoch - 4ms\/step\n",
      "Epoch 48\/200\n",
      "12\/12 - 0s - loss: 0.1786 - accuracy: 0.9278 - val_loss: 0.2511 - val_accuracy: 0.9250 - 54ms\/epoch - 5ms\/step\n",
      "Epoch 49\/200\n",
      "12\/12 - 0s - loss: 0.1787 - accuracy: 0.9167 - val_loss: 0.2333 - val_accuracy: 0.9250 - 53ms\/epoch - 4ms\/step\n",
      "Epoch 50\/200\n",
      "12\/12 - 0s - loss: 0.1606 - accuracy: 0.9222 - val_loss: 0.2668 - val_accuracy: 0.9250 - 54ms\/epoch - 5ms\/step\n",
      "Epoch 51\/200\n",
      "12\/12 - 0s - loss: 0.1740 - accuracy: 0.9222 - val_loss: 0.2483 - val_accuracy: 0.9000 - 53ms\/epoch - 4ms\/step\n",
      "Epoch 52\/200\n",
      "12\/12 - 0s - loss: 0.1597 - accuracy: 0.9194 - val_loss: 0.2374 - val_accuracy: 0.9250 - 56ms\/epoch - 5ms\/step\n",
      "Epoch 53\/200\n",
      "12\/12 - 0s - loss: 0.1650 - accuracy: 0.9194 - val_loss: 0.2832 - val_accuracy: 0.9250 - 54ms\/epoch - 4ms\/step\n",
      "Epoch 54\/200\n",
      "12\/12 - 0s - loss: 0.1997 - accuracy: 0.9111 - val_loss: 0.2359 - val_accuracy: 0.9500 - 54ms\/epoch - 4ms\/step\n",
      "Epoch 55\/200\n",
      "12\/12 - 0s - loss: 0.1714 - accuracy: 0.9278 - val_loss: 0.2373 - val_accuracy: 0.9250 - 56ms\/epoch - 5ms\/step\n",
      "Epoch 56\/200\n",
      "12\/12 - 0s - loss: 0.1693 - accuracy: 0.9083 - val_loss: 0.2497 - val_accuracy: 0.9500 - 55ms\/epoch - 5ms\/step\n",
      "Epoch 57\/200\n",
      "12\/12 - 0s - loss: 0.1567 - accuracy: 0.9306 - val_loss: 0.2557 - val_accuracy: 0.9250 - 68ms\/epoch - 6ms\/step\n",
      "Epoch 58\/200\n",
      "12\/12 - 0s - loss: 0.1639 - accuracy: 0.9250 - val_loss: 0.2432 - val_accuracy: 0.9250 - 53ms\/epoch - 4ms\/step\n",
      "Epoch 59\/200\n",
      "12\/12 - 0s - loss: 0.1926 - accuracy: 0.9111 - val_loss: 0.2692 - val_accuracy: 0.9250 - 56ms\/epoch - 5ms\/step\n",
      "Epoch 60\/200\n",
      "12\/12 - 0s - loss: 0.1631 - accuracy: 0.9250 - val_loss: 0.2691 - val_accuracy: 0.9250 - 53ms\/epoch - 4ms\/step\n",
      "Epoch 61\/200\n",
      "12\/12 - 0s - loss: 0.1717 - accuracy: 0.9250 - val_loss: 0.2436 - val_accuracy: 0.9250 - 53ms\/epoch - 4ms\/step\n",
      "Epoch 62\/200\n",
      "12\/12 - 0s - loss: 0.1564 - accuracy: 0.9222 - val_loss: 0.2444 - val_accuracy: 0.9250 - 52ms\/epoch - 4ms\/step\n",
      "Epoch 63\/200\n",
      "12\/12 - 0s - loss: 0.1659 - accuracy: 0.9278 - val_loss: 0.2335 - val_accuracy: 0.9250 - 50ms\/epoch - 4ms\/step\n",
      "Epoch 64\/200\n",
      "12\/12 - 0s - loss: 0.1543 - accuracy: 0.9278 - val_loss: 0.2521 - val_accuracy: 0.9500 - 48ms\/epoch - 4ms\/step\n",
      "Epoch 65\/200\n",
      "12\/12 - 0s - loss: 0.1667 - accuracy: 0.9222 - val_loss: 0.2615 - val_accuracy: 0.9250 - 48ms\/epoch - 4ms\/step\n",
      "Epoch 66\/200\n",
      "12\/12 - 0s - loss: 0.1784 - accuracy: 0.9250 - val_loss: 0.2605 - val_accuracy: 0.9250 - 48ms\/epoch - 4ms\/step\n",
      "Epoch 67\/200\n",
      "12\/12 - 0s - loss: 0.2152 - accuracy: 0.9083 - val_loss: 0.2797 - val_accuracy: 0.9250 - 49ms\/epoch - 4ms\/step\n",
      "Epoch 68\/200\n",
      "12\/12 - 0s - loss: 0.2158 - accuracy: 0.9028 - val_loss: 0.2910 - val_accuracy: 0.9250 - 48ms\/epoch - 4ms\/step\n",
      "Epoch 69\/200\n",
      "12\/12 - 0s - loss: 0.1815 - accuracy: 0.9167 - val_loss: 0.2417 - val_accuracy: 0.9250 - 51ms\/epoch - 4ms\/step\n",
      "Epoch 70\/200\n",
      "12\/12 - 0s - loss: 0.1630 - accuracy: 0.9361 - val_loss: 0.2594 - val_accuracy: 0.9250 - 48ms\/epoch - 4ms\/step\n",
      "Epoch 71\/200\n",
      "12\/12 - 0s - loss: 0.1505 - accuracy: 0.9333 - val_loss: 0.2459 - val_accuracy: 0.9500 - 57ms\/epoch - 5ms\/step\n",
      "Epoch 72\/200\n",
      "12\/12 - 0s - loss: 0.1701 - accuracy: 0.9194 - val_loss: 0.2993 - val_accuracy: 0.9250 - 50ms\/epoch - 4ms\/step\n",
      "Epoch 73\/200\n",
      "12\/12 - 0s - loss: 0.1656 - accuracy: 0.9250 - val_loss: 0.2395 - val_accuracy: 0.9250 - 48ms\/epoch - 4ms\/step\n",
      "Epoch 74\/200\n",
      "12\/12 - 0s - loss: 0.1426 - accuracy: 0.9417 - val_loss: 0.2754 - val_accuracy: 0.9250 - 49ms\/epoch - 4ms\/step\n",
      "Epoch 75\/200\n",
      "12\/12 - 0s - loss: 0.1731 - accuracy: 0.9333 - val_loss: 0.2417 - val_accuracy: 0.9500 - 47ms\/epoch - 4ms\/step\n",
      "Epoch 76\/200\n",
      "12\/12 - 0s - loss: 0.1577 - accuracy: 0.9389 - val_loss: 0.2377 - val_accuracy: 0.9500 - 48ms\/epoch - 4ms\/step\n",
      "Epoch 77\/200\n",
      "12\/12 - 0s - loss: 0.1610 - accuracy: 0.9250 - val_loss: 0.2544 - val_accuracy: 0.9250 - 48ms\/epoch - 4ms\/step\n",
      "Epoch 78\/200\n",
      "12\/12 - 0s - loss: 0.1560 - accuracy: 0.9278 - val_loss: 0.2560 - val_accuracy: 0.9250 - 48ms\/epoch - 4ms\/step\n",
      "Epoch 79\/200\n",
      "12\/12 - 0s - loss: 0.1618 - accuracy: 0.9278 - val_loss: 0.2519 - val_accuracy: 0.9250 - 53ms\/epoch - 4ms\/step\n",
      "Epoch 80\/200\n",
      "12\/12 - 0s - loss: 0.1650 - accuracy: 0.9222 - val_loss: 0.2502 - val_accuracy: 0.9500 - 48ms\/epoch - 4ms\/step\n",
      "Epoch 81\/200\n",
      "12\/12 - 0s - loss: 0.1600 - accuracy: 0.9250 - val_loss: 0.2385 - val_accuracy: 0.9500 - 48ms\/epoch - 4ms\/step\n",
      "Epoch 82\/200\n",
      "12\/12 - 0s - loss: 0.1484 - accuracy: 0.9222 - val_loss: 0.2491 - val_accuracy: 0.9000 - 50ms\/epoch - 4ms\/step\n",
      "Epoch 83\/200\n",
      "12\/12 - 0s - loss: 0.1638 - accuracy: 0.9333 - val_loss: 0.2455 - val_accuracy: 0.9500 - 46ms\/epoch - 4ms\/step\n",
      "Epoch 84\/200\n",
      "12\/12 - 0s - loss: 0.1587 - accuracy: 0.9361 - val_loss: 0.2823 - val_accuracy: 0.9250 - 50ms\/epoch - 4ms\/step\n",
      "Epoch 85\/200\n",
      "12\/12 - 0s - loss: 0.1690 - accuracy: 0.9278 - val_loss: 0.2735 - val_accuracy: 0.9250 - 49ms\/epoch - 4ms\/step\n",
      "Epoch 86\/200\n",
      "12\/12 - 0s - loss: 0.1510 - accuracy: 0.9389 - val_loss: 0.2500 - val_accuracy: 0.9250 - 49ms\/epoch - 4ms\/step\n",
      "Epoch 87\/200\n",
      "12\/12 - 0s - loss: 0.1584 - accuracy: 0.9361 - val_loss: 0.2876 - val_accuracy: 0.9250 - 49ms\/epoch - 4ms\/step\n",
      "Epoch 88\/200\n",
      "12\/12 - 0s - loss: 0.2074 - accuracy: 0.9028 - val_loss: 0.2312 - val_accuracy: 0.9500 - 51ms\/epoch - 4ms\/step\n",
      "Epoch 89\/200\n",
      "12\/12 - 0s - loss: 0.1519 - accuracy: 0.9361 - val_loss: 0.2518 - val_accuracy: 0.9250 - 47ms\/epoch - 4ms\/step\n",
      "Epoch 90\/200\n",
      "12\/12 - 0s - loss: 0.1461 - accuracy: 0.9333 - val_loss: 0.2433 - val_accuracy: 0.9250 - 77ms\/epoch - 6ms\/step\n",
      "Epoch 91\/200\n",
      "12\/12 - 0s - loss: 0.1505 - accuracy: 0.9333 - val_loss: 0.2417 - val_accuracy: 0.9500 - 48ms\/epoch - 4ms\/step\n",
      "Epoch 92\/200\n",
      "12\/12 - 0s - loss: 0.1447 - accuracy: 0.9417 - val_loss: 0.2328 - val_accuracy: 0.9500 - 50ms\/epoch - 4ms\/step\n",
      "Epoch 93\/200\n",
      "12\/12 - 0s - loss: 0.1440 - accuracy: 0.9333 - val_loss: 0.2612 - val_accuracy: 0.9250 - 55ms\/epoch - 5ms\/step\n",
      "Epoch 94\/200\n",
      "12\/12 - 0s - loss: 0.1505 - accuracy: 0.9472 - val_loss: 0.2667 - val_accuracy: 0.9250 - 54ms\/epoch - 5ms\/step\n",
      "Epoch 95\/200\n",
      "12\/12 - 0s - loss: 0.1625 - accuracy: 0.9278 - val_loss: 0.2362 - val_accuracy: 0.9500 - 54ms\/epoch - 5ms\/step\n",
      "Epoch 96\/200\n",
      "12\/12 - 0s - loss: 0.1782 - accuracy: 0.9194 - val_loss: 0.2476 - val_accuracy: 0.9250 - 53ms\/epoch - 4ms\/step\n",
      "Epoch 97\/200\n",
      "12\/12 - 0s - loss: 0.1520 - accuracy: 0.9250 - val_loss: 0.2729 - val_accuracy: 0.9250 - 52ms\/epoch - 4ms\/step\n",
      "Epoch 98\/200\n",
      "12\/12 - 0s - loss: 0.1449 - accuracy: 0.9389 - val_loss: 0.2392 - val_accuracy: 0.9250 - 53ms\/epoch - 4ms\/step\n",
      "Epoch 99\/200\n",
      "12\/12 - 0s - loss: 0.1753 - accuracy: 0.9139 - val_loss: 0.2997 - val_accuracy: 0.9250 - 52ms\/epoch - 4ms\/step\n",
      "Epoch 100\/200\n",
      "12\/12 - 0s - loss: 0.1421 - accuracy: 0.9333 - val_loss: 0.2583 - val_accuracy: 0.9250 - 53ms\/epoch - 4ms\/step\n",
      "Epoch 101\/200\n",
      "12\/12 - 0s - loss: 0.1437 - accuracy: 0.9333 - val_loss: 0.2463 - val_accuracy: 0.9500 - 53ms\/epoch - 4ms\/step\n",
      "Epoch 102\/200\n",
      "12\/12 - 0s - loss: 0.1543 - accuracy: 0.9306 - val_loss: 0.2429 - val_accuracy: 0.9500 - 70ms\/epoch - 6ms\/step\n",
      "Epoch 103\/200\n",
      "12\/12 - 0s - loss: 0.1464 - accuracy: 0.9361 - val_loss: 0.3245 - val_accuracy: 0.9250 - 55ms\/epoch - 5ms\/step\n",
      "Epoch 104\/200\n",
      "12\/12 - 0s - loss: 0.1696 - accuracy: 0.9278 - val_loss: 0.2673 - val_accuracy: 0.9250 - 52ms\/epoch - 4ms\/step\n",
      "Epoch 105\/200\n",
      "12\/12 - 0s - loss: 0.1666 - accuracy: 0.9278 - val_loss: 0.2669 - val_accuracy: 0.9250 - 53ms\/epoch - 4ms\/step\n",
      "Epoch 106\/200\n",
      "12\/12 - 0s - loss: 0.1501 - accuracy: 0.9306 - val_loss: 0.2497 - val_accuracy: 0.9500 - 53ms\/epoch - 4ms\/step\n",
      "Epoch 107\/200\n",
      "12\/12 - 0s - loss: 0.1769 - accuracy: 0.9306 - val_loss: 0.2334 - val_accuracy: 0.9500 - 54ms\/epoch - 4ms\/step\n",
      "Epoch 108\/200\n",
      "12\/12 - 0s - loss: 0.1583 - accuracy: 0.9306 - val_loss: 0.2748 - val_accuracy: 0.9250 - 53ms\/epoch - 4ms\/step\n",
      "Epoch 109\/200\n",
      "12\/12 - 0s - loss: 0.1607 - accuracy: 0.9361 - val_loss: 0.2464 - val_accuracy: 0.9500 - 53ms\/epoch - 4ms\/step\n",
      "Epoch 110\/200\n",
      "12\/12 - 0s - loss: 0.1396 - accuracy: 0.9333 - val_loss: 0.2352 - val_accuracy: 0.9250 - 54ms\/epoch - 5ms\/step\n",
      "Epoch 111\/200\n",
      "12\/12 - 0s - loss: 0.1783 - accuracy: 0.9222 - val_loss: 0.3289 - val_accuracy: 0.9250 - 52ms\/epoch - 4ms\/step\n",
      "Epoch 112\/200\n",
      "12\/12 - 0s - loss: 0.1812 - accuracy: 0.9250 - val_loss: 0.2465 - val_accuracy: 0.9250 - 54ms\/epoch - 4ms\/step\n",
      "Epoch 113\/200\n",
      "12\/12 - 0s - loss: 0.1672 - accuracy: 0.9222 - val_loss: 0.2505 - val_accuracy: 0.9500 - 54ms\/epoch - 4ms\/step\n",
      "Epoch 114\/200\n",
      "12\/12 - 0s - loss: 0.1468 - accuracy: 0.9333 - val_loss: 0.2608 - val_accuracy: 0.9250 - 53ms\/epoch - 4ms\/step\n",
      "Epoch 115\/200\n",
      "12\/12 - 0s - loss: 0.1468 - accuracy: 0.9250 - val_loss: 0.2408 - val_accuracy: 0.9250 - 54ms\/epoch - 4ms\/step\n",
      "Epoch 116\/200\n",
      "12\/12 - 0s - loss: 0.1599 - accuracy: 0.9278 - val_loss: 0.2408 - val_accuracy: 0.9500 - 59ms\/epoch - 5ms\/step\n",
      "Epoch 117\/200\n",
      "12\/12 - 0s - loss: 0.1540 - accuracy: 0.9306 - val_loss: 0.2746 - val_accuracy: 0.9250 - 53ms\/epoch - 4ms\/step\n",
      "Epoch 118\/200\n",
      "12\/12 - 0s - loss: 0.1551 - accuracy: 0.9306 - val_loss: 0.2487 - val_accuracy: 0.9500 - 76ms\/epoch - 6ms\/step\n",
      "Epoch 119\/200\n",
      "12\/12 - 0s - loss: 0.1478 - accuracy: 0.9333 - val_loss: 0.2526 - val_accuracy: 0.9500 - 53ms\/epoch - 4ms\/step\n",
      "Epoch 120\/200\n",
      "12\/12 - 0s - loss: 0.1392 - accuracy: 0.9417 - val_loss: 0.2563 - val_accuracy: 0.9250 - 55ms\/epoch - 5ms\/step\n",
      "Epoch 121\/200\n",
      "12\/12 - 0s - loss: 0.1438 - accuracy: 0.9444 - val_loss: 0.2561 - val_accuracy: 0.9500 - 52ms\/epoch - 4ms\/step\n",
      "Epoch 122\/200\n",
      "12\/12 - 0s - loss: 0.1425 - accuracy: 0.9389 - val_loss: 0.2446 - val_accuracy: 0.9500 - 55ms\/epoch - 5ms\/step\n",
      "Epoch 123\/200\n",
      "12\/12 - 0s - loss: 0.1384 - accuracy: 0.9472 - val_loss: 0.2669 - val_accuracy: 0.9250 - 52ms\/epoch - 4ms\/step\n",
      "Epoch 124\/200\n",
      "12\/12 - 0s - loss: 0.1465 - accuracy: 0.9250 - val_loss: 0.2451 - val_accuracy: 0.9500 - 52ms\/epoch - 4ms\/step\n",
      "Epoch 125\/200\n",
      "12\/12 - 0s - loss: 0.1473 - accuracy: 0.9306 - val_loss: 0.2410 - val_accuracy: 0.9500 - 54ms\/epoch - 5ms\/step\n",
      "Epoch 126\/200\n",
      "12\/12 - 0s - loss: 0.1545 - accuracy: 0.9389 - val_loss: 0.2388 - val_accuracy: 0.9500 - 57ms\/epoch - 5ms\/step\n",
      "Epoch 127\/200\n",
      "12\/12 - 0s - loss: 0.1417 - accuracy: 0.9333 - val_loss: 0.2819 - val_accuracy: 0.9250 - 54ms\/epoch - 4ms\/step\n",
      "Epoch 128\/200\n",
      "12\/12 - 0s - loss: 0.1502 - accuracy: 0.9333 - val_loss: 0.2487 - val_accuracy: 0.9250 - 53ms\/epoch - 4ms\/step\n",
      "Epoch 129\/200\n",
      "12\/12 - 0s - loss: 0.1548 - accuracy: 0.9361 - val_loss: 0.2704 - val_accuracy: 0.9250 - 56ms\/epoch - 5ms\/step\n",
      "Epoch 130\/200\n",
      "12\/12 - 0s - loss: 0.1334 - accuracy: 0.9472 - val_loss: 0.2568 - val_accuracy: 0.9500 - 54ms\/epoch - 4ms\/step\n",
      "Epoch 131\/200\n",
      "12\/12 - 0s - loss: 0.1516 - accuracy: 0.9167 - val_loss: 0.2543 - val_accuracy: 0.9500 - 53ms\/epoch - 4ms\/step\n",
      "Epoch 132\/200\n",
      "12\/12 - 0s - loss: 0.1446 - accuracy: 0.9306 - val_loss: 0.2483 - val_accuracy: 0.9250 - 56ms\/epoch - 5ms\/step\n",
      "Epoch 133\/200\n",
      "12\/12 - 0s - loss: 0.1438 - accuracy: 0.9417 - val_loss: 0.2661 - val_accuracy: 0.9500 - 55ms\/epoch - 5ms\/step\n",
      "Epoch 134\/200\n",
      "12\/12 - 0s - loss: 0.1433 - accuracy: 0.9333 - val_loss: 0.2552 - val_accuracy: 0.9250 - 71ms\/epoch - 6ms\/step\n",
      "Epoch 135\/200\n",
      "12\/12 - 0s - loss: 0.1339 - accuracy: 0.9500 - val_loss: 0.2844 - val_accuracy: 0.9250 - 50ms\/epoch - 4ms\/step\n",
      "Epoch 136\/200\n",
      "12\/12 - 0s - loss: 0.1499 - accuracy: 0.9250 - val_loss: 0.2535 - val_accuracy: 0.9500 - 56ms\/epoch - 5ms\/step\n",
      "Epoch 137\/200\n",
      "12\/12 - 0s - loss: 0.1431 - accuracy: 0.9333 - val_loss: 0.2592 - val_accuracy: 0.9500 - 65ms\/epoch - 5ms\/step\n",
      "Epoch 138\/200\n",
      "12\/12 - 0s - loss: 0.1369 - accuracy: 0.9333 - val_loss: 0.2650 - val_accuracy: 0.9500 - 63ms\/epoch - 5ms\/step\n",
      "Epoch 139\/200\n",
      "12\/12 - 0s - loss: 0.1501 - accuracy: 0.9306 - val_loss: 0.2968 - val_accuracy: 0.9250 - 55ms\/epoch - 5ms\/step\n",
      "Epoch 140\/200\n",
      "12\/12 - 0s - loss: 0.1595 - accuracy: 0.9194 - val_loss: 0.2561 - val_accuracy: 0.9250 - 54ms\/epoch - 5ms\/step\n",
      "Epoch 141\/200\n",
      "12\/12 - 0s - loss: 0.1472 - accuracy: 0.9417 - val_loss: 0.2880 - val_accuracy: 0.9250 - 55ms\/epoch - 5ms\/step\n",
      "Epoch 142\/200\n",
      "12\/12 - 0s - loss: 0.1667 - accuracy: 0.9389 - val_loss: 0.2907 - val_accuracy: 0.9250 - 56ms\/epoch - 5ms\/step\n",
      "Epoch 143\/200\n",
      "12\/12 - 0s - loss: 0.1926 - accuracy: 0.9194 - val_loss: 0.2546 - val_accuracy: 0.9250 - 55ms\/epoch - 5ms\/step\n",
      "Epoch 144\/200\n",
      "12\/12 - 0s - loss: 0.1611 - accuracy: 0.9250 - val_loss: 0.2920 - val_accuracy: 0.9250 - 55ms\/epoch - 5ms\/step\n",
      "Epoch 145\/200\n",
      "12\/12 - 0s - loss: 0.1490 - accuracy: 0.9444 - val_loss: 0.2658 - val_accuracy: 0.9500 - 57ms\/epoch - 5ms\/step\n",
      "Epoch 146\/200\n",
      "12\/12 - 0s - loss: 0.1618 - accuracy: 0.9250 - val_loss: 0.2544 - val_accuracy: 0.9500 - 57ms\/epoch - 5ms\/step\n",
      "Epoch 147\/200\n",
      "12\/12 - 0s - loss: 0.1726 - accuracy: 0.9250 - val_loss: 0.3022 - val_accuracy: 0.9250 - 54ms\/epoch - 5ms\/step\n",
      "Epoch 148\/200\n",
      "12\/12 - 0s - loss: 0.1317 - accuracy: 0.9500 - val_loss: 0.2553 - val_accuracy: 0.9500 - 70ms\/epoch - 6ms\/step\n",
      "Epoch 149\/200\n",
      "12\/12 - 0s - loss: 0.1511 - accuracy: 0.9222 - val_loss: 0.2579 - val_accuracy: 0.9500 - 55ms\/epoch - 5ms\/step\n",
      "Epoch 150\/200\n",
      "12\/12 - 0s - loss: 0.1562 - accuracy: 0.9250 - val_loss: 0.2683 - val_accuracy: 0.9500 - 54ms\/epoch - 5ms\/step\n",
      "Epoch 151\/200\n",
      "12\/12 - 0s - loss: 0.1392 - accuracy: 0.9417 - val_loss: 0.2611 - val_accuracy: 0.9500 - 71ms\/epoch - 6ms\/step\n",
      "Epoch 152\/200\n",
      "12\/12 - 0s - loss: 0.1512 - accuracy: 0.9278 - val_loss: 0.2551 - val_accuracy: 0.9500 - 79ms\/epoch - 7ms\/step\n",
      "Epoch 153\/200\n",
      "12\/12 - 0s - loss: 0.1520 - accuracy: 0.9389 - val_loss: 0.2613 - val_accuracy: 0.9500 - 74ms\/epoch - 6ms\/step\n",
      "Epoch 154\/200\n",
      "12\/12 - 0s - loss: 0.1561 - accuracy: 0.9250 - val_loss: 0.2627 - val_accuracy: 0.9500 - 53ms\/epoch - 4ms\/step\n",
      "Epoch 155\/200\n",
      "12\/12 - 0s - loss: 0.1581 - accuracy: 0.9389 - val_loss: 0.2826 - val_accuracy: 0.9250 - 73ms\/epoch - 6ms\/step\n",
      "Epoch 156\/200\n",
      "12\/12 - 0s - loss: 0.1441 - accuracy: 0.9389 - val_loss: 0.2637 - val_accuracy: 0.9500 - 53ms\/epoch - 4ms\/step\n",
      "Epoch 157\/200\n",
      "12\/12 - 0s - loss: 0.1438 - accuracy: 0.9389 - val_loss: 0.2637 - val_accuracy: 0.9500 - 58ms\/epoch - 5ms\/step\n",
      "Epoch 158\/200\n",
      "12\/12 - 0s - loss: 0.1433 - accuracy: 0.9250 - val_loss: 0.2544 - val_accuracy: 0.9250 - 49ms\/epoch - 4ms\/step\n",
      "Epoch 159\/200\n",
      "12\/12 - 0s - loss: 0.1495 - accuracy: 0.9278 - val_loss: 0.2666 - val_accuracy: 0.9500 - 83ms\/epoch - 7ms\/step\n",
      "Epoch 160\/200\n",
      "12\/12 - 0s - loss: 0.1459 - accuracy: 0.9361 - val_loss: 0.3008 - val_accuracy: 0.9250 - 81ms\/epoch - 7ms\/step\n",
      "Epoch 161\/200\n",
      "12\/12 - 0s - loss: 0.1458 - accuracy: 0.9389 - val_loss: 0.2603 - val_accuracy: 0.9500 - 84ms\/epoch - 7ms\/step\n",
      "Epoch 162\/200\n",
      "12\/12 - 0s - loss: 0.1397 - accuracy: 0.9361 - val_loss: 0.2550 - val_accuracy: 0.9500 - 79ms\/epoch - 7ms\/step\n",
      "Epoch 163\/200\n",
      "12\/12 - 0s - loss: 0.1493 - accuracy: 0.9278 - val_loss: 0.2682 - val_accuracy: 0.9500 - 96ms\/epoch - 8ms\/step\n",
      "Epoch 164\/200\n",
      "12\/12 - 0s - loss: 0.1364 - accuracy: 0.9417 - val_loss: 0.2600 - val_accuracy: 0.9500 - 76ms\/epoch - 6ms\/step\n",
      "Epoch 165\/200\n",
      "12\/12 - 0s - loss: 0.1615 - accuracy: 0.9306 - val_loss: 0.2531 - val_accuracy: 0.9500 - 56ms\/epoch - 5ms\/step\n",
      "Epoch 166\/200\n",
      "12\/12 - 0s - loss: 0.1553 - accuracy: 0.9361 - val_loss: 0.3416 - val_accuracy: 0.9250 - 52ms\/epoch - 4ms\/step\n",
      "Epoch 167\/200\n",
      "12\/12 - 0s - loss: 0.1767 - accuracy: 0.9222 - val_loss: 0.2610 - val_accuracy: 0.9500 - 53ms\/epoch - 4ms\/step\n",
      "Epoch 168\/200\n",
      "12\/12 - 0s - loss: 0.1503 - accuracy: 0.9278 - val_loss: 0.2498 - val_accuracy: 0.9500 - 54ms\/epoch - 4ms\/step\n",
      "Epoch 169\/200\n",
      "12\/12 - 0s - loss: 0.1528 - accuracy: 0.9250 - val_loss: 0.2620 - val_accuracy: 0.9500 - 54ms\/epoch - 4ms\/step\n",
      "Epoch 170\/200\n",
      "12\/12 - 0s - loss: 0.1300 - accuracy: 0.9444 - val_loss: 0.2496 - val_accuracy: 0.9500 - 53ms\/epoch - 4ms\/step\n",
      "Epoch 171\/200\n",
      "12\/12 - 0s - loss: 0.1450 - accuracy: 0.9361 - val_loss: 0.2825 - val_accuracy: 0.9250 - 53ms\/epoch - 4ms\/step\n",
      "Epoch 172\/200\n",
      "12\/12 - 0s - loss: 0.1331 - accuracy: 0.9500 - val_loss: 0.2543 - val_accuracy: 0.9250 - 71ms\/epoch - 6ms\/step\n",
      "Epoch 173\/200\n",
      "12\/12 - 0s - loss: 0.1439 - accuracy: 0.9417 - val_loss: 0.2699 - val_accuracy: 0.9500 - 53ms\/epoch - 4ms\/step\n",
      "Epoch 174\/200\n",
      "12\/12 - 0s - loss: 0.1345 - accuracy: 0.9417 - val_loss: 0.2530 - val_accuracy: 0.9500 - 54ms\/epoch - 4ms\/step\n",
      "Epoch 175\/200\n",
      "12\/12 - 0s - loss: 0.1290 - accuracy: 0.9389 - val_loss: 0.2663 - val_accuracy: 0.9500 - 55ms\/epoch - 5ms\/step\n",
      "Epoch 176\/200\n",
      "12\/12 - 0s - loss: 0.1345 - accuracy: 0.9500 - val_loss: 0.2560 - val_accuracy: 0.9500 - 53ms\/epoch - 4ms\/step\n",
      "Epoch 177\/200\n",
      "12\/12 - 0s - loss: 0.1428 - accuracy: 0.9361 - val_loss: 0.2637 - val_accuracy: 0.9500 - 80ms\/epoch - 7ms\/step\n",
      "Epoch 178\/200\n",
      "12\/12 - 0s - loss: 0.1534 - accuracy: 0.9333 - val_loss: 0.2557 - val_accuracy: 0.9500 - 79ms\/epoch - 7ms\/step\n",
      "Epoch 179\/200\n",
      "12\/12 - 0s - loss: 0.1374 - accuracy: 0.9444 - val_loss: 0.2827 - val_accuracy: 0.9250 - 81ms\/epoch - 7ms\/step\n",
      "Epoch 180\/200\n",
      "12\/12 - 0s - loss: 0.1383 - accuracy: 0.9444 - val_loss: 0.2521 - val_accuracy: 0.9500 - 94ms\/epoch - 8ms\/step\n",
      "Epoch 181\/200\n",
      "12\/12 - 0s - loss: 0.1449 - accuracy: 0.9361 - val_loss: 0.2574 - val_accuracy: 0.9500 - 56ms\/epoch - 5ms\/step\n",
      "Epoch 182\/200\n",
      "12\/12 - 0s - loss: 0.1354 - accuracy: 0.9472 - val_loss: 0.3320 - val_accuracy: 0.9250 - 52ms\/epoch - 4ms\/step\n",
      "Epoch 183\/200\n",
      "12\/12 - 0s - loss: 0.1462 - accuracy: 0.9278 - val_loss: 0.2620 - val_accuracy: 0.9250 - 53ms\/epoch - 4ms\/step\n",
      "Epoch 184\/200\n",
      "12\/12 - 0s - loss: 0.1657 - accuracy: 0.9250 - val_loss: 0.2942 - val_accuracy: 0.9250 - 52ms\/epoch - 4ms\/step\n",
      "Epoch 185\/200\n",
      "12\/12 - 0s - loss: 0.1442 - accuracy: 0.9361 - val_loss: 0.2642 - val_accuracy: 0.9500 - 57ms\/epoch - 5ms\/step\n",
      "Epoch 186\/200\n",
      "12\/12 - 0s - loss: 0.1357 - accuracy: 0.9472 - val_loss: 0.2549 - val_accuracy: 0.9250 - 51ms\/epoch - 4ms\/step\n",
      "Epoch 187\/200\n",
      "12\/12 - 0s - loss: 0.1328 - accuracy: 0.9417 - val_loss: 0.2723 - val_accuracy: 0.9250 - 54ms\/epoch - 4ms\/step\n",
      "Epoch 188\/200\n",
      "12\/12 - 0s - loss: 0.1303 - accuracy: 0.9417 - val_loss: 0.2503 - val_accuracy: 0.9500 - 52ms\/epoch - 4ms\/step\n",
      "Epoch 189\/200\n",
      "12\/12 - 0s - loss: 0.1373 - accuracy: 0.9444 - val_loss: 0.2655 - val_accuracy: 0.9500 - 53ms\/epoch - 4ms\/step\n",
      "Epoch 190\/200\n",
      "12\/12 - 0s - loss: 0.1350 - accuracy: 0.9500 - val_loss: 0.2574 - val_accuracy: 0.9500 - 52ms\/epoch - 4ms\/step\n",
      "Epoch 191\/200\n",
      "12\/12 - 0s - loss: 0.1418 - accuracy: 0.9167 - val_loss: 0.2662 - val_accuracy: 0.9500 - 53ms\/epoch - 4ms\/step\n",
      "Epoch 192\/200\n",
      "12\/12 - 0s - loss: 0.1342 - accuracy: 0.9417 - val_loss: 0.2563 - val_accuracy: 0.9500 - 53ms\/epoch - 4ms\/step\n",
      "Epoch 193\/200\n",
      "12\/12 - 0s - loss: 0.1285 - accuracy: 0.9361 - val_loss: 0.2513 - val_accuracy: 0.9500 - 51ms\/epoch - 4ms\/step\n",
      "Epoch 194\/200\n",
      "12\/12 - 0s - loss: 0.1389 - accuracy: 0.9417 - val_loss: 0.2773 - val_accuracy: 0.9500 - 54ms\/epoch - 5ms\/step\n",
      "Epoch 195\/200\n",
      "12\/12 - 0s - loss: 0.1450 - accuracy: 0.9361 - val_loss: 0.2640 - val_accuracy: 0.9500 - 52ms\/epoch - 4ms\/step\n",
      "Epoch 196\/200\n",
      "12\/12 - 0s - loss: 0.1639 - accuracy: 0.9333 - val_loss: 0.2569 - val_accuracy: 0.9250 - 53ms\/epoch - 4ms\/step\n",
      "Epoch 197\/200\n",
      "12\/12 - 0s - loss: 0.1721 - accuracy: 0.9306 - val_loss: 0.3414 - val_accuracy: 0.9250 - 95ms\/epoch - 8ms\/step\n",
      "Epoch 198\/200\n",
      "12\/12 - 0s - loss: 0.1766 - accuracy: 0.9222 - val_loss: 0.2554 - val_accuracy: 0.9500 - 68ms\/epoch - 6ms\/step\n",
      "Epoch 199\/200\n",
      "12\/12 - 0s - loss: 0.1336 - accuracy: 0.9389 - val_loss: 0.2497 - val_accuracy: 0.9500 - 55ms\/epoch - 5ms\/step\n",
      "Epoch 200\/200\n",
      "12\/12 - 0s - loss: 0.1309 - accuracy: 0.9417 - val_loss: 0.2770 - val_accuracy: 0.9250 - 55ms\/epoch - 5ms\/step\n"
     ],
     "output_type":"stream"
    }
   ],
   "metadata":{
    "datalore":{
     "node_id":"NT5GfVLjUXL57MWdipmLG1",
     "type":"CODE",
     "hide_input_from_viewers":false,
     "hide_output_from_viewers":false,
     "report_properties":{
      "rowId":"U5vekffU5TIsVST7MEcTjB"
     }
    }
   }
  },
  {
   "cell_type":"code",
   "source":[
    "plt.plot(history_3.history['accuracy'])\n",
    "plt.plot(history_3.history['val_accuracy'])\n",
    "plt.title('Accuracy vs Epochs')\n",
    "plt.ylabel('Accuracy')\n",
    "plt.xlabel('Epoch')\n",
    "plt.legend(['Train', 'Validation'], loc='lower right')\n",
    "plt.show()"
   ],
   "execution_count":29,
   "outputs":[
    {
     "data":{
      "image\/png":"[encoded data removed]"
     },
     "metadata":{
      "image\/png":{}
     },
     "output_type":"display_data"
    }
   ],
   "metadata":{
    "datalore":{
     "node_id":"Hx02Sdx3mPsrlovda3WoCF",
     "type":"CODE",
     "hide_input_from_viewers":false,
     "hide_output_from_viewers":false,
     "report_properties":{
      "rowId":"E7DkGypEKqRaK5QuQEtClw"
     }
    }
   }
  },
  {
   "cell_type":"markdown",
   "source":[
    "**Observations:**\n",
    "\n",
    "- This model is giving a generalized performance with 94% accuracy on the train data.\n",
    "- One reason for the algorithm not being able to reach higher than 95% even for training data might be due to the optimizer being stuck at some local minima.\n",
    "- One way to resolve that is to further tune the model with some other hyper-parameters.\n",
    "- Among all three models, model 3 has given the best performance. Let's check its performance on the test data."
   ],
   "attachments":{},
   "metadata":{
    "datalore":{
     "node_id":"zKDLoaLmSeagxs99bNBG6s",
     "type":"MD",
     "hide_input_from_viewers":false,
     "hide_output_from_viewers":false,
     "report_properties":{
      "rowId":"PmSabe4PSIVkVBGTCYgt2I"
     }
    }
   }
  },
  {
   "cell_type":"markdown",
   "source":[
    "### **Model evaluation on the test data**"
   ],
   "attachments":{},
   "metadata":{
    "datalore":{
     "node_id":"8lfGnoiCgCWw3jRXXFDpAo",
     "type":"MD",
     "hide_input_from_viewers":false,
     "hide_output_from_viewers":false,
     "report_properties":{
      "rowId":"8UlIYQC2whvBBxH8qKR0e2"
     }
    }
   }
  },
  {
   "cell_type":"code",
   "source":[
    "model_3.evaluate(X_test_normalized, y_test, verbose = 1)\n",
    "test_pred = np.round(model_3.predict(X_test_normalized))"
   ],
   "execution_count":30,
   "outputs":[
    {
     "name":"stdout",
     "text":[
      "\r1\/4 [======>.......................] - ETA: 0s - loss: 0.1617 - accuracy: 0.9062\b\b\b\b\b\b\b\b\b\b\b\b\b\b\b\b\b\b\b\b\b\b\b\b\b\b\b\b\b\b\b\b\b\b\b\b\b\b\b\b\b\b\b\b\b\b\b\b\b\b\b\b\b\b\b\b\b\b\b\b\b\b\b\b\b\b\b\b\b\b\b\b\b\b\b\b\b\b\b\b\r4\/4 [==============================] - 0s 4ms\/step - loss: 0.1091 - accuracy: 0.9600\n",
      "\r1\/4 [======>.......................] - ETA: 0s\b\b\b\b\b\b\b\b\b\b\b\b\b\b\b\b\b\b\b\b\b\b\b\b\b\b\b\b\b\b\b\b\b\b\b\b\b\b\b\b\b\b\b\b\b\b\r4\/4 [==============================] - 0s 2ms\/step\n"
     ],
     "output_type":"stream"
    }
   ],
   "metadata":{
    "datalore":{
     "node_id":"sd7ZsYe5FvR0L9Q5wVnN6b",
     "type":"CODE",
     "hide_input_from_viewers":false,
     "hide_output_from_viewers":false,
     "report_properties":{
      "rowId":"Qu1AQYh924bYlx9QIQMtDy"
     }
    }
   }
  },
  {
   "cell_type":"markdown",
   "source":[
    "The test accuracy is coming out to be 96% which implies that our model is able to replicate the performance from the train and validation data on the test (unseen) data."
   ],
   "attachments":{},
   "metadata":{
    "datalore":{
     "node_id":"9n6YVZrHZFwIEnyo6QMoeF",
     "type":"MD",
     "hide_input_from_viewers":false,
     "hide_output_from_viewers":false,
     "report_properties":{
      "rowId":"h3yMrBn4hMWVjcnmwls3Kg"
     }
    }
   }
  },
  {
   "cell_type":"code",
   "source":[
    "from sklearn.metrics import classification_report\n",
    "from sklearn.metrics import confusion_matrix\n",
    "\n",
    "print(classification_report(y_test, test_pred))\n",
    "cm = confusion_matrix(y_test, test_pred)\n",
    "plt.figure(figsize=(8,5))\n",
    "sns.heatmap(cm, annot=True,  fmt='.0f',xticklabels=['Not Admitted', 'Admitted'], yticklabels=['Not Admitted', 'Admitted'])\n",
    "plt.ylabel('Actual')\n",
    "plt.xlabel('Predicted')\n",
    "plt.show()"
   ],
   "execution_count":31,
   "outputs":[
    {
     "name":"stdout",
     "text":[
      "              precision    recall  f1-score   support\n",
      "\n",
      "           0       0.96      0.99      0.97        73\n",
      "           1       0.96      0.89      0.92        27\n",
      "\n",
      "    accuracy                           0.96       100\n",
      "   macro avg       0.96      0.94      0.95       100\n",
      "weighted avg       0.96      0.96      0.96       100\n",
      "\n"
     ],
     "output_type":"stream"
    },
    {
     "data":{
      "image\/png":"[encoded data removed]"
     },
     "metadata":{
      "image\/png":{}
     },
     "output_type":"display_data"
    }
   ],
   "metadata":{
    "datalore":{
     "node_id":"NaoKRXsWCZZ5DRa2pkflgm",
     "type":"CODE",
     "hide_input_from_viewers":false,
     "hide_output_from_viewers":false,
     "report_properties":{
      "rowId":"ZXZ2vQxOqURgSdYkcYUQ3T"
     }
    }
   }
  },
  {
   "cell_type":"markdown",
   "source":[
    "**Observations:**\n",
    "\n",
    "- The confusion matrix shows that the model can identify the majority of students who would get admission and who won't get admission to UCLA.\n",
    "- The classification report shows that all the metrics except recall for class 1 are above 90%, which is good."
   ],
   "attachments":{},
   "metadata":{
    "datalore":{
     "node_id":"F2TBxeSq7RZ7U3GKJy0W7k",
     "type":"MD",
     "hide_input_from_viewers":false,
     "hide_output_from_viewers":false,
     "report_properties":{
      "rowId":"mzymIfbuDhWMERP54ACkgq"
     }
    }
   }
  },
  {
   "cell_type":"markdown",
   "source":[
    "## **Conclusion:**"
   ],
   "attachments":{},
   "metadata":{
    "datalore":{
     "node_id":"kdSk3npMGdTAZLIofNMP3s",
     "type":"MD",
     "hide_input_from_viewers":false,
     "hide_output_from_viewers":false,
     "report_properties":{
      "rowId":"PwwLe3XkYcd7H8Gjk2Ypyg"
     }
    }
   }
  },
  {
   "cell_type":"markdown",
   "source":[
    "In this case study, \n",
    "- We have learned how to build a feed-forward neural network for a classification task using Keras. \n",
    "- We have seen different hyper-parameters and how they affect the network. \n",
    "- We also learned about the accuracy vs. epoch curve and how it aids in understanding how the model learns weights.\n",
    "- We were able to get the test accuracy of 96% using the final model.\n",
    "- Interested learners can further analyze the misclassified points and see if there is a pattern or if they were outliers that our model could not identify.\n",
    "- We would highly recommend you to play around with the other hyper-parameters and see for yourself how it affects your model."
   ],
   "attachments":{},
   "metadata":{
    "datalore":{
     "node_id":"z710of7pmoB0NZai6eR9A7",
     "type":"MD",
     "hide_input_from_viewers":false,
     "hide_output_from_viewers":false,
     "report_properties":{
      "rowId":"my4XjEsIqAc9HnD8JYdAZ6"
     }
    }
   }
  }
 ],
 "metadata":{
  "kernelspec":{
   "display_name":"Python",
   "language":"python",
   "name":"python"
  },
  "datalore":{
   "computation_mode":"JUPYTER",
   "package_manager":"pip",
   "base_environment":"default",
   "packages":[],
   "report_row_ids":[
    "ipylvajTaM0PsA6WIQvRpF",
    "ZYntA41gZ7ts20HtFUseO3",
    "xb3bHnKdzoX2hU32ytZq94",
    "wp5nHnUzEZe5XCnQqlrLoU",
    "fUAWXdHMzkGcmcCKuRqS7p",
    "UxZNnYnGqwytawK5oVI2Cu",
    "gYBtypwWNg2HqQKn8CeljI",
    "ALGzCp4j61DriSqe5qFMn9",
    "gpxty8YydhK12jkXsQLFcD",
    "y0FBxNqFQTByoiySIZbfXV",
    "AHmnv5Fv7WvZCq1H6EO724",
    "XDLTl8curl3Ew3SprDKmLC",
    "sFWTTcfeMjIrYlrx9SNErN",
    "m3BaxrmXQkhwLLb4O5r1dK",
    "1OWdYSBn9Vlr6pLIuWDtwu",
    "aGDu9ZLmvcXKUKPPKVNkG3",
    "2PD22FIGjWQZKafbEYq5GH",
    "t9jOLsP3s43cirftPcch4j",
    "rR2IUqbTzrWsmpm21rsgTY",
    "s41lHNrVzVHpu3hMi7mxNd",
    "TNFWmRPSBTA5bSwy8H6DIe",
    "JZfB8QDU1fHzWx7rzMl0Tz",
    "ED4JVm4puT0J8xF2Wa7iff",
    "4zBDUafqoYwLZ1GH9ndKbb",
    "xggOb8VBWqbKt5Jb1iV7F7",
    "KOh1wU9NuIP0wUd89LI5ja",
    "kSHFNAIO7HCCXTuF2fdx0e",
    "3R7gLPeh9bEHH5ADWnu7Dt",
    "JuBgZ5XLDnT75BhYTUUyPX",
    "2kbBxj5P9vMkYQdmjYMDD8",
    "SXOdO0WGoxslWshZpmoMtP",
    "HdqX5MefwOVOfWvTYi1Fco",
    "Egs0nSJB6GgZ3C08FUJubR",
    "6Yg9msFZv724U7kNzae93i",
    "11VlL5yIsXezKoTbgnm9wf",
    "3jNFOB5bjjXLYX9gVeUl47",
    "cnvFJw8JV5hJ0y5HTWVmMp",
    "kOdjIVepx6ohBnDfKObwxx",
    "ZvKlYhcjKFpptHIzVKHPsI",
    "I9inbEpghyQOJcS16hqJ6a",
    "pxB7aTwKTF6ziesdiEOpdN",
    "bYOzb5QlJMl0wAOTOyMds0",
    "TnRqxMxItQrINFjRZomCyQ",
    "3djB5nkmZnV3u7DXh0mdlh",
    "DmNs1cFyOEidx8yGaTDKzq",
    "h0K9VKRZl8gHf7Edqjicq9",
    "TxSaZU9ctL9qaRsNnVVkeg",
    "75z5DIilUsyJyisklzi9Kb",
    "UpEIR44mRwhfO8cTp9kbDu",
    "oibzNiIZiNyXnuND4U9ADv",
    "NmhUWMzo8gCNwEizcuINZK",
    "ZEeZMfrnGfoMQI0xLwnykS",
    "jCMpyON2B5b6y1PY2ICSP5",
    "uNL5WQi53dsokEcugGOTA6",
    "RKvgScXPAFzarQSvkvGW2C",
    "jubv7WefakKwbEOwec3Hay",
    "fk7Ow7TCEdZihd2p3eCxtt",
    "WoKQa7UCUQCAvpzOOJQXlH",
    "btBAtx4Wsq4DCPOMf0xQvu",
    "26QIO9yu4aDJ3QsJgL8VPV",
    "In9KHVZ2KdaoZJCmHOIzj2",
    "kpumEJb4vHM5AhqKvvzyjE",
    "i14AAYAXhlCISi167NCKuJ",
    "U5vekffU5TIsVST7MEcTjB",
    "E7DkGypEKqRaK5QuQEtClw",
    "PmSabe4PSIVkVBGTCYgt2I",
    "8UlIYQC2whvBBxH8qKR0e2",
    "Qu1AQYh924bYlx9QIQMtDy",
    "h3yMrBn4hMWVjcnmwls3Kg",
    "ZXZ2vQxOqURgSdYkcYUQ3T",
    "mzymIfbuDhWMERP54ACkgq",
    "PwwLe3XkYcd7H8Gjk2Ypyg",
    "my4XjEsIqAc9HnD8JYdAZ6"
   ],
   "version":3
  }
 },
 "nbformat":4,
 "nbformat_minor":4
}