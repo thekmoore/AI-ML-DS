{
 "cells":[
  {
   "cell_type":"markdown",
   "source":[
    "# Project : FoodHub Data Analysis"
   ],
   "attachments":{},
   "metadata":{
    "datalore":{
     "node_id":"EExHr9gWfrFNf1GGc54DGL",
     "type":"MD",
     "hide_input_from_viewers":false,
     "hide_output_from_viewers":false,
     "report_properties":{
      "rowId":"695i9Nd3u0rBe4tAC4MkWD"
     }
    }
   }
  },
  {
   "cell_type":"markdown",
   "source":[
    "### Context\n",
    "\n",
    "The number of restaurants in New York is increasing day by day. Lots of students and busy professionals rely on those restaurants due to their hectic lifestyles. Online food delivery service is a great option for them. It provides them with good food from their favorite restaurants. A food aggregator company FoodHub offers access to multiple restaurants through a single smartphone app.\n",
    "\n",
    "The app allows the restaurants to receive a direct online order from a customer. The app assigns a delivery person from the company to pick up the order after it is confirmed by the restaurant. The delivery person then uses the map to reach the restaurant and waits for the food package. Once the food package is handed over to the delivery person, he\/she confirms the pick-up in the app and travels to the customer's location to deliver the food. The delivery person confirms the drop-off in the app after delivering the food package to the customer. The customer can rate the order in the app. The food aggregator earns money by collecting a fixed margin of the delivery order from the restaurants.\n",
    "\n",
    "### Objective\n",
    "\n",
    "The food aggregator company has stored the data of the different orders made by the registered customers in their online portal. They want to analyze the data to get a fair idea about the demand of different restaurants which will help them in enhancing their customer experience. Suppose you are hired as a Data Scientist in this company and the Data Science team has shared some of the key questions that need to be answered. Perform the data analysis to find answers to these questions that will help the company to improve the business.\n",
    "\n",
    "### Data Description\n",
    "\n",
    "The data contains the different data related to a food order. The detailed data dictionary is given below.\n",
    "\n",
    "### Data Dictionary\n",
    "\n",
    "* order_id: Unique ID of the order\n",
    "* customer_id: ID of the customer who ordered the food\n",
    "* restaurant_name: Name of the restaurant\n",
    "* cuisine_type: Cuisine ordered by the customer\n",
    "* cost_of_the_order: Cost of the order\n",
    "* day_of_the_week: Indicates whether the order is placed on a weekday or weekend (The weekday is from Monday to Friday and the weekend is Saturday and Sunday)\n",
    "* rating: Rating given by the customer out of 5\n",
    "* food_preparation_time: Time (in minutes) taken by the restaurant to prepare the food. This is calculated by taking the difference between the timestamps of the restaurant's order confirmation and the delivery person's pick-up confirmation.\n",
    "* delivery_time: Time (in minutes) taken by the delivery person to deliver the food package. This is calculated by taking the difference between the timestamps of the delivery person's pick-up confirmation and drop-off information"
   ],
   "attachments":{},
   "metadata":{
    "datalore":{
     "node_id":"OPfhMz62jkwZ9rwF24RVn4",
     "type":"MD",
     "hide_input_from_viewers":false,
     "hide_output_from_viewers":false,
     "report_properties":{
      "rowId":"wxM5J7vlE1fpOPYV7ccTkE"
     }
    }
   }
  },
  {
   "cell_type":"markdown",
   "source":[
    "### **Please read the instructions carefully before starting the project.**\n",
    "This is a commented Jupyter IPython Notebook file in which all the instructions and tasks to be performed are mentioned. Read along carefully to complete the project.\n",
    "* Blanks '_______' are provided in the notebook that\n",
    "needs to be filled with an appropriate code to get the correct result. Please replace the blank with the right code snippet. With every '_______' blank, there is a comment that briefly describes what needs to be filled in the blank space.\n",
    "* Identify the task to be performed correctly, and only then proceed to write the required code.\n",
    "* Fill the code wherever asked by the commented lines like \"# write your code here\" or \"# complete the code\". Running incomplete code may throw an error.\n",
    "* Please run the codes in a sequential manner from the beginning to avoid any unnecessary errors.\n",
    "* You can the results\/observations derived from the analysis here and use them to create your final presentation."
   ],
   "attachments":{},
   "metadata":{
    "datalore":{
     "node_id":"xMacfQHRnnXMoJIY23ncyt",
     "type":"MD",
     "hide_input_from_viewers":false,
     "hide_output_from_viewers":false,
     "report_properties":{
      "rowId":"50fbSWT9mYnQdOERkXrTYT"
     }
    }
   }
  },
  {
   "cell_type":"markdown",
   "source":[
    "### Let us start by importing the required libraries"
   ],
   "attachments":{},
   "metadata":{
    "datalore":{
     "node_id":"uHGpk3PRDfe2mObnhBYLZC",
     "type":"MD",
     "hide_input_from_viewers":false,
     "hide_output_from_viewers":false,
     "report_properties":{
      "rowId":"1BmgasBhz3FQ6op324H3OS"
     }
    }
   }
  },
  {
   "cell_type":"code",
   "source":[
    "# Import libraries for data manipulation\n",
    "import numpy as np\n",
    "import pandas as pd\n",
    "\n",
    "# Import libraries for data visualization\n",
    "import matplotlib.pyplot as plt\n",
    "import seaborn as sns"
   ],
   "execution_count":1,
   "outputs":[],
   "metadata":{
    "datalore":{
     "node_id":"fxLIZRoWnjCOEAtoCe4xJ2",
     "type":"CODE",
     "hide_input_from_viewers":false,
     "hide_output_from_viewers":false,
     "report_properties":{
      "rowId":"lA2QgeHT5gjq7zZgoVjGKV"
     }
    }
   }
  },
  {
   "cell_type":"markdown",
   "source":[
    "### Understanding the structure of the data"
   ],
   "attachments":{},
   "metadata":{
    "datalore":{
     "node_id":"qfm5j8D3FSDAQzyd89B06l",
     "type":"MD",
     "hide_input_from_viewers":false,
     "hide_output_from_viewers":false,
     "report_properties":{
      "rowId":"3yRa0bN0p2LoLP6Wfi444Q"
     }
    }
   }
  },
  {
   "cell_type":"code",
   "source":[
    "# Read the data\n",
    "df = pd.read_csv('foodhub_order.csv') ## Fill the blank to read the data"
   ],
   "execution_count":3,
   "outputs":[],
   "metadata":{
    "datalore":{
     "node_id":"HePwnTFvEUfWu8IxvAZdYp",
     "type":"CODE",
     "hide_input_from_viewers":false,
     "hide_output_from_viewers":false,
     "report_properties":{
      "rowId":"1PfwH1tpdL3NEllBfUAPp8"
     }
    }
   }
  },
  {
   "cell_type":"code",
   "source":[
    "# Returns the first 5 rows\n",
    "df.head()"
   ],
   "execution_count":4,
   "outputs":[
    {
     "data":{
      "text\/html":[
       "<div>\n",
       "<style scoped>\n",
       "    .dataframe tbody tr th:only-of-type {\n",
       "        vertical-align: middle;\n",
       "    }\n",
       "\n",
       "    .dataframe tbody tr th {\n",
       "        vertical-align: top;\n",
       "    }\n",
       "\n",
       "    .dataframe thead th {\n",
       "        text-align: right;\n",
       "    }\n",
       "<\/style>\n",
       "<table border=\"1\" class=\"dataframe\">\n",
       "  <thead>\n",
       "    <tr style=\"text-align: right;\">\n",
       "      <th><\/th>\n",
       "      <th>order_id<\/th>\n",
       "      <th>customer_id<\/th>\n",
       "      <th>restaurant_name<\/th>\n",
       "      <th>cuisine_type<\/th>\n",
       "      <th>cost_of_the_order<\/th>\n",
       "      <th>day_of_the_week<\/th>\n",
       "      <th>rating<\/th>\n",
       "      <th>food_preparation_time<\/th>\n",
       "      <th>delivery_time<\/th>\n",
       "    <\/tr>\n",
       "  <\/thead>\n",
       "  <tbody>\n",
       "    <tr>\n",
       "      <th>0<\/th>\n",
       "      <td>1477147<\/td>\n",
       "      <td>337525<\/td>\n",
       "      <td>Hangawi<\/td>\n",
       "      <td>Korean<\/td>\n",
       "      <td>30.75<\/td>\n",
       "      <td>Weekend<\/td>\n",
       "      <td>Not given<\/td>\n",
       "      <td>25<\/td>\n",
       "      <td>20<\/td>\n",
       "    <\/tr>\n",
       "    <tr>\n",
       "      <th>1<\/th>\n",
       "      <td>1477685<\/td>\n",
       "      <td>358141<\/td>\n",
       "      <td>Blue Ribbon Sushi Izakaya<\/td>\n",
       "      <td>Japanese<\/td>\n",
       "      <td>12.08<\/td>\n",
       "      <td>Weekend<\/td>\n",
       "      <td>Not given<\/td>\n",
       "      <td>25<\/td>\n",
       "      <td>23<\/td>\n",
       "    <\/tr>\n",
       "    <tr>\n",
       "      <th>2<\/th>\n",
       "      <td>1477070<\/td>\n",
       "      <td>66393<\/td>\n",
       "      <td>Cafe Habana<\/td>\n",
       "      <td>Mexican<\/td>\n",
       "      <td>12.23<\/td>\n",
       "      <td>Weekday<\/td>\n",
       "      <td>5<\/td>\n",
       "      <td>23<\/td>\n",
       "      <td>28<\/td>\n",
       "    <\/tr>\n",
       "    <tr>\n",
       "      <th>3<\/th>\n",
       "      <td>1477334<\/td>\n",
       "      <td>106968<\/td>\n",
       "      <td>Blue Ribbon Fried Chicken<\/td>\n",
       "      <td>American<\/td>\n",
       "      <td>29.20<\/td>\n",
       "      <td>Weekend<\/td>\n",
       "      <td>3<\/td>\n",
       "      <td>25<\/td>\n",
       "      <td>15<\/td>\n",
       "    <\/tr>\n",
       "    <tr>\n",
       "      <th>4<\/th>\n",
       "      <td>1478249<\/td>\n",
       "      <td>76942<\/td>\n",
       "      <td>Dirty Bird to Go<\/td>\n",
       "      <td>American<\/td>\n",
       "      <td>11.59<\/td>\n",
       "      <td>Weekday<\/td>\n",
       "      <td>4<\/td>\n",
       "      <td>25<\/td>\n",
       "      <td>24<\/td>\n",
       "    <\/tr>\n",
       "  <\/tbody>\n",
       "<\/table>\n",
       "<\/div>"
      ]
     },
     "metadata":{},
     "output_type":"display_data"
    }
   ],
   "metadata":{
    "datalore":{
     "node_id":"DOX0dwP2W7AY6vfRoqk6ge",
     "type":"CODE",
     "hide_input_from_viewers":false,
     "hide_output_from_viewers":false,
     "report_properties":{
      "rowId":"rXtxjZdt8aEtm2X7T4nmC9"
     }
    }
   }
  },
  {
   "cell_type":"markdown",
   "source":[
    "### **Question 1:** How many rows and columns are present in the data? [0.5 mark]"
   ],
   "attachments":{},
   "metadata":{
    "datalore":{
     "node_id":"JVWl0od8bN5JncCsSZtjc0",
     "type":"MD",
     "hide_input_from_viewers":false,
     "hide_output_from_viewers":false,
     "report_properties":{
      "rowId":"4QQ88ym7Li7zqRRc9U6UZA"
     }
    }
   }
  },
  {
   "cell_type":"code",
   "source":[
    "# Check the shape of the dataset\n",
    "df.shape"
   ],
   "execution_count":5,
   "outputs":[
    {
     "data":{
      "text\/plain":[
       "(1898, 9)"
      ]
     },
     "metadata":{},
     "output_type":"display_data"
    }
   ],
   "metadata":{
    "datalore":{
     "node_id":"zLegi275OCcpfYWLeH3Tcu",
     "type":"CODE",
     "hide_input_from_viewers":false,
     "hide_output_from_viewers":false,
     "report_properties":{
      "rowId":"fskyV1QYF6HPTwCaRWlFiS"
     }
    }
   }
  },
  {
   "cell_type":"code",
   "source":[
    "# checking shape of the data\n",
    "print(\"There are\", df.shape[0], 'rows and', df.shape[1], \"columns.\")"
   ],
   "execution_count":6,
   "outputs":[
    {
     "name":"stdout",
     "text":[
      "There are 1898 rows and 9 columns.\n"
     ],
     "output_type":"stream"
    }
   ],
   "metadata":{
    "datalore":{
     "node_id":"ZHrQiSvXVj7Eu5kxnHYCbI",
     "type":"CODE",
     "hide_input_from_viewers":true,
     "hide_output_from_viewers":true
    }
   }
  },
  {
   "cell_type":"markdown",
   "source":[
    "### **Question 2:** What are the datatypes of the different columns in the dataset? [0.5 mark]"
   ],
   "attachments":{},
   "metadata":{
    "datalore":{
     "node_id":"L1YdESLBHLJbKVNlY1zl9I",
     "type":"MD",
     "hide_input_from_viewers":false,
     "hide_output_from_viewers":false,
     "report_properties":{
      "rowId":"ITXblw29UoeQA4d0ba6DXs"
     }
    }
   }
  },
  {
   "cell_type":"code",
   "source":[
    "df.info()"
   ],
   "execution_count":7,
   "outputs":[
    {
     "name":"stdout",
     "text":[
      "<class 'pandas.core.frame.DataFrame'>\n",
      "RangeIndex: 1898 entries, 0 to 1897\n",
      "Data columns (total 9 columns):\n",
      " #   Column                 Non-Null Count  Dtype  \n",
      "---  ------                 --------------  -----  \n",
      " 0   order_id               1898 non-null   int64  \n",
      " 1   customer_id            1898 non-null   int64  \n",
      " 2   restaurant_name        1898 non-null   object \n",
      " 3   cuisine_type           1898 non-null   object \n",
      " 4   cost_of_the_order      1898 non-null   float64\n",
      " 5   day_of_the_week        1898 non-null   object \n",
      " 6   rating                 1898 non-null   object \n",
      " 7   food_preparation_time  1898 non-null   int64  \n",
      " 8   delivery_time          1898 non-null   int64  \n",
      "dtypes: float64(1), int64(4), object(4)\n",
      "memory usage: 133.6+ KB\n"
     ],
     "output_type":"stream"
    }
   ],
   "metadata":{
    "datalore":{
     "node_id":"owFExF9CL7UUvIwD91BRSC",
     "type":"CODE",
     "hide_input_from_viewers":false,
     "hide_output_from_viewers":false,
     "report_properties":{
      "rowId":"YBvDu7c7kWZELdFDKPHm8L"
     }
    }
   }
  },
  {
   "cell_type":"markdown",
   "source":[
    "There are 5 numerical columns in the data and 4 object type columns."
   ],
   "attachments":{},
   "metadata":{
    "datalore":{
     "node_id":"MyJkG30k5rFJB1Ppco9YWE",
     "type":"MD",
     "hide_input_from_viewers":true,
     "hide_output_from_viewers":true
    }
   }
  },
  {
   "cell_type":"markdown",
   "source":[
    "### **Question 3:** Are there any missing values in the data? If yes, treat them using an appropriate method.  [1 Mark]"
   ],
   "attachments":{},
   "metadata":{
    "datalore":{
     "node_id":"iNC27My2YLkuqaZ2sfL2fS",
     "type":"MD",
     "hide_input_from_viewers":false,
     "hide_output_from_viewers":false,
     "report_properties":{
      "rowId":"xHzlnWqN7mgFygs97QLY70"
     }
    }
   }
  },
  {
   "cell_type":"code",
   "source":[
    "# Checking for missing values in the data\n",
    "df.isnull().sum()"
   ],
   "execution_count":8,
   "outputs":[
    {
     "data":{
      "text\/html":[
       "<pre>order_id                 0\n",
       "customer_id              0\n",
       "restaurant_name          0\n",
       "cuisine_type             0\n",
       "cost_of_the_order        0\n",
       "day_of_the_week          0\n",
       "rating                   0\n",
       "food_preparation_time    0\n",
       "delivery_time            0\n",
       "dtype: int64<\/pre>"
      ]
     },
     "metadata":{},
     "output_type":"display_data"
    }
   ],
   "metadata":{
    "datalore":{
     "node_id":"sJhx2caSn3OuyscK2OApMo",
     "type":"CODE",
     "hide_input_from_viewers":false,
     "hide_output_from_viewers":false,
     "report_properties":{
      "rowId":"oE1QBgwr4ixE4LZONtVvOC"
     }
    }
   }
  },
  {
   "cell_type":"markdown",
   "source":[
    "There are no missing values."
   ],
   "attachments":{},
   "metadata":{
    "datalore":{
     "node_id":"d9xp2LBOS6MTsTYovaKh3b",
     "type":"MD",
     "hide_input_from_viewers":true,
     "hide_output_from_viewers":true
    }
   }
  },
  {
   "cell_type":"markdown",
   "source":[
    "### **Question 4:** Check the statistical summary of the data. What is the minimum, average, and maximum time it takes for food to be prepared once an order is placed? [2 marks]"
   ],
   "attachments":{},
   "metadata":{
    "datalore":{
     "node_id":"HL3ZcqAaxBxZBGEBp7hPR6",
     "type":"MD",
     "hide_input_from_viewers":false,
     "hide_output_from_viewers":false,
     "report_properties":{
      "rowId":"FhNQjOPDqDkI3Biukyg0J6"
     }
    }
   }
  },
  {
   "cell_type":"code",
   "source":[
    "# Get the summary statistics of the numerical data\n",
    "df.describe()"
   ],
   "execution_count":9,
   "outputs":[
    {
     "data":{
      "text\/html":[
       "<div>\n",
       "<style scoped>\n",
       "    .dataframe tbody tr th:only-of-type {\n",
       "        vertical-align: middle;\n",
       "    }\n",
       "\n",
       "    .dataframe tbody tr th {\n",
       "        vertical-align: top;\n",
       "    }\n",
       "\n",
       "    .dataframe thead th {\n",
       "        text-align: right;\n",
       "    }\n",
       "<\/style>\n",
       "<table border=\"1\" class=\"dataframe\">\n",
       "  <thead>\n",
       "    <tr style=\"text-align: right;\">\n",
       "      <th><\/th>\n",
       "      <th>order_id<\/th>\n",
       "      <th>customer_id<\/th>\n",
       "      <th>cost_of_the_order<\/th>\n",
       "      <th>food_preparation_time<\/th>\n",
       "      <th>delivery_time<\/th>\n",
       "    <\/tr>\n",
       "  <\/thead>\n",
       "  <tbody>\n",
       "    <tr>\n",
       "      <th>count<\/th>\n",
       "      <td>1.898000e+03<\/td>\n",
       "      <td>1898.000000<\/td>\n",
       "      <td>1898.000000<\/td>\n",
       "      <td>1898.000000<\/td>\n",
       "      <td>1898.000000<\/td>\n",
       "    <\/tr>\n",
       "    <tr>\n",
       "      <th>mean<\/th>\n",
       "      <td>1.477496e+06<\/td>\n",
       "      <td>171168.478398<\/td>\n",
       "      <td>16.498851<\/td>\n",
       "      <td>27.371970<\/td>\n",
       "      <td>24.161749<\/td>\n",
       "    <\/tr>\n",
       "    <tr>\n",
       "      <th>std<\/th>\n",
       "      <td>5.480497e+02<\/td>\n",
       "      <td>113698.139743<\/td>\n",
       "      <td>7.483812<\/td>\n",
       "      <td>4.632481<\/td>\n",
       "      <td>4.972637<\/td>\n",
       "    <\/tr>\n",
       "    <tr>\n",
       "      <th>min<\/th>\n",
       "      <td>1.476547e+06<\/td>\n",
       "      <td>1311.000000<\/td>\n",
       "      <td>4.470000<\/td>\n",
       "      <td>20.000000<\/td>\n",
       "      <td>15.000000<\/td>\n",
       "    <\/tr>\n",
       "    <tr>\n",
       "      <th>25%<\/th>\n",
       "      <td>1.477021e+06<\/td>\n",
       "      <td>77787.750000<\/td>\n",
       "      <td>12.080000<\/td>\n",
       "      <td>23.000000<\/td>\n",
       "      <td>20.000000<\/td>\n",
       "    <\/tr>\n",
       "    <tr>\n",
       "      <th>50%<\/th>\n",
       "      <td>1.477496e+06<\/td>\n",
       "      <td>128600.000000<\/td>\n",
       "      <td>14.140000<\/td>\n",
       "      <td>27.000000<\/td>\n",
       "      <td>25.000000<\/td>\n",
       "    <\/tr>\n",
       "    <tr>\n",
       "      <th>75%<\/th>\n",
       "      <td>1.477970e+06<\/td>\n",
       "      <td>270525.000000<\/td>\n",
       "      <td>22.297500<\/td>\n",
       "      <td>31.000000<\/td>\n",
       "      <td>28.000000<\/td>\n",
       "    <\/tr>\n",
       "    <tr>\n",
       "      <th>max<\/th>\n",
       "      <td>1.478444e+06<\/td>\n",
       "      <td>405334.000000<\/td>\n",
       "      <td>35.410000<\/td>\n",
       "      <td>35.000000<\/td>\n",
       "      <td>33.000000<\/td>\n",
       "    <\/tr>\n",
       "  <\/tbody>\n",
       "<\/table>\n",
       "<\/div>"
      ]
     },
     "metadata":{},
     "output_type":"display_data"
    }
   ],
   "metadata":{
    "datalore":{
     "node_id":"qtj8s1P2qdNZ35m8MnbIrL",
     "type":"CODE",
     "hide_input_from_viewers":false,
     "hide_output_from_viewers":false,
     "report_properties":{
      "rowId":"rAu8OIBbJgGdmVN2tRPivO"
     }
    }
   }
  },
  {
   "cell_type":"markdown",
   "source":[
    "The minimum is 20 minutes, average is 27.37 minutes, and maximum is 35 minutes for food to be prepared once an order is placed."
   ],
   "attachments":{},
   "metadata":{
    "datalore":{
     "node_id":"UplhHPYNRYCq9d4FjIRdaz",
     "type":"MD",
     "hide_input_from_viewers":true,
     "hide_output_from_viewers":true
    }
   }
  },
  {
   "cell_type":"markdown",
   "source":[
    "### **Question 5:** How many orders are not rated? [1 mark]"
   ],
   "attachments":{},
   "metadata":{
    "datalore":{
     "node_id":"RxXptqhFqEEGQHuP21lUbL",
     "type":"MD",
     "hide_input_from_viewers":false,
     "hide_output_from_viewers":false,
     "report_properties":{
      "rowId":"o6lASKX4x5xHBPxDGtg26r"
     }
    }
   }
  },
  {
   "cell_type":"code",
   "source":[
    "df['rating'].value_counts() ## Complete the code"
   ],
   "execution_count":10,
   "outputs":[
    {
     "data":{
      "text\/html":[
       "<pre>Not given    736\n",
       "5            588\n",
       "4            386\n",
       "3            188\n",
       "Name: rating, dtype: int64<\/pre>"
      ]
     },
     "metadata":{},
     "output_type":"display_data"
    }
   ],
   "metadata":{
    "datalore":{
     "node_id":"MUsF0T0JuNebUqR2OeKg7w",
     "type":"CODE",
     "hide_input_from_viewers":false,
     "hide_output_from_viewers":false,
     "report_properties":{
      "rowId":"Pk30guYPhLLAOQbUMyAJwA"
     }
    }
   }
  },
  {
   "cell_type":"markdown",
   "source":[
    "There are 736 orders that are not rated."
   ],
   "attachments":{},
   "metadata":{
    "datalore":{
     "node_id":"J5Oj4dCUtl0c8MGzexXgJo",
     "type":"MD",
     "hide_input_from_viewers":true,
     "hide_output_from_viewers":true
    }
   }
  },
  {
   "cell_type":"markdown",
   "source":[
    "### Exploratory Data Analysis (EDA)"
   ],
   "attachments":{},
   "metadata":{
    "datalore":{
     "node_id":"AO0SupRjwdnV2XrYbbSxHc",
     "type":"MD",
     "hide_input_from_viewers":false,
     "hide_output_from_viewers":false,
     "report_properties":{
      "rowId":"WuedFm9QCPiOAir6LPq2q1"
     }
    }
   }
  },
  {
   "cell_type":"markdown",
   "source":[
    "### Univariate Analysis"
   ],
   "attachments":{},
   "metadata":{
    "datalore":{
     "node_id":"AtaO9vDwjeWpwg9onEHT2v",
     "type":"MD",
     "hide_input_from_viewers":false,
     "hide_output_from_viewers":false,
     "report_properties":{
      "rowId":"V2uXpIxQe1S20VhYym7eia"
     }
    }
   }
  },
  {
   "cell_type":"markdown",
   "source":[
    "### **Question 6:** Explore all the variables and provide observations on their distributions. (Generally, histograms, boxplots, countplots, etc. are used for univariate exploration.) [9 marks]"
   ],
   "attachments":{},
   "metadata":{
    "datalore":{
     "node_id":"nOE5dV2D8vyiyGPcwMFVoT",
     "type":"MD",
     "hide_input_from_viewers":false,
     "hide_output_from_viewers":false,
     "report_properties":{
      "rowId":"BpMtFxiQxxDGL21EPyck9G"
     }
    }
   }
  },
  {
   "cell_type":"markdown",
   "source":[
    "#### Order ID"
   ],
   "attachments":{},
   "metadata":{
    "datalore":{
     "node_id":"7KGEFThtC5zEJYgtNxlbBd",
     "type":"MD",
     "hide_input_from_viewers":false,
     "hide_output_from_viewers":false,
     "report_properties":{
      "rowId":"bFTxZkBJhU4o7D2RmhGxmV"
     }
    }
   }
  },
  {
   "cell_type":"code",
   "source":[
    "# check unique order ID\n",
    "df['order_id'].nunique()"
   ],
   "execution_count":11,
   "outputs":[
    {
     "data":{
      "text\/plain":[
       "1898"
      ]
     },
     "metadata":{},
     "output_type":"display_data"
    }
   ],
   "metadata":{
    "datalore":{
     "node_id":"0bCOcS1mxoekwJE5VspOM1",
     "type":"CODE",
     "hide_input_from_viewers":false,
     "hide_output_from_viewers":false,
     "report_properties":{
      "rowId":"vvNVInYsf2Sh34ywQugpNg"
     }
    }
   }
  },
  {
   "cell_type":"markdown",
   "source":[
    "#### Customer ID"
   ],
   "attachments":{},
   "metadata":{
    "datalore":{
     "node_id":"u0rCutpXSUqEK267Nj9bGE",
     "type":"MD",
     "hide_input_from_viewers":false,
     "hide_output_from_viewers":false,
     "report_properties":{
      "rowId":"11cCnuLIiap5JMilPZXAPS"
     }
    }
   }
  },
  {
   "cell_type":"code",
   "source":[
    "# check unique customer ID\n",
    "df['customer_id'].nunique()"
   ],
   "execution_count":12,
   "outputs":[
    {
     "data":{
      "text\/plain":[
       "1200"
      ]
     },
     "metadata":{},
     "output_type":"display_data"
    }
   ],
   "metadata":{
    "datalore":{
     "node_id":"PURmOfmUeHWtoBJPp7kGsV",
     "type":"CODE",
     "hide_input_from_viewers":false,
     "hide_output_from_viewers":false,
     "report_properties":{
      "rowId":"PwZh4KeXRFDNFerU2ZC4BY"
     }
    }
   }
  },
  {
   "cell_type":"markdown",
   "source":[
    "#### Restaurant name"
   ],
   "attachments":{},
   "metadata":{
    "datalore":{
     "node_id":"kyv0LFNQTQVcj4fhbYs5O7",
     "type":"MD",
     "hide_input_from_viewers":false,
     "hide_output_from_viewers":false,
     "report_properties":{
      "rowId":"0NIOhXJHwVQiJVyzHJ4RuJ"
     }
    }
   }
  },
  {
   "cell_type":"code",
   "source":[
    "# check unique Restaurant Name\n",
    "df['restaurant_name'].nunique()"
   ],
   "execution_count":13,
   "outputs":[
    {
     "data":{
      "text\/plain":[
       "178"
      ]
     },
     "metadata":{},
     "output_type":"display_data"
    }
   ],
   "metadata":{
    "datalore":{
     "node_id":"6oafToXk9VIIg7HW6oDiKc",
     "type":"CODE",
     "hide_input_from_viewers":false,
     "hide_output_from_viewers":false,
     "report_properties":{
      "rowId":"rnN5VwMmGTauu4frt3HGgU"
     }
    }
   }
  },
  {
   "cell_type":"markdown",
   "source":[
    "#### Cuisine type"
   ],
   "attachments":{},
   "metadata":{
    "datalore":{
     "node_id":"nJ0RXtJsoU8sHDGbaJeNAd",
     "type":"MD",
     "hide_input_from_viewers":false,
     "hide_output_from_viewers":false,
     "report_properties":{
      "rowId":"K8NLRcI3nzXJ29goQREfmC"
     }
    }
   }
  },
  {
   "cell_type":"code",
   "source":[
    "# Check unique cuisine type\n",
    "df['cuisine_type'].nunique()"
   ],
   "execution_count":14,
   "outputs":[
    {
     "data":{
      "text\/plain":[
       "14"
      ]
     },
     "metadata":{},
     "output_type":"display_data"
    }
   ],
   "metadata":{
    "datalore":{
     "node_id":"xqPSmjt5grxDT1JbRnJKYA",
     "type":"CODE",
     "hide_input_from_viewers":false,
     "hide_output_from_viewers":false,
     "report_properties":{
      "rowId":"BZHNPBNqHc56i2NYah6Ilb"
     }
    }
   }
  },
  {
   "cell_type":"code",
   "source":[
    "plt.figure(figsize = (15,5))\n",
    "sns.countplot(data = df, x = 'cuisine_type') ## Create a countplot for cuisine type."
   ],
   "execution_count":15,
   "outputs":[
    {
     "data":{
      "text\/plain":[
       "<Axes: xlabel='cuisine_type', ylabel='count'>"
      ]
     },
     "metadata":{},
     "output_type":"display_data"
    },
    {
     "data":{
      "image\/png":"[encoded data removed]"
     },
     "metadata":{
      "image\/png":{}
     },
     "output_type":"display_data"
    }
   ],
   "metadata":{
    "datalore":{
     "node_id":"1pCpwL5xlhio1iaWcty6Ih",
     "type":"CODE",
     "hide_input_from_viewers":false,
     "hide_output_from_viewers":false,
     "report_properties":{
      "rowId":"bM4zxRRuFDLsF4R6epi4EX"
     }
    }
   }
  },
  {
   "cell_type":"markdown",
   "source":[
    "#### Cost of the order"
   ],
   "attachments":{},
   "metadata":{
    "datalore":{
     "node_id":"EABlaoFNUhBDTQlqQczsh9",
     "type":"MD",
     "hide_input_from_viewers":false,
     "hide_output_from_viewers":false,
     "report_properties":{
      "rowId":"0eVdE9r4gGBOrysb8oDtZM"
     }
    }
   }
  },
  {
   "cell_type":"code",
   "source":[
    "sns.histplot(data=df,x='cost_of_the_order') ## Histogram for the cost of order\n",
    "plt.show()\n",
    "sns.boxplot(data=df,x='cost_of_the_order') ## Boxplot for the cost of order\n",
    "plt.show()"
   ],
   "execution_count":16,
   "outputs":[
    {
     "data":{
      "image\/png":"[encoded data removed]"
     },
     "metadata":{
      "image\/png":{}
     },
     "output_type":"display_data"
    },
    {
     "data":{
      "image\/png":"[encoded data removed]"
     },
     "metadata":{
      "image\/png":{}
     },
     "output_type":"display_data"
    }
   ],
   "metadata":{
    "datalore":{
     "node_id":"VLE1sOuO7T0NUi0Kdd2gSD",
     "type":"CODE",
     "hide_input_from_viewers":false,
     "hide_output_from_viewers":false,
     "report_properties":{
      "rowId":"4OmCfy99yf4fbYFZcDcmqQ"
     }
    }
   }
  },
  {
   "cell_type":"markdown",
   "source":[
    "#### Day of the week"
   ],
   "attachments":{},
   "metadata":{
    "datalore":{
     "node_id":"VF0sw3jPh10P7CrDi6RZHj",
     "type":"MD",
     "hide_input_from_viewers":false,
     "hide_output_from_viewers":false,
     "report_properties":{
      "rowId":"2wWUOUAP7kroSMrwPWrHZg"
     }
    }
   }
  },
  {
   "cell_type":"code",
   "source":[
    "# # Check the unique values\n",
    "df['day_of_the_week'].nunique() "
   ],
   "execution_count":17,
   "outputs":[
    {
     "data":{
      "text\/plain":[
       "2"
      ]
     },
     "metadata":{},
     "output_type":"display_data"
    }
   ],
   "metadata":{
    "datalore":{
     "node_id":"2gKZnK3J2KfWL3SI8IFL4B",
     "type":"CODE",
     "hide_input_from_viewers":false,
     "hide_output_from_viewers":false,
     "report_properties":{
      "rowId":"QglZ0unrp4coWNRyzkT2GC"
     }
    }
   }
  },
  {
   "cell_type":"code",
   "source":[
    "sns.countplot(data = df, x = 'day_of_the_week')"
   ],
   "execution_count":18,
   "outputs":[
    {
     "data":{
      "text\/plain":[
       "<Axes: xlabel='day_of_the_week', ylabel='count'>"
      ]
     },
     "metadata":{},
     "output_type":"display_data"
    },
    {
     "data":{
      "image\/png":"[encoded data removed]"
     },
     "metadata":{
      "image\/png":{}
     },
     "output_type":"display_data"
    }
   ],
   "metadata":{
    "datalore":{
     "node_id":"1plHLOLlDqmhdkjVAgFlGI",
     "type":"CODE",
     "hide_input_from_viewers":false,
     "hide_output_from_viewers":false,
     "report_properties":{
      "rowId":"QaaVMZvPbA3vgL2txlaj7s"
     }
    }
   }
  },
  {
   "cell_type":"markdown",
   "source":[
    "#### Rating"
   ],
   "attachments":{},
   "metadata":{
    "datalore":{
     "node_id":"YB8JlYwua4kmTY1d5kvOvQ",
     "type":"MD",
     "hide_input_from_viewers":false,
     "hide_output_from_viewers":false,
     "report_properties":{
      "rowId":"HDB45tRxW3TcUjgnKdMkUo"
     }
    }
   }
  },
  {
   "cell_type":"code",
   "source":[
    "# Check the unique values\n",
    "df['rating'].nunique()"
   ],
   "execution_count":19,
   "outputs":[
    {
     "data":{
      "text\/plain":[
       "4"
      ]
     },
     "metadata":{},
     "output_type":"display_data"
    }
   ],
   "metadata":{
    "datalore":{
     "node_id":"WgBSWq61v7OWLNY4IY8n5G",
     "type":"CODE",
     "hide_input_from_viewers":false,
     "hide_output_from_viewers":false,
     "report_properties":{
      "rowId":"MJg19kSXtthkzROLQNnlaF"
     }
    }
   }
  },
  {
   "cell_type":"code",
   "source":[
    "sns.countplot(data = df, x = 'rating')"
   ],
   "execution_count":20,
   "outputs":[
    {
     "data":{
      "text\/plain":[
       "<Axes: xlabel='rating', ylabel='count'>"
      ]
     },
     "metadata":{},
     "output_type":"display_data"
    },
    {
     "data":{
      "image\/png":"[encoded data removed]"
     },
     "metadata":{
      "image\/png":{}
     },
     "output_type":"display_data"
    }
   ],
   "metadata":{
    "datalore":{
     "node_id":"LzTMygmAIh68EZqnjF6jMc",
     "type":"CODE",
     "hide_input_from_viewers":false,
     "hide_output_from_viewers":false,
     "report_properties":{
      "rowId":"3OkotE0gwrlgz2K11M3UY6"
     }
    }
   }
  },
  {
   "cell_type":"markdown",
   "source":[
    "#### Food Preparation time"
   ],
   "attachments":{},
   "metadata":{
    "datalore":{
     "node_id":"qy8WxO7FpF5v8azFyuxIuH",
     "type":"MD",
     "hide_input_from_viewers":false,
     "hide_output_from_viewers":false,
     "report_properties":{
      "rowId":"OaLf9Baf58tQBQn24i6XRV"
     }
    }
   }
  },
  {
   "cell_type":"code",
   "source":[
    "sns.histplot(data=df,x='food_preparation_time')\n",
    "plt.show()\n",
    "sns.boxplot(data=df,x='food_preparation_time')\n",
    "plt.show()"
   ],
   "execution_count":21,
   "outputs":[
    {
     "data":{
      "image\/png":"[encoded data removed]"
     },
     "metadata":{
      "image\/png":{}
     },
     "output_type":"display_data"
    },
    {
     "data":{
      "image\/png":"[encoded data removed]"
     },
     "metadata":{
      "image\/png":{}
     },
     "output_type":"display_data"
    }
   ],
   "metadata":{
    "datalore":{
     "node_id":"peO64kefcI6yjFdpz1URyT",
     "type":"CODE",
     "hide_input_from_viewers":false,
     "hide_output_from_viewers":false,
     "report_properties":{
      "rowId":"ZPTLbVLcXxlLhMOD6A1tan"
     }
    }
   }
  },
  {
   "cell_type":"markdown",
   "source":[
    "#### Delivery time"
   ],
   "attachments":{},
   "metadata":{
    "datalore":{
     "node_id":"HojkU4pT9nQeCNWvVUREBc",
     "type":"MD",
     "hide_input_from_viewers":false,
     "hide_output_from_viewers":false,
     "report_properties":{
      "rowId":"dlcDvtye2YDlnvSouFF62W"
     }
    }
   }
  },
  {
   "cell_type":"code",
   "source":[
    "sns.histplot(data=df,x='delivery_time') \n",
    "plt.show()\n",
    "sns.boxplot(data=df,x='delivery_time') \n",
    "plt.show()"
   ],
   "execution_count":22,
   "outputs":[
    {
     "data":{
      "image\/png":"[encoded data removed]"
     },
     "metadata":{
      "image\/png":{}
     },
     "output_type":"display_data"
    },
    {
     "data":{
      "image\/png":"[encoded data removed]"
     },
     "metadata":{
      "image\/png":{}
     },
     "output_type":"display_data"
    }
   ],
   "metadata":{
    "datalore":{
     "node_id":"hs5qN28xVTT7rxmL9B8CBM",
     "type":"CODE",
     "hide_input_from_viewers":false,
     "hide_output_from_viewers":false,
     "report_properties":{
      "rowId":"WDyZOQHlLIbMUbSyR0dHUw"
     }
    }
   }
  },
  {
   "cell_type":"markdown",
   "source":[
    "### **Question 7:** Which are the top 5 restaurants in terms of the number of orders received? [1 mark]"
   ],
   "attachments":{},
   "metadata":{
    "datalore":{
     "node_id":"NuE8i6LCyQlJBXm0sxB9o4",
     "type":"MD",
     "hide_input_from_viewers":false,
     "hide_output_from_viewers":false,
     "report_properties":{
      "rowId":"tm3WzwtTTW0VzrovrFzIBs"
     }
    }
   }
  },
  {
   "cell_type":"code",
   "source":[
    "# Get top 5 restaurants with highest number of orders\n",
    "df['restaurant_name'].value_counts().head(5)"
   ],
   "execution_count":23,
   "outputs":[
    {
     "data":{
      "text\/html":[
       "<pre>Shake Shack                  219\n",
       "The Meatball Shop            132\n",
       "Blue Ribbon Sushi            119\n",
       "Blue Ribbon Fried Chicken     96\n",
       "Parm                          68\n",
       "Name: restaurant_name, dtype: int64<\/pre>"
      ]
     },
     "metadata":{},
     "output_type":"display_data"
    }
   ],
   "metadata":{
    "datalore":{
     "node_id":"09PQiFP5ZTmt4C5wUFK0sG",
     "type":"CODE",
     "hide_input_from_viewers":false,
     "hide_output_from_viewers":false,
     "report_properties":{
      "rowId":"r7SYQQqS9jL0xqHNWkgDh8"
     }
    }
   }
  },
  {
   "cell_type":"markdown",
   "source":[
    "### **Question 8:** Which is the most popular cuisine on weekends? [1 mark]"
   ],
   "attachments":{},
   "metadata":{
    "datalore":{
     "node_id":"2uW5LPrVjqpd7L9WsssK7E",
     "type":"MD",
     "hide_input_from_viewers":false,
     "hide_output_from_viewers":false,
     "report_properties":{
      "rowId":"NZL7e6Lmn0Dxe4GAlWvtzQ"
     }
    }
   }
  },
  {
   "cell_type":"code",
   "source":[
    "# Get most popular cuisine on weekends\n",
    "df_weekend = df[df['day_of_the_week'] == 'Weekend']"
   ],
   "execution_count":24,
   "outputs":[],
   "metadata":{
    "datalore":{
     "node_id":"YP9BwOxiumurCsko1mvB8Z",
     "type":"CODE",
     "hide_input_from_viewers":false,
     "hide_output_from_viewers":false,
     "report_properties":{
      "rowId":"2YqjlsTEQ3BewqzVsAOtZi"
     }
    }
   }
  },
  {
   "cell_type":"code",
   "source":[
    "df_weekend['cuisine_type'].value_counts()"
   ],
   "execution_count":25,
   "outputs":[
    {
     "data":{
      "text\/html":[
       "<pre>American          415\n",
       "Japanese          335\n",
       "Italian           207\n",
       "Chinese           163\n",
       "Mexican            53\n",
       "Indian             49\n",
       "Mediterranean      32\n",
       "Middle Eastern     32\n",
       "Thai               15\n",
       "French             13\n",
       "Korean             11\n",
       "Southern           11\n",
       "Spanish            11\n",
       "Vietnamese          4\n",
       "Name: cuisine_type, dtype: int64<\/pre>"
      ]
     },
     "metadata":{},
     "output_type":"display_data"
    }
   ],
   "metadata":{
    "datalore":{
     "node_id":"NpfnRiNggFMXzFA23vUIVO",
     "type":"CODE",
     "hide_input_from_viewers":true,
     "hide_output_from_viewers":true
    }
   }
  },
  {
   "cell_type":"markdown",
   "source":[
    "### **Question 9:** What percentage of the orders cost more than 20 dollars? [2 marks]"
   ],
   "attachments":{},
   "metadata":{
    "datalore":{
     "node_id":"YtbVipVAykB2qXjeqykmbC",
     "type":"MD",
     "hide_input_from_viewers":false,
     "hide_output_from_viewers":false,
     "report_properties":{
      "rowId":"KtIx1MalQFaqdNVzIHkLoH"
     }
    }
   }
  },
  {
   "cell_type":"code",
   "source":[
    "# Get orders that cost above 20 dollars\n",
    "df_greater_than_20 = df[df['cost_of_the_order']>20] ## Write the appropriate column name to get the orders having cost above $20\n",
    "\n",
    "# Calculate the number of total orders where the cost is above 20 dollars\n",
    "print('The number of total orders that cost above 20 dollars is:', df_greater_than_20.shape[0])\n",
    "\n",
    "# Calculate percentage of such orders in the dataset\n",
    "percentage = (df_greater_than_20.shape[0] \/ df.shape[0]) * 100\n",
    "\n",
    "print(\"Percentage of orders above 20 dollars:\", round(percentage, 2), '%')"
   ],
   "execution_count":26,
   "outputs":[
    {
     "name":"stdout",
     "text":[
      "The number of total orders that cost above 20 dollars is: 555\n",
      "Percentage of orders above 20 dollars: 29.24 %\n"
     ],
     "output_type":"stream"
    }
   ],
   "metadata":{
    "datalore":{
     "node_id":"cnLc1F827FnV0EDh5cSTUV",
     "type":"CODE",
     "hide_input_from_viewers":false,
     "hide_output_from_viewers":false,
     "report_properties":{
      "rowId":"78r5kvxFXsHlC99wHQL80j"
     }
    }
   }
  },
  {
   "cell_type":"markdown",
   "source":[
    "### **Question 10:** What is the mean order delivery time? [1 mark]"
   ],
   "attachments":{},
   "metadata":{
    "datalore":{
     "node_id":"33DmGAdbaQ41A0AXsU5D4L",
     "type":"MD",
     "hide_input_from_viewers":false,
     "hide_output_from_viewers":false,
     "report_properties":{
      "rowId":"8SiPLNIVRiUeuNWKp60WIW"
     }
    }
   }
  },
  {
   "cell_type":"code",
   "source":[
    "# Get the mean delivery time\n",
    "mean_del_time = df['delivery_time'].mean()\n",
    "\n",
    "print('The mean delivery time for this dataset is', round(mean_del_time, 2), 'minutes')"
   ],
   "execution_count":27,
   "outputs":[
    {
     "name":"stdout",
     "text":[
      "The mean delivery time for this dataset is 24.16 minutes\n"
     ],
     "output_type":"stream"
    }
   ],
   "metadata":{
    "datalore":{
     "node_id":"uCD4RnfpLKIh4zebQQDwnG",
     "type":"CODE",
     "hide_input_from_viewers":false,
     "hide_output_from_viewers":false,
     "report_properties":{
      "rowId":"BbvMVfBEhYvRcmOVWTIGQM"
     }
    }
   }
  },
  {
   "cell_type":"markdown",
   "source":[
    "### **Question 11:** The company has decided to give 20% discount vouchers to the top 5 most frequent customers. Find the IDs of these customers and the number of orders they placed. [1 mark]"
   ],
   "attachments":{},
   "metadata":{
    "datalore":{
     "node_id":"G7Jaa2lReXqOD1n3exPR2y",
     "type":"MD",
     "hide_input_from_viewers":false,
     "hide_output_from_viewers":false,
     "report_properties":{
      "rowId":"dHZQPLBLClkuccQOEDWPoe"
     }
    }
   }
  },
  {
   "cell_type":"code",
   "source":[
    "# Get the counts of  each customer_id\n",
    "df['customer_id'].value_counts().head(5)  ## Write the appropriate column name to get the top 5 cmost frequent customers"
   ],
   "execution_count":28,
   "outputs":[
    {
     "data":{
      "text\/html":[
       "<pre>52832     13\n",
       "47440     10\n",
       "83287      9\n",
       "250494     8\n",
       "259341     7\n",
       "Name: customer_id, dtype: int64<\/pre>"
      ]
     },
     "metadata":{},
     "output_type":"display_data"
    }
   ],
   "metadata":{
    "datalore":{
     "node_id":"RJdHBABw017MduYiJeBAIp",
     "type":"CODE",
     "hide_input_from_viewers":false,
     "hide_output_from_viewers":false,
     "report_properties":{
      "rowId":"KVXePGTOPS2owuxuXbiXsP"
     }
    }
   }
  },
  {
   "cell_type":"markdown",
   "source":[
    "### Multivariate Analysis"
   ],
   "attachments":{},
   "metadata":{
    "datalore":{
     "node_id":"HJkS8HbpjvR1XzJscacvVn",
     "type":"MD",
     "hide_input_from_viewers":false,
     "hide_output_from_viewers":false,
     "report_properties":{
      "rowId":"27pmAO3LOri3s68j6WJ6Qs"
     }
    }
   }
  },
  {
   "cell_type":"markdown",
   "source":[
    "### **Question 12:** Perform a multivariate analysis to explore relationships between the important variables in the dataset. (It is a good idea to explore relations between numerical variables as well as relations between numerical and categorical variables) [10 marks]"
   ],
   "attachments":{},
   "metadata":{
    "datalore":{
     "node_id":"MFk0ueimyKfC4e4Ijh3YGS",
     "type":"MD",
     "hide_input_from_viewers":false,
     "hide_output_from_viewers":false,
     "report_properties":{
      "rowId":"ZZ5PbK45jmVQiIxmyspKkQ"
     }
    }
   }
  },
  {
   "cell_type":"markdown",
   "source":[
    "#### Cuisine vs Cost of the order"
   ],
   "attachments":{},
   "metadata":{
    "datalore":{
     "node_id":"7QbGtcsyTjLxCzkKGXJr7E",
     "type":"MD",
     "hide_input_from_viewers":false,
     "hide_output_from_viewers":false,
     "report_properties":{
      "rowId":"0bG4v5usaWxIHrc6MzxY0m"
     }
    }
   }
  },
  {
   "cell_type":"code",
   "source":[
    "# Relationship between cost of the order and cuisine type\n",
    "plt.figure(figsize=(15,7))\n",
    "sns.boxplot(x = \"cuisine_type\", y = \"cost_of_the_order\", data = df, palette = 'PuBu', hue = \"cuisine_type\")\n",
    "plt.xticks(rotation = 60)\n",
    "plt.show()"
   ],
   "execution_count":29,
   "outputs":[
    {
     "data":{
      "image\/png":"[encoded data removed]"
     },
     "metadata":{
      "image\/png":{}
     },
     "output_type":"display_data"
    }
   ],
   "metadata":{
    "datalore":{
     "node_id":"K5alIu1oGmowPtb7bvhuez",
     "type":"CODE",
     "hide_input_from_viewers":false,
     "hide_output_from_viewers":false,
     "report_properties":{
      "rowId":"4fVS0nKzlq4DsQYxMazvqH"
     }
    }
   }
  },
  {
   "cell_type":"markdown",
   "source":[
    "#### Cuisine vs Food Preparation time"
   ],
   "attachments":{},
   "metadata":{
    "datalore":{
     "node_id":"WzhapkSnOC0mhsW7kkntaJ",
     "type":"MD",
     "hide_input_from_viewers":false,
     "hide_output_from_viewers":false,
     "report_properties":{
      "rowId":"zTOG35y27gp2bj8ZwL5j0X"
     }
    }
   }
  },
  {
   "cell_type":"code",
   "source":[
    "# Relationship between food preparation time and cuisine type\n",
    "plt.figure(figsize=(15,7))\n",
    "sns.boxplot(x = \"cuisine_type\", y = \"food_preparation_time\", data = df, palette = 'PuBu', hue = \"cuisine_type\")\n",
    "plt.xticks(rotation = 60)\n",
    "plt.show()"
   ],
   "execution_count":30,
   "outputs":[
    {
     "data":{
      "image\/png":"[encoded data removed]"
     },
     "metadata":{
      "image\/png":{}
     },
     "output_type":"display_data"
    }
   ],
   "metadata":{
    "datalore":{
     "node_id":"fS975e4Vi18yiBCBkbKMot",
     "type":"CODE",
     "hide_input_from_viewers":false,
     "hide_output_from_viewers":false,
     "report_properties":{
      "rowId":"Hwy0K9zevnTGOx7IbkRFvI"
     }
    }
   }
  },
  {
   "cell_type":"markdown",
   "source":[
    "#### Day of the Week vs Delivery time"
   ],
   "attachments":{},
   "metadata":{
    "datalore":{
     "node_id":"fjLYGNRApNHzF99S4M4hHa",
     "type":"MD",
     "hide_input_from_viewers":false,
     "hide_output_from_viewers":false,
     "report_properties":{
      "rowId":"FJyfcGReohiqaUYpkVOnGA"
     }
    }
   }
  },
  {
   "cell_type":"code",
   "source":[
    "# Relationship between day of the week and delivery time\n",
    "plt.figure(figsize=(15,7))\n",
    "sns.boxplot(x = \"day_of_the_week\", y = \"delivery_time\", data = df, palette = 'PuBu', hue = \"cuisine_type\")\n",
    "plt.show()"
   ],
   "execution_count":31,
   "outputs":[
    {
     "data":{
      "image\/png":"[encoded data removed]"
     },
     "metadata":{
      "image\/png":{}
     },
     "output_type":"display_data"
    }
   ],
   "metadata":{
    "datalore":{
     "node_id":"4DGrJCTRQd9QJ8LH0DSJg2",
     "type":"CODE",
     "hide_input_from_viewers":false,
     "hide_output_from_viewers":false,
     "report_properties":{
      "rowId":"lQ0Gteyf4WSbDvCEPl8bkS"
     }
    }
   }
  },
  {
   "cell_type":"markdown",
   "source":[
    "#### Run the below code and write your observations on the revenue generated by the restaurants."
   ],
   "attachments":{},
   "metadata":{
    "datalore":{
     "node_id":"oMmyR0GcH2WOADH1IP7WTX",
     "type":"MD",
     "hide_input_from_viewers":false,
     "hide_output_from_viewers":false,
     "report_properties":{
      "rowId":"QWtKhTvqSk0fwBvJeDokSE"
     }
    }
   }
  },
  {
   "cell_type":"code",
   "source":[
    "df.groupby(['restaurant_name'])['cost_of_the_order'].sum().sort_values(ascending = False).head(14)"
   ],
   "execution_count":32,
   "outputs":[
    {
     "data":{
      "text\/html":[
       "<pre>restaurant_name\n",
       "Shake Shack                      3579.53\n",
       "The Meatball Shop                2145.21\n",
       "Blue Ribbon Sushi                1903.95\n",
       "Blue Ribbon Fried Chicken        1662.29\n",
       "Parm                             1112.76\n",
       "RedFarm Broadway                  965.13\n",
       "RedFarm Hudson                    921.21\n",
       "TAO                               834.50\n",
       "Han Dynasty                       755.29\n",
       "Blue Ribbon Sushi Bar & Grill     666.62\n",
       "Rubirosa                          660.45\n",
       "Sushi of Gari 46                  640.87\n",
       "Nobu Next Door                    623.67\n",
       "Five Guys Burgers and Fries       506.47\n",
       "Name: cost_of_the_order, dtype: float64<\/pre>"
      ]
     },
     "metadata":{},
     "output_type":"display_data"
    }
   ],
   "metadata":{
    "datalore":{
     "node_id":"nGPhHNaBojYMS974W7oSzg",
     "type":"CODE",
     "hide_input_from_viewers":false,
     "hide_output_from_viewers":false,
     "report_properties":{
      "rowId":"ak5nGzbQRN9scvOWhJq5YR"
     }
    }
   }
  },
  {
   "cell_type":"markdown",
   "source":[
    "#### Rating vs Delivery time"
   ],
   "attachments":{},
   "metadata":{
    "datalore":{
     "node_id":"qNBaepqU3l7PCB467bsewb",
     "type":"MD",
     "hide_input_from_viewers":false,
     "hide_output_from_viewers":false,
     "report_properties":{
      "rowId":"bRXMx1rby3xHex0FbwxXIS"
     }
    }
   }
  },
  {
   "cell_type":"code",
   "source":[
    "# Relationship between rating and delivery time\n",
    "plt.figure(figsize=(15, 7))\n",
    "sns.pointplot(x = 'rating', y = 'delivery_time', data = df)\n",
    "plt.show()"
   ],
   "execution_count":33,
   "outputs":[
    {
     "data":{
      "image\/png":"[encoded data removed]"
     },
     "metadata":{
      "image\/png":{}
     },
     "output_type":"display_data"
    }
   ],
   "metadata":{
    "datalore":{
     "node_id":"NmS5BdIyVNyzIsOIXauJhq",
     "type":"CODE",
     "hide_input_from_viewers":false,
     "hide_output_from_viewers":false,
     "report_properties":{
      "rowId":"oy9rDqv8QLjouORkSxAcfF"
     }
    }
   }
  },
  {
   "cell_type":"markdown",
   "source":[
    "#### Rating vs Food preparation time"
   ],
   "attachments":{},
   "metadata":{
    "datalore":{
     "node_id":"wn5o3UFnd3sIT2S08YHVDC",
     "type":"MD",
     "hide_input_from_viewers":false,
     "hide_output_from_viewers":false,
     "report_properties":{
      "rowId":"bajh3wvq7gC9CdoUZAAjRi"
     }
    }
   }
  },
  {
   "cell_type":"code",
   "source":[
    "# Relationship between rating and food preparation time\n",
    "plt.figure(figsize=(15, 7))\n",
    "sns.pointplot(x = 'rating', y = 'food_preparation_time', data = df)\n",
    "plt.show()"
   ],
   "execution_count":34,
   "outputs":[
    {
     "data":{
      "image\/png":"[encoded data removed]"
     },
     "metadata":{
      "image\/png":{}
     },
     "output_type":"display_data"
    }
   ],
   "metadata":{
    "datalore":{
     "node_id":"35nGuyjXCFXkFwj3C74h0M",
     "type":"CODE",
     "hide_input_from_viewers":false,
     "hide_output_from_viewers":false,
     "report_properties":{
      "rowId":"AZWvZ9Xpy6z4fHFmblZ5lw"
     }
    }
   }
  },
  {
   "cell_type":"markdown",
   "source":[
    "#### Rating vs Cost of the order"
   ],
   "attachments":{},
   "metadata":{
    "datalore":{
     "node_id":"K8NxOu4yQSysW3GqoP7fI1",
     "type":"MD",
     "hide_input_from_viewers":false,
     "hide_output_from_viewers":false,
     "report_properties":{
      "rowId":"K7T7wxPwXJmWkI50pCc2Ml"
     }
    }
   }
  },
  {
   "cell_type":"code",
   "source":[
    "# Relationship between rating and cost of the order\n",
    "plt.figure(figsize=(15, 7))\n",
    "sns.pointplot(x = 'rating', y = 'cost_of_the_order', data = df)\n",
    "plt.show()"
   ],
   "execution_count":35,
   "outputs":[
    {
     "data":{
      "image\/png":"[encoded data removed]"
     },
     "metadata":{
      "image\/png":{}
     },
     "output_type":"display_data"
    }
   ],
   "metadata":{
    "datalore":{
     "node_id":"NWpn1TQI5DuFe2fmLvk0tH",
     "type":"CODE",
     "hide_input_from_viewers":false,
     "hide_output_from_viewers":false,
     "report_properties":{
      "rowId":"6bWm7ytgqjM9JgWLXWFWh1"
     }
    }
   }
  },
  {
   "cell_type":"markdown",
   "source":[
    "#### Correlation among variables"
   ],
   "attachments":{},
   "metadata":{
    "datalore":{
     "node_id":"xlZqqn2hTsIgYhkl3fI16h",
     "type":"MD",
     "hide_input_from_viewers":false,
     "hide_output_from_viewers":false,
     "report_properties":{
      "rowId":"bQrNemseaCvr4nB9Zl7dtR"
     }
    }
   }
  },
  {
   "cell_type":"code",
   "source":[
    "# Plot the heatmap\n",
    "col_list = ['cost_of_the_order', 'food_preparation_time', 'delivery_time']\n",
    "plt.figure(figsize=(15, 7))\n",
    "sns.heatmap(df[col_list].corr(), annot=True, vmin=-1, vmax=1, fmt=\".2f\", cmap=\"Spectral\")\n",
    "plt.show()"
   ],
   "execution_count":36,
   "outputs":[
    {
     "data":{
      "image\/png":"[encoded data removed]"
     },
     "metadata":{
      "image\/png":{}
     },
     "output_type":"display_data"
    }
   ],
   "metadata":{
    "datalore":{
     "node_id":"GcRGDzmtD1udGkiSry9y6H",
     "type":"CODE",
     "hide_input_from_viewers":false,
     "hide_output_from_viewers":false,
     "report_properties":{
      "rowId":"Chdty5yw8pTyZdhlABVNPl"
     }
    }
   }
  },
  {
   "cell_type":"markdown",
   "source":[
    "### **Question 13:** The company wants to provide a promotional offer in the advertisement of the restaurants. The condition to get the offer is that the restaurants must have a rating count of more than 50 and the average rating should be greater than 4. Find the restaurants fulfilling the criteria to get the promotional offer. [3 marks]"
   ],
   "attachments":{},
   "metadata":{
    "datalore":{
     "node_id":"jovXTZNhUzg8OXWczkGj2K",
     "type":"MD",
     "hide_input_from_viewers":false,
     "hide_output_from_viewers":false,
     "report_properties":{
      "rowId":"3S3EYR0gNKJhrYdDoLYqEr"
     }
    }
   }
  },
  {
   "cell_type":"code",
   "source":[
    "# Filter the rated restaurants\n",
    "df_rated = df[df['rating'] != 'Not given'].copy()\n",
    "\n",
    "# Convert rating column from object to integer\n",
    "df_rated['rating'] = df_rated['rating'].astype('int')\n",
    "\n",
    "# Create a dataframe that contains the restaurant names with their rating counts\n",
    "df_rating_count = df_rated.groupby(['restaurant_name'])['rating'].count().sort_values(ascending = False).reset_index()\n",
    "df_rating_count.head()"
   ],
   "execution_count":38,
   "outputs":[
    {
     "data":{
      "text\/html":[
       "<div>\n",
       "<style scoped>\n",
       "    .dataframe tbody tr th:only-of-type {\n",
       "        vertical-align: middle;\n",
       "    }\n",
       "\n",
       "    .dataframe tbody tr th {\n",
       "        vertical-align: top;\n",
       "    }\n",
       "\n",
       "    .dataframe thead th {\n",
       "        text-align: right;\n",
       "    }\n",
       "<\/style>\n",
       "<table border=\"1\" class=\"dataframe\">\n",
       "  <thead>\n",
       "    <tr style=\"text-align: right;\">\n",
       "      <th><\/th>\n",
       "      <th>restaurant_name<\/th>\n",
       "      <th>rating<\/th>\n",
       "    <\/tr>\n",
       "  <\/thead>\n",
       "  <tbody>\n",
       "    <tr>\n",
       "      <th>0<\/th>\n",
       "      <td>Shake Shack<\/td>\n",
       "      <td>133<\/td>\n",
       "    <\/tr>\n",
       "    <tr>\n",
       "      <th>1<\/th>\n",
       "      <td>The Meatball Shop<\/td>\n",
       "      <td>84<\/td>\n",
       "    <\/tr>\n",
       "    <tr>\n",
       "      <th>2<\/th>\n",
       "      <td>Blue Ribbon Sushi<\/td>\n",
       "      <td>73<\/td>\n",
       "    <\/tr>\n",
       "    <tr>\n",
       "      <th>3<\/th>\n",
       "      <td>Blue Ribbon Fried Chicken<\/td>\n",
       "      <td>64<\/td>\n",
       "    <\/tr>\n",
       "    <tr>\n",
       "      <th>4<\/th>\n",
       "      <td>RedFarm Broadway<\/td>\n",
       "      <td>41<\/td>\n",
       "    <\/tr>\n",
       "  <\/tbody>\n",
       "<\/table>\n",
       "<\/div>"
      ]
     },
     "metadata":{},
     "output_type":"display_data"
    }
   ],
   "metadata":{
    "datalore":{
     "node_id":"mE5E3nI3fOmhAeITMgclDd",
     "type":"CODE",
     "hide_input_from_viewers":false,
     "hide_output_from_viewers":false,
     "report_properties":{
      "rowId":"IKJY9GO8DOCCA2qGpanVZO"
     }
    }
   }
  },
  {
   "cell_type":"code",
   "source":[
    "# Get the restaurant names that have rating count more than 50\n",
    "rest_names = df_rating_count[df_rating_count['rating'] > 50]['restaurant_name']\n",
    "\n",
    "# Filter to get the data of restaurants that have rating count more than 50\n",
    "df_mean_4 = df_rated[df_rated['restaurant_name'].isin(rest_names)].copy()\n",
    "\n",
    "# Group the restaurant names with their ratings and find the mean rating of each restaurant\n",
    "df_mean_4_rating = df_mean_4.groupby(['restaurant_name'])['rating'].mean().sort_values(ascending = False).reset_index().dropna() ## Complete the code to find the mean rating\n",
    "\n",
    "# filter for average rating greater than 4\n",
    "df_avg_rating_greater_than_4 = df_mean_4_rating[df_mean_4_rating['rating'] > 4].sort_values(by='rating', ascending=False).reset_index(drop=True)  ## Complete the code to find restaurants with rating > 4\n",
    "\n",
    "df_avg_rating_greater_than_4"
   ],
   "execution_count":41,
   "outputs":[
    {
     "data":{
      "text\/html":[
       "<div>\n",
       "<style scoped>\n",
       "    .dataframe tbody tr th:only-of-type {\n",
       "        vertical-align: middle;\n",
       "    }\n",
       "\n",
       "    .dataframe tbody tr th {\n",
       "        vertical-align: top;\n",
       "    }\n",
       "\n",
       "    .dataframe thead th {\n",
       "        text-align: right;\n",
       "    }\n",
       "<\/style>\n",
       "<table border=\"1\" class=\"dataframe\">\n",
       "  <thead>\n",
       "    <tr style=\"text-align: right;\">\n",
       "      <th><\/th>\n",
       "      <th>restaurant_name<\/th>\n",
       "      <th>rating<\/th>\n",
       "    <\/tr>\n",
       "  <\/thead>\n",
       "  <tbody>\n",
       "    <tr>\n",
       "      <th>0<\/th>\n",
       "      <td>The Meatball Shop<\/td>\n",
       "      <td>4.511905<\/td>\n",
       "    <\/tr>\n",
       "    <tr>\n",
       "      <th>1<\/th>\n",
       "      <td>Blue Ribbon Fried Chicken<\/td>\n",
       "      <td>4.328125<\/td>\n",
       "    <\/tr>\n",
       "    <tr>\n",
       "      <th>2<\/th>\n",
       "      <td>Shake Shack<\/td>\n",
       "      <td>4.278195<\/td>\n",
       "    <\/tr>\n",
       "    <tr>\n",
       "      <th>3<\/th>\n",
       "      <td>Blue Ribbon Sushi<\/td>\n",
       "      <td>4.219178<\/td>\n",
       "    <\/tr>\n",
       "  <\/tbody>\n",
       "<\/table>\n",
       "<\/div>"
      ]
     },
     "metadata":{},
     "output_type":"display_data"
    }
   ],
   "metadata":{
    "datalore":{
     "node_id":"TlfGOAmyLdIJzR9chIyxoY",
     "type":"CODE",
     "hide_input_from_viewers":true,
     "hide_output_from_viewers":true
    }
   }
  },
  {
   "cell_type":"markdown",
   "source":[
    "### **Question 14:** The company charges the restaurant 25% on the orders having cost greater than 20 dollars and 15% on the orders having cost greater than 5 dollars. Find the net revenue generated by the company across all orders. [3 marks]"
   ],
   "attachments":{},
   "metadata":{
    "datalore":{
     "node_id":"02wsgkRunmtXNCB3KFdI5S",
     "type":"MD",
     "hide_input_from_viewers":false,
     "hide_output_from_viewers":false,
     "report_properties":{
      "rowId":"gsoKbUolhqsEitDyPXm7BK"
     }
    }
   }
  },
  {
   "cell_type":"code",
   "source":[
    "#function to determine the revenue\n",
    "def compute_rev(x):\n",
    "    if x > 20:\n",
    "        return x*0.25\n",
    "    elif x > 5:\n",
    "        return x*0.15\n",
    "    else:\n",
    "        return x*0\n",
    "\n",
    "df['Revenue'] = df['cost_of_the_order'].apply(compute_rev) ## Write the apprpriate column name to compute the revenue\n",
    "df.head()"
   ],
   "execution_count":40,
   "outputs":[
    {
     "data":{
      "text\/html":[
       "<div>\n",
       "<style scoped>\n",
       "    .dataframe tbody tr th:only-of-type {\n",
       "        vertical-align: middle;\n",
       "    }\n",
       "\n",
       "    .dataframe tbody tr th {\n",
       "        vertical-align: top;\n",
       "    }\n",
       "\n",
       "    .dataframe thead th {\n",
       "        text-align: right;\n",
       "    }\n",
       "<\/style>\n",
       "<table border=\"1\" class=\"dataframe\">\n",
       "  <thead>\n",
       "    <tr style=\"text-align: right;\">\n",
       "      <th><\/th>\n",
       "      <th>order_id<\/th>\n",
       "      <th>customer_id<\/th>\n",
       "      <th>restaurant_name<\/th>\n",
       "      <th>cuisine_type<\/th>\n",
       "      <th>cost_of_the_order<\/th>\n",
       "      <th>day_of_the_week<\/th>\n",
       "      <th>rating<\/th>\n",
       "      <th>food_preparation_time<\/th>\n",
       "      <th>delivery_time<\/th>\n",
       "      <th>Revenue<\/th>\n",
       "    <\/tr>\n",
       "  <\/thead>\n",
       "  <tbody>\n",
       "    <tr>\n",
       "      <th>0<\/th>\n",
       "      <td>1477147<\/td>\n",
       "      <td>337525<\/td>\n",
       "      <td>Hangawi<\/td>\n",
       "      <td>Korean<\/td>\n",
       "      <td>30.75<\/td>\n",
       "      <td>Weekend<\/td>\n",
       "      <td>Not given<\/td>\n",
       "      <td>25<\/td>\n",
       "      <td>20<\/td>\n",
       "      <td>7.6875<\/td>\n",
       "    <\/tr>\n",
       "    <tr>\n",
       "      <th>1<\/th>\n",
       "      <td>1477685<\/td>\n",
       "      <td>358141<\/td>\n",
       "      <td>Blue Ribbon Sushi Izakaya<\/td>\n",
       "      <td>Japanese<\/td>\n",
       "      <td>12.08<\/td>\n",
       "      <td>Weekend<\/td>\n",
       "      <td>Not given<\/td>\n",
       "      <td>25<\/td>\n",
       "      <td>23<\/td>\n",
       "      <td>1.8120<\/td>\n",
       "    <\/tr>\n",
       "    <tr>\n",
       "      <th>2<\/th>\n",
       "      <td>1477070<\/td>\n",
       "      <td>66393<\/td>\n",
       "      <td>Cafe Habana<\/td>\n",
       "      <td>Mexican<\/td>\n",
       "      <td>12.23<\/td>\n",
       "      <td>Weekday<\/td>\n",
       "      <td>5<\/td>\n",
       "      <td>23<\/td>\n",
       "      <td>28<\/td>\n",
       "      <td>1.8345<\/td>\n",
       "    <\/tr>\n",
       "    <tr>\n",
       "      <th>3<\/th>\n",
       "      <td>1477334<\/td>\n",
       "      <td>106968<\/td>\n",
       "      <td>Blue Ribbon Fried Chicken<\/td>\n",
       "      <td>American<\/td>\n",
       "      <td>29.20<\/td>\n",
       "      <td>Weekend<\/td>\n",
       "      <td>3<\/td>\n",
       "      <td>25<\/td>\n",
       "      <td>15<\/td>\n",
       "      <td>7.3000<\/td>\n",
       "    <\/tr>\n",
       "    <tr>\n",
       "      <th>4<\/th>\n",
       "      <td>1478249<\/td>\n",
       "      <td>76942<\/td>\n",
       "      <td>Dirty Bird to Go<\/td>\n",
       "      <td>American<\/td>\n",
       "      <td>11.59<\/td>\n",
       "      <td>Weekday<\/td>\n",
       "      <td>4<\/td>\n",
       "      <td>25<\/td>\n",
       "      <td>24<\/td>\n",
       "      <td>1.7385<\/td>\n",
       "    <\/tr>\n",
       "  <\/tbody>\n",
       "<\/table>\n",
       "<\/div>"
      ]
     },
     "metadata":{},
     "output_type":"display_data"
    }
   ],
   "metadata":{
    "datalore":{
     "node_id":"1fWRSxjAKtQIpHjAQohK65",
     "type":"CODE",
     "hide_input_from_viewers":false,
     "hide_output_from_viewers":false,
     "report_properties":{
      "rowId":"95B1czVwAIO1vQxpqx6z6N"
     }
    }
   }
  },
  {
   "cell_type":"code",
   "source":[
    "# get the total revenue and print it\n",
    "total_rev = df['Revenue'].sum()  # Get the total revenue by summing the Revenue column\n",
    "print('The net revenue is around', round(total_rev, 2), 'dollars')"
   ],
   "execution_count":43,
   "outputs":[
    {
     "name":"stdout",
     "text":[
      "The net revenue is around 6166.3 dollars\n"
     ],
     "output_type":"stream"
    }
   ],
   "metadata":{
    "datalore":{
     "node_id":"qaQy3tonNSVekKF4zKxNw3",
     "type":"CODE",
     "hide_input_from_viewers":true,
     "hide_output_from_viewers":true
    }
   }
  },
  {
   "cell_type":"markdown",
   "source":[
    "### **Question 15:** The company wants to analyze the total time required to deliver the food. What percentage of orders take more than 60 minutes to get delivered from the time the order is placed? (The food has to be prepared and then delivered.)[2 marks]"
   ],
   "attachments":{},
   "metadata":{
    "datalore":{
     "node_id":"z6FDPVbjMhg6o6Gvgg2Qav",
     "type":"MD",
     "hide_input_from_viewers":false,
     "hide_output_from_viewers":false,
     "report_properties":{
      "rowId":"0aGLlRFqPlunjZ8y6xX0VB"
     }
    }
   }
  },
  {
   "cell_type":"code",
   "source":[
    "# Calculate total delivery time and add a new column to the dataframe df to store the total delivery time\n",
    "df['total_time'] = df['food_preparation_time'] + df['delivery_time']\n",
    "\n",
    "\n",
    "## Write the code below to find the percentage of orders that have more than 60 minutes of total delivery time (see Question 9 for reference)\n",
    "\n",
    "df_greater_than_60 = df[df['total_time']>60]\n",
    "\n",
    "# Calculate percentage of such orders in the dataset\n",
    "percentage = (df_greater_than_60.shape[0] \/ df.shape[0]) * 100\n",
    "\n",
    "print(\"Percentage of orders longer than 60 mins:\", round(percentage, 2), '%')\n"
   ],
   "execution_count":46,
   "outputs":[
    {
     "name":"stdout",
     "text":[
      "Percentage of orders longer than 60 mins: 10.54 %\n"
     ],
     "output_type":"stream"
    }
   ],
   "metadata":{
    "datalore":{
     "node_id":"voCBbZS4rBiqmy7hUyfxEX",
     "type":"CODE",
     "hide_input_from_viewers":false,
     "hide_output_from_viewers":false,
     "report_properties":{
      "rowId":"L9oS0jZQd0Mr34JGvZX3Jt"
     }
    }
   }
  },
  {
   "cell_type":"markdown",
   "source":[
    "### **Question 16:** The company wants to analyze the delivery time of the orders on weekdays and weekends. How does the mean delivery time vary during weekdays and weekends? [2 marks]"
   ],
   "attachments":{},
   "metadata":{
    "datalore":{
     "node_id":"oDepsYKZC88mhySl51evql",
     "type":"MD",
     "hide_input_from_viewers":false,
     "hide_output_from_viewers":false,
     "report_properties":{
      "rowId":"NJDMSwR5oCXgxKaDllwKWJ"
     }
    }
   }
  },
  {
   "cell_type":"code",
   "source":[
    "# Get the mean delivery time on weekdays and print it\n",
    "print('The mean delivery time on weekdays is around',\n",
    "      round(df[df['day_of_the_week'] == 'Weekday']['delivery_time'].mean()),\n",
    "     'minutes')\n",
    "\n",
    "\n",
    "## Write the code below to get the mean delivery time on weekends and print it\n",
    "print('The mean delivery time on weekdays is around',\n",
    "      round(df[df['day_of_the_week'] == 'Weekend']['delivery_time'].mean()),\n",
    "     'minutes')\n",
    "\n",
    "\n"
   ],
   "execution_count":48,
   "outputs":[
    {
     "name":"stdout",
     "text":[
      "The mean delivery time on weekdays is around 28 minutes\n",
      "The mean delivery time on weekdays is around 22 minutes\n"
     ],
     "output_type":"stream"
    }
   ],
   "metadata":{
    "datalore":{
     "node_id":"i42iVRfmYLgifHrExPGcgv",
     "type":"CODE",
     "hide_input_from_viewers":false,
     "hide_output_from_viewers":false,
     "report_properties":{
      "rowId":"JdSPp5UNITMlPsT1yxdAMr"
     }
    }
   }
  },
  {
   "cell_type":"markdown",
   "source":[
    "### Conclusion and Recommendations"
   ],
   "attachments":{},
   "metadata":{
    "datalore":{
     "node_id":"v80HirLcJiTQDrU8qlUM8h",
     "type":"MD",
     "hide_input_from_viewers":false,
     "hide_output_from_viewers":false,
     "report_properties":{
      "rowId":"IGgw1mQSkkoHSLagQSnTN7"
     }
    }
   }
  },
  {
   "cell_type":"markdown",
   "source":[
    "#### Promote American Cuisine:\n",
    "\n",
    "Highlight Popular Choices: Since American cuisine receives the most orders, consider featuring American restaurants prominently on the app's homepage and in promotional banners.\n",
    "\n",
    "#### Leverage Shake Shack’s Popularity:\n",
    "\n",
    "Priority Placement: Given that Shake Shack generates the most revenue and orders, provide it with premium placement in search results and recommendations.\n",
    "\n",
    "#### Weekend Promotions:\n",
    "\n",
    "Targeted Marketing Campaigns: Since orders are predominantly placed on weekends, launch targeted marketing campaigns that focus on weekend promotions, such as free delivery, special weekend menus, or limited-time offers.\n",
    "\n",
    "#### Highlight The Meatball Shop’s Quality:\n",
    "\n",
    "Quality Assurance Marketing: Promote The Meatball Shop's high ratings as a marker of quality. Use phrases like \"Top-Rated\" or \"Customer Favorite\" in the app to attract customers who prioritize quality."
   ],
   "attachments":{},
   "metadata":{
    "datalore":{
     "node_id":"NqABnyQE8QcHaz6ogGxiJ5",
     "type":"MD",
     "hide_input_from_viewers":false,
     "hide_output_from_viewers":false,
     "report_properties":{
      "rowId":"ZwdKauWzBiSaRERugBjpEW"
     }
    }
   }
  }
 ],
 "metadata":{
  "kernelspec":{
   "display_name":"Python",
   "language":"python",
   "name":"python"
  },
  "datalore":{
   "computation_mode":"JUPYTER",
   "package_manager":"pip",
   "base_environment":"default",
   "packages":[],
   "report_row_ids":[
    "695i9Nd3u0rBe4tAC4MkWD",
    "wxM5J7vlE1fpOPYV7ccTkE",
    "50fbSWT9mYnQdOERkXrTYT",
    "1BmgasBhz3FQ6op324H3OS",
    "8s6cp93wBb68wpAwe2YMmL",
    "npV5IztFx5SkZZK5qbPyMa",
    "lA2QgeHT5gjq7zZgoVjGKV",
    "3yRa0bN0p2LoLP6Wfi444Q",
    "2kQIeHV3vgF7XGH6rPsuZX",
    "1PfwH1tpdL3NEllBfUAPp8",
    "rXtxjZdt8aEtm2X7T4nmC9",
    "4QQ88ym7Li7zqRRc9U6UZA",
    "fskyV1QYF6HPTwCaRWlFiS",
    "ITXblw29UoeQA4d0ba6DXs",
    "YBvDu7c7kWZELdFDKPHm8L",
    "xHzlnWqN7mgFygs97QLY70",
    "oE1QBgwr4ixE4LZONtVvOC",
    "FhNQjOPDqDkI3Biukyg0J6",
    "rAu8OIBbJgGdmVN2tRPivO",
    "o6lASKX4x5xHBPxDGtg26r",
    "Pk30guYPhLLAOQbUMyAJwA",
    "WuedFm9QCPiOAir6LPq2q1",
    "V2uXpIxQe1S20VhYym7eia",
    "BpMtFxiQxxDGL21EPyck9G",
    "bFTxZkBJhU4o7D2RmhGxmV",
    "vvNVInYsf2Sh34ywQugpNg",
    "11cCnuLIiap5JMilPZXAPS",
    "PwZh4KeXRFDNFerU2ZC4BY",
    "0NIOhXJHwVQiJVyzHJ4RuJ",
    "rnN5VwMmGTauu4frt3HGgU",
    "K8NLRcI3nzXJ29goQREfmC",
    "BZHNPBNqHc56i2NYah6Ilb",
    "bM4zxRRuFDLsF4R6epi4EX",
    "0eVdE9r4gGBOrysb8oDtZM",
    "4OmCfy99yf4fbYFZcDcmqQ",
    "2wWUOUAP7kroSMrwPWrHZg",
    "QglZ0unrp4coWNRyzkT2GC",
    "QaaVMZvPbA3vgL2txlaj7s",
    "HDB45tRxW3TcUjgnKdMkUo",
    "MJg19kSXtthkzROLQNnlaF",
    "3OkotE0gwrlgz2K11M3UY6",
    "OaLf9Baf58tQBQn24i6XRV",
    "ZPTLbVLcXxlLhMOD6A1tan",
    "dlcDvtye2YDlnvSouFF62W",
    "WDyZOQHlLIbMUbSyR0dHUw",
    "tm3WzwtTTW0VzrovrFzIBs",
    "r7SYQQqS9jL0xqHNWkgDh8",
    "NZL7e6Lmn0Dxe4GAlWvtzQ",
    "2YqjlsTEQ3BewqzVsAOtZi",
    "KtIx1MalQFaqdNVzIHkLoH",
    "78r5kvxFXsHlC99wHQL80j",
    "8SiPLNIVRiUeuNWKp60WIW",
    "BbvMVfBEhYvRcmOVWTIGQM",
    "dHZQPLBLClkuccQOEDWPoe",
    "KVXePGTOPS2owuxuXbiXsP",
    "27pmAO3LOri3s68j6WJ6Qs",
    "ZZ5PbK45jmVQiIxmyspKkQ",
    "0bG4v5usaWxIHrc6MzxY0m",
    "4fVS0nKzlq4DsQYxMazvqH",
    "zTOG35y27gp2bj8ZwL5j0X",
    "Hwy0K9zevnTGOx7IbkRFvI",
    "FJyfcGReohiqaUYpkVOnGA",
    "lQ0Gteyf4WSbDvCEPl8bkS",
    "QWtKhTvqSk0fwBvJeDokSE",
    "ak5nGzbQRN9scvOWhJq5YR",
    "bRXMx1rby3xHex0FbwxXIS",
    "oy9rDqv8QLjouORkSxAcfF",
    "bajh3wvq7gC9CdoUZAAjRi",
    "AZWvZ9Xpy6z4fHFmblZ5lw",
    "K7T7wxPwXJmWkI50pCc2Ml",
    "6bWm7ytgqjM9JgWLXWFWh1",
    "bQrNemseaCvr4nB9Zl7dtR",
    "Chdty5yw8pTyZdhlABVNPl",
    "3S3EYR0gNKJhrYdDoLYqEr",
    "IKJY9GO8DOCCA2qGpanVZO",
    "JM9xMzldz7Cwyn6CzOo8AS",
    "gsoKbUolhqsEitDyPXm7BK",
    "95B1czVwAIO1vQxpqx6z6N",
    "FcDmrbvXbZq1BCGdUwl4b9",
    "0aGLlRFqPlunjZ8y6xX0VB",
    "L9oS0jZQd0Mr34JGvZX3Jt",
    "NJDMSwR5oCXgxKaDllwKWJ",
    "JdSPp5UNITMlPsT1yxdAMr",
    "IGgw1mQSkkoHSLagQSnTN7",
    "e0UGeDjuyaDBmXlz9GGfhw",
    "smAe7PedqWZr90sEO4K7i8",
    "WeVQPAupldet53yksMjiGi",
    "ZwdKauWzBiSaRERugBjpEW"
   ],
   "version":3
  }
 },
 "nbformat":4,
 "nbformat_minor":4
}